{
  "nbformat": 4,
  "nbformat_minor": 0,
  "metadata": {
    "colab": {
      "provenance": [],
      "mount_file_id": "1hOH516p2ptti8d0Q2euX3mH_7DV_3XVo",
      "authorship_tag": "ABX9TyOUHu9bwlWGG22Kk/3LMqT2",
      "include_colab_link": true
    },
    "kernelspec": {
      "name": "python3",
      "display_name": "Python 3"
    },
    "language_info": {
      "name": "python"
    }
  },
  "cells": [
    {
      "cell_type": "markdown",
      "metadata": {
        "id": "view-in-github",
        "colab_type": "text"
      },
      "source": [
        "<a href=\"https://colab.research.google.com/github/pravincoder/Fundamentals_tensorflow/blob/main/Part3.1_Binary_Classification_Model_ipynX.ipynb\" target=\"_parent\"><img src=\"https://colab.research.google.com/assets/colab-badge.svg\" alt=\"Open In Colab\"/></a>"
      ]
    },
    {
      "cell_type": "markdown",
      "source": [
        "# Introduction to BinaryClassifiaction Model\n",
        "\n",
        "### Problem :- Email Spam Detection\n",
        "Here we are going to create a model that can predict the mail is a Spam(1)/Not a Spam(0), using the provided subject of the email."
      ],
      "metadata": {
        "id": "UTUmS1fKvLZU"
      }
    },
    {
      "cell_type": "code",
      "source": [
        "# Modules\n",
        "import tensorflow as tf\n",
        "import numpy as np\n",
        "import pandas as pd\n",
        "import matplotlib.pyplot as plt\n",
        "from tensorflow.keras.preprocessing.text import Tokenizer\n",
        "from tensorflow.keras.preprocessing.sequence import pad_sequences"
      ],
      "metadata": {
        "id": "gixtLcxfvK5l"
      },
      "execution_count": 114,
      "outputs": []
    },
    {
      "cell_type": "markdown",
      "source": [
        "## Data Set\n",
        "\n",
        "#### The dataset used in this example is sourced from Kaggle (original authors Almeida and Hidalgo, 2011) is provided below.\n",
        "* [Spam test Dataset](https://www.kaggle.com/datasets/team-ai/spam-text-message-classification)\n",
        "\n"
      ],
      "metadata": {
        "id": "_jayBaWXzazh"
      }
    },
    {
      "cell_type": "code",
      "execution_count": 115,
      "metadata": {
        "id": "4QN97wvpvBlt"
      },
      "outputs": [],
      "source": [
        "#Load Data\n",
        "dataset = pd.read_csv('/content/drive/MyDrive/SPAMtextmessage.csv')\n",
        "# Convert ham to 0 and spam to 1\n",
        "dataset['Category']= dataset['Category'].str.replace('ham','0')\n",
        "dataset['Category']= dataset['Category'].str.replace('spam','1')\n",
        "dataset['Category']= dataset['Category'].astype(int)\n",
        "sentences = dataset['Message'].tolist()\n",
        "labels = dataset['Category'].tolist()\n",
        "# Separate out the sentences and labels into training and test sets\n",
        "training_size = int(len(sentences) * 0.8)\n",
        "# Sentence variables\n",
        "training_sentences = sentences[0:training_size]\n",
        "testing_sentences = sentences[training_size:]\n",
        "# Labels variables\n",
        "training_labels = labels[0:training_size]\n",
        "testing_labels = labels[training_size:]\n",
        "# Make labels into numpy arrays for use with the network later\n",
        "training_labels_final = np.array(training_labels)\n",
        "testing_labels_final = np.array(testing_labels)\n"
      ]
    },
    {
      "cell_type": "code",
      "source": [
        "vocab_size = 1000\n",
        "embedding_dim = 16\n",
        "max_length = 100\n",
        "trunc_type='post'\n",
        "padding_type='post'\n",
        "oov_tok = \"<OOV>\"\n",
        "from tensorflow.keras.preprocessing.text import Tokenizer\n",
        "from tensorflow.keras.preprocessing.sequence import pad_sequences\n",
        "tokenizer = Tokenizer(num_words = vocab_size, oov_token=oov_tok)\n",
        "tokenizer.fit_on_texts(training_sentences)\n",
        "word_index = tokenizer.word_index"
      ],
      "metadata": {
        "id": "lBRsE_M_Hmm5"
      },
      "execution_count": 116,
      "outputs": []
    },
    {
      "cell_type": "code",
      "source": [
        "sequences = tokenizer.texts_to_sequences(training_sentences)\n",
        "padded = pad_sequences(sequences,maxlen=max_length, padding=padding_type,\n",
        "                       truncating=trunc_type)\n",
        "testing_sequences = tokenizer.texts_to_sequences(testing_sentences)\n",
        "testing_padded = pad_sequences(testing_sequences,maxlen=max_length,\n",
        "                               padding=padding_type, truncating=trunc_type)"
      ],
      "metadata": {
        "id": "ycrqFdU5smuY"
      },
      "execution_count": 117,
      "outputs": []
    },
    {
      "cell_type": "code",
      "source": [
        "model = tf.keras.Sequential([\n",
        "    tf.keras.layers.Embedding(vocab_size, embedding_dim, input_length=max_length),\n",
        "    tf.keras.layers.Flatten(),\n",
        "    tf.keras.layers.Dense(6, activation='relu'),\n",
        "    tf.keras.layers.Dense(1, activation='sigmoid')\n",
        "])\n",
        "model.compile(loss='binary_crossentropy',optimizer='adam',metrics=['accuracy'])\n",
        "model.summary()\n"
      ],
      "metadata": {
        "colab": {
          "base_uri": "https://localhost:8080/"
        },
        "id": "hbOUiHRLsnAV",
        "outputId": "8c94335d-35ce-4330-8dce-eabf803034d1"
      },
      "execution_count": 118,
      "outputs": [
        {
          "output_type": "stream",
          "name": "stdout",
          "text": [
            "Model: \"sequential_14\"\n",
            "_________________________________________________________________\n",
            " Layer (type)                Output Shape              Param #   \n",
            "=================================================================\n",
            " embedding_14 (Embedding)    (None, 100, 16)           16000     \n",
            "                                                                 \n",
            " flatten_14 (Flatten)        (None, 1600)              0         \n",
            "                                                                 \n",
            " dense_38 (Dense)            (None, 6)                 9606      \n",
            "                                                                 \n",
            " dense_39 (Dense)            (None, 1)                 7         \n",
            "                                                                 \n",
            "=================================================================\n",
            "Total params: 25,613\n",
            "Trainable params: 25,613\n",
            "Non-trainable params: 0\n",
            "_________________________________________________________________\n"
          ]
        }
      ]
    },
    {
      "cell_type": "code",
      "source": [
        "num_epochs = 20\n",
        "history=model.fit(padded, training_labels_final, epochs=num_epochs,batch_size=128, validation_data=(testing_padded, testing_labels_final))"
      ],
      "metadata": {
        "colab": {
          "base_uri": "https://localhost:8080/"
        },
        "id": "2L0swV9ktDYs",
        "outputId": "5d6bb3c5-8533-4d92-8c9f-3dc6d8fb28fd"
      },
      "execution_count": 119,
      "outputs": [
        {
          "output_type": "stream",
          "name": "stdout",
          "text": [
            "Epoch 1/20\n",
            "35/35 [==============================] - 2s 19ms/step - loss: 0.6360 - accuracy: 0.8418 - val_loss: 0.5325 - val_accuracy: 0.8700\n",
            "Epoch 2/20\n",
            "35/35 [==============================] - 0s 11ms/step - loss: 0.4247 - accuracy: 0.8649 - val_loss: 0.3498 - val_accuracy: 0.8700\n",
            "Epoch 3/20\n",
            "35/35 [==============================] - 0s 10ms/step - loss: 0.3421 - accuracy: 0.8649 - val_loss: 0.3085 - val_accuracy: 0.8700\n",
            "Epoch 4/20\n",
            "35/35 [==============================] - 0s 11ms/step - loss: 0.2892 - accuracy: 0.8647 - val_loss: 0.2447 - val_accuracy: 0.8700\n",
            "Epoch 5/20\n",
            "35/35 [==============================] - 0s 10ms/step - loss: 0.2227 - accuracy: 0.8649 - val_loss: 0.1886 - val_accuracy: 0.8700\n",
            "Epoch 6/20\n",
            "35/35 [==============================] - 0s 11ms/step - loss: 0.1865 - accuracy: 0.8649 - val_loss: 0.1688 - val_accuracy: 0.8700\n",
            "Epoch 7/20\n",
            "35/35 [==============================] - 0s 12ms/step - loss: 0.1708 - accuracy: 0.8649 - val_loss: 0.1585 - val_accuracy: 0.8700\n",
            "Epoch 8/20\n",
            "35/35 [==============================] - 0s 8ms/step - loss: 0.1606 - accuracy: 0.8649 - val_loss: 0.1512 - val_accuracy: 0.8700\n",
            "Epoch 9/20\n",
            "35/35 [==============================] - 0s 6ms/step - loss: 0.1523 - accuracy: 0.8649 - val_loss: 0.1450 - val_accuracy: 0.8700\n",
            "Epoch 10/20\n",
            "35/35 [==============================] - 0s 6ms/step - loss: 0.1454 - accuracy: 0.9661 - val_loss: 0.1397 - val_accuracy: 0.9713\n",
            "Epoch 11/20\n",
            "35/35 [==============================] - 0s 7ms/step - loss: 0.1391 - accuracy: 0.9724 - val_loss: 0.1351 - val_accuracy: 0.9758\n",
            "Epoch 12/20\n",
            "35/35 [==============================] - 0s 6ms/step - loss: 0.1335 - accuracy: 0.9755 - val_loss: 0.1316 - val_accuracy: 0.9767\n",
            "Epoch 13/20\n",
            "35/35 [==============================] - 0s 6ms/step - loss: 0.1287 - accuracy: 0.9789 - val_loss: 0.1282 - val_accuracy: 0.9785\n",
            "Epoch 14/20\n",
            "35/35 [==============================] - 0s 6ms/step - loss: 0.0803 - accuracy: 0.9847 - val_loss: 0.0576 - val_accuracy: 0.9803\n",
            "Epoch 15/20\n",
            "35/35 [==============================] - 0s 6ms/step - loss: 0.0447 - accuracy: 0.9865 - val_loss: 0.0516 - val_accuracy: 0.9821\n",
            "Epoch 16/20\n",
            "35/35 [==============================] - 0s 6ms/step - loss: 0.0373 - accuracy: 0.9892 - val_loss: 0.0486 - val_accuracy: 0.9839\n",
            "Epoch 17/20\n",
            "35/35 [==============================] - 0s 5ms/step - loss: 0.0328 - accuracy: 0.9904 - val_loss: 0.0473 - val_accuracy: 0.9830\n",
            "Epoch 18/20\n",
            "35/35 [==============================] - 0s 5ms/step - loss: 0.0298 - accuracy: 0.9910 - val_loss: 0.0465 - val_accuracy: 0.9830\n",
            "Epoch 19/20\n",
            "35/35 [==============================] - 0s 5ms/step - loss: 0.0272 - accuracy: 0.9928 - val_loss: 0.0462 - val_accuracy: 0.9848\n",
            "Epoch 20/20\n",
            "35/35 [==============================] - 0s 5ms/step - loss: 0.0247 - accuracy: 0.9926 - val_loss: 0.0456 - val_accuracy: 0.9830\n"
          ]
        }
      ]
    },
    {
      "cell_type": "code",
      "source": [
        "model.evaluate(testing_padded,testing_labels_final)\n",
        "model_testpredition = model.predict(testing_padded,batch_size=128)\n",
        "print(model_testpredition[3])\n",
        "testing_padded[3]\n",
        "testing_sentences[3]\n",
        "print(testing_labels_final[3])"
      ],
      "metadata": {
        "id": "KuaVrt3lKAlA",
        "colab": {
          "base_uri": "https://localhost:8080/"
        },
        "outputId": "d0549a6d-b971-4495-9f2a-1cd0be98bd77"
      },
      "execution_count": 120,
      "outputs": [
        {
          "output_type": "stream",
          "name": "stdout",
          "text": [
            "35/35 [==============================] - 0s 1ms/step - loss: 0.0456 - accuracy: 0.9830\n",
            "9/9 [==============================] - 0s 2ms/step\n",
            "[0.9987642]\n",
            "1\n"
          ]
        }
      ]
    },
    {
      "cell_type": "code",
      "source": [
        "pd.DataFrame(history.history).plot()"
      ],
      "metadata": {
        "id": "otwXPF0NKAz6",
        "colab": {
          "base_uri": "https://localhost:8080/"
        },
        "outputId": "3a88fcbc-f58a-487b-9e36-aa86356084f3"
      },
      "execution_count": 106,
      "outputs": [
        {
          "output_type": "execute_result",
          "data": {
            "text/plain": [
              "<Axes: >"
            ]
          },
          "metadata": {},
          "execution_count": 106
        },
        {
          "output_type": "display_data",
          "data": {
            "text/plain": [
              "<Figure size 640x480 with 1 Axes>"
            ],
            "image/png": "[encoded data removed]"
          },
          "metadata": {}
        }
      ]
    },
    {
      "cell_type": "code",
      "source": [
        "# Optimal learning rate.\n",
        "model2= tf.keras.Sequential([\n",
        "    tf.keras.layers.Embedding(vocab_size,embedding_dim,input_length=max_length),\n",
        "    tf.keras.layers.Flatten(),\n",
        "    tf.keras.layers.Dense(20,activation='relu'),\n",
        "    tf.keras.layers.Dense(10,activation='relu'),\n",
        "    tf.keras.layers.Dense(1,activation='relu')\n",
        "])\n",
        "# Compile\n",
        "model2.compile(loss='binary_crossentropy',optimizer='adam',metrics=['accuracy'])\n",
        "# Learning rate Schedular\n",
        "lr_schedular = tf.keras.callbacks.LearningRateScheduler(lambda epoch:1e-4*10**(epoch/20))\n",
        "# fitting\n",
        "hist=model2.fit(padded,training_labels_final,epochs=100,callbacks=[lr_schedular],batch_size=500,validation_data=(testing_padded,testing_labels_final))"
      ],
      "metadata": {
        "colab": {
          "base_uri": "https://localhost:8080/"
        },
        "id": "Icrcp9WujJSY",
        "outputId": "d1d3fe4f-36bb-44f5-e1fe-f50d5c723e5d"
      },
      "execution_count": 107,
      "outputs": [
        {
          "output_type": "stream",
          "name": "stdout",
          "text": [
            "Epoch 1/100\n",
            "9/9 [==============================] - 6s 76ms/step - loss: 1.1158 - accuracy: 0.8649 - val_loss: 0.7008 - val_accuracy: 0.8700 - lr: 1.0000e-04\n",
            "Epoch 2/100\n",
            "9/9 [==============================] - 0s 35ms/step - loss: 0.6041 - accuracy: 0.8649 - val_loss: 0.5234 - val_accuracy: 0.8700 - lr: 1.1220e-04\n",
            "Epoch 3/100\n",
            "9/9 [==============================] - 0s 32ms/step - loss: 0.5172 - accuracy: 0.8649 - val_loss: 0.4760 - val_accuracy: 0.8700 - lr: 1.2589e-04\n",
            "Epoch 4/100\n",
            "9/9 [==============================] - 0s 32ms/step - loss: 0.4780 - accuracy: 0.8649 - val_loss: 0.4484 - val_accuracy: 0.8700 - lr: 1.4125e-04\n",
            "Epoch 5/100\n",
            "9/9 [==============================] - 0s 37ms/step - loss: 0.4540 - accuracy: 0.8649 - val_loss: 0.4293 - val_accuracy: 0.8700 - lr: 1.5849e-04\n",
            "Epoch 6/100\n",
            "9/9 [==============================] - 0s 29ms/step - loss: 0.4358 - accuracy: 0.8649 - val_loss: 0.4138 - val_accuracy: 0.8700 - lr: 1.7783e-04\n",
            "Epoch 7/100\n",
            "9/9 [==============================] - 0s 41ms/step - loss: 0.4203 - accuracy: 0.8649 - val_loss: 0.4016 - val_accuracy: 0.8700 - lr: 1.9953e-04\n",
            "Epoch 8/100\n",
            "9/9 [==============================] - 0s 36ms/step - loss: 0.4082 - accuracy: 0.8649 - val_loss: 0.3921 - val_accuracy: 0.8700 - lr: 2.2387e-04\n",
            "Epoch 9/100\n",
            "9/9 [==============================] - 0s 33ms/step - loss: 0.3985 - accuracy: 0.8649 - val_loss: 0.3844 - val_accuracy: 0.8700 - lr: 2.5119e-04\n",
            "Epoch 10/100\n",
            "9/9 [==============================] - 0s 41ms/step - loss: 0.3909 - accuracy: 0.8649 - val_loss: 0.3780 - val_accuracy: 0.8700 - lr: 2.8184e-04\n",
            "Epoch 11/100\n",
            "9/9 [==============================] - 0s 52ms/step - loss: 0.3842 - accuracy: 0.8649 - val_loss: 0.3727 - val_accuracy: 0.8700 - lr: 3.1623e-04\n",
            "Epoch 12/100\n",
            "9/9 [==============================] - 0s 37ms/step - loss: 0.3783 - accuracy: 0.8649 - val_loss: 0.3678 - val_accuracy: 0.8700 - lr: 3.5481e-04\n",
            "Epoch 13/100\n",
            "9/9 [==============================] - 0s 33ms/step - loss: 0.3730 - accuracy: 0.8649 - val_loss: 0.3628 - val_accuracy: 0.8700 - lr: 3.9811e-04\n",
            "Epoch 14/100\n",
            "9/9 [==============================] - 0s 41ms/step - loss: 0.3672 - accuracy: 0.8649 - val_loss: 0.3576 - val_accuracy: 0.8700 - lr: 4.4668e-04\n",
            "Epoch 15/100\n",
            "9/9 [==============================] - 0s 40ms/step - loss: 0.3611 - accuracy: 0.8649 - val_loss: 0.3515 - val_accuracy: 0.8700 - lr: 5.0119e-04\n",
            "Epoch 16/100\n",
            "9/9 [==============================] - 0s 26ms/step - loss: 0.3537 - accuracy: 0.8649 - val_loss: 0.3441 - val_accuracy: 0.8700 - lr: 5.6234e-04\n",
            "Epoch 17/100\n",
            "9/9 [==============================] - 0s 32ms/step - loss: 0.3448 - accuracy: 0.8649 - val_loss: 0.3319 - val_accuracy: 0.8700 - lr: 6.3096e-04\n",
            "Epoch 18/100\n",
            "9/9 [==============================] - 0s 41ms/step - loss: 0.3291 - accuracy: 0.8649 - val_loss: 0.3106 - val_accuracy: 0.8700 - lr: 7.0795e-04\n",
            "Epoch 19/100\n",
            "9/9 [==============================] - 0s 33ms/step - loss: 0.3036 - accuracy: 0.8649 - val_loss: 0.2849 - val_accuracy: 0.8700 - lr: 7.9433e-04\n",
            "Epoch 20/100\n",
            "9/9 [==============================] - 0s 37ms/step - loss: 0.2805 - accuracy: 0.8649 - val_loss: 0.2637 - val_accuracy: 0.8700 - lr: 8.9125e-04\n",
            "Epoch 21/100\n",
            "9/9 [==============================] - 0s 33ms/step - loss: 0.2616 - accuracy: 0.8649 - val_loss: 0.2429 - val_accuracy: 0.8700 - lr: 0.0010\n",
            "Epoch 22/100\n",
            "9/9 [==============================] - 0s 33ms/step - loss: 0.2294 - accuracy: 0.8649 - val_loss: 0.2265 - val_accuracy: 0.8700 - lr: 0.0011\n",
            "Epoch 23/100\n",
            "9/9 [==============================] - 0s 33ms/step - loss: 0.2085 - accuracy: 0.8652 - val_loss: 0.1991 - val_accuracy: 0.8726 - lr: 0.0013\n",
            "Epoch 24/100\n",
            "9/9 [==============================] - 0s 38ms/step - loss: 0.1772 - accuracy: 0.8692 - val_loss: 0.1761 - val_accuracy: 0.8897 - lr: 0.0014\n",
            "Epoch 25/100\n",
            "9/9 [==============================] - 0s 40ms/step - loss: 0.1467 - accuracy: 0.9352 - val_loss: 0.1550 - val_accuracy: 0.9632 - lr: 0.0016\n",
            "Epoch 26/100\n",
            "9/9 [==============================] - 0s 29ms/step - loss: 0.1172 - accuracy: 0.9659 - val_loss: 0.1308 - val_accuracy: 0.9677 - lr: 0.0018\n",
            "Epoch 27/100\n",
            "9/9 [==============================] - 0s 44ms/step - loss: 0.0935 - accuracy: 0.9724 - val_loss: 0.1062 - val_accuracy: 0.9758 - lr: 0.0020\n",
            "Epoch 28/100\n",
            "9/9 [==============================] - 0s 46ms/step - loss: 0.0685 - accuracy: 0.9794 - val_loss: 0.0997 - val_accuracy: 0.9740 - lr: 0.0022\n",
            "Epoch 29/100\n",
            "9/9 [==============================] - 0s 35ms/step - loss: 0.0537 - accuracy: 0.9827 - val_loss: 0.0884 - val_accuracy: 0.9776 - lr: 0.0025\n",
            "Epoch 30/100\n",
            "9/9 [==============================] - 0s 29ms/step - loss: 0.0397 - accuracy: 0.9852 - val_loss: 0.0854 - val_accuracy: 0.9812 - lr: 0.0028\n",
            "Epoch 31/100\n",
            "9/9 [==============================] - 0s 29ms/step - loss: 0.0320 - accuracy: 0.9879 - val_loss: 0.0811 - val_accuracy: 0.9839 - lr: 0.0032\n",
            "Epoch 32/100\n",
            "9/9 [==============================] - 0s 30ms/step - loss: 0.0258 - accuracy: 0.9935 - val_loss: 0.0758 - val_accuracy: 0.9830 - lr: 0.0035\n",
            "Epoch 33/100\n",
            "9/9 [==============================] - 0s 43ms/step - loss: 0.0217 - accuracy: 0.9935 - val_loss: 0.0788 - val_accuracy: 0.9839 - lr: 0.0040\n",
            "Epoch 34/100\n",
            "9/9 [==============================] - 0s 40ms/step - loss: 0.0204 - accuracy: 0.9953 - val_loss: 0.0843 - val_accuracy: 0.9830 - lr: 0.0045\n",
            "Epoch 35/100\n",
            "9/9 [==============================] - 0s 33ms/step - loss: 0.0148 - accuracy: 0.9966 - val_loss: 0.0839 - val_accuracy: 0.9830 - lr: 0.0050\n",
            "Epoch 36/100\n",
            "9/9 [==============================] - 0s 42ms/step - loss: 0.0121 - accuracy: 0.9964 - val_loss: 0.0841 - val_accuracy: 0.9839 - lr: 0.0056\n",
            "Epoch 37/100\n",
            "9/9 [==============================] - 0s 44ms/step - loss: 0.0100 - accuracy: 0.9973 - val_loss: 0.0855 - val_accuracy: 0.9821 - lr: 0.0063\n",
            "Epoch 38/100\n",
            "9/9 [==============================] - 0s 38ms/step - loss: 0.0091 - accuracy: 0.9975 - val_loss: 0.0873 - val_accuracy: 0.9830 - lr: 0.0071\n",
            "Epoch 39/100\n",
            "9/9 [==============================] - 0s 43ms/step - loss: 0.0085 - accuracy: 0.9978 - val_loss: 0.0902 - val_accuracy: 0.9821 - lr: 0.0079\n",
            "Epoch 40/100\n",
            "9/9 [==============================] - 0s 37ms/step - loss: 0.0076 - accuracy: 0.9980 - val_loss: 0.1109 - val_accuracy: 0.9812 - lr: 0.0089\n",
            "Epoch 41/100\n",
            "9/9 [==============================] - 1s 63ms/step - loss: 0.0071 - accuracy: 0.9982 - val_loss: 0.1084 - val_accuracy: 0.9830 - lr: 0.0100\n",
            "Epoch 42/100\n",
            "9/9 [==============================] - 0s 47ms/step - loss: 0.0065 - accuracy: 0.9987 - val_loss: 0.1094 - val_accuracy: 0.9812 - lr: 0.0112\n",
            "Epoch 43/100\n",
            "9/9 [==============================] - 1s 60ms/step - loss: 0.0061 - accuracy: 0.9987 - val_loss: 0.1209 - val_accuracy: 0.9821 - lr: 0.0126\n",
            "Epoch 44/100\n",
            "9/9 [==============================] - 0s 31ms/step - loss: 0.0058 - accuracy: 0.9987 - val_loss: 0.1218 - val_accuracy: 0.9821 - lr: 0.0141\n",
            "Epoch 45/100\n",
            "9/9 [==============================] - 0s 48ms/step - loss: 0.0078 - accuracy: 0.9987 - val_loss: 0.1700 - val_accuracy: 0.9821 - lr: 0.0158\n",
            "Epoch 46/100\n",
            "9/9 [==============================] - 0s 42ms/step - loss: 0.0078 - accuracy: 0.9982 - val_loss: 0.1367 - val_accuracy: 0.9830 - lr: 0.0178\n",
            "Epoch 47/100\n",
            "9/9 [==============================] - 0s 42ms/step - loss: 0.0151 - accuracy: 0.9984 - val_loss: 0.1590 - val_accuracy: 0.9830 - lr: 0.0200\n",
            "Epoch 48/100\n",
            "9/9 [==============================] - 0s 32ms/step - loss: 0.0097 - accuracy: 0.9978 - val_loss: 0.2118 - val_accuracy: 0.9776 - lr: 0.0224\n",
            "Epoch 49/100\n",
            "9/9 [==============================] - 0s 30ms/step - loss: 0.0180 - accuracy: 0.9966 - val_loss: 0.1693 - val_accuracy: 0.9830 - lr: 0.0251\n",
            "Epoch 50/100\n",
            "9/9 [==============================] - 0s 33ms/step - loss: 0.0281 - accuracy: 0.9966 - val_loss: 0.1868 - val_accuracy: 0.9803 - lr: 0.0282\n",
            "Epoch 51/100\n",
            "9/9 [==============================] - 0s 27ms/step - loss: 0.1786 - accuracy: 0.9446 - val_loss: 0.2539 - val_accuracy: 0.9587 - lr: 0.0316\n",
            "Epoch 52/100\n",
            "9/9 [==============================] - 0s 18ms/step - loss: 0.0967 - accuracy: 0.9832 - val_loss: 0.4982 - val_accuracy: 0.9399 - lr: 0.0355\n",
            "Epoch 53/100\n",
            "9/9 [==============================] - 0s 18ms/step - loss: 0.0804 - accuracy: 0.9868 - val_loss: 0.2726 - val_accuracy: 0.9632 - lr: 0.0398\n",
            "Epoch 54/100\n",
            "9/9 [==============================] - 0s 20ms/step - loss: 0.0864 - accuracy: 0.9861 - val_loss: 0.3183 - val_accuracy: 0.9471 - lr: 0.0447\n",
            "Epoch 55/100\n",
            "9/9 [==============================] - 0s 16ms/step - loss: 0.0588 - accuracy: 0.9856 - val_loss: 0.2829 - val_accuracy: 0.9677 - lr: 0.0501\n",
            "Epoch 56/100\n",
            "9/9 [==============================] - 0s 20ms/step - loss: 0.0451 - accuracy: 0.9946 - val_loss: 0.2874 - val_accuracy: 0.9704 - lr: 0.0562\n",
            "Epoch 57/100\n",
            "9/9 [==============================] - 0s 18ms/step - loss: 0.0623 - accuracy: 0.9944 - val_loss: 0.3054 - val_accuracy: 0.9731 - lr: 0.0631\n",
            "Epoch 58/100\n",
            "9/9 [==============================] - 0s 18ms/step - loss: 0.0681 - accuracy: 0.9944 - val_loss: 0.3466 - val_accuracy: 0.9704 - lr: 0.0708\n",
            "Epoch 59/100\n",
            "9/9 [==============================] - 0s 20ms/step - loss: 0.0640 - accuracy: 0.9951 - val_loss: 0.3063 - val_accuracy: 0.9749 - lr: 0.0794\n",
            "Epoch 60/100\n",
            "9/9 [==============================] - 0s 19ms/step - loss: 0.0488 - accuracy: 0.9955 - val_loss: 0.2780 - val_accuracy: 0.9749 - lr: 0.0891\n",
            "Epoch 61/100\n",
            "9/9 [==============================] - 0s 18ms/step - loss: 0.0490 - accuracy: 0.9948 - val_loss: 0.2299 - val_accuracy: 0.9776 - lr: 0.1000\n",
            "Epoch 62/100\n",
            "9/9 [==============================] - 0s 16ms/step - loss: 0.0504 - accuracy: 0.9948 - val_loss: 0.2198 - val_accuracy: 0.9785 - lr: 0.1122\n",
            "Epoch 63/100\n",
            "9/9 [==============================] - 0s 20ms/step - loss: 0.0498 - accuracy: 0.9942 - val_loss: 0.2800 - val_accuracy: 0.9740 - lr: 0.1259\n",
            "Epoch 64/100\n",
            "9/9 [==============================] - 0s 18ms/step - loss: 0.5078 - accuracy: 0.9468 - val_loss: 1.3916 - val_accuracy: 0.8987 - lr: 0.1413\n",
            "Epoch 65/100\n",
            "9/9 [==============================] - 0s 19ms/step - loss: 1.7174 - accuracy: 0.8853 - val_loss: 1.8258 - val_accuracy: 0.8816 - lr: 0.1585\n",
            "Epoch 66/100\n",
            "9/9 [==============================] - 0s 15ms/step - loss: 2.0382 - accuracy: 0.8678 - val_loss: 1.9919 - val_accuracy: 0.8709 - lr: 0.1778\n",
            "Epoch 67/100\n",
            "9/9 [==============================] - 0s 15ms/step - loss: 2.0798 - accuracy: 0.8652 - val_loss: 1.9919 - val_accuracy: 0.8709 - lr: 0.1995\n",
            "Epoch 68/100\n",
            "9/9 [==============================] - 0s 14ms/step - loss: 2.0832 - accuracy: 0.8649 - val_loss: 1.9919 - val_accuracy: 0.8709 - lr: 0.2239\n",
            "Epoch 69/100\n",
            "9/9 [==============================] - 0s 15ms/step - loss: 2.0901 - accuracy: 0.8645 - val_loss: 1.9919 - val_accuracy: 0.8709 - lr: 0.2512\n",
            "Epoch 70/100\n",
            "9/9 [==============================] - 0s 15ms/step - loss: 2.0901 - accuracy: 0.8645 - val_loss: 1.9919 - val_accuracy: 0.8709 - lr: 0.2818\n",
            "Epoch 71/100\n",
            "9/9 [==============================] - 0s 18ms/step - loss: 2.0901 - accuracy: 0.8645 - val_loss: 1.9919 - val_accuracy: 0.8709 - lr: 0.3162\n",
            "Epoch 72/100\n",
            "9/9 [==============================] - 0s 15ms/step - loss: 2.0901 - accuracy: 0.8645 - val_loss: 1.9919 - val_accuracy: 0.8709 - lr: 0.3548\n",
            "Epoch 73/100\n",
            "9/9 [==============================] - 0s 15ms/step - loss: 2.0901 - accuracy: 0.8645 - val_loss: 1.9919 - val_accuracy: 0.8709 - lr: 0.3981\n",
            "Epoch 74/100\n",
            "9/9 [==============================] - 0s 15ms/step - loss: 2.0901 - accuracy: 0.8645 - val_loss: 1.9919 - val_accuracy: 0.8709 - lr: 0.4467\n",
            "Epoch 75/100\n",
            "9/9 [==============================] - 0s 16ms/step - loss: 2.0901 - accuracy: 0.8645 - val_loss: 1.9919 - val_accuracy: 0.8709 - lr: 0.5012\n",
            "Epoch 76/100\n",
            "9/9 [==============================] - 0s 16ms/step - loss: 2.0901 - accuracy: 0.8645 - val_loss: 1.9919 - val_accuracy: 0.8709 - lr: 0.5623\n",
            "Epoch 77/100\n",
            "9/9 [==============================] - 0s 17ms/step - loss: 2.0901 - accuracy: 0.8645 - val_loss: 1.9919 - val_accuracy: 0.8709 - lr: 0.6310\n",
            "Epoch 78/100\n",
            "9/9 [==============================] - 0s 16ms/step - loss: 2.0901 - accuracy: 0.8645 - val_loss: 1.9919 - val_accuracy: 0.8709 - lr: 0.7079\n",
            "Epoch 79/100\n",
            "9/9 [==============================] - 0s 14ms/step - loss: 2.0901 - accuracy: 0.8645 - val_loss: 1.9919 - val_accuracy: 0.8709 - lr: 0.7943\n",
            "Epoch 80/100\n",
            "9/9 [==============================] - 0s 17ms/step - loss: 2.0901 - accuracy: 0.8645 - val_loss: 1.9919 - val_accuracy: 0.8709 - lr: 0.8913\n",
            "Epoch 81/100\n",
            "9/9 [==============================] - 0s 15ms/step - loss: 2.0901 - accuracy: 0.8645 - val_loss: 1.9919 - val_accuracy: 0.8709 - lr: 1.0000\n",
            "Epoch 82/100\n",
            "9/9 [==============================] - 0s 14ms/step - loss: 2.0901 - accuracy: 0.8645 - val_loss: 1.9919 - val_accuracy: 0.8709 - lr: 1.1220\n",
            "Epoch 83/100\n",
            "9/9 [==============================] - 0s 17ms/step - loss: 2.0901 - accuracy: 0.8645 - val_loss: 1.9919 - val_accuracy: 0.8709 - lr: 1.2589\n",
            "Epoch 84/100\n",
            "9/9 [==============================] - 0s 17ms/step - loss: 2.0901 - accuracy: 0.8645 - val_loss: 1.9919 - val_accuracy: 0.8709 - lr: 1.4125\n",
            "Epoch 85/100\n",
            "9/9 [==============================] - 0s 18ms/step - loss: 2.0901 - accuracy: 0.8645 - val_loss: 1.9919 - val_accuracy: 0.8709 - lr: 1.5849\n",
            "Epoch 86/100\n",
            "9/9 [==============================] - 0s 15ms/step - loss: 2.0901 - accuracy: 0.8645 - val_loss: 1.9919 - val_accuracy: 0.8709 - lr: 1.7783\n",
            "Epoch 87/100\n",
            "9/9 [==============================] - 0s 16ms/step - loss: 2.0901 - accuracy: 0.8645 - val_loss: 1.9919 - val_accuracy: 0.8709 - lr: 1.9953\n",
            "Epoch 88/100\n",
            "9/9 [==============================] - 0s 17ms/step - loss: 2.0901 - accuracy: 0.8645 - val_loss: 1.9919 - val_accuracy: 0.8709 - lr: 2.2387\n",
            "Epoch 89/100\n",
            "9/9 [==============================] - 0s 19ms/step - loss: 2.0901 - accuracy: 0.8645 - val_loss: 1.9919 - val_accuracy: 0.8709 - lr: 2.5119\n",
            "Epoch 90/100\n",
            "9/9 [==============================] - 0s 22ms/step - loss: 2.0901 - accuracy: 0.8645 - val_loss: 1.9919 - val_accuracy: 0.8709 - lr: 2.8184\n",
            "Epoch 91/100\n",
            "9/9 [==============================] - 0s 17ms/step - loss: 2.0901 - accuracy: 0.8645 - val_loss: 1.9919 - val_accuracy: 0.8709 - lr: 3.1623\n",
            "Epoch 92/100\n",
            "9/9 [==============================] - 0s 18ms/step - loss: 2.0901 - accuracy: 0.8645 - val_loss: 1.9919 - val_accuracy: 0.8709 - lr: 3.5481\n",
            "Epoch 93/100\n",
            "9/9 [==============================] - 0s 17ms/step - loss: 2.0901 - accuracy: 0.8645 - val_loss: 1.9919 - val_accuracy: 0.8709 - lr: 3.9811\n",
            "Epoch 94/100\n",
            "9/9 [==============================] - 0s 16ms/step - loss: 2.0901 - accuracy: 0.8645 - val_loss: 1.9919 - val_accuracy: 0.8709 - lr: 4.4668\n",
            "Epoch 95/100\n",
            "9/9 [==============================] - 0s 15ms/step - loss: 2.0901 - accuracy: 0.8645 - val_loss: 1.9919 - val_accuracy: 0.8709 - lr: 5.0119\n",
            "Epoch 96/100\n",
            "9/9 [==============================] - 0s 17ms/step - loss: 2.0901 - accuracy: 0.8645 - val_loss: 1.9919 - val_accuracy: 0.8709 - lr: 5.6234\n",
            "Epoch 97/100\n",
            "9/9 [==============================] - 0s 16ms/step - loss: 2.0901 - accuracy: 0.8645 - val_loss: 1.9919 - val_accuracy: 0.8709 - lr: 6.3096\n",
            "Epoch 98/100\n",
            "9/9 [==============================] - 0s 18ms/step - loss: 2.0901 - accuracy: 0.8645 - val_loss: 1.9919 - val_accuracy: 0.8709 - lr: 7.0795\n",
            "Epoch 99/100\n",
            "9/9 [==============================] - 0s 17ms/step - loss: 2.0901 - accuracy: 0.8645 - val_loss: 1.9919 - val_accuracy: 0.8709 - lr: 7.9433\n",
            "Epoch 100/100\n",
            "9/9 [==============================] - 0s 32ms/step - loss: 2.0901 - accuracy: 0.8645 - val_loss: 1.9919 - val_accuracy: 0.8709 - lr: 8.9125\n"
          ]
        }
      ]
    },
    {
      "cell_type": "code",
      "source": [
        "pd.DataFrame(hist.history).plot()\n",
        "plt.title('Model2 Graph')\n",
        "plt.xlabel('Epochs')\n",
        "plt.ylabel('Learning Rate')"
      ],
      "metadata": {
        "colab": {
          "base_uri": "https://localhost:8080/"
        },
        "id": "jnq2cyVg1yr0",
        "outputId": "4acb0cf7-add9-4a35-d028-86d95ee8ef7e"
      },
      "execution_count": 108,
      "outputs": [
        {
          "output_type": "execute_result",
          "data": {
            "text/plain": [
              "Text(0, 0.5, 'Learning Rate')"
            ]
          },
          "metadata": {},
          "execution_count": 108
        },
        {
          "output_type": "display_data",
          "data": {
            "text/plain": [
              "<Figure size 640x480 with 1 Axes>"
            ],
            "image/png": "[encoded data removed]"
          },
          "metadata": {}
        }
      ]
    },
    {
      "cell_type": "code",
      "source": [
        "model2.evaluate(testing_padded,testing_labels_final)"
      ],
      "metadata": {
        "colab": {
          "base_uri": "https://localhost:8080/"
        },
        "id": "lj67Cuez1zeB",
        "outputId": "9ceb236e-489a-4eea-c3bd-b5c8730a585b"
      },
      "execution_count": 109,
      "outputs": [
        {
          "output_type": "stream",
          "name": "stdout",
          "text": [
            "35/35 [==============================] - 0s 3ms/step - loss: 1.9919 - accuracy: 0.8709\n"
          ]
        },
        {
          "output_type": "execute_result",
          "data": {
            "text/plain": [
              "[1.991943359375, 0.870851993560791]"
            ]
          },
          "metadata": {},
          "execution_count": 109
        }
      ]
    },
    {
      "cell_type": "code",
      "source": [
        "# plot loss vs lr\n",
        "lr = 1e-4*(10**(tf.range(100)/20))\n",
        "plt.semilogx(lr,hist.history['loss'])\n",
        "plt.title('ideal lr is 1e-2/10**-2 ')\n",
        "plt.xlabel('Learning Rate')\n",
        "plt.ylabel('Loss')\n",
        "plt.show()\n"
      ],
      "metadata": {
        "id": "gxGcl3i11zoR",
        "colab": {
          "base_uri": "https://localhost:8080/"
        },
        "outputId": "081e5be6-d644-4278-8856-d83b74d64fc5"
      },
      "execution_count": 110,
      "outputs": [
        {
          "output_type": "display_data",
          "data": {
            "text/plain": [
              "<Figure size 640x480 with 1 Axes>"
            ],
            "image/png": "[encoded data removed]"
          },
          "metadata": {}
        }
      ]
    },
    {
      "cell_type": "code",
      "source": [
        "\n",
        "# Set lr = 0.01\n",
        "model3 = tf.keras.Sequential([\n",
        "    tf.keras.layers.Embedding(vocab_size,embedding_dim,input_length=max_length),\n",
        "    tf.keras.layers.Flatten(),\n",
        "    tf.keras.layers.Dense(20,activation='relu'),\n",
        "    tf.keras.layers.Dense(10,activation= 'relu'),\n",
        "    tf.keras.layers.Dense(1,activation= 'sigmoid')\n",
        "])\n",
        "\n",
        "model3.compile(loss='binary_crossentropy',metrics=['accuracy'],\n",
        "              optimizer=tf.keras.optimizers.Adam(learning_rate=0.01))\n",
        "model3.fit(padded,training_labels_final,batch_size=128,epochs=100,\n",
        "           validation_data=(testing_padded,testing_labels_final))\n"
      ],
      "metadata": {
        "colab": {
          "base_uri": "https://localhost:8080/"
        },
        "id": "fDc0uLrmNrDB",
        "outputId": "23b017f7-4eec-4620-9141-4a4258f28ccf"
      },
      "execution_count": 148,
      "outputs": [
        {
          "output_type": "stream",
          "name": "stdout",
          "text": [
            "Epoch 1/100\n",
            "35/35 [==============================] - 2s 12ms/step - loss: 0.2362 - accuracy: 0.8578 - val_loss: 0.1066 - val_accuracy: 0.9668\n",
            "Epoch 2/100\n",
            "35/35 [==============================] - 0s 8ms/step - loss: 0.0477 - accuracy: 0.9859 - val_loss: 0.0494 - val_accuracy: 0.9848\n",
            "Epoch 3/100\n",
            "35/35 [==============================] - 0s 7ms/step - loss: 0.0165 - accuracy: 0.9955 - val_loss: 0.0545 - val_accuracy: 0.9874\n",
            "Epoch 4/100\n",
            "35/35 [==============================] - 0s 6ms/step - loss: 0.0097 - accuracy: 0.9973 - val_loss: 0.0850 - val_accuracy: 0.9776\n",
            "Epoch 5/100\n",
            "35/35 [==============================] - 0s 6ms/step - loss: 0.0063 - accuracy: 0.9984 - val_loss: 0.0686 - val_accuracy: 0.9874\n",
            "Epoch 6/100\n",
            "35/35 [==============================] - 0s 6ms/step - loss: 0.0034 - accuracy: 0.9991 - val_loss: 0.0837 - val_accuracy: 0.9865\n",
            "Epoch 7/100\n",
            "35/35 [==============================] - 0s 5ms/step - loss: 0.0034 - accuracy: 0.9989 - val_loss: 0.0930 - val_accuracy: 0.9857\n",
            "Epoch 8/100\n",
            "35/35 [==============================] - 0s 6ms/step - loss: 0.0033 - accuracy: 0.9991 - val_loss: 0.1029 - val_accuracy: 0.9857\n",
            "Epoch 9/100\n",
            "35/35 [==============================] - 0s 6ms/step - loss: 0.0019 - accuracy: 0.9991 - val_loss: 0.1656 - val_accuracy: 0.9722\n",
            "Epoch 10/100\n",
            "35/35 [==============================] - 0s 6ms/step - loss: 0.0121 - accuracy: 0.9964 - val_loss: 0.0979 - val_accuracy: 0.9839\n",
            "Epoch 11/100\n",
            "35/35 [==============================] - 0s 6ms/step - loss: 0.0061 - accuracy: 0.9980 - val_loss: 0.1222 - val_accuracy: 0.9821\n",
            "Epoch 12/100\n",
            "35/35 [==============================] - 0s 6ms/step - loss: 0.0063 - accuracy: 0.9980 - val_loss: 0.1056 - val_accuracy: 0.9821\n",
            "Epoch 13/100\n",
            "35/35 [==============================] - 0s 9ms/step - loss: 0.0109 - accuracy: 0.9960 - val_loss: 0.1289 - val_accuracy: 0.9794\n",
            "Epoch 14/100\n",
            "35/35 [==============================] - 0s 10ms/step - loss: 0.0032 - accuracy: 0.9991 - val_loss: 0.1266 - val_accuracy: 0.9821\n",
            "Epoch 15/100\n",
            "35/35 [==============================] - 0s 9ms/step - loss: 0.0029 - accuracy: 0.9987 - val_loss: 0.1199 - val_accuracy: 0.9821\n",
            "Epoch 16/100\n",
            "35/35 [==============================] - 0s 11ms/step - loss: 0.0038 - accuracy: 0.9984 - val_loss: 0.1777 - val_accuracy: 0.9785\n",
            "Epoch 17/100\n",
            "35/35 [==============================] - 0s 13ms/step - loss: 0.0043 - accuracy: 0.9982 - val_loss: 0.1127 - val_accuracy: 0.9821\n",
            "Epoch 18/100\n",
            "35/35 [==============================] - 0s 12ms/step - loss: 0.0023 - accuracy: 0.9991 - val_loss: 0.1192 - val_accuracy: 0.9821\n",
            "Epoch 19/100\n",
            "35/35 [==============================] - 0s 10ms/step - loss: 0.0017 - accuracy: 0.9989 - val_loss: 0.1206 - val_accuracy: 0.9830\n",
            "Epoch 20/100\n",
            "35/35 [==============================] - 0s 10ms/step - loss: 0.0017 - accuracy: 0.9991 - val_loss: 0.1254 - val_accuracy: 0.9803\n",
            "Epoch 21/100\n",
            "35/35 [==============================] - 0s 9ms/step - loss: 0.0017 - accuracy: 0.9989 - val_loss: 0.1235 - val_accuracy: 0.9830\n",
            "Epoch 22/100\n",
            "35/35 [==============================] - 0s 9ms/step - loss: 0.0016 - accuracy: 0.9991 - val_loss: 0.1213 - val_accuracy: 0.9821\n",
            "Epoch 23/100\n",
            "35/35 [==============================] - 0s 10ms/step - loss: 0.0017 - accuracy: 0.9993 - val_loss: 0.1215 - val_accuracy: 0.9821\n",
            "Epoch 24/100\n",
            "35/35 [==============================] - 0s 9ms/step - loss: 0.0016 - accuracy: 0.9989 - val_loss: 0.1260 - val_accuracy: 0.9830\n",
            "Epoch 25/100\n",
            "35/35 [==============================] - 0s 6ms/step - loss: 0.0028 - accuracy: 0.9991 - val_loss: 0.0995 - val_accuracy: 0.9839\n",
            "Epoch 26/100\n",
            "35/35 [==============================] - 0s 7ms/step - loss: 0.0060 - accuracy: 0.9982 - val_loss: 0.1328 - val_accuracy: 0.9821\n",
            "Epoch 27/100\n",
            "35/35 [==============================] - 0s 6ms/step - loss: 0.0036 - accuracy: 0.9982 - val_loss: 0.1295 - val_accuracy: 0.9830\n",
            "Epoch 28/100\n",
            "35/35 [==============================] - 0s 6ms/step - loss: 0.0021 - accuracy: 0.9991 - val_loss: 0.1131 - val_accuracy: 0.9839\n",
            "Epoch 29/100\n",
            "35/35 [==============================] - 0s 6ms/step - loss: 0.0016 - accuracy: 0.9991 - val_loss: 0.1579 - val_accuracy: 0.9830\n",
            "Epoch 30/100\n",
            "35/35 [==============================] - 0s 5ms/step - loss: 0.0019 - accuracy: 0.9989 - val_loss: 0.1222 - val_accuracy: 0.9848\n",
            "Epoch 31/100\n",
            "35/35 [==============================] - 0s 6ms/step - loss: 0.0018 - accuracy: 0.9989 - val_loss: 0.1264 - val_accuracy: 0.9830\n",
            "Epoch 32/100\n",
            "35/35 [==============================] - 0s 5ms/step - loss: 0.0019 - accuracy: 0.9991 - val_loss: 0.1301 - val_accuracy: 0.9848\n",
            "Epoch 33/100\n",
            "35/35 [==============================] - 0s 6ms/step - loss: 0.0016 - accuracy: 0.9989 - val_loss: 0.1372 - val_accuracy: 0.9839\n",
            "Epoch 34/100\n",
            "35/35 [==============================] - 0s 6ms/step - loss: 0.0017 - accuracy: 0.9989 - val_loss: 0.1379 - val_accuracy: 0.9848\n",
            "Epoch 35/100\n",
            "35/35 [==============================] - 0s 6ms/step - loss: 0.0015 - accuracy: 0.9991 - val_loss: 0.1401 - val_accuracy: 0.9839\n",
            "Epoch 36/100\n",
            "35/35 [==============================] - 0s 7ms/step - loss: 0.0015 - accuracy: 0.9989 - val_loss: 0.1411 - val_accuracy: 0.9848\n",
            "Epoch 37/100\n",
            "35/35 [==============================] - 0s 6ms/step - loss: 0.0015 - accuracy: 0.9991 - val_loss: 0.1438 - val_accuracy: 0.9848\n",
            "Epoch 38/100\n",
            "35/35 [==============================] - 0s 5ms/step - loss: 0.0014 - accuracy: 0.9987 - val_loss: 0.1433 - val_accuracy: 0.9848\n",
            "Epoch 39/100\n",
            "35/35 [==============================] - 0s 6ms/step - loss: 0.0015 - accuracy: 0.9989 - val_loss: 0.1469 - val_accuracy: 0.9839\n",
            "Epoch 40/100\n",
            "35/35 [==============================] - 0s 6ms/step - loss: 0.0018 - accuracy: 0.9989 - val_loss: 0.1469 - val_accuracy: 0.9839\n",
            "Epoch 41/100\n",
            "35/35 [==============================] - 0s 6ms/step - loss: 0.0014 - accuracy: 0.9989 - val_loss: 0.1418 - val_accuracy: 0.9857\n",
            "Epoch 42/100\n",
            "35/35 [==============================] - 0s 6ms/step - loss: 0.0015 - accuracy: 0.9987 - val_loss: 0.1413 - val_accuracy: 0.9857\n",
            "Epoch 43/100\n",
            "35/35 [==============================] - 0s 6ms/step - loss: 0.0015 - accuracy: 0.9991 - val_loss: 0.1468 - val_accuracy: 0.9848\n",
            "Epoch 44/100\n",
            "35/35 [==============================] - 0s 6ms/step - loss: 0.0014 - accuracy: 0.9991 - val_loss: 0.1455 - val_accuracy: 0.9857\n",
            "Epoch 45/100\n",
            "35/35 [==============================] - 0s 7ms/step - loss: 0.0014 - accuracy: 0.9991 - val_loss: 0.1456 - val_accuracy: 0.9848\n",
            "Epoch 46/100\n",
            "35/35 [==============================] - 0s 6ms/step - loss: 0.0014 - accuracy: 0.9991 - val_loss: 0.1527 - val_accuracy: 0.9857\n",
            "Epoch 47/100\n",
            "35/35 [==============================] - 0s 6ms/step - loss: 0.0014 - accuracy: 0.9991 - val_loss: 0.1540 - val_accuracy: 0.9857\n",
            "Epoch 48/100\n",
            "35/35 [==============================] - 0s 5ms/step - loss: 0.0014 - accuracy: 0.9991 - val_loss: 0.1556 - val_accuracy: 0.9848\n",
            "Epoch 49/100\n",
            "35/35 [==============================] - 0s 6ms/step - loss: 0.0015 - accuracy: 0.9991 - val_loss: 0.1548 - val_accuracy: 0.9848\n",
            "Epoch 50/100\n",
            "35/35 [==============================] - 0s 6ms/step - loss: 0.0015 - accuracy: 0.9989 - val_loss: 0.1555 - val_accuracy: 0.9839\n",
            "Epoch 51/100\n",
            "35/35 [==============================] - 0s 6ms/step - loss: 0.0013 - accuracy: 0.9991 - val_loss: 0.1702 - val_accuracy: 0.9803\n",
            "Epoch 52/100\n",
            "35/35 [==============================] - 0s 6ms/step - loss: 0.0017 - accuracy: 0.9991 - val_loss: 0.1578 - val_accuracy: 0.9857\n",
            "Epoch 53/100\n",
            "35/35 [==============================] - 0s 6ms/step - loss: 0.0014 - accuracy: 0.9991 - val_loss: 0.1621 - val_accuracy: 0.9848\n",
            "Epoch 54/100\n",
            "35/35 [==============================] - 0s 6ms/step - loss: 0.0015 - accuracy: 0.9989 - val_loss: 0.1561 - val_accuracy: 0.9839\n",
            "Epoch 55/100\n",
            "35/35 [==============================] - 0s 6ms/step - loss: 0.0015 - accuracy: 0.9991 - val_loss: 0.1535 - val_accuracy: 0.9830\n",
            "Epoch 56/100\n",
            "35/35 [==============================] - 0s 6ms/step - loss: 0.0016 - accuracy: 0.9989 - val_loss: 0.1565 - val_accuracy: 0.9812\n",
            "Epoch 57/100\n",
            "35/35 [==============================] - 0s 5ms/step - loss: 0.0015 - accuracy: 0.9989 - val_loss: 0.1534 - val_accuracy: 0.9812\n",
            "Epoch 58/100\n",
            "35/35 [==============================] - 0s 6ms/step - loss: 0.0016 - accuracy: 0.9989 - val_loss: 0.1641 - val_accuracy: 0.9812\n",
            "Epoch 59/100\n",
            "35/35 [==============================] - 0s 7ms/step - loss: 0.0014 - accuracy: 0.9991 - val_loss: 0.1744 - val_accuracy: 0.9812\n",
            "Epoch 60/100\n",
            "35/35 [==============================] - 0s 7ms/step - loss: 0.0013 - accuracy: 0.9991 - val_loss: 0.1763 - val_accuracy: 0.9821\n",
            "Epoch 61/100\n",
            "35/35 [==============================] - 0s 7ms/step - loss: 0.0014 - accuracy: 0.9987 - val_loss: 0.1658 - val_accuracy: 0.9821\n",
            "Epoch 62/100\n",
            "35/35 [==============================] - 0s 6ms/step - loss: 0.0016 - accuracy: 0.9989 - val_loss: 0.1800 - val_accuracy: 0.9821\n",
            "Epoch 63/100\n",
            "35/35 [==============================] - 0s 5ms/step - loss: 0.0013 - accuracy: 0.9991 - val_loss: 0.1915 - val_accuracy: 0.9830\n",
            "Epoch 64/100\n",
            "35/35 [==============================] - 0s 7ms/step - loss: 0.0013 - accuracy: 0.9987 - val_loss: 0.1955 - val_accuracy: 0.9830\n",
            "Epoch 65/100\n",
            "35/35 [==============================] - 0s 5ms/step - loss: 0.0013 - accuracy: 0.9991 - val_loss: 0.1918 - val_accuracy: 0.9821\n",
            "Epoch 66/100\n",
            "35/35 [==============================] - 0s 7ms/step - loss: 0.0016 - accuracy: 0.9991 - val_loss: 0.1858 - val_accuracy: 0.9803\n",
            "Epoch 67/100\n",
            "35/35 [==============================] - 0s 5ms/step - loss: 0.0016 - accuracy: 0.9991 - val_loss: 0.1686 - val_accuracy: 0.9812\n",
            "Epoch 68/100\n",
            "35/35 [==============================] - 0s 6ms/step - loss: 0.0014 - accuracy: 0.9991 - val_loss: 0.1817 - val_accuracy: 0.9821\n",
            "Epoch 69/100\n",
            "35/35 [==============================] - 0s 6ms/step - loss: 0.0013 - accuracy: 0.9987 - val_loss: 0.1970 - val_accuracy: 0.9821\n",
            "Epoch 70/100\n",
            "35/35 [==============================] - 0s 7ms/step - loss: 0.0013 - accuracy: 0.9989 - val_loss: 0.1995 - val_accuracy: 0.9812\n",
            "Epoch 71/100\n",
            "35/35 [==============================] - 0s 11ms/step - loss: 0.0013 - accuracy: 0.9991 - val_loss: 0.1996 - val_accuracy: 0.9821\n",
            "Epoch 72/100\n",
            "35/35 [==============================] - 0s 12ms/step - loss: 0.0013 - accuracy: 0.9991 - val_loss: 0.2005 - val_accuracy: 0.9812\n",
            "Epoch 73/100\n",
            "35/35 [==============================] - 0s 12ms/step - loss: 0.0013 - accuracy: 0.9987 - val_loss: 0.2019 - val_accuracy: 0.9812\n",
            "Epoch 74/100\n",
            "35/35 [==============================] - 0s 9ms/step - loss: 0.0013 - accuracy: 0.9991 - val_loss: 0.2021 - val_accuracy: 0.9821\n",
            "Epoch 75/100\n",
            "35/35 [==============================] - 0s 10ms/step - loss: 0.0013 - accuracy: 0.9991 - val_loss: 0.2036 - val_accuracy: 0.9812\n",
            "Epoch 76/100\n",
            "35/35 [==============================] - 0s 10ms/step - loss: 0.0013 - accuracy: 0.9991 - val_loss: 0.2046 - val_accuracy: 0.9812\n",
            "Epoch 77/100\n",
            "35/35 [==============================] - 0s 12ms/step - loss: 0.0013 - accuracy: 0.9989 - val_loss: 0.2030 - val_accuracy: 0.9803\n",
            "Epoch 78/100\n",
            "35/35 [==============================] - 0s 11ms/step - loss: 0.0012 - accuracy: 0.9991 - val_loss: 0.2070 - val_accuracy: 0.9803\n",
            "Epoch 79/100\n",
            "35/35 [==============================] - 0s 12ms/step - loss: 0.0012 - accuracy: 0.9991 - val_loss: 0.2085 - val_accuracy: 0.9803\n",
            "Epoch 80/100\n",
            "35/35 [==============================] - 0s 12ms/step - loss: 0.0013 - accuracy: 0.9984 - val_loss: 0.2099 - val_accuracy: 0.9821\n",
            "Epoch 81/100\n",
            "35/35 [==============================] - 0s 10ms/step - loss: 0.0012 - accuracy: 0.9989 - val_loss: 0.2117 - val_accuracy: 0.9803\n",
            "Epoch 82/100\n",
            "35/35 [==============================] - 0s 6ms/step - loss: 0.0012 - accuracy: 0.9991 - val_loss: 0.2078 - val_accuracy: 0.9803\n",
            "Epoch 83/100\n",
            "35/35 [==============================] - 0s 6ms/step - loss: 0.0012 - accuracy: 0.9991 - val_loss: 0.2099 - val_accuracy: 0.9803\n",
            "Epoch 84/100\n",
            "35/35 [==============================] - 0s 6ms/step - loss: 0.0012 - accuracy: 0.9991 - val_loss: 0.2107 - val_accuracy: 0.9803\n",
            "Epoch 85/100\n",
            "35/35 [==============================] - 0s 6ms/step - loss: 0.0012 - accuracy: 0.9991 - val_loss: 0.2128 - val_accuracy: 0.9803\n",
            "Epoch 86/100\n",
            "35/35 [==============================] - 0s 5ms/step - loss: 0.0012 - accuracy: 0.9991 - val_loss: 0.2144 - val_accuracy: 0.9803\n",
            "Epoch 87/100\n",
            "35/35 [==============================] - 0s 6ms/step - loss: 0.0012 - accuracy: 0.9991 - val_loss: 0.2153 - val_accuracy: 0.9803\n",
            "Epoch 88/100\n",
            "35/35 [==============================] - 0s 6ms/step - loss: 0.0012 - accuracy: 0.9984 - val_loss: 0.2165 - val_accuracy: 0.9803\n",
            "Epoch 89/100\n",
            "35/35 [==============================] - 0s 6ms/step - loss: 0.0013 - accuracy: 0.9991 - val_loss: 0.2174 - val_accuracy: 0.9803\n",
            "Epoch 90/100\n",
            "35/35 [==============================] - 0s 6ms/step - loss: 0.0012 - accuracy: 0.9984 - val_loss: 0.2182 - val_accuracy: 0.9803\n",
            "Epoch 91/100\n",
            "35/35 [==============================] - 0s 6ms/step - loss: 0.0012 - accuracy: 0.9984 - val_loss: 0.2191 - val_accuracy: 0.9803\n",
            "Epoch 92/100\n",
            "35/35 [==============================] - 0s 6ms/step - loss: 0.0012 - accuracy: 0.9991 - val_loss: 0.2197 - val_accuracy: 0.9803\n",
            "Epoch 93/100\n",
            "35/35 [==============================] - 0s 6ms/step - loss: 0.0012 - accuracy: 0.9987 - val_loss: 0.2205 - val_accuracy: 0.9821\n",
            "Epoch 94/100\n",
            "35/35 [==============================] - 0s 6ms/step - loss: 0.0012 - accuracy: 0.9987 - val_loss: 0.2212 - val_accuracy: 0.9821\n",
            "Epoch 95/100\n",
            "35/35 [==============================] - 0s 6ms/step - loss: 0.0012 - accuracy: 0.9991 - val_loss: 0.2218 - val_accuracy: 0.9803\n",
            "Epoch 96/100\n",
            "35/35 [==============================] - 0s 6ms/step - loss: 0.0013 - accuracy: 0.9989 - val_loss: 0.2067 - val_accuracy: 0.9812\n",
            "Epoch 97/100\n",
            "35/35 [==============================] - 0s 6ms/step - loss: 0.0013 - accuracy: 0.9987 - val_loss: 0.2112 - val_accuracy: 0.9803\n",
            "Epoch 98/100\n",
            "35/35 [==============================] - 0s 6ms/step - loss: 0.0013 - accuracy: 0.9991 - val_loss: 0.2151 - val_accuracy: 0.9803\n",
            "Epoch 99/100\n",
            "35/35 [==============================] - 0s 6ms/step - loss: 0.0012 - accuracy: 0.9989 - val_loss: 0.2183 - val_accuracy: 0.9821\n",
            "Epoch 100/100\n",
            "35/35 [==============================] - 0s 5ms/step - loss: 0.0012 - accuracy: 0.9991 - val_loss: 0.2205 - val_accuracy: 0.9803\n"
          ]
        },
        {
          "output_type": "execute_result",
          "data": {
            "text/plain": [
              "<keras.callbacks.History at 0x7fc4b1492a40>"
            ]
          },
          "metadata": {},
          "execution_count": 148
        }
      ]
    },
    {
      "cell_type": "code",
      "source": [
        "import random\n",
        "ans=model3.predict(testing_padded,batch_size=128)\n",
        "def Sample_Ans(num_sample=5):\n",
        "  for i in range(num_sample):\n",
        "    i=random.randrange(int(len(testing_padded)))\n",
        "    print(f'''\n",
        "\n",
        "      Prediction:{int(ans[i])},\n",
        "      Sentence: {testing_sentences[i]},\n",
        "      label:{testing_labels_final[i]}\n",
        "\n",
        "        ''')\n"
      ],
      "metadata": {
        "colab": {
          "base_uri": "https://localhost:8080/"
        },
        "id": "p0mGL5zoAAZb",
        "outputId": "0b27423d-6abd-4acf-ad9e-9c48e57009a5"
      },
      "execution_count": 159,
      "outputs": [
        {
          "output_type": "stream",
          "name": "stdout",
          "text": [
            "9/9 [==============================] - 0s 2ms/step\n"
          ]
        }
      ]
    },
    {
      "cell_type": "code",
      "source": [
        "model3.evaluate(testing_padded,testing_labels_final)"
      ],
      "metadata": {
        "colab": {
          "base_uri": "https://localhost:8080/"
        },
        "id": "KJT07uqdYmlg",
        "outputId": "93816ca1-e69b-46ce-ab86-3df8ea4c52b4"
      },
      "execution_count": 156,
      "outputs": [
        {
          "output_type": "stream",
          "name": "stdout",
          "text": [
            "35/35 [==============================] - 0s 2ms/step - loss: 0.2205 - accuracy: 0.9803\n"
          ]
        },
        {
          "output_type": "execute_result",
          "data": {
            "text/plain": [
              "[0.2204759567975998, 0.9802690744400024]"
            ]
          },
          "metadata": {},
          "execution_count": 156
        }
      ]
    },
    {
      "cell_type": "code",
      "source": [
        "Sample_Ans()"
      ],
      "metadata": {
        "id": "EoPL95GrAEYJ",
        "colab": {
          "base_uri": "https://localhost:8080/"
        },
        "outputId": "3ef74446-5627-49a7-cb16-41a9c97a9e06"
      },
      "execution_count": 160,
      "outputs": [
        {
          "output_type": "stream",
          "name": "stdout",
          "text": [
            "\n",
            "\n",
            "      Prediction:0,\n",
            "      Sentence: Wot is u up 2 then bitch?,\n",
            "      label:0\n",
            "\n",
            "        \n",
            "\n",
            "\n",
            "      Prediction:0,\n",
            "      Sentence: Dunno, my dad said he coming home 2 bring us out 4 lunch. Yup i go w u lor. I call u when i reach school lor...,\n",
            "      label:0\n",
            "\n",
            "        \n",
            "\n",
            "\n",
            "      Prediction:1,\n",
            "      Sentence: Want the latest Video handset? 750 anytime any network mins? Half price line rental? Reply or call 08000930705 for delivery tomorrow,\n",
            "      label:1\n",
            "\n",
            "        \n",
            "\n",
            "\n",
            "      Prediction:0,\n",
            "      Sentence: Sunshine Quiz! Win a super Sony DVD recorder if you canname the capital of Australia? Text MQUIZ to 82277. B,\n",
            "      label:1\n",
            "\n",
            "        \n",
            "\n",
            "\n",
            "      Prediction:1,\n",
            "      Sentence: Get your garden ready for summer with a FREE selection of summer bulbs and seeds worth £33:50 only with The Scotsman this Saturday. To stop go2 notxt.co.uk,\n",
            "      label:1\n",
            "\n",
            "        \n"
          ]
        }
      ]
    }
  ]
}