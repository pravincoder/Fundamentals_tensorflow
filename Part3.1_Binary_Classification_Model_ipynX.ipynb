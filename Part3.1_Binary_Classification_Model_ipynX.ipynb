{
  "nbformat": 4,
  "nbformat_minor": 0,
  "metadata": {
    "colab": {
      "provenance": [],
      "mount_file_id": "1hOH516p2ptti8d0Q2euX3mH_7DV_3XVo",
      "authorship_tag": "ABX9TyPtr3mXtAUUHdAPzBKAoTNI",
      "include_colab_link": true
    },
    "kernelspec": {
      "name": "python3",
      "display_name": "Python 3"
    },
    "language_info": {
      "name": "python"
    }
  },
  "cells": [
    {
      "cell_type": "markdown",
      "metadata": {
        "id": "view-in-github",
        "colab_type": "text"
      },
      "source": [
        "<a href=\"https://colab.research.google.com/github/pravincoder/Fundamentals_tensorflow/blob/main/Part3.1_Binary_Classification_Model_ipynX.ipynb\" target=\"_parent\"><img src=\"https://colab.research.google.com/assets/colab-badge.svg\" alt=\"Open In Colab\"/></a>"
      ]
    },
    {
      "cell_type": "markdown",
      "source": [
        "# Introduction to BinaryClassifiaction Model\n",
        "\n",
        "### Problem :- Email Spam Detection\n",
        "Here we are going to create a model that can predict the mail is a Spam(1)/Not a Spam(0), using the provided subject of the email."
      ],
      "metadata": {
        "id": "UTUmS1fKvLZU"
      }
    },
    {
      "cell_type": "code",
      "source": [
        "# Modules\n",
        "import tensorflow as tf\n",
        "import numpy as np\n",
        "import pandas as pd\n",
        "import matplotlib.pyplot as plt\n",
        "from tensorflow.keras.preprocessing.text import Tokenizer\n",
        "from tensorflow.keras.preprocessing.sequence import pad_sequences"
      ],
      "metadata": {
        "id": "gixtLcxfvK5l"
      },
      "execution_count": 15,
      "outputs": []
    },
    {
      "cell_type": "markdown",
      "source": [
        "## Data Set\n",
        "\n",
        "#### The dataset used in this example is sourced from Kaggle (original authors Almeida and Hidalgo, 2011) is provided below.\n",
        "* [Spam test Dataset](https://www.kaggle.com/datasets/team-ai/spam-text-message-classification)\n",
        "\n"
      ],
      "metadata": {
        "id": "_jayBaWXzazh"
      }
    },
    {
      "cell_type": "code",
      "execution_count": 16,
      "metadata": {
        "id": "4QN97wvpvBlt"
      },
      "outputs": [],
      "source": [
        "#Load Data\n",
        "dataset = pd.read_csv('/content/drive/MyDrive/SPAMtextmessage.csv')\n",
        "# Convert ham to 0 and spam to 1\n",
        "dataset['Category']= dataset['Category'].str.replace('ham','0')\n",
        "dataset['Category']= dataset['Category'].str.replace('spam','1')\n",
        "dataset['Category']= dataset['Category'].astype(int)\n",
        "sentences = dataset['Message'].tolist()\n",
        "labels = dataset['Category'].tolist()\n",
        "# Separate out the sentences and labels into training and test sets\n",
        "training_size = int(len(sentences) * 0.8)\n",
        "# Sentence variables\n",
        "training_sentences = sentences[0:training_size]\n",
        "testing_sentences = sentences[training_size:]\n",
        "# Labels variables\n",
        "training_labels = labels[0:training_size]\n",
        "testing_labels = labels[training_size:]\n",
        "# Make labels into numpy arrays for use with the network later\n",
        "training_labels_final = np.array(training_labels)\n",
        "testing_labels_final = np.array(testing_labels)\n"
      ]
    },
    {
      "cell_type": "markdown",
      "source": [
        "## Visualizing the Data Labels\n",
        "\n",
        "As the is only 2 output in labels that is 0(Not Spam) and 1 (Spam) using a bar /pie chart is ideal for visualization."
      ],
      "metadata": {
        "id": "BBILL5O3bufs"
      }
    },
    {
      "cell_type": "code",
      "source": [
        "zero_count =int(labels.count(0))\n",
        "one_count = int(len(labels))-zero_count\n",
        "c = [zero_count,one_count]\n",
        "plt.title('Count of Spam & Not Spam (Labels)')\n",
        "plt.pie(c,labels=[f'Not Spam ,\\n count:{zero_count}',f'Spam ,\\n count:{one_count}'])\n",
        "plt.show()"
      ],
      "metadata": {
        "colab": {
          "base_uri": "https://localhost:8080/",
          "height": 428
        },
        "id": "SC-fM1mbdVCx",
        "outputId": "056b9316-1931-4ec2-d574-9093fd0ae22b"
      },
      "execution_count": 17,
      "outputs": [
        {
          "output_type": "display_data",
          "data": {
            "text/plain": [
              "<Figure size 640x480 with 1 Axes>"
            ],
            "image/png": "[encoded data removed]"
          },
          "metadata": {}
        }
      ]
    },
    {
      "cell_type": "code",
      "source": [
        "vocab_size = 1000\n",
        "embedding_dim = 16\n",
        "max_length = 100\n",
        "trunc_type='post'\n",
        "padding_type='post'\n",
        "oov_tok = \"<OOV>\"\n",
        "from tensorflow.keras.preprocessing.text import Tokenizer\n",
        "from tensorflow.keras.preprocessing.sequence import pad_sequences\n",
        "tokenizer = Tokenizer(num_words = vocab_size, oov_token=oov_tok)\n",
        "tokenizer.fit_on_texts(training_sentences)\n",
        "word_index = tokenizer.word_index"
      ],
      "metadata": {
        "id": "lBRsE_M_Hmm5"
      },
      "execution_count": 18,
      "outputs": []
    },
    {
      "cell_type": "code",
      "source": [
        "sequences = tokenizer.texts_to_sequences(training_sentences)\n",
        "padded = pad_sequences(sequences,maxlen=max_length, padding=padding_type,\n",
        "                       truncating=trunc_type)\n",
        "testing_sequences = tokenizer.texts_to_sequences(testing_sentences)\n",
        "testing_padded = pad_sequences(testing_sequences,maxlen=max_length,\n",
        "                               padding=padding_type, truncating=trunc_type)"
      ],
      "metadata": {
        "id": "ycrqFdU5smuY"
      },
      "execution_count": 19,
      "outputs": []
    },
    {
      "cell_type": "code",
      "source": [
        "model = tf.keras.Sequential([\n",
        "    tf.keras.layers.Embedding(vocab_size, embedding_dim, input_length=max_length),\n",
        "    tf.keras.layers.Flatten(),\n",
        "    tf.keras.layers.Dense(6, activation='relu'),\n",
        "    tf.keras.layers.Dense(1, activation='sigmoid')\n",
        "])\n",
        "model.compile(loss='binary_crossentropy',optimizer='adam',metrics=['accuracy'])\n",
        "model.summary()\n"
      ],
      "metadata": {
        "colab": {
          "base_uri": "https://localhost:8080/"
        },
        "id": "hbOUiHRLsnAV",
        "outputId": "e8ecac8f-7bd4-43eb-a5b8-216f5990523a"
      },
      "execution_count": 20,
      "outputs": [
        {
          "output_type": "stream",
          "name": "stdout",
          "text": [
            "Model: \"sequential\"\n",
            "_________________________________________________________________\n",
            " Layer (type)                Output Shape              Param #   \n",
            "=================================================================\n",
            " embedding (Embedding)       (None, 100, 16)           16000     \n",
            "                                                                 \n",
            " flatten (Flatten)           (None, 1600)              0         \n",
            "                                                                 \n",
            " dense (Dense)               (None, 6)                 9606      \n",
            "                                                                 \n",
            " dense_1 (Dense)             (None, 1)                 7         \n",
            "                                                                 \n",
            "=================================================================\n",
            "Total params: 25,613\n",
            "Trainable params: 25,613\n",
            "Non-trainable params: 0\n",
            "_________________________________________________________________\n"
          ]
        }
      ]
    },
    {
      "cell_type": "code",
      "source": [
        "num_epochs = 20\n",
        "history=model.fit(padded, training_labels_final, epochs=num_epochs,batch_size=128, validation_data=(testing_padded, testing_labels_final))"
      ],
      "metadata": {
        "colab": {
          "base_uri": "https://localhost:8080/"
        },
        "id": "2L0swV9ktDYs",
        "outputId": "bb101cf1-7a5d-4c48-f7d0-4ed8844579db"
      },
      "execution_count": 21,
      "outputs": [
        {
          "output_type": "stream",
          "name": "stdout",
          "text": [
            "Epoch 1/20\n",
            "35/35 [==============================] - 2s 21ms/step - loss: 0.4493 - accuracy: 0.8519 - val_loss: 0.3381 - val_accuracy: 0.8700\n",
            "Epoch 2/20\n",
            "35/35 [==============================] - 0s 11ms/step - loss: 0.2896 - accuracy: 0.8647 - val_loss: 0.2129 - val_accuracy: 0.8700\n",
            "Epoch 3/20\n",
            "35/35 [==============================] - 0s 11ms/step - loss: 0.1908 - accuracy: 0.8647 - val_loss: 0.1664 - val_accuracy: 0.8700\n",
            "Epoch 4/20\n",
            "35/35 [==============================] - 0s 8ms/step - loss: 0.1622 - accuracy: 0.8800 - val_loss: 0.1494 - val_accuracy: 0.9695\n",
            "Epoch 5/20\n",
            "35/35 [==============================] - 0s 8ms/step - loss: 0.1459 - accuracy: 0.9702 - val_loss: 0.1388 - val_accuracy: 0.9722\n",
            "Epoch 6/20\n",
            "35/35 [==============================] - 0s 6ms/step - loss: 0.1347 - accuracy: 0.9746 - val_loss: 0.1322 - val_accuracy: 0.9767\n",
            "Epoch 7/20\n",
            "35/35 [==============================] - 0s 6ms/step - loss: 0.1266 - accuracy: 0.9805 - val_loss: 0.1275 - val_accuracy: 0.9785\n",
            "Epoch 8/20\n",
            "35/35 [==============================] - 0s 7ms/step - loss: 0.1201 - accuracy: 0.9838 - val_loss: 0.1242 - val_accuracy: 0.9803\n",
            "Epoch 9/20\n",
            "35/35 [==============================] - 0s 7ms/step - loss: 0.1145 - accuracy: 0.9868 - val_loss: 0.1216 - val_accuracy: 0.9830\n",
            "Epoch 10/20\n",
            "35/35 [==============================] - 0s 7ms/step - loss: 0.0668 - accuracy: 0.9892 - val_loss: 0.0545 - val_accuracy: 0.9857\n",
            "Epoch 11/20\n",
            "35/35 [==============================] - 0s 7ms/step - loss: 0.0316 - accuracy: 0.9926 - val_loss: 0.0517 - val_accuracy: 0.9830\n",
            "Epoch 12/20\n",
            "35/35 [==============================] - 0s 8ms/step - loss: 0.0260 - accuracy: 0.9928 - val_loss: 0.0511 - val_accuracy: 0.9839\n",
            "Epoch 13/20\n",
            "35/35 [==============================] - 0s 7ms/step - loss: 0.0223 - accuracy: 0.9939 - val_loss: 0.0495 - val_accuracy: 0.9830\n",
            "Epoch 14/20\n",
            "35/35 [==============================] - 0s 7ms/step - loss: 0.0195 - accuracy: 0.9946 - val_loss: 0.0496 - val_accuracy: 0.9839\n",
            "Epoch 15/20\n",
            "35/35 [==============================] - 0s 7ms/step - loss: 0.0168 - accuracy: 0.9957 - val_loss: 0.0504 - val_accuracy: 0.9848\n",
            "Epoch 16/20\n",
            "35/35 [==============================] - 0s 7ms/step - loss: 0.0152 - accuracy: 0.9971 - val_loss: 0.0551 - val_accuracy: 0.9857\n",
            "Epoch 17/20\n",
            "35/35 [==============================] - 0s 6ms/step - loss: 0.0143 - accuracy: 0.9971 - val_loss: 0.0518 - val_accuracy: 0.9857\n",
            "Epoch 18/20\n",
            "35/35 [==============================] - 0s 7ms/step - loss: 0.0125 - accuracy: 0.9984 - val_loss: 0.0544 - val_accuracy: 0.9857\n",
            "Epoch 19/20\n",
            "35/35 [==============================] - 0s 7ms/step - loss: 0.0117 - accuracy: 0.9982 - val_loss: 0.0549 - val_accuracy: 0.9865\n",
            "Epoch 20/20\n",
            "35/35 [==============================] - 0s 7ms/step - loss: 0.0106 - accuracy: 0.9984 - val_loss: 0.0574 - val_accuracy: 0.9865\n"
          ]
        }
      ]
    },
    {
      "cell_type": "code",
      "source": [
        "model.evaluate(testing_padded,testing_labels_final)\n",
        "model_testpredition = model.predict(testing_padded,batch_size=128)\n",
        "print(model_testpredition[3])\n",
        "testing_padded[3]\n",
        "print(testing_sentences[3])\n",
        "print(testing_labels_final[3])"
      ],
      "metadata": {
        "id": "KuaVrt3lKAlA",
        "colab": {
          "base_uri": "https://localhost:8080/"
        },
        "outputId": "c0064f22-d6c9-4ea5-8dfe-55132f9165ab"
      },
      "execution_count": 32,
      "outputs": [
        {
          "output_type": "stream",
          "name": "stdout",
          "text": [
            "35/35 [==============================] - 0s 2ms/step - loss: 0.0574 - accuracy: 0.9865\n",
            "9/9 [==============================] - 0s 2ms/step\n",
            "[0.9988023]\n",
            "Welcome to UK-mobile-date this msg is FREE giving you free calling to 08719839835. Future mgs billed at 150p daily. To cancel send \"go stop\" to 89123\n",
            "1\n"
          ]
        }
      ]
    },
    {
      "cell_type": "code",
      "source": [
        "pd.DataFrame(history.history).plot()"
      ],
      "metadata": {
        "id": "otwXPF0NKAz6",
        "colab": {
          "base_uri": "https://localhost:8080/",
          "height": 448
        },
        "outputId": "821ebfd8-d61e-482d-92f8-fca634de59a7"
      },
      "execution_count": 23,
      "outputs": [
        {
          "output_type": "execute_result",
          "data": {
            "text/plain": [
              "<Axes: >"
            ]
          },
          "metadata": {},
          "execution_count": 23
        },
        {
          "output_type": "display_data",
          "data": {
            "text/plain": [
              "<Figure size 640x480 with 1 Axes>"
            ],
            "image/png": "[encoded data removed]"
          },
          "metadata": {}
        }
      ]
    },
    {
      "cell_type": "code",
      "source": [
        "# Optimal learning rate.\n",
        "model2= tf.keras.Sequential([\n",
        "    tf.keras.layers.Embedding(vocab_size,embedding_dim,input_length=max_length),\n",
        "    tf.keras.layers.Flatten(),\n",
        "    tf.keras.layers.Dense(20,activation='relu'),\n",
        "    tf.keras.layers.Dense(10,activation='relu'),\n",
        "    tf.keras.layers.Dense(1,activation='relu')\n",
        "])\n",
        "# Compile\n",
        "model2.compile(loss='binary_crossentropy',optimizer='adam',metrics=['accuracy'])\n",
        "# Learning rate Schedular\n",
        "lr_schedular = tf.keras.callbacks.LearningRateScheduler(lambda epoch:1e-4*10**(epoch/20))\n",
        "# fitting\n",
        "hist=model2.fit(padded,training_labels_final,epochs=100,callbacks=[lr_schedular],batch_size=500,validation_data=(testing_padded,testing_labels_final))"
      ],
      "metadata": {
        "colab": {
          "base_uri": "https://localhost:8080/"
        },
        "id": "Icrcp9WujJSY",
        "outputId": "311950b6-5bfd-404e-e06e-aed5bf0737d7"
      },
      "execution_count": 24,
      "outputs": [
        {
          "output_type": "stream",
          "name": "stdout",
          "text": [
            "Epoch 1/100\n",
            "9/9 [==============================] - 1s 43ms/step - loss: 0.5890 - accuracy: 0.8649 - val_loss: 0.4658 - val_accuracy: 0.8700 - lr: 1.0000e-04\n",
            "Epoch 2/100\n",
            "9/9 [==============================] - 0s 19ms/step - loss: 0.4498 - accuracy: 0.8649 - val_loss: 0.4087 - val_accuracy: 0.8700 - lr: 1.1220e-04\n",
            "Epoch 3/100\n",
            "9/9 [==============================] - 0s 20ms/step - loss: 0.4083 - accuracy: 0.8649 - val_loss: 0.3842 - val_accuracy: 0.8700 - lr: 1.2589e-04\n",
            "Epoch 4/100\n",
            "9/9 [==============================] - 0s 17ms/step - loss: 0.3909 - accuracy: 0.8649 - val_loss: 0.3738 - val_accuracy: 0.8700 - lr: 1.4125e-04\n",
            "Epoch 5/100\n",
            "9/9 [==============================] - 0s 19ms/step - loss: 0.3805 - accuracy: 0.8649 - val_loss: 0.3667 - val_accuracy: 0.8700 - lr: 1.5849e-04\n",
            "Epoch 6/100\n",
            "9/9 [==============================] - 0s 20ms/step - loss: 0.3724 - accuracy: 0.8649 - val_loss: 0.3583 - val_accuracy: 0.8700 - lr: 1.7783e-04\n",
            "Epoch 7/100\n",
            "9/9 [==============================] - 0s 17ms/step - loss: 0.3627 - accuracy: 0.8649 - val_loss: 0.3478 - val_accuracy: 0.8700 - lr: 1.9953e-04\n",
            "Epoch 8/100\n",
            "9/9 [==============================] - 0s 16ms/step - loss: 0.3512 - accuracy: 0.8649 - val_loss: 0.3355 - val_accuracy: 0.8700 - lr: 2.2387e-04\n",
            "Epoch 9/100\n",
            "9/9 [==============================] - 0s 17ms/step - loss: 0.3385 - accuracy: 0.8649 - val_loss: 0.3217 - val_accuracy: 0.8700 - lr: 2.5119e-04\n",
            "Epoch 10/100\n",
            "9/9 [==============================] - 0s 18ms/step - loss: 0.3241 - accuracy: 0.8649 - val_loss: 0.3069 - val_accuracy: 0.8700 - lr: 2.8184e-04\n",
            "Epoch 11/100\n",
            "9/9 [==============================] - 0s 19ms/step - loss: 0.3088 - accuracy: 0.8649 - val_loss: 0.2911 - val_accuracy: 0.8700 - lr: 3.1623e-04\n",
            "Epoch 12/100\n",
            "9/9 [==============================] - 0s 19ms/step - loss: 0.2924 - accuracy: 0.8649 - val_loss: 0.2759 - val_accuracy: 0.8700 - lr: 3.5481e-04\n",
            "Epoch 13/100\n",
            "9/9 [==============================] - 0s 21ms/step - loss: 0.2764 - accuracy: 0.8649 - val_loss: 0.2606 - val_accuracy: 0.8700 - lr: 3.9811e-04\n",
            "Epoch 14/100\n",
            "9/9 [==============================] - 0s 18ms/step - loss: 0.2613 - accuracy: 0.8649 - val_loss: 0.2466 - val_accuracy: 0.8700 - lr: 4.4668e-04\n",
            "Epoch 15/100\n",
            "9/9 [==============================] - 0s 19ms/step - loss: 0.2461 - accuracy: 0.8649 - val_loss: 0.2339 - val_accuracy: 0.8700 - lr: 5.0119e-04\n",
            "Epoch 16/100\n",
            "9/9 [==============================] - 0s 19ms/step - loss: 0.2263 - accuracy: 0.8663 - val_loss: 0.2109 - val_accuracy: 0.8735 - lr: 5.6234e-04\n",
            "Epoch 17/100\n",
            "9/9 [==============================] - 0s 20ms/step - loss: 0.2035 - accuracy: 0.8795 - val_loss: 0.1868 - val_accuracy: 0.9103 - lr: 6.3096e-04\n",
            "Epoch 18/100\n",
            "9/9 [==============================] - 0s 20ms/step - loss: 0.1752 - accuracy: 0.9233 - val_loss: 0.1602 - val_accuracy: 0.9498 - lr: 7.0795e-04\n",
            "Epoch 19/100\n",
            "9/9 [==============================] - 0s 23ms/step - loss: 0.1438 - accuracy: 0.9569 - val_loss: 0.1311 - val_accuracy: 0.9623 - lr: 7.9433e-04\n",
            "Epoch 20/100\n",
            "9/9 [==============================] - 0s 19ms/step - loss: 0.1150 - accuracy: 0.9675 - val_loss: 0.1022 - val_accuracy: 0.9731 - lr: 8.9125e-04\n",
            "Epoch 21/100\n",
            "9/9 [==============================] - 0s 18ms/step - loss: 0.0865 - accuracy: 0.9735 - val_loss: 0.0830 - val_accuracy: 0.9704 - lr: 0.0010\n",
            "Epoch 22/100\n",
            "9/9 [==============================] - 0s 24ms/step - loss: 0.0722 - accuracy: 0.9778 - val_loss: 0.0720 - val_accuracy: 0.9803 - lr: 0.0011\n",
            "Epoch 23/100\n",
            "9/9 [==============================] - 0s 31ms/step - loss: 0.0508 - accuracy: 0.9818 - val_loss: 0.0550 - val_accuracy: 0.9803 - lr: 0.0013\n",
            "Epoch 24/100\n",
            "9/9 [==============================] - 0s 33ms/step - loss: 0.0401 - accuracy: 0.9872 - val_loss: 0.0565 - val_accuracy: 0.9839 - lr: 0.0014\n",
            "Epoch 25/100\n",
            "9/9 [==============================] - 0s 36ms/step - loss: 0.0328 - accuracy: 0.9897 - val_loss: 0.0449 - val_accuracy: 0.9848 - lr: 0.0016\n",
            "Epoch 26/100\n",
            "9/9 [==============================] - 0s 33ms/step - loss: 0.0246 - accuracy: 0.9921 - val_loss: 0.0581 - val_accuracy: 0.9857 - lr: 0.0018\n",
            "Epoch 27/100\n",
            "9/9 [==============================] - 0s 28ms/step - loss: 0.0323 - accuracy: 0.9937 - val_loss: 0.0573 - val_accuracy: 0.9865 - lr: 0.0020\n",
            "Epoch 28/100\n",
            "9/9 [==============================] - 0s 28ms/step - loss: 0.0282 - accuracy: 0.9953 - val_loss: 0.0616 - val_accuracy: 0.9821 - lr: 0.0022\n",
            "Epoch 29/100\n",
            "9/9 [==============================] - 0s 28ms/step - loss: 0.0253 - accuracy: 0.9960 - val_loss: 0.0566 - val_accuracy: 0.9848 - lr: 0.0025\n",
            "Epoch 30/100\n",
            "9/9 [==============================] - 0s 30ms/step - loss: 0.0226 - accuracy: 0.9973 - val_loss: 0.0691 - val_accuracy: 0.9848 - lr: 0.0028\n",
            "Epoch 31/100\n",
            "9/9 [==============================] - 0s 30ms/step - loss: 0.0204 - accuracy: 0.9980 - val_loss: 0.0676 - val_accuracy: 0.9830 - lr: 0.0032\n",
            "Epoch 32/100\n",
            "9/9 [==============================] - 0s 27ms/step - loss: 0.0193 - accuracy: 0.9987 - val_loss: 0.0690 - val_accuracy: 0.9821 - lr: 0.0035\n",
            "Epoch 33/100\n",
            "9/9 [==============================] - 0s 33ms/step - loss: 0.0187 - accuracy: 0.9989 - val_loss: 0.0704 - val_accuracy: 0.9839 - lr: 0.0040\n",
            "Epoch 34/100\n",
            "9/9 [==============================] - 0s 32ms/step - loss: 0.0183 - accuracy: 0.9987 - val_loss: 0.0698 - val_accuracy: 0.9839 - lr: 0.0045\n",
            "Epoch 35/100\n",
            "9/9 [==============================] - 0s 30ms/step - loss: 0.0179 - accuracy: 0.9989 - val_loss: 0.0746 - val_accuracy: 0.9830 - lr: 0.0050\n",
            "Epoch 36/100\n",
            "9/9 [==============================] - 0s 32ms/step - loss: 0.0176 - accuracy: 0.9989 - val_loss: 0.0748 - val_accuracy: 0.9830 - lr: 0.0056\n",
            "Epoch 37/100\n",
            "9/9 [==============================] - 0s 29ms/step - loss: 0.0174 - accuracy: 0.9989 - val_loss: 0.0721 - val_accuracy: 0.9812 - lr: 0.0063\n",
            "Epoch 38/100\n",
            "9/9 [==============================] - 0s 31ms/step - loss: 0.0174 - accuracy: 0.9989 - val_loss: 0.1206 - val_accuracy: 0.9839 - lr: 0.0071\n",
            "Epoch 39/100\n",
            "9/9 [==============================] - 0s 18ms/step - loss: 0.0174 - accuracy: 0.9989 - val_loss: 0.0861 - val_accuracy: 0.9821 - lr: 0.0079\n",
            "Epoch 40/100\n",
            "9/9 [==============================] - 0s 18ms/step - loss: 0.0173 - accuracy: 0.9989 - val_loss: 0.1204 - val_accuracy: 0.9839 - lr: 0.0089\n",
            "Epoch 41/100\n",
            "9/9 [==============================] - 0s 17ms/step - loss: 0.0173 - accuracy: 0.9989 - val_loss: 0.0867 - val_accuracy: 0.9821 - lr: 0.0100\n",
            "Epoch 42/100\n",
            "9/9 [==============================] - 0s 16ms/step - loss: 0.0173 - accuracy: 0.9989 - val_loss: 0.1211 - val_accuracy: 0.9839 - lr: 0.0112\n",
            "Epoch 43/100\n",
            "9/9 [==============================] - 0s 17ms/step - loss: 0.0173 - accuracy: 0.9989 - val_loss: 0.0853 - val_accuracy: 0.9812 - lr: 0.0126\n",
            "Epoch 44/100\n",
            "9/9 [==============================] - 0s 18ms/step - loss: 0.0173 - accuracy: 0.9989 - val_loss: 0.1196 - val_accuracy: 0.9830 - lr: 0.0141\n",
            "Epoch 45/100\n",
            "9/9 [==============================] - 0s 18ms/step - loss: 0.0173 - accuracy: 0.9989 - val_loss: 0.0873 - val_accuracy: 0.9812 - lr: 0.0158\n",
            "Epoch 46/100\n",
            "9/9 [==============================] - 0s 18ms/step - loss: 0.0173 - accuracy: 0.9989 - val_loss: 0.1310 - val_accuracy: 0.9839 - lr: 0.0178\n",
            "Epoch 47/100\n",
            "9/9 [==============================] - 0s 18ms/step - loss: 0.0173 - accuracy: 0.9989 - val_loss: 0.0861 - val_accuracy: 0.9830 - lr: 0.0200\n",
            "Epoch 48/100\n",
            "9/9 [==============================] - 0s 19ms/step - loss: 0.0173 - accuracy: 0.9989 - val_loss: 0.1221 - val_accuracy: 0.9830 - lr: 0.0224\n",
            "Epoch 49/100\n",
            "9/9 [==============================] - 0s 20ms/step - loss: 0.0173 - accuracy: 0.9989 - val_loss: 0.1327 - val_accuracy: 0.9830 - lr: 0.0251\n",
            "Epoch 50/100\n",
            "9/9 [==============================] - 0s 22ms/step - loss: 0.0177 - accuracy: 0.9989 - val_loss: 0.0860 - val_accuracy: 0.9785 - lr: 0.0282\n",
            "Epoch 51/100\n",
            "9/9 [==============================] - 0s 18ms/step - loss: 0.0183 - accuracy: 0.9989 - val_loss: 0.2045 - val_accuracy: 0.9812 - lr: 0.0316\n",
            "Epoch 52/100\n",
            "9/9 [==============================] - 0s 17ms/step - loss: 0.0271 - accuracy: 0.9975 - val_loss: 0.2037 - val_accuracy: 0.9758 - lr: 0.0355\n",
            "Epoch 53/100\n",
            "9/9 [==============================] - 0s 18ms/step - loss: 0.0534 - accuracy: 0.9899 - val_loss: 0.1632 - val_accuracy: 0.9695 - lr: 0.0398\n",
            "Epoch 54/100\n",
            "9/9 [==============================] - 0s 18ms/step - loss: 1.4126 - accuracy: 0.8925 - val_loss: 2.0059 - val_accuracy: 0.8700 - lr: 0.0447\n",
            "Epoch 55/100\n",
            "9/9 [==============================] - 0s 18ms/step - loss: 2.0834 - accuracy: 0.8649 - val_loss: 2.0059 - val_accuracy: 0.8700 - lr: 0.0501\n",
            "Epoch 56/100\n",
            "9/9 [==============================] - 0s 20ms/step - loss: 2.0834 - accuracy: 0.8649 - val_loss: 2.0059 - val_accuracy: 0.8700 - lr: 0.0562\n",
            "Epoch 57/100\n",
            "9/9 [==============================] - 0s 17ms/step - loss: 2.0834 - accuracy: 0.8649 - val_loss: 2.0059 - val_accuracy: 0.8700 - lr: 0.0631\n",
            "Epoch 58/100\n",
            "9/9 [==============================] - 0s 19ms/step - loss: 2.0834 - accuracy: 0.8649 - val_loss: 2.0059 - val_accuracy: 0.8700 - lr: 0.0708\n",
            "Epoch 59/100\n",
            "9/9 [==============================] - 0s 18ms/step - loss: 2.0834 - accuracy: 0.8649 - val_loss: 2.0059 - val_accuracy: 0.8700 - lr: 0.0794\n",
            "Epoch 60/100\n",
            "9/9 [==============================] - 0s 20ms/step - loss: 2.0834 - accuracy: 0.8649 - val_loss: 2.0059 - val_accuracy: 0.8700 - lr: 0.0891\n",
            "Epoch 61/100\n",
            "9/9 [==============================] - 0s 19ms/step - loss: 2.0834 - accuracy: 0.8649 - val_loss: 2.0059 - val_accuracy: 0.8700 - lr: 0.1000\n",
            "Epoch 62/100\n",
            "9/9 [==============================] - 0s 21ms/step - loss: 2.0834 - accuracy: 0.8649 - val_loss: 2.0059 - val_accuracy: 0.8700 - lr: 0.1122\n",
            "Epoch 63/100\n",
            "9/9 [==============================] - 0s 20ms/step - loss: 2.0834 - accuracy: 0.8649 - val_loss: 2.0059 - val_accuracy: 0.8700 - lr: 0.1259\n",
            "Epoch 64/100\n",
            "9/9 [==============================] - 0s 19ms/step - loss: 2.0834 - accuracy: 0.8649 - val_loss: 2.0059 - val_accuracy: 0.8700 - lr: 0.1413\n",
            "Epoch 65/100\n",
            "9/9 [==============================] - 0s 18ms/step - loss: 2.0834 - accuracy: 0.8649 - val_loss: 2.0059 - val_accuracy: 0.8700 - lr: 0.1585\n",
            "Epoch 66/100\n",
            "9/9 [==============================] - 0s 19ms/step - loss: 2.0834 - accuracy: 0.8649 - val_loss: 2.0059 - val_accuracy: 0.8700 - lr: 0.1778\n",
            "Epoch 67/100\n",
            "9/9 [==============================] - 0s 20ms/step - loss: 2.0834 - accuracy: 0.8649 - val_loss: 2.0059 - val_accuracy: 0.8700 - lr: 0.1995\n",
            "Epoch 68/100\n",
            "9/9 [==============================] - 0s 20ms/step - loss: 2.0834 - accuracy: 0.8649 - val_loss: 2.0059 - val_accuracy: 0.8700 - lr: 0.2239\n",
            "Epoch 69/100\n",
            "9/9 [==============================] - 0s 18ms/step - loss: 2.0834 - accuracy: 0.8649 - val_loss: 2.0059 - val_accuracy: 0.8700 - lr: 0.2512\n",
            "Epoch 70/100\n",
            "9/9 [==============================] - 0s 18ms/step - loss: 2.0834 - accuracy: 0.8649 - val_loss: 2.0059 - val_accuracy: 0.8700 - lr: 0.2818\n",
            "Epoch 71/100\n",
            "9/9 [==============================] - 0s 18ms/step - loss: 2.0834 - accuracy: 0.8649 - val_loss: 2.0059 - val_accuracy: 0.8700 - lr: 0.3162\n",
            "Epoch 72/100\n",
            "9/9 [==============================] - 0s 20ms/step - loss: 2.0834 - accuracy: 0.8649 - val_loss: 2.0059 - val_accuracy: 0.8700 - lr: 0.3548\n",
            "Epoch 73/100\n",
            "9/9 [==============================] - 0s 19ms/step - loss: 2.0834 - accuracy: 0.8649 - val_loss: 2.0059 - val_accuracy: 0.8700 - lr: 0.3981\n",
            "Epoch 74/100\n",
            "9/9 [==============================] - 0s 22ms/step - loss: 2.0834 - accuracy: 0.8649 - val_loss: 2.0059 - val_accuracy: 0.8700 - lr: 0.4467\n",
            "Epoch 75/100\n",
            "9/9 [==============================] - 0s 20ms/step - loss: 2.0834 - accuracy: 0.8649 - val_loss: 2.0059 - val_accuracy: 0.8700 - lr: 0.5012\n",
            "Epoch 76/100\n",
            "9/9 [==============================] - 0s 20ms/step - loss: 2.0834 - accuracy: 0.8649 - val_loss: 2.0059 - val_accuracy: 0.8700 - lr: 0.5623\n",
            "Epoch 77/100\n",
            "9/9 [==============================] - 0s 20ms/step - loss: 2.0834 - accuracy: 0.8649 - val_loss: 2.0059 - val_accuracy: 0.8700 - lr: 0.6310\n",
            "Epoch 78/100\n",
            "9/9 [==============================] - 0s 20ms/step - loss: 2.0834 - accuracy: 0.8649 - val_loss: 2.0059 - val_accuracy: 0.8700 - lr: 0.7079\n",
            "Epoch 79/100\n",
            "9/9 [==============================] - 0s 17ms/step - loss: 2.0834 - accuracy: 0.8649 - val_loss: 2.0059 - val_accuracy: 0.8700 - lr: 0.7943\n",
            "Epoch 80/100\n",
            "9/9 [==============================] - 0s 21ms/step - loss: 2.0834 - accuracy: 0.8649 - val_loss: 2.0059 - val_accuracy: 0.8700 - lr: 0.8913\n",
            "Epoch 81/100\n",
            "9/9 [==============================] - 0s 20ms/step - loss: 2.0834 - accuracy: 0.8649 - val_loss: 2.0059 - val_accuracy: 0.8700 - lr: 1.0000\n",
            "Epoch 82/100\n",
            "9/9 [==============================] - 0s 18ms/step - loss: 2.0834 - accuracy: 0.8649 - val_loss: 2.0059 - val_accuracy: 0.8700 - lr: 1.1220\n",
            "Epoch 83/100\n",
            "9/9 [==============================] - 0s 19ms/step - loss: 2.0834 - accuracy: 0.8649 - val_loss: 2.0059 - val_accuracy: 0.8700 - lr: 1.2589\n",
            "Epoch 84/100\n",
            "9/9 [==============================] - 0s 27ms/step - loss: 2.0834 - accuracy: 0.8649 - val_loss: 2.0059 - val_accuracy: 0.8700 - lr: 1.4125\n",
            "Epoch 85/100\n",
            "9/9 [==============================] - 0s 38ms/step - loss: 2.0834 - accuracy: 0.8649 - val_loss: 2.0059 - val_accuracy: 0.8700 - lr: 1.5849\n",
            "Epoch 86/100\n",
            "9/9 [==============================] - 0s 19ms/step - loss: 2.0834 - accuracy: 0.8649 - val_loss: 2.0059 - val_accuracy: 0.8700 - lr: 1.7783\n",
            "Epoch 87/100\n",
            "9/9 [==============================] - 0s 26ms/step - loss: 2.0834 - accuracy: 0.8649 - val_loss: 2.0059 - val_accuracy: 0.8700 - lr: 1.9953\n",
            "Epoch 88/100\n",
            "9/9 [==============================] - 0s 31ms/step - loss: 2.0834 - accuracy: 0.8649 - val_loss: 2.0059 - val_accuracy: 0.8700 - lr: 2.2387\n",
            "Epoch 89/100\n",
            "9/9 [==============================] - 0s 33ms/step - loss: 2.0834 - accuracy: 0.8649 - val_loss: 2.0059 - val_accuracy: 0.8700 - lr: 2.5119\n",
            "Epoch 90/100\n",
            "9/9 [==============================] - 0s 37ms/step - loss: 2.0834 - accuracy: 0.8649 - val_loss: 2.0059 - val_accuracy: 0.8700 - lr: 2.8184\n",
            "Epoch 91/100\n",
            "9/9 [==============================] - 0s 31ms/step - loss: 2.0834 - accuracy: 0.8649 - val_loss: 2.0059 - val_accuracy: 0.8700 - lr: 3.1623\n",
            "Epoch 92/100\n",
            "9/9 [==============================] - 0s 48ms/step - loss: 2.0834 - accuracy: 0.8649 - val_loss: 2.0059 - val_accuracy: 0.8700 - lr: 3.5481\n",
            "Epoch 93/100\n",
            "9/9 [==============================] - 0s 45ms/step - loss: 2.0834 - accuracy: 0.8649 - val_loss: 2.0059 - val_accuracy: 0.8700 - lr: 3.9811\n",
            "Epoch 94/100\n",
            "9/9 [==============================] - 0s 47ms/step - loss: 2.0834 - accuracy: 0.8649 - val_loss: 2.0059 - val_accuracy: 0.8700 - lr: 4.4668\n",
            "Epoch 95/100\n",
            "9/9 [==============================] - 0s 49ms/step - loss: 2.0834 - accuracy: 0.8649 - val_loss: 2.0059 - val_accuracy: 0.8700 - lr: 5.0119\n",
            "Epoch 96/100\n",
            "9/9 [==============================] - 1s 60ms/step - loss: 2.0834 - accuracy: 0.8649 - val_loss: 2.0059 - val_accuracy: 0.8700 - lr: 5.6234\n",
            "Epoch 97/100\n",
            "9/9 [==============================] - 0s 55ms/step - loss: 2.0834 - accuracy: 0.8649 - val_loss: 2.0059 - val_accuracy: 0.8700 - lr: 6.3096\n",
            "Epoch 98/100\n",
            "9/9 [==============================] - 1s 60ms/step - loss: 2.0834 - accuracy: 0.8649 - val_loss: 2.0059 - val_accuracy: 0.8700 - lr: 7.0795\n",
            "Epoch 99/100\n",
            "9/9 [==============================] - 0s 49ms/step - loss: 2.0834 - accuracy: 0.8649 - val_loss: 2.0059 - val_accuracy: 0.8700 - lr: 7.9433\n",
            "Epoch 100/100\n",
            "9/9 [==============================] - 1s 67ms/step - loss: 2.0834 - accuracy: 0.8649 - val_loss: 2.0059 - val_accuracy: 0.8700 - lr: 8.9125\n"
          ]
        }
      ]
    },
    {
      "cell_type": "code",
      "source": [
        "\n",
        "pd.DataFrame(hist.history).plot()\n",
        "plt.title('Model2 Graph')\n",
        "plt.xlabel('Epochs')\n",
        "plt.ylabel('Learning Rate')"
      ],
      "metadata": {
        "colab": {
          "base_uri": "https://localhost:8080/",
          "height": 490
        },
        "id": "jnq2cyVg1yr0",
        "outputId": "320060bf-7bba-430c-dc71-4b917fa4e914"
      },
      "execution_count": 43,
      "outputs": [
        {
          "output_type": "execute_result",
          "data": {
            "text/plain": [
              "Text(0, 0.5, 'Learning Rate')"
            ]
          },
          "metadata": {},
          "execution_count": 43
        },
        {
          "output_type": "display_data",
          "data": {
            "text/plain": [
              "<Figure size 640x480 with 1 Axes>"
            ],
            "image/png": "[encoded data removed]"
          },
          "metadata": {}
        }
      ]
    },
    {
      "cell_type": "code",
      "source": [
        "model2.evaluate(testing_padded,testing_labels_final)"
      ],
      "metadata": {
        "colab": {
          "base_uri": "https://localhost:8080/"
        },
        "id": "lj67Cuez1zeB",
        "outputId": "383bbb64-8d62-42db-d37b-77a83c365153"
      },
      "execution_count": 26,
      "outputs": [
        {
          "output_type": "stream",
          "name": "stdout",
          "text": [
            "35/35 [==============================] - 0s 8ms/step - loss: 2.0059 - accuracy: 0.8700\n"
          ]
        },
        {
          "output_type": "execute_result",
          "data": {
            "text/plain": [
              "[2.0059351921081543, 0.8699551820755005]"
            ]
          },
          "metadata": {},
          "execution_count": 26
        }
      ]
    },
    {
      "cell_type": "code",
      "source": [
        "# plot loss vs lr\n",
        "lr = 1e-4*(10**(tf.range(100)/20))\n",
        "plt.semilogx(lr,hist.history['loss'])\n",
        "plt.title('ideal lr is 1e-2/10**-2 ')\n",
        "plt.xlabel('Learning Rate')\n",
        "plt.ylabel('Loss')\n",
        "plt.show()\n"
      ],
      "metadata": {
        "id": "gxGcl3i11zoR",
        "colab": {
          "base_uri": "https://localhost:8080/",
          "height": 476
        },
        "outputId": "5e304cc8-76cd-4e7f-d131-5a69dbcad4ab"
      },
      "execution_count": 27,
      "outputs": [
        {
          "output_type": "display_data",
          "data": {
            "text/plain": [
              "<Figure size 640x480 with 1 Axes>"
            ],
            "image/png": "[encoded data removed]"
          },
          "metadata": {}
        }
      ]
    },
    {
      "cell_type": "code",
      "source": [
        "\n",
        "# Set lr = 0.01\n",
        "model3 = tf.keras.Sequential([\n",
        "    tf.keras.layers.Embedding(vocab_size,embedding_dim,input_length=max_length),\n",
        "    tf.keras.layers.Flatten(),\n",
        "    tf.keras.layers.Dense(20,activation='relu'),\n",
        "    tf.keras.layers.Dense(10,activation= 'relu'),\n",
        "    tf.keras.layers.Dense(1,activation= 'sigmoid')\n",
        "])\n",
        "\n",
        "model3.compile(loss='binary_crossentropy',metrics=['accuracy'],\n",
        "              optimizer=tf.keras.optimizers.Adam(learning_rate=0.01))\n",
        "model3.fit(padded,training_labels_final,batch_size=128,epochs=100,\n",
        "           validation_data=(testing_padded,testing_labels_final))\n"
      ],
      "metadata": {
        "colab": {
          "base_uri": "https://localhost:8080/"
        },
        "id": "fDc0uLrmNrDB",
        "outputId": "1b1d6e27-1414-4ad5-c505-a7b2af263373"
      },
      "execution_count": 28,
      "outputs": [
        {
          "output_type": "stream",
          "name": "stdout",
          "text": [
            "Epoch 1/100\n",
            "35/35 [==============================] - 4s 33ms/step - loss: 0.2500 - accuracy: 0.8928 - val_loss: 0.1089 - val_accuracy: 0.9812\n",
            "Epoch 2/100\n",
            "35/35 [==============================] - 1s 20ms/step - loss: 0.0518 - accuracy: 0.9870 - val_loss: 0.0500 - val_accuracy: 0.9857\n",
            "Epoch 3/100\n",
            "35/35 [==============================] - 1s 16ms/step - loss: 0.0193 - accuracy: 0.9951 - val_loss: 0.0525 - val_accuracy: 0.9865\n",
            "Epoch 4/100\n",
            "35/35 [==============================] - 0s 14ms/step - loss: 0.0166 - accuracy: 0.9951 - val_loss: 0.0623 - val_accuracy: 0.9857\n",
            "Epoch 5/100\n",
            "35/35 [==============================] - 1s 16ms/step - loss: 0.0106 - accuracy: 0.9984 - val_loss: 0.0617 - val_accuracy: 0.9865\n",
            "Epoch 6/100\n",
            "35/35 [==============================] - 0s 13ms/step - loss: 0.0070 - accuracy: 0.9980 - val_loss: 0.0666 - val_accuracy: 0.9857\n",
            "Epoch 7/100\n",
            "35/35 [==============================] - 0s 10ms/step - loss: 0.0066 - accuracy: 0.9987 - val_loss: 0.1006 - val_accuracy: 0.9830\n",
            "Epoch 8/100\n",
            "35/35 [==============================] - 0s 8ms/step - loss: 0.0053 - accuracy: 0.9984 - val_loss: 0.0896 - val_accuracy: 0.9865\n",
            "Epoch 9/100\n",
            "35/35 [==============================] - 0s 7ms/step - loss: 0.0028 - accuracy: 0.9991 - val_loss: 0.0999 - val_accuracy: 0.9758\n",
            "Epoch 10/100\n",
            "35/35 [==============================] - 0s 12ms/step - loss: 0.0021 - accuracy: 0.9996 - val_loss: 0.1068 - val_accuracy: 0.9794\n",
            "Epoch 11/100\n",
            "35/35 [==============================] - 0s 14ms/step - loss: 0.0037 - accuracy: 0.9989 - val_loss: 0.1060 - val_accuracy: 0.9848\n",
            "Epoch 12/100\n",
            "35/35 [==============================] - 0s 11ms/step - loss: 0.0020 - accuracy: 0.9991 - val_loss: 0.1155 - val_accuracy: 0.9857\n",
            "Epoch 13/100\n",
            "35/35 [==============================] - 0s 13ms/step - loss: 0.0018 - accuracy: 0.9993 - val_loss: 0.1165 - val_accuracy: 0.9848\n",
            "Epoch 14/100\n",
            "35/35 [==============================] - 0s 13ms/step - loss: 0.0023 - accuracy: 0.9987 - val_loss: 0.1156 - val_accuracy: 0.9848\n",
            "Epoch 15/100\n",
            "35/35 [==============================] - 0s 13ms/step - loss: 0.0017 - accuracy: 0.9987 - val_loss: 0.1160 - val_accuracy: 0.9865\n",
            "Epoch 16/100\n",
            "35/35 [==============================] - 0s 11ms/step - loss: 0.0024 - accuracy: 0.9989 - val_loss: 0.1123 - val_accuracy: 0.9848\n",
            "Epoch 17/100\n",
            "35/35 [==============================] - 0s 12ms/step - loss: 0.0017 - accuracy: 0.9991 - val_loss: 0.1199 - val_accuracy: 0.9848\n",
            "Epoch 18/100\n",
            "35/35 [==============================] - 0s 13ms/step - loss: 0.0018 - accuracy: 0.9987 - val_loss: 0.1218 - val_accuracy: 0.9857\n",
            "Epoch 19/100\n",
            "35/35 [==============================] - 0s 12ms/step - loss: 0.0015 - accuracy: 0.9991 - val_loss: 0.1300 - val_accuracy: 0.9857\n",
            "Epoch 20/100\n",
            "35/35 [==============================] - 0s 10ms/step - loss: 0.0017 - accuracy: 0.9987 - val_loss: 0.1258 - val_accuracy: 0.9848\n",
            "Epoch 21/100\n",
            "35/35 [==============================] - 0s 8ms/step - loss: 0.0016 - accuracy: 0.9987 - val_loss: 0.1217 - val_accuracy: 0.9821\n",
            "Epoch 22/100\n",
            "35/35 [==============================] - 0s 7ms/step - loss: 0.0016 - accuracy: 0.9993 - val_loss: 0.1351 - val_accuracy: 0.9865\n",
            "Epoch 23/100\n",
            "35/35 [==============================] - 0s 6ms/step - loss: 0.0024 - accuracy: 0.9987 - val_loss: 0.1045 - val_accuracy: 0.9794\n",
            "Epoch 24/100\n",
            "35/35 [==============================] - 0s 7ms/step - loss: 0.0029 - accuracy: 0.9987 - val_loss: 0.1302 - val_accuracy: 0.9803\n",
            "Epoch 25/100\n",
            "35/35 [==============================] - 0s 7ms/step - loss: 0.0135 - accuracy: 0.9953 - val_loss: 0.3127 - val_accuracy: 0.9749\n",
            "Epoch 26/100\n",
            "35/35 [==============================] - 0s 7ms/step - loss: 0.0203 - accuracy: 0.9955 - val_loss: 0.1458 - val_accuracy: 0.9821\n",
            "Epoch 27/100\n",
            "35/35 [==============================] - 0s 7ms/step - loss: 0.0085 - accuracy: 0.9980 - val_loss: 0.1396 - val_accuracy: 0.9731\n",
            "Epoch 28/100\n",
            "35/35 [==============================] - 0s 8ms/step - loss: 0.0029 - accuracy: 0.9989 - val_loss: 0.1529 - val_accuracy: 0.9812\n",
            "Epoch 29/100\n",
            "35/35 [==============================] - 0s 7ms/step - loss: 0.0046 - accuracy: 0.9987 - val_loss: 0.1752 - val_accuracy: 0.9839\n",
            "Epoch 30/100\n",
            "35/35 [==============================] - 0s 7ms/step - loss: 0.0023 - accuracy: 0.9993 - val_loss: 0.1418 - val_accuracy: 0.9758\n",
            "Epoch 31/100\n",
            "35/35 [==============================] - 0s 7ms/step - loss: 0.0052 - accuracy: 0.9987 - val_loss: 0.1288 - val_accuracy: 0.9848\n",
            "Epoch 32/100\n",
            "35/35 [==============================] - 0s 7ms/step - loss: 0.0030 - accuracy: 0.9989 - val_loss: 0.1129 - val_accuracy: 0.9839\n",
            "Epoch 33/100\n",
            "35/35 [==============================] - 0s 7ms/step - loss: 0.0028 - accuracy: 0.9982 - val_loss: 0.1137 - val_accuracy: 0.9812\n",
            "Epoch 34/100\n",
            "35/35 [==============================] - 0s 7ms/step - loss: 0.0020 - accuracy: 0.9991 - val_loss: 0.1106 - val_accuracy: 0.9794\n",
            "Epoch 35/100\n",
            "35/35 [==============================] - 0s 6ms/step - loss: 0.0016 - accuracy: 0.9989 - val_loss: 0.1224 - val_accuracy: 0.9821\n",
            "Epoch 36/100\n",
            "35/35 [==============================] - 0s 6ms/step - loss: 0.0018 - accuracy: 0.9987 - val_loss: 0.1241 - val_accuracy: 0.9785\n",
            "Epoch 37/100\n",
            "35/35 [==============================] - 0s 7ms/step - loss: 0.0016 - accuracy: 0.9989 - val_loss: 0.1266 - val_accuracy: 0.9803\n",
            "Epoch 38/100\n",
            "35/35 [==============================] - 0s 7ms/step - loss: 0.0016 - accuracy: 0.9987 - val_loss: 0.1310 - val_accuracy: 0.9812\n",
            "Epoch 39/100\n",
            "35/35 [==============================] - 0s 6ms/step - loss: 0.0015 - accuracy: 0.9987 - val_loss: 0.1328 - val_accuracy: 0.9812\n",
            "Epoch 40/100\n",
            "35/35 [==============================] - 0s 8ms/step - loss: 0.0016 - accuracy: 0.9984 - val_loss: 0.1323 - val_accuracy: 0.9812\n",
            "Epoch 41/100\n",
            "35/35 [==============================] - 0s 7ms/step - loss: 0.0016 - accuracy: 0.9991 - val_loss: 0.1333 - val_accuracy: 0.9767\n",
            "Epoch 42/100\n",
            "35/35 [==============================] - 0s 7ms/step - loss: 0.0017 - accuracy: 0.9987 - val_loss: 0.1378 - val_accuracy: 0.9821\n",
            "Epoch 43/100\n",
            "35/35 [==============================] - 0s 8ms/step - loss: 0.0019 - accuracy: 0.9991 - val_loss: 0.1345 - val_accuracy: 0.9785\n",
            "Epoch 44/100\n",
            "35/35 [==============================] - 0s 7ms/step - loss: 0.0018 - accuracy: 0.9987 - val_loss: 0.1420 - val_accuracy: 0.9821\n",
            "Epoch 45/100\n",
            "35/35 [==============================] - 0s 7ms/step - loss: 0.0015 - accuracy: 0.9991 - val_loss: 0.1485 - val_accuracy: 0.9803\n",
            "Epoch 46/100\n",
            "35/35 [==============================] - 0s 7ms/step - loss: 0.0015 - accuracy: 0.9989 - val_loss: 0.1528 - val_accuracy: 0.9803\n",
            "Epoch 47/100\n",
            "35/35 [==============================] - 0s 6ms/step - loss: 0.0014 - accuracy: 0.9991 - val_loss: 0.1521 - val_accuracy: 0.9794\n",
            "Epoch 48/100\n",
            "35/35 [==============================] - 0s 7ms/step - loss: 0.0015 - accuracy: 0.9991 - val_loss: 0.1504 - val_accuracy: 0.9803\n",
            "Epoch 49/100\n",
            "35/35 [==============================] - 0s 7ms/step - loss: 0.0014 - accuracy: 0.9987 - val_loss: 0.1545 - val_accuracy: 0.9812\n",
            "Epoch 50/100\n",
            "35/35 [==============================] - 0s 7ms/step - loss: 0.0015 - accuracy: 0.9991 - val_loss: 0.1604 - val_accuracy: 0.9812\n",
            "Epoch 51/100\n",
            "35/35 [==============================] - 0s 6ms/step - loss: 0.0021 - accuracy: 0.9989 - val_loss: 0.1512 - val_accuracy: 0.9776\n",
            "Epoch 52/100\n",
            "35/35 [==============================] - 0s 8ms/step - loss: 0.0016 - accuracy: 0.9991 - val_loss: 0.1577 - val_accuracy: 0.9812\n",
            "Epoch 53/100\n",
            "35/35 [==============================] - 0s 7ms/step - loss: 0.0015 - accuracy: 0.9991 - val_loss: 0.1646 - val_accuracy: 0.9812\n",
            "Epoch 54/100\n",
            "35/35 [==============================] - 0s 7ms/step - loss: 0.0014 - accuracy: 0.9991 - val_loss: 0.1687 - val_accuracy: 0.9803\n",
            "Epoch 55/100\n",
            "35/35 [==============================] - 0s 7ms/step - loss: 0.0015 - accuracy: 0.9989 - val_loss: 0.1734 - val_accuracy: 0.9776\n",
            "Epoch 56/100\n",
            "35/35 [==============================] - 0s 7ms/step - loss: 0.0019 - accuracy: 0.9989 - val_loss: 0.1694 - val_accuracy: 0.9794\n",
            "Epoch 57/100\n",
            "35/35 [==============================] - 0s 7ms/step - loss: 0.0015 - accuracy: 0.9991 - val_loss: 0.1795 - val_accuracy: 0.9803\n",
            "Epoch 58/100\n",
            "35/35 [==============================] - 0s 7ms/step - loss: 0.0014 - accuracy: 0.9991 - val_loss: 0.1756 - val_accuracy: 0.9794\n",
            "Epoch 59/100\n",
            "35/35 [==============================] - 0s 8ms/step - loss: 0.0015 - accuracy: 0.9989 - val_loss: 0.1808 - val_accuracy: 0.9803\n",
            "Epoch 60/100\n",
            "35/35 [==============================] - 0s 11ms/step - loss: 0.0014 - accuracy: 0.9991 - val_loss: 0.1771 - val_accuracy: 0.9812\n",
            "Epoch 61/100\n",
            "35/35 [==============================] - 0s 12ms/step - loss: 0.0014 - accuracy: 0.9991 - val_loss: 0.1819 - val_accuracy: 0.9803\n",
            "Epoch 62/100\n",
            "35/35 [==============================] - 0s 12ms/step - loss: 0.0016 - accuracy: 0.9991 - val_loss: 0.1829 - val_accuracy: 0.9803\n",
            "Epoch 63/100\n",
            "35/35 [==============================] - 0s 11ms/step - loss: 0.0014 - accuracy: 0.9993 - val_loss: 0.1819 - val_accuracy: 0.9812\n",
            "Epoch 64/100\n",
            "35/35 [==============================] - 0s 11ms/step - loss: 0.0014 - accuracy: 0.9991 - val_loss: 0.1855 - val_accuracy: 0.9794\n",
            "Epoch 65/100\n",
            "35/35 [==============================] - 0s 13ms/step - loss: 0.0014 - accuracy: 0.9991 - val_loss: 0.1964 - val_accuracy: 0.9776\n",
            "Epoch 66/100\n",
            "35/35 [==============================] - 0s 13ms/step - loss: 0.0015 - accuracy: 0.9989 - val_loss: 0.1806 - val_accuracy: 0.9776\n",
            "Epoch 67/100\n",
            "35/35 [==============================] - 0s 12ms/step - loss: 0.0014 - accuracy: 0.9984 - val_loss: 0.1872 - val_accuracy: 0.9803\n",
            "Epoch 68/100\n",
            "35/35 [==============================] - 0s 11ms/step - loss: 0.0013 - accuracy: 0.9987 - val_loss: 0.1908 - val_accuracy: 0.9803\n",
            "Epoch 69/100\n",
            "35/35 [==============================] - 0s 11ms/step - loss: 0.0014 - accuracy: 0.9989 - val_loss: 0.1943 - val_accuracy: 0.9776\n",
            "Epoch 70/100\n",
            "35/35 [==============================] - 0s 12ms/step - loss: 0.0014 - accuracy: 0.9984 - val_loss: 0.1966 - val_accuracy: 0.9776\n",
            "Epoch 71/100\n",
            "35/35 [==============================] - 0s 7ms/step - loss: 0.0013 - accuracy: 0.9991 - val_loss: 0.1982 - val_accuracy: 0.9785\n",
            "Epoch 72/100\n",
            "35/35 [==============================] - 0s 7ms/step - loss: 0.0014 - accuracy: 0.9991 - val_loss: 0.2027 - val_accuracy: 0.9785\n",
            "Epoch 73/100\n",
            "35/35 [==============================] - 0s 7ms/step - loss: 0.0015 - accuracy: 0.9987 - val_loss: 0.2026 - val_accuracy: 0.9785\n",
            "Epoch 74/100\n",
            "35/35 [==============================] - 0s 7ms/step - loss: 0.0013 - accuracy: 0.9993 - val_loss: 0.2005 - val_accuracy: 0.9767\n",
            "Epoch 75/100\n",
            "35/35 [==============================] - 0s 9ms/step - loss: 0.0016 - accuracy: 0.9987 - val_loss: 0.2105 - val_accuracy: 0.9776\n",
            "Epoch 76/100\n",
            "35/35 [==============================] - 0s 7ms/step - loss: 0.0014 - accuracy: 0.9987 - val_loss: 0.2143 - val_accuracy: 0.9767\n",
            "Epoch 77/100\n",
            "35/35 [==============================] - 0s 8ms/step - loss: 0.0013 - accuracy: 0.9991 - val_loss: 0.2158 - val_accuracy: 0.9758\n",
            "Epoch 78/100\n",
            "35/35 [==============================] - 0s 8ms/step - loss: 0.0013 - accuracy: 0.9989 - val_loss: 0.2110 - val_accuracy: 0.9803\n",
            "Epoch 79/100\n",
            "35/35 [==============================] - 0s 9ms/step - loss: 0.0013 - accuracy: 0.9991 - val_loss: 0.2115 - val_accuracy: 0.9785\n",
            "Epoch 80/100\n",
            "35/35 [==============================] - 0s 9ms/step - loss: 0.0014 - accuracy: 0.9989 - val_loss: 0.2188 - val_accuracy: 0.9767\n",
            "Epoch 81/100\n",
            "35/35 [==============================] - 0s 7ms/step - loss: 0.0013 - accuracy: 0.9989 - val_loss: 0.2167 - val_accuracy: 0.9785\n",
            "Epoch 82/100\n",
            "35/35 [==============================] - 0s 8ms/step - loss: 0.0013 - accuracy: 0.9989 - val_loss: 0.2206 - val_accuracy: 0.9785\n",
            "Epoch 83/100\n",
            "35/35 [==============================] - 0s 9ms/step - loss: 0.0014 - accuracy: 0.9989 - val_loss: 0.2222 - val_accuracy: 0.9785\n",
            "Epoch 84/100\n",
            "35/35 [==============================] - 0s 9ms/step - loss: 0.0013 - accuracy: 0.9991 - val_loss: 0.2055 - val_accuracy: 0.9785\n",
            "Epoch 85/100\n",
            "35/35 [==============================] - 0s 7ms/step - loss: 0.0014 - accuracy: 0.9987 - val_loss: 0.2142 - val_accuracy: 0.9785\n",
            "Epoch 86/100\n",
            "35/35 [==============================] - 0s 8ms/step - loss: 0.0014 - accuracy: 0.9991 - val_loss: 0.2146 - val_accuracy: 0.9785\n",
            "Epoch 87/100\n",
            "35/35 [==============================] - 0s 7ms/step - loss: 0.0013 - accuracy: 0.9991 - val_loss: 0.2224 - val_accuracy: 0.9758\n",
            "Epoch 88/100\n",
            "35/35 [==============================] - 0s 7ms/step - loss: 0.0014 - accuracy: 0.9991 - val_loss: 0.2262 - val_accuracy: 0.9776\n",
            "Epoch 89/100\n",
            "35/35 [==============================] - 0s 7ms/step - loss: 0.0013 - accuracy: 0.9987 - val_loss: 0.2255 - val_accuracy: 0.9776\n",
            "Epoch 90/100\n",
            "35/35 [==============================] - 0s 7ms/step - loss: 0.0014 - accuracy: 0.9987 - val_loss: 0.2312 - val_accuracy: 0.9776\n",
            "Epoch 91/100\n",
            "35/35 [==============================] - 0s 7ms/step - loss: 0.0013 - accuracy: 0.9984 - val_loss: 0.2292 - val_accuracy: 0.9776\n",
            "Epoch 92/100\n",
            "35/35 [==============================] - 0s 6ms/step - loss: 0.0014 - accuracy: 0.9987 - val_loss: 0.2328 - val_accuracy: 0.9776\n",
            "Epoch 93/100\n",
            "35/35 [==============================] - 0s 7ms/step - loss: 0.0015 - accuracy: 0.9991 - val_loss: 0.2333 - val_accuracy: 0.9758\n",
            "Epoch 94/100\n",
            "35/35 [==============================] - 0s 9ms/step - loss: 0.0015 - accuracy: 0.9991 - val_loss: 0.2521 - val_accuracy: 0.9749\n",
            "Epoch 95/100\n",
            "35/35 [==============================] - 0s 8ms/step - loss: 0.0015 - accuracy: 0.9987 - val_loss: 0.2068 - val_accuracy: 0.9767\n",
            "Epoch 96/100\n",
            "35/35 [==============================] - 0s 7ms/step - loss: 0.0014 - accuracy: 0.9987 - val_loss: 0.2092 - val_accuracy: 0.9803\n",
            "Epoch 97/100\n",
            "35/35 [==============================] - 0s 8ms/step - loss: 0.0013 - accuracy: 0.9991 - val_loss: 0.2235 - val_accuracy: 0.9803\n",
            "Epoch 98/100\n",
            "35/35 [==============================] - 0s 7ms/step - loss: 0.0014 - accuracy: 0.9991 - val_loss: 0.2412 - val_accuracy: 0.9803\n",
            "Epoch 99/100\n",
            "35/35 [==============================] - 0s 8ms/step - loss: 0.0013 - accuracy: 0.9993 - val_loss: 0.2487 - val_accuracy: 0.9758\n",
            "Epoch 100/100\n",
            "35/35 [==============================] - 0s 7ms/step - loss: 0.0013 - accuracy: 0.9987 - val_loss: 0.2555 - val_accuracy: 0.9749\n"
          ]
        },
        {
          "output_type": "execute_result",
          "data": {
            "text/plain": [
              "<keras.callbacks.History at 0x7f3b6d6f9180>"
            ]
          },
          "metadata": {},
          "execution_count": 28
        }
      ]
    },
    {
      "cell_type": "code",
      "source": [
        "import random\n",
        "ans=model3.predict(testing_padded,batch_size=128)\n",
        "def Sample_Ans(num_sample=5):\n",
        "  for i in range(num_sample):\n",
        "    i=random.randrange(int(len(testing_padded)))\n",
        "    print(f'''\n",
        "\n",
        "      Prediction:{int(ans[i])},\n",
        "      Sentence: {testing_sentences[i]},\n",
        "      label:{testing_labels_final[i]}\n",
        "\n",
        "        ''')\n"
      ],
      "metadata": {
        "colab": {
          "base_uri": "https://localhost:8080/"
        },
        "id": "p0mGL5zoAAZb",
        "outputId": "b2defc81-cc67-4ad5-ce1a-12681bf34b4c"
      },
      "execution_count": 29,
      "outputs": [
        {
          "output_type": "stream",
          "name": "stdout",
          "text": [
            "9/9 [==============================] - 0s 3ms/step\n"
          ]
        }
      ]
    },
    {
      "cell_type": "code",
      "source": [
        "model3.evaluate(testing_padded,testing_labels_final)"
      ],
      "metadata": {
        "colab": {
          "base_uri": "https://localhost:8080/"
        },
        "id": "KJT07uqdYmlg",
        "outputId": "78cc76a4-5aa4-4ecd-f5a2-9ebab0fa8096"
      },
      "execution_count": 30,
      "outputs": [
        {
          "output_type": "stream",
          "name": "stdout",
          "text": [
            "35/35 [==============================] - 0s 2ms/step - loss: 0.2555 - accuracy: 0.9749\n"
          ]
        },
        {
          "output_type": "execute_result",
          "data": {
            "text/plain": [
              "[0.2555007040500641, 0.9748879075050354]"
            ]
          },
          "metadata": {},
          "execution_count": 30
        }
      ]
    },
    {
      "cell_type": "code",
      "source": [
        "Sample_Ans()"
      ],
      "metadata": {
        "id": "EoPL95GrAEYJ",
        "colab": {
          "base_uri": "https://localhost:8080/"
        },
        "outputId": "f0cffc54-60c4-470d-8c49-767390a58fe8"
      },
      "execution_count": 31,
      "outputs": [
        {
          "output_type": "stream",
          "name": "stdout",
          "text": [
            "\n",
            "\n",
            "      Prediction:0,\n",
            "      Sentence: Don no da:)whats you plan?,\n",
            "      label:0\n",
            "\n",
            "        \n",
            "\n",
            "\n",
            "      Prediction:0,\n",
            "      Sentence: Ummmmmaah Many many happy returns of d day my dear sweet heart.. HAPPY BIRTHDAY dear,\n",
            "      label:0\n",
            "\n",
            "        \n",
            "\n",
            "\n",
            "      Prediction:0,\n",
            "      Sentence: Sorry i missed your call. Can you please call back.,\n",
            "      label:0\n",
            "\n",
            "        \n",
            "\n",
            "\n",
            "      Prediction:0,\n",
            "      Sentence: I bought the test yesterday. Its something that lets you know the exact day u ovulate.when will get 2u in about 2 to 3wks. But pls pls dont fret. I know u r worried. Pls relax. Also is there anything in ur past history u need to tell me?,\n",
            "      label:0\n",
            "\n",
            "        \n",
            "\n",
            "\n",
            "      Prediction:0,\n",
            "      Sentence: The guy at the car shop who was flirting with me got my phone number from the paperwork and called and texted me. I'm nervous because of course now he may have my address. Should i call his boss and tell him, knowing this may get him fired?,\n",
            "      label:0\n",
            "\n",
            "        \n"
          ]
        }
      ]
    }
  ]
}