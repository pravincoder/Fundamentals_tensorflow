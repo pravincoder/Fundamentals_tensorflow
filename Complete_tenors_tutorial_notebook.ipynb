{
  "metadata": {
    "kernelspec": {
      "language": "python",
      "display_name": "Python 3",
      "name": "python3"
    },
    "language_info": {
      "name": "python",
      "version": "3.7.12",
      "mimetype": "text/x-python",
      "codemirror_mode": {
        "name": "ipython",
        "version": 3
      },
      "pygments_lexer": "ipython3",
      "nbconvert_exporter": "python",
      "file_extension": ".py"
    },
    "colab": {
      "provenance": [],
      "include_colab_link": true
    }
  },
  "nbformat_minor": 0,
  "nbformat": 4,
  "cells": [
    {
      "cell_type": "markdown",
      "metadata": {
        "id": "view-in-github",
        "colab_type": "text"
      },
      "source": [
        "<a href=\"https://colab.research.google.com/github/pravincoder/Fundamentals_tensorflow/blob/main/Complete_tenors_tutorial_notebook.ipynb\" target=\"_parent\"><img src=\"https://colab.research.google.com/assets/colab-badge.svg\" alt=\"Open In Colab\"/></a>"
      ]
    },
    {
      "cell_type": "code",
      "source": [
        "# This Python 3 environment comes with many helpful analytics libraries installed\n",
        "\n",
        "# For example, here's several helpful packages to load\n",
        "\n",
        "import numpy as np # linear algebra\n",
        "import pandas as pd # data processing, CSV file I/O (e.g. pd.read_csv)\n",
        "\n",
        "# Input data files are available in the read-only \"../input/\" directory\n",
        "# For example, running this (by clicking run or pressing Shift+Enter) will list all files under the input directory\n",
        "import tensorflow as tf\n",
        "\n",
        "\n"
      ],
      "metadata": {
        "_uuid": "8f2839f25d086af736a60e9eeb907d3b93b6e0e5",
        "_cell_guid": "b1076dfc-b9ad-4769-8c92-a6c4dae69d19",
        "execution": {
          "iopub.status.busy": "2023-03-18T06:04:06.261831Z",
          "iopub.execute_input": "2023-03-18T06:04:06.263189Z",
          "iopub.status.idle": "2023-03-18T06:04:06.270816Z",
          "shell.execute_reply.started": "2023-03-18T06:04:06.263138Z",
          "shell.execute_reply": "2023-03-18T06:04:06.269554Z"
        },
        "trusted": true,
        "id": "_7MblnYJO_CI"
      },
      "execution_count": 1,
      "outputs": []
    },
    {
      "cell_type": "markdown",
      "source": [
        "# **TensorFlow and Deep Learning Fundamentals(Zero to Hero)**\n",
        "\n",
        "# **Part 1 - Tensor's**"
      ],
      "metadata": {
        "id": "ftSGnsbSO_CJ"
      }
    },
    {
      "cell_type": "markdown",
      "source": [
        "# **Step 1**:- Creating our first tensors with TensorFlow\n",
        "\n",
        "**What is tensor in simple words?**\n",
        "\n",
        "**Tensors are simply mathematical objects that can be used to describe physical properties, just like scalars and vectors. In fact tensors are merely a generalisation of scalars and vectors; a scalar is a zero rank tensor, and a vector is a first rank tensor.**\n",
        "\n",
        "![Tensor](https://upload.wikimedia.org/wikipedia/commons/thumb/4/45/Components_stress_tensor.svg/1200px-Components_stress_tensor.svg.png)"
      ],
      "metadata": {
        "id": "JEbuaH7GO_CK"
      }
    },
    {
      "cell_type": "code",
      "source": [
        "#Tensor (Variable & Constant)\n",
        "changeable_tensor = tf.Variable([5,5])\n",
        "unchangeable_tensor=tf.constant([5,5])\n",
        "changeable_tensor,unchangeable_tensor"
      ],
      "metadata": {
        "execution": {
          "iopub.status.busy": "2023-03-18T06:04:06.272950Z",
          "iopub.execute_input": "2023-03-18T06:04:06.273740Z",
          "iopub.status.idle": "2023-03-18T06:04:06.293523Z",
          "shell.execute_reply.started": "2023-03-18T06:04:06.273697Z",
          "shell.execute_reply": "2023-03-18T06:04:06.292163Z"
        },
        "trusted": true,
        "colab": {
          "base_uri": "https://localhost:8080/"
        },
        "id": "HxJkChEiO_CL",
        "outputId": "f71b348c-c6a4-4e2b-e821-0c2298f13754"
      },
      "execution_count": 2,
      "outputs": [
        {
          "output_type": "execute_result",
          "data": {
            "text/plain": [
              "(<tf.Variable 'Variable:0' shape=(2,) dtype=int32, numpy=array([5, 5], dtype=int32)>,\n",
              " <tf.Tensor: shape=(2,), dtype=int32, numpy=array([5, 5], dtype=int32)>)"
            ]
          },
          "metadata": {},
          "execution_count": 2
        }
      ]
    },
    {
      "cell_type": "code",
      "source": [
        "# Try changing one element in 'changeable_tensor'\n",
        "changeable_tensor[1].assign(7)\n",
        "# changeable_tensor[0]=7 (error)\n"
      ],
      "metadata": {
        "execution": {
          "iopub.status.busy": "2023-03-18T06:04:06.295366Z",
          "iopub.execute_input": "2023-03-18T06:04:06.295962Z",
          "iopub.status.idle": "2023-03-18T06:04:06.325730Z",
          "shell.execute_reply.started": "2023-03-18T06:04:06.295923Z",
          "shell.execute_reply": "2023-03-18T06:04:06.324665Z"
        },
        "trusted": true,
        "colab": {
          "base_uri": "https://localhost:8080/"
        },
        "id": "Eln1XpTYO_CM",
        "outputId": "770ce225-ca6e-4d26-d7e3-8cc9b3f4fdd1"
      },
      "execution_count": 3,
      "outputs": [
        {
          "output_type": "execute_result",
          "data": {
            "text/plain": [
              "<tf.Variable 'UnreadVariable' shape=(2,) dtype=int32, numpy=array([5, 7], dtype=int32)>"
            ]
          },
          "metadata": {},
          "execution_count": 3
        }
      ]
    },
    {
      "cell_type": "markdown",
      "source": [
        "# **Step 2:-** Creating Random Tensor\n",
        "\n",
        "**Random tensor are tensor of some arbitary size which contain random number"
      ],
      "metadata": {
        "id": "kRG5ILQOO_CM"
      }
    },
    {
      "cell_type": "code",
      "source": [
        "# Random Tensor\n",
        "random_1 = tf.random.Generator.from_seed(42) # Set seed for reproducibility\n",
        "random_1 = random_1.uniform(shape=(3,2))\n",
        "random_2 = tf.random.Generator.from_seed(42)\n",
        "random_2=random_2.uniform(shape=(3,2))\n",
        "random_1,random_2, random_1==random_2"
      ],
      "metadata": {
        "execution": {
          "iopub.status.busy": "2023-03-18T06:04:06.328727Z",
          "iopub.execute_input": "2023-03-18T06:04:06.329110Z",
          "iopub.status.idle": "2023-03-18T06:04:06.424808Z",
          "shell.execute_reply.started": "2023-03-18T06:04:06.329074Z",
          "shell.execute_reply": "2023-03-18T06:04:06.423530Z"
        },
        "trusted": true,
        "colab": {
          "base_uri": "https://localhost:8080/"
        },
        "id": "6JvyEHAXO_CM",
        "outputId": "fc00189a-a18e-454a-b844-7a2dea0fd256"
      },
      "execution_count": 4,
      "outputs": [
        {
          "output_type": "execute_result",
          "data": {
            "text/plain": [
              "(<tf.Tensor: shape=(3, 2), dtype=float32, numpy=\n",
              " array([[0.7493447 , 0.73561966],\n",
              "        [0.45230794, 0.49039817],\n",
              "        [0.1889317 , 0.52027524]], dtype=float32)>,\n",
              " <tf.Tensor: shape=(3, 2), dtype=float32, numpy=\n",
              " array([[0.7493447 , 0.73561966],\n",
              "        [0.45230794, 0.49039817],\n",
              "        [0.1889317 , 0.52027524]], dtype=float32)>,\n",
              " <tf.Tensor: shape=(3, 2), dtype=bool, numpy=\n",
              " array([[ True,  True],\n",
              "        [ True,  True],\n",
              "        [ True,  True]])>)"
            ]
          },
          "metadata": {},
          "execution_count": 4
        }
      ]
    },
    {
      "cell_type": "markdown",
      "source": [
        "# Shuffle order of tensor\n",
        "\n",
        "**More info on  [Random Shuffle](https://www.tensorflow.org/api_docs/python/tf/random/shuffle)**"
      ],
      "metadata": {
        "id": "IRmPd07DO_CM"
      }
    },
    {
      "cell_type": "code",
      "source": [
        "#Shuffle a Tensor (used when you want to shuffle your data to inherint order doesn't effect learning ) \n",
        "not_shuffled = tf.constant([[10,7],\n",
        "                           [3,5],\n",
        "                           [2,8]])\n",
        "not_shuffled.ndim"
      ],
      "metadata": {
        "execution": {
          "iopub.status.busy": "2023-03-18T06:04:06.426153Z",
          "iopub.execute_input": "2023-03-18T06:04:06.426529Z",
          "iopub.status.idle": "2023-03-18T06:04:06.435213Z",
          "shell.execute_reply.started": "2023-03-18T06:04:06.426492Z",
          "shell.execute_reply": "2023-03-18T06:04:06.433740Z"
        },
        "trusted": true,
        "colab": {
          "base_uri": "https://localhost:8080/"
        },
        "id": "4-4HQ6B_O_CN",
        "outputId": "69fcbe55-eee2-4225-d54b-c98f4e4297c2"
      },
      "execution_count": 5,
      "outputs": [
        {
          "output_type": "execute_result",
          "data": {
            "text/plain": [
              "2"
            ]
          },
          "metadata": {},
          "execution_count": 5
        }
      ]
    },
    {
      "cell_type": "code",
      "source": [
        "# Shuffle our non_shuffled Tensor\n",
        "seed = tf.random.set_seed(42) #Global level random seed\n",
        "tf.random.shuffle(not_shuffled,seed)\n",
        "\n",
        "# Shuffled in order of first dim(10,3,2)"
      ],
      "metadata": {
        "execution": {
          "iopub.status.busy": "2023-03-18T06:04:06.436845Z",
          "iopub.execute_input": "2023-03-18T06:04:06.437306Z",
          "iopub.status.idle": "2023-03-18T06:04:06.460201Z",
          "shell.execute_reply.started": "2023-03-18T06:04:06.437238Z",
          "shell.execute_reply": "2023-03-18T06:04:06.458791Z"
        },
        "trusted": true,
        "colab": {
          "base_uri": "https://localhost:8080/"
        },
        "id": "Xiv91B2OO_CN",
        "outputId": "d6825ad5-6464-4aa2-96ed-14a95e8169b5"
      },
      "execution_count": 6,
      "outputs": [
        {
          "output_type": "execute_result",
          "data": {
            "text/plain": [
              "<tf.Tensor: shape=(3, 2), dtype=int32, numpy=\n",
              "array([[ 3,  5],\n",
              "       [ 2,  8],\n",
              "       [10,  7]], dtype=int32)>"
            ]
          },
          "metadata": {},
          "execution_count": 6
        }
      ]
    },
    {
      "cell_type": "code",
      "source": [
        "tf.random.shuffle(not_shuffled,seed=42) #Operation level random seed"
      ],
      "metadata": {
        "execution": {
          "iopub.status.busy": "2023-03-18T06:04:06.461863Z",
          "iopub.execute_input": "2023-03-18T06:04:06.462249Z",
          "iopub.status.idle": "2023-03-18T06:04:06.471983Z",
          "shell.execute_reply.started": "2023-03-18T06:04:06.462200Z",
          "shell.execute_reply": "2023-03-18T06:04:06.470728Z"
        },
        "trusted": true,
        "colab": {
          "base_uri": "https://localhost:8080/"
        },
        "id": "9x1wM6OxO_CN",
        "outputId": "6ec0a572-4dbb-43c0-b19f-d007bfab4c58"
      },
      "execution_count": 7,
      "outputs": [
        {
          "output_type": "execute_result",
          "data": {
            "text/plain": [
              "<tf.Tensor: shape=(3, 2), dtype=int32, numpy=\n",
              "array([[10,  7],\n",
              "       [ 3,  5],\n",
              "       [ 2,  8]], dtype=int32)>"
            ]
          },
          "metadata": {},
          "execution_count": 7
        }
      ]
    },
    {
      "cell_type": "markdown",
      "source": [
        " > ## Note:- If we want our tensors to be in same order we must use **GLobal level random seed** and for random order each time we use  **Operation level random seed.**"
      ],
      "metadata": {
        "id": "yJ0or4l-O_CN"
      }
    },
    {
      "cell_type": "markdown",
      "source": [
        "## Other ways to make tensor \n",
        ">### 1. `tf.ones` ,`tf.zeros` (same as numpy.ones)\n",
        "\n",
        ">### 2. Numpy arrays into Tensors\n",
        "   #### **Additional info :-** The major difference in Numpy array and tensorflow Tensor is that tensor can be run on GPU. (Fast Computation)  \n"
      ],
      "metadata": {
        "id": "ExvTyJShO_CN"
      }
    },
    {
      "cell_type": "code",
      "source": [
        "tf.ones([5,5],tf.int32)"
      ],
      "metadata": {
        "execution": {
          "iopub.status.busy": "2023-03-18T06:04:06.474569Z",
          "iopub.execute_input": "2023-03-18T06:04:06.475748Z",
          "iopub.status.idle": "2023-03-18T06:04:06.490270Z",
          "shell.execute_reply.started": "2023-03-18T06:04:06.475688Z",
          "shell.execute_reply": "2023-03-18T06:04:06.488863Z"
        },
        "trusted": true,
        "colab": {
          "base_uri": "https://localhost:8080/"
        },
        "id": "ndK934raO_CN",
        "outputId": "21f6f3c1-23ba-495e-8b07-db704ca21ee4"
      },
      "execution_count": 8,
      "outputs": [
        {
          "output_type": "execute_result",
          "data": {
            "text/plain": [
              "<tf.Tensor: shape=(5, 5), dtype=int32, numpy=\n",
              "array([[1, 1, 1, 1, 1],\n",
              "       [1, 1, 1, 1, 1],\n",
              "       [1, 1, 1, 1, 1],\n",
              "       [1, 1, 1, 1, 1],\n",
              "       [1, 1, 1, 1, 1]], dtype=int32)>"
            ]
          },
          "metadata": {},
          "execution_count": 8
        }
      ]
    },
    {
      "cell_type": "code",
      "source": [
        "# Create a tensor of all zeroes\n",
        "tf.zeros([5,8])"
      ],
      "metadata": {
        "execution": {
          "iopub.status.busy": "2023-03-18T06:04:06.492155Z",
          "iopub.execute_input": "2023-03-18T06:04:06.493138Z",
          "iopub.status.idle": "2023-03-18T06:04:06.504815Z",
          "shell.execute_reply.started": "2023-03-18T06:04:06.493090Z",
          "shell.execute_reply": "2023-03-18T06:04:06.503538Z"
        },
        "trusted": true,
        "colab": {
          "base_uri": "https://localhost:8080/"
        },
        "id": "eWpzOQLKO_CO",
        "outputId": "cf572088-dd47-4704-8d5a-695d87c14427"
      },
      "execution_count": 9,
      "outputs": [
        {
          "output_type": "execute_result",
          "data": {
            "text/plain": [
              "<tf.Tensor: shape=(5, 8), dtype=float32, numpy=\n",
              "array([[0., 0., 0., 0., 0., 0., 0., 0.],\n",
              "       [0., 0., 0., 0., 0., 0., 0., 0.],\n",
              "       [0., 0., 0., 0., 0., 0., 0., 0.],\n",
              "       [0., 0., 0., 0., 0., 0., 0., 0.],\n",
              "       [0., 0., 0., 0., 0., 0., 0., 0.]], dtype=float32)>"
            ]
          },
          "metadata": {},
          "execution_count": 9
        }
      ]
    },
    {
      "cell_type": "code",
      "source": [
        "# Convert numpy array into tensor\n",
        "numpy_1 = np.arange(1,25,dtype=np.int32) # Creates a numpy array btw 1 & 25\n",
        "numpy_1\n",
        "#X = tf.constant(some_matix) #Capital (X) for matrix or Tensor\n",
        "#y = tf.constant(vector) # non-capital for vector\n",
        "A = tf.constant(numpy_1,shape=(2,3,4)) # tensor (more than one dimension)\n",
        "B = tf.constant(numpy_1) # vector (one dimension)\n",
        "A,B"
      ],
      "metadata": {
        "execution": {
          "iopub.status.busy": "2023-03-18T06:04:06.515951Z",
          "iopub.execute_input": "2023-03-18T06:04:06.517049Z",
          "iopub.status.idle": "2023-03-18T06:04:06.526835Z",
          "shell.execute_reply.started": "2023-03-18T06:04:06.517005Z",
          "shell.execute_reply": "2023-03-18T06:04:06.525887Z"
        },
        "trusted": true,
        "colab": {
          "base_uri": "https://localhost:8080/"
        },
        "id": "DNI3fhzKO_CO",
        "outputId": "2e3b65a0-2ff8-46f1-8ea8-8dfc52d5950f"
      },
      "execution_count": 10,
      "outputs": [
        {
          "output_type": "execute_result",
          "data": {
            "text/plain": [
              "(<tf.Tensor: shape=(2, 3, 4), dtype=int32, numpy=\n",
              " array([[[ 1,  2,  3,  4],\n",
              "         [ 5,  6,  7,  8],\n",
              "         [ 9, 10, 11, 12]],\n",
              " \n",
              "        [[13, 14, 15, 16],\n",
              "         [17, 18, 19, 20],\n",
              "         [21, 22, 23, 24]]], dtype=int32)>,\n",
              " <tf.Tensor: shape=(24,), dtype=int32, numpy=\n",
              " array([ 1,  2,  3,  4,  5,  6,  7,  8,  9, 10, 11, 12, 13, 14, 15, 16, 17,\n",
              "        18, 19, 20, 21, 22, 23, 24], dtype=int32)>)"
            ]
          },
          "metadata": {},
          "execution_count": 10
        }
      ]
    },
    {
      "cell_type": "markdown",
      "source": [
        "## Getting information from tensor\n",
        "\n",
        "## Attribute to keep in mind when dealing with tensor:-\n",
        "* ### shape `array.shape`\n",
        "* ### Rank  `array.ndim`\n",
        "* ### Axis/Dimension `array[axis_count]`\n",
        "* ### Size `tf.size(array)`"
      ],
      "metadata": {
        "id": "Pe131hd_O_CO"
      }
    },
    {
      "cell_type": "code",
      "source": [
        "# Task :- Create a rank 4 tensor with all value inside as 0 (4 dimensions)\n",
        "rank_4 = tf.zeros(shape=(3,2,3,2))\n",
        "rank_4"
      ],
      "metadata": {
        "execution": {
          "iopub.status.busy": "2023-03-18T06:04:06.528531Z",
          "iopub.execute_input": "2023-03-18T06:04:06.530033Z",
          "iopub.status.idle": "2023-03-18T06:04:06.540723Z",
          "shell.execute_reply.started": "2023-03-18T06:04:06.529963Z",
          "shell.execute_reply": "2023-03-18T06:04:06.539348Z"
        },
        "trusted": true,
        "colab": {
          "base_uri": "https://localhost:8080/"
        },
        "id": "JOrdUvO-O_CO",
        "outputId": "a73492db-c65c-4dbd-e1d1-afdf326e9726"
      },
      "execution_count": 11,
      "outputs": [
        {
          "output_type": "execute_result",
          "data": {
            "text/plain": [
              "<tf.Tensor: shape=(3, 2, 3, 2), dtype=float32, numpy=\n",
              "array([[[[0., 0.],\n",
              "         [0., 0.],\n",
              "         [0., 0.]],\n",
              "\n",
              "        [[0., 0.],\n",
              "         [0., 0.],\n",
              "         [0., 0.]]],\n",
              "\n",
              "\n",
              "       [[[0., 0.],\n",
              "         [0., 0.],\n",
              "         [0., 0.]],\n",
              "\n",
              "        [[0., 0.],\n",
              "         [0., 0.],\n",
              "         [0., 0.]]],\n",
              "\n",
              "\n",
              "       [[[0., 0.],\n",
              "         [0., 0.],\n",
              "         [0., 0.]],\n",
              "\n",
              "        [[0., 0.],\n",
              "         [0., 0.],\n",
              "         [0., 0.]]]], dtype=float32)>"
            ]
          },
          "metadata": {},
          "execution_count": 11
        }
      ]
    },
    {
      "cell_type": "code",
      "source": [
        "rank_4[0] # get first(zeroth) element same as a list in python\n",
        "# recheck the change in shape below "
      ],
      "metadata": {
        "execution": {
          "iopub.status.busy": "2023-03-18T06:04:06.542095Z",
          "iopub.execute_input": "2023-03-18T06:04:06.543141Z",
          "iopub.status.idle": "2023-03-18T06:04:06.560298Z",
          "shell.execute_reply.started": "2023-03-18T06:04:06.543103Z",
          "shell.execute_reply": "2023-03-18T06:04:06.559070Z"
        },
        "trusted": true,
        "colab": {
          "base_uri": "https://localhost:8080/"
        },
        "id": "A2t7r1u0O_CO",
        "outputId": "035d28ac-b943-4d7f-9a69-e83819a70032"
      },
      "execution_count": 12,
      "outputs": [
        {
          "output_type": "execute_result",
          "data": {
            "text/plain": [
              "<tf.Tensor: shape=(2, 3, 2), dtype=float32, numpy=\n",
              "array([[[0., 0.],\n",
              "        [0., 0.],\n",
              "        [0., 0.]],\n",
              "\n",
              "       [[0., 0.],\n",
              "        [0., 0.],\n",
              "        [0., 0.]]], dtype=float32)>"
            ]
          },
          "metadata": {},
          "execution_count": 12
        }
      ]
    },
    {
      "cell_type": "code",
      "source": [
        "rank_4.shape # Shape"
      ],
      "metadata": {
        "execution": {
          "iopub.status.busy": "2023-03-18T06:04:06.562362Z",
          "iopub.execute_input": "2023-03-18T06:04:06.563127Z",
          "iopub.status.idle": "2023-03-18T06:04:06.571452Z",
          "shell.execute_reply.started": "2023-03-18T06:04:06.563076Z",
          "shell.execute_reply": "2023-03-18T06:04:06.569998Z"
        },
        "trusted": true,
        "colab": {
          "base_uri": "https://localhost:8080/"
        },
        "id": "ypS-nKqWO_CP",
        "outputId": "af238dc9-4c64-404b-bdc8-ad7b19c725ec"
      },
      "execution_count": 13,
      "outputs": [
        {
          "output_type": "execute_result",
          "data": {
            "text/plain": [
              "TensorShape([3, 2, 3, 2])"
            ]
          },
          "metadata": {},
          "execution_count": 13
        }
      ]
    },
    {
      "cell_type": "code",
      "source": [
        "rank_4.ndim      # Rank(No. of dimensions)"
      ],
      "metadata": {
        "execution": {
          "iopub.status.busy": "2023-03-18T06:04:06.575561Z",
          "iopub.execute_input": "2023-03-18T06:04:06.576997Z",
          "iopub.status.idle": "2023-03-18T06:04:06.586849Z",
          "shell.execute_reply.started": "2023-03-18T06:04:06.576909Z",
          "shell.execute_reply": "2023-03-18T06:04:06.585381Z"
        },
        "trusted": true,
        "colab": {
          "base_uri": "https://localhost:8080/"
        },
        "id": "UGF_VNOZO_CP",
        "outputId": "ce0dde2e-0f00-4247-9eed-d24927e1dd33"
      },
      "execution_count": 14,
      "outputs": [
        {
          "output_type": "execute_result",
          "data": {
            "text/plain": [
              "4"
            ]
          },
          "metadata": {},
          "execution_count": 14
        }
      ]
    },
    {
      "cell_type": "code",
      "source": [
        "tf.size(rank_4)      #Size (3*2*3*2)=36"
      ],
      "metadata": {
        "execution": {
          "iopub.status.busy": "2023-03-18T06:04:06.588493Z",
          "iopub.execute_input": "2023-03-18T06:04:06.589438Z",
          "iopub.status.idle": "2023-03-18T06:04:06.601781Z",
          "shell.execute_reply.started": "2023-03-18T06:04:06.589271Z",
          "shell.execute_reply": "2023-03-18T06:04:06.600344Z"
        },
        "trusted": true,
        "colab": {
          "base_uri": "https://localhost:8080/"
        },
        "id": "XpFVis1QO_CP",
        "outputId": "51ff76a7-002b-48cf-a2a2-4523fe4b705e"
      },
      "execution_count": 15,
      "outputs": [
        {
          "output_type": "execute_result",
          "data": {
            "text/plain": [
              "<tf.Tensor: shape=(), dtype=int32, numpy=36>"
            ]
          },
          "metadata": {},
          "execution_count": 15
        }
      ]
    },
    {
      "cell_type": "code",
      "source": [
        "rank_4[0]     #Axis"
      ],
      "metadata": {
        "execution": {
          "iopub.status.busy": "2023-03-18T06:04:06.603786Z",
          "iopub.execute_input": "2023-03-18T06:04:06.604243Z",
          "iopub.status.idle": "2023-03-18T06:04:06.616830Z",
          "shell.execute_reply.started": "2023-03-18T06:04:06.604198Z",
          "shell.execute_reply": "2023-03-18T06:04:06.615216Z"
        },
        "trusted": true,
        "colab": {
          "base_uri": "https://localhost:8080/"
        },
        "id": "IcgUrYDFO_CP",
        "outputId": "5692fe24-aaef-4a4c-bc99-2de8347e44a8"
      },
      "execution_count": 16,
      "outputs": [
        {
          "output_type": "execute_result",
          "data": {
            "text/plain": [
              "<tf.Tensor: shape=(2, 3, 2), dtype=float32, numpy=\n",
              "array([[[0., 0.],\n",
              "        [0., 0.],\n",
              "        [0., 0.]],\n",
              "\n",
              "       [[0., 0.],\n",
              "        [0., 0.],\n",
              "        [0., 0.]]], dtype=float32)>"
            ]
          },
          "metadata": {},
          "execution_count": 16
        }
      ]
    },
    {
      "cell_type": "code",
      "source": [
        "# Get other Attributes of Tensor\n",
        " \n",
        "def get_tensor_info(A):\n",
        "    print(\"DataType of every element: \",A.dtype)\n",
        "    print(\"Number of dimension(rank): \",A.ndim)\n",
        "    print(\"Shape of tensor: \",A.shape)\n",
        "    print(\"Element along the 0 axies: \",A.shape[0])\n",
        "    print(\"Element along the last axis: \",A.shape[-1])\n",
        "    print(\"Total number of elements in tensor: \",tf.size(A))\n",
        "    print(\"Total number of elements in tensor: \",tf.size(A).numpy())\n"
      ],
      "metadata": {
        "execution": {
          "iopub.status.busy": "2023-03-18T06:04:06.618628Z",
          "iopub.execute_input": "2023-03-18T06:04:06.619123Z",
          "iopub.status.idle": "2023-03-18T06:04:06.635730Z",
          "shell.execute_reply.started": "2023-03-18T06:04:06.619073Z",
          "shell.execute_reply": "2023-03-18T06:04:06.634376Z"
        },
        "trusted": true,
        "id": "q84gaXMoO_CP"
      },
      "execution_count": 17,
      "outputs": []
    },
    {
      "cell_type": "code",
      "source": [
        "get_tensor_info(rank_4)"
      ],
      "metadata": {
        "execution": {
          "iopub.status.busy": "2023-03-18T06:04:06.637583Z",
          "iopub.execute_input": "2023-03-18T06:04:06.638429Z",
          "iopub.status.idle": "2023-03-18T06:04:06.650819Z",
          "shell.execute_reply.started": "2023-03-18T06:04:06.638371Z",
          "shell.execute_reply": "2023-03-18T06:04:06.649442Z"
        },
        "trusted": true,
        "colab": {
          "base_uri": "https://localhost:8080/"
        },
        "id": "Z4TFjumSO_CP",
        "outputId": "fc7d6cd6-3711-41aa-edb0-5dc95988391e"
      },
      "execution_count": 18,
      "outputs": [
        {
          "output_type": "stream",
          "name": "stdout",
          "text": [
            "DataType of every element:  <dtype: 'float32'>\n",
            "Number of dimension(rank):  4\n",
            "Shape of tensor:  (3, 2, 3, 2)\n",
            "Element along the 0 axies:  3\n",
            "Element along the last axis:  2\n",
            "Total number of elements in tensor:  tf.Tensor(36, shape=(), dtype=int32)\n",
            "Total number of elements in tensor:  36\n"
          ]
        }
      ]
    },
    {
      "cell_type": "markdown",
      "source": [
        "## Indexing Tensor `array[X]`\n",
        "### Tensor can be indexed just like Python list\n"
      ],
      "metadata": {
        "id": "zBf8R1RjO_CQ"
      }
    },
    {
      "cell_type": "code",
      "source": [
        "# Get the first 2 element of each dimension\n",
        "rank_4[:1,:2,]"
      ],
      "metadata": {
        "execution": {
          "iopub.status.busy": "2023-03-18T06:04:06.652662Z",
          "iopub.execute_input": "2023-03-18T06:04:06.653188Z",
          "iopub.status.idle": "2023-03-18T06:04:06.669929Z",
          "shell.execute_reply.started": "2023-03-18T06:04:06.653138Z",
          "shell.execute_reply": "2023-03-18T06:04:06.668393Z"
        },
        "trusted": true,
        "colab": {
          "base_uri": "https://localhost:8080/"
        },
        "id": "eWfqYbEGO_CQ",
        "outputId": "d2369746-a79c-4565-c39d-ead16d0ee7c3"
      },
      "execution_count": 19,
      "outputs": [
        {
          "output_type": "execute_result",
          "data": {
            "text/plain": [
              "<tf.Tensor: shape=(1, 2, 3, 2), dtype=float32, numpy=\n",
              "array([[[[0., 0.],\n",
              "         [0., 0.],\n",
              "         [0., 0.]],\n",
              "\n",
              "        [[0., 0.],\n",
              "         [0., 0.],\n",
              "         [0., 0.]]]], dtype=float32)>"
            ]
          },
          "metadata": {},
          "execution_count": 19
        }
      ]
    },
    {
      "cell_type": "code",
      "source": [
        "# Get the first element of each dimension except the last one\n",
        "rank_4[:1,:1,:1,:]"
      ],
      "metadata": {
        "execution": {
          "iopub.status.busy": "2023-03-18T06:04:06.671717Z",
          "iopub.execute_input": "2023-03-18T06:04:06.674129Z",
          "iopub.status.idle": "2023-03-18T06:04:06.690483Z",
          "shell.execute_reply.started": "2023-03-18T06:04:06.674053Z",
          "shell.execute_reply": "2023-03-18T06:04:06.688746Z"
        },
        "trusted": true,
        "colab": {
          "base_uri": "https://localhost:8080/"
        },
        "id": "c5sJ4sEpO_CQ",
        "outputId": "e0a4de63-8af6-4e43-c4eb-6c3bd6fe210e"
      },
      "execution_count": 20,
      "outputs": [
        {
          "output_type": "execute_result",
          "data": {
            "text/plain": [
              "<tf.Tensor: shape=(1, 1, 1, 2), dtype=float32, numpy=array([[[[0., 0.]]]], dtype=float32)>"
            ]
          },
          "metadata": {},
          "execution_count": 20
        }
      ]
    },
    {
      "cell_type": "code",
      "source": [
        "# Create a new rank_2 (2 dim tensor)\n",
        "rank_2 = tf.constant([[1,2],[3,4]])\n",
        "rank_2"
      ],
      "metadata": {
        "execution": {
          "iopub.status.busy": "2023-03-18T06:04:06.692942Z",
          "iopub.execute_input": "2023-03-18T06:04:06.693647Z",
          "iopub.status.idle": "2023-03-18T06:04:06.704965Z",
          "shell.execute_reply.started": "2023-03-18T06:04:06.693576Z",
          "shell.execute_reply": "2023-03-18T06:04:06.703515Z"
        },
        "trusted": true,
        "colab": {
          "base_uri": "https://localhost:8080/"
        },
        "id": "QMEW9VhPO_CQ",
        "outputId": "9534d766-049c-465c-8b28-71ca319d03a8"
      },
      "execution_count": 21,
      "outputs": [
        {
          "output_type": "execute_result",
          "data": {
            "text/plain": [
              "<tf.Tensor: shape=(2, 2), dtype=int32, numpy=\n",
              "array([[1, 2],\n",
              "       [3, 4]], dtype=int32)>"
            ]
          },
          "metadata": {},
          "execution_count": 21
        }
      ]
    },
    {
      "cell_type": "code",
      "source": [
        "rank_2.ndim"
      ],
      "metadata": {
        "execution": {
          "iopub.status.busy": "2023-03-18T06:04:06.707405Z",
          "iopub.execute_input": "2023-03-18T06:04:06.708632Z",
          "iopub.status.idle": "2023-03-18T06:04:06.717812Z",
          "shell.execute_reply.started": "2023-03-18T06:04:06.708578Z",
          "shell.execute_reply": "2023-03-18T06:04:06.716598Z"
        },
        "trusted": true,
        "colab": {
          "base_uri": "https://localhost:8080/"
        },
        "id": "Oqji1UN_O_CQ",
        "outputId": "4f25586c-fa60-4954-dacf-4ea40b14a760"
      },
      "execution_count": 22,
      "outputs": [
        {
          "output_type": "execute_result",
          "data": {
            "text/plain": [
              "2"
            ]
          },
          "metadata": {},
          "execution_count": 22
        }
      ]
    },
    {
      "cell_type": "code",
      "source": [
        "# get last item of each of row of our rank 2 tensor\n",
        "rank_2[:,-1]"
      ],
      "metadata": {
        "execution": {
          "iopub.status.busy": "2023-03-18T06:04:06.723478Z",
          "iopub.execute_input": "2023-03-18T06:04:06.724303Z",
          "iopub.status.idle": "2023-03-18T06:04:06.740338Z",
          "shell.execute_reply.started": "2023-03-18T06:04:06.724228Z",
          "shell.execute_reply": "2023-03-18T06:04:06.739105Z"
        },
        "trusted": true,
        "colab": {
          "base_uri": "https://localhost:8080/"
        },
        "id": "nW-2kwnUO_CQ",
        "outputId": "0af9733e-0530-45cc-b6c3-c52c65f45b10"
      },
      "execution_count": 23,
      "outputs": [
        {
          "output_type": "execute_result",
          "data": {
            "text/plain": [
              "<tf.Tensor: shape=(2,), dtype=int32, numpy=array([2, 4], dtype=int32)>"
            ]
          },
          "metadata": {},
          "execution_count": 23
        }
      ]
    },
    {
      "cell_type": "code",
      "source": [
        "# Add extra dimension to rank 2 tensor\n",
        "rank_3 = rank_2[...,tf.newaxis] # Alterantive = rank_2[:,:,tf.newaxis]\n",
        "\n",
        "rank_3 "
      ],
      "metadata": {
        "execution": {
          "iopub.status.busy": "2023-03-18T06:04:06.742457Z",
          "iopub.execute_input": "2023-03-18T06:04:06.742901Z",
          "iopub.status.idle": "2023-03-18T06:04:06.754620Z",
          "shell.execute_reply.started": "2023-03-18T06:04:06.742847Z",
          "shell.execute_reply": "2023-03-18T06:04:06.753252Z"
        },
        "trusted": true,
        "colab": {
          "base_uri": "https://localhost:8080/"
        },
        "id": "ueye7oSiO_CQ",
        "outputId": "38808c10-e633-42f0-d1f0-3a737ff4aae3"
      },
      "execution_count": 24,
      "outputs": [
        {
          "output_type": "execute_result",
          "data": {
            "text/plain": [
              "<tf.Tensor: shape=(2, 2, 1), dtype=int32, numpy=\n",
              "array([[[1],\n",
              "        [2]],\n",
              "\n",
              "       [[3],\n",
              "        [4]]], dtype=int32)>"
            ]
          },
          "metadata": {},
          "execution_count": 24
        }
      ]
    },
    {
      "cell_type": "code",
      "source": [
        "rank_3.ndim"
      ],
      "metadata": {
        "execution": {
          "iopub.status.busy": "2023-03-18T06:04:06.757164Z",
          "iopub.execute_input": "2023-03-18T06:04:06.757656Z",
          "iopub.status.idle": "2023-03-18T06:04:06.767669Z",
          "shell.execute_reply.started": "2023-03-18T06:04:06.757609Z",
          "shell.execute_reply": "2023-03-18T06:04:06.765942Z"
        },
        "trusted": true,
        "colab": {
          "base_uri": "https://localhost:8080/"
        },
        "id": "cXd7O9tZO_CR",
        "outputId": "8e62c793-e2fa-4776-ac84-014c0c953b5a"
      },
      "execution_count": 25,
      "outputs": [
        {
          "output_type": "execute_result",
          "data": {
            "text/plain": [
              "3"
            ]
          },
          "metadata": {},
          "execution_count": 25
        }
      ]
    },
    {
      "cell_type": "code",
      "source": [
        "# Alternative of newaxis is expand_dim\n",
        "tf.expand_dims(rank_2,axis=-1) # can add dimension in middle as well  \n",
        "rank_3+10"
      ],
      "metadata": {
        "execution": {
          "iopub.status.busy": "2023-03-18T06:04:06.769455Z",
          "iopub.execute_input": "2023-03-18T06:04:06.769906Z",
          "iopub.status.idle": "2023-03-18T06:04:06.786715Z",
          "shell.execute_reply.started": "2023-03-18T06:04:06.769849Z",
          "shell.execute_reply": "2023-03-18T06:04:06.785399Z"
        },
        "trusted": true,
        "colab": {
          "base_uri": "https://localhost:8080/"
        },
        "id": "alViaawZO_CR",
        "outputId": "13e2c31f-41f4-410a-8151-0897e2751d63"
      },
      "execution_count": 26,
      "outputs": [
        {
          "output_type": "execute_result",
          "data": {
            "text/plain": [
              "<tf.Tensor: shape=(2, 2, 1), dtype=int32, numpy=\n",
              "array([[[11],\n",
              "        [12]],\n",
              "\n",
              "       [[13],\n",
              "        [14]]], dtype=int32)>"
            ]
          },
          "metadata": {},
          "execution_count": 26
        }
      ]
    },
    {
      "cell_type": "code",
      "source": [
        "# Original tensor is not change With +10 \n",
        "rank_3 # the main tensor doesn't change until we set it ! like rank_3 = rank_3+10\n",
        "# also support other operation like -,*,/ etc\n"
      ],
      "metadata": {
        "execution": {
          "iopub.status.busy": "2023-03-18T06:04:06.788562Z",
          "iopub.execute_input": "2023-03-18T06:04:06.789169Z",
          "iopub.status.idle": "2023-03-18T06:04:06.797959Z",
          "shell.execute_reply.started": "2023-03-18T06:04:06.789132Z",
          "shell.execute_reply": "2023-03-18T06:04:06.796675Z"
        },
        "trusted": true,
        "colab": {
          "base_uri": "https://localhost:8080/"
        },
        "id": "asnhVd2xO_CR",
        "outputId": "a7cdbeec-846c-467c-bf05-f2b938585857"
      },
      "execution_count": 27,
      "outputs": [
        {
          "output_type": "execute_result",
          "data": {
            "text/plain": [
              "<tf.Tensor: shape=(2, 2, 1), dtype=int32, numpy=\n",
              "array([[[1],\n",
              "        [2]],\n",
              "\n",
              "       [[3],\n",
              "        [4]]], dtype=int32)>"
            ]
          },
          "metadata": {},
          "execution_count": 27
        }
      ]
    },
    {
      "cell_type": "code",
      "source": [
        "# alternative of math operation is build-in-function\n",
        "tf.multiply(rank_3,5) # same as rank_3 * 5"
      ],
      "metadata": {
        "execution": {
          "iopub.status.busy": "2023-03-18T06:04:06.799536Z",
          "iopub.execute_input": "2023-03-18T06:04:06.799889Z",
          "iopub.status.idle": "2023-03-18T06:04:06.812364Z",
          "shell.execute_reply.started": "2023-03-18T06:04:06.799856Z",
          "shell.execute_reply": "2023-03-18T06:04:06.811100Z"
        },
        "trusted": true,
        "colab": {
          "base_uri": "https://localhost:8080/"
        },
        "id": "LlpSLub0O_CR",
        "outputId": "70fb57ad-e1f8-4337-e45e-94ae6057d38d"
      },
      "execution_count": 28,
      "outputs": [
        {
          "output_type": "execute_result",
          "data": {
            "text/plain": [
              "<tf.Tensor: shape=(2, 2, 1), dtype=int32, numpy=\n",
              "array([[[ 5],\n",
              "        [10]],\n",
              "\n",
              "       [[15],\n",
              "        [20]]], dtype=int32)>"
            ]
          },
          "metadata": {},
          "execution_count": 28
        }
      ]
    },
    {
      "cell_type": "markdown",
      "source": [
        "## Matrix/Tensor Multiplication (IMP) `@` , `tf.matmul`, `tf.tensordot()` .\n",
        "### In Machine learning ,multiplication is one of the most common tensor operations.(tensor*tensor)\n",
        "\n",
        "### **Dot Product** Rule :- The Colm of matrix A should be equal to the row of matrix B and wise-versa\n",
        "\n",
        "> ###  Resource for Matrix Multiplication :-https://www.mathsisfun.com/algebra/matrix-multiplying.html \n",
        "> ### For visualization visit :- https://nathancarter.github.io/matrix-mult/\n"
      ],
      "metadata": {
        "id": "4_TnnHSZO_CR"
      }
    },
    {
      "cell_type": "code",
      "source": [
        "# Matrix Multiplication in tf\n",
        "print(rank_2)\n",
        "tf.matmul(rank_2,rank_2) "
      ],
      "metadata": {
        "execution": {
          "iopub.status.busy": "2023-03-18T06:04:06.813883Z",
          "iopub.execute_input": "2023-03-18T06:04:06.814296Z",
          "iopub.status.idle": "2023-03-18T06:04:06.838665Z",
          "shell.execute_reply.started": "2023-03-18T06:04:06.814224Z",
          "shell.execute_reply": "2023-03-18T06:04:06.837332Z"
        },
        "trusted": true,
        "colab": {
          "base_uri": "https://localhost:8080/"
        },
        "id": "_HeYtNizO_CR",
        "outputId": "20ef7ee2-ef7c-4e3f-99f1-150e8b9a21ac"
      },
      "execution_count": 29,
      "outputs": [
        {
          "output_type": "stream",
          "name": "stdout",
          "text": [
            "tf.Tensor(\n",
            "[[1 2]\n",
            " [3 4]], shape=(2, 2), dtype=int32)\n"
          ]
        },
        {
          "output_type": "execute_result",
          "data": {
            "text/plain": [
              "<tf.Tensor: shape=(2, 2), dtype=int32, numpy=\n",
              "array([[ 7, 10],\n",
              "       [15, 22]], dtype=int32)>"
            ]
          },
          "metadata": {},
          "execution_count": 29
        }
      ]
    },
    {
      "cell_type": "code",
      "source": [
        "rank_2 * rank_2"
      ],
      "metadata": {
        "execution": {
          "iopub.status.busy": "2023-03-18T06:04:06.840086Z",
          "iopub.execute_input": "2023-03-18T06:04:06.840787Z",
          "iopub.status.idle": "2023-03-18T06:04:06.849035Z",
          "shell.execute_reply.started": "2023-03-18T06:04:06.840736Z",
          "shell.execute_reply": "2023-03-18T06:04:06.847763Z"
        },
        "trusted": true,
        "colab": {
          "base_uri": "https://localhost:8080/"
        },
        "id": "vkwvuAVQO_CS",
        "outputId": "25a7cbd1-33af-4a7f-ebc3-d55b0ebf3028"
      },
      "execution_count": 30,
      "outputs": [
        {
          "output_type": "execute_result",
          "data": {
            "text/plain": [
              "<tf.Tensor: shape=(2, 2), dtype=int32, numpy=\n",
              "array([[ 1,  4],\n",
              "       [ 9, 16]], dtype=int32)>"
            ]
          },
          "metadata": {},
          "execution_count": 30
        }
      ]
    },
    {
      "cell_type": "code",
      "source": [
        "# Matrix Multiplication with python operator\n",
        "print(rank_2)\n",
        "print(rank_3)\n",
        "rank_2 @ rank_3"
      ],
      "metadata": {
        "execution": {
          "iopub.status.busy": "2023-03-18T06:34:50.760338Z",
          "iopub.execute_input": "2023-03-18T06:34:50.760741Z",
          "iopub.status.idle": "2023-03-18T06:34:50.771613Z",
          "shell.execute_reply.started": "2023-03-18T06:34:50.760707Z",
          "shell.execute_reply": "2023-03-18T06:34:50.769855Z"
        },
        "trusted": true,
        "colab": {
          "base_uri": "https://localhost:8080/"
        },
        "id": "9-pBEqXvO_CS",
        "outputId": "ff8e8f7e-5c35-4517-cab9-9e035bef6dcd"
      },
      "execution_count": 31,
      "outputs": [
        {
          "output_type": "stream",
          "name": "stdout",
          "text": [
            "tf.Tensor(\n",
            "[[1 2]\n",
            " [3 4]], shape=(2, 2), dtype=int32)\n",
            "tf.Tensor(\n",
            "[[[1]\n",
            "  [2]]\n",
            "\n",
            " [[3]\n",
            "  [4]]], shape=(2, 2, 1), dtype=int32)\n"
          ]
        },
        {
          "output_type": "execute_result",
          "data": {
            "text/plain": [
              "<tf.Tensor: shape=(2, 2, 1), dtype=int32, numpy=\n",
              "array([[[ 5],\n",
              "        [11]],\n",
              "\n",
              "       [[11],\n",
              "        [25]]], dtype=int32)>"
            ]
          },
          "metadata": {},
          "execution_count": 31
        }
      ]
    },
    {
      "cell_type": "code",
      "source": [
        "# create matrix with shape (3,2)\n",
        "X = tf.constant([[1,2],[3,4],[5,6]])\n",
        "# create matrix with shape(2,3)\n",
        "Y = tf.constant([[1,2,3],[4,5,6]])\n",
        "X,Y"
      ],
      "metadata": {
        "execution": {
          "iopub.status.busy": "2023-03-18T06:04:06.864868Z",
          "iopub.execute_input": "2023-03-18T06:04:06.866091Z",
          "iopub.status.idle": "2023-03-18T06:04:06.877715Z",
          "shell.execute_reply.started": "2023-03-18T06:04:06.866037Z",
          "shell.execute_reply": "2023-03-18T06:04:06.876401Z"
        },
        "trusted": true,
        "colab": {
          "base_uri": "https://localhost:8080/"
        },
        "id": "crQ1S6-VO_CS",
        "outputId": "4a858d99-1344-4d38-c821-48ab84e4eb9f"
      },
      "execution_count": 32,
      "outputs": [
        {
          "output_type": "execute_result",
          "data": {
            "text/plain": [
              "(<tf.Tensor: shape=(3, 2), dtype=int32, numpy=\n",
              " array([[1, 2],\n",
              "        [3, 4],\n",
              "        [5, 6]], dtype=int32)>, <tf.Tensor: shape=(2, 3), dtype=int32, numpy=\n",
              " array([[1, 2, 3],\n",
              "        [4, 5, 6]], dtype=int32)>)"
            ]
          },
          "metadata": {},
          "execution_count": 32
        }
      ]
    },
    {
      "cell_type": "code",
      "source": [
        "# check if multiplication of X and Y is possible or not\n",
        "X @ Y"
      ],
      "metadata": {
        "execution": {
          "iopub.status.busy": "2023-03-18T06:07:34.658819Z",
          "iopub.execute_input": "2023-03-18T06:07:34.659250Z",
          "iopub.status.idle": "2023-03-18T06:07:34.669769Z",
          "shell.execute_reply.started": "2023-03-18T06:07:34.659213Z",
          "shell.execute_reply": "2023-03-18T06:07:34.668163Z"
        },
        "trusted": true,
        "colab": {
          "base_uri": "https://localhost:8080/"
        },
        "id": "jRkQdUafO_CS",
        "outputId": "c6444037-6b14-4c2c-e075-6bfa33075916"
      },
      "execution_count": 33,
      "outputs": [
        {
          "output_type": "execute_result",
          "data": {
            "text/plain": [
              "<tf.Tensor: shape=(3, 3), dtype=int32, numpy=\n",
              "array([[ 9, 12, 15],\n",
              "       [19, 26, 33],\n",
              "       [29, 40, 51]], dtype=int32)>"
            ]
          },
          "metadata": {},
          "execution_count": 33
        }
      ]
    },
    {
      "cell_type": "code",
      "source": [
        "# Multipication using reshape\n",
        "tf.matmul(tf.reshape(Y,shape=(2,3)) , tf.reshape(X,shape=(3,2)))"
      ],
      "metadata": {
        "execution": {
          "iopub.status.busy": "2023-03-18T07:00:17.116575Z",
          "iopub.execute_input": "2023-03-18T07:00:17.117035Z",
          "iopub.status.idle": "2023-03-18T07:00:17.129961Z",
          "shell.execute_reply.started": "2023-03-18T07:00:17.116997Z",
          "shell.execute_reply": "2023-03-18T07:00:17.128686Z"
        },
        "trusted": true,
        "colab": {
          "base_uri": "https://localhost:8080/"
        },
        "id": "g0kMCLCPO_CS",
        "outputId": "dc0a8ff4-1074-4276-be5e-d6bb6c96297d"
      },
      "execution_count": 34,
      "outputs": [
        {
          "output_type": "execute_result",
          "data": {
            "text/plain": [
              "<tf.Tensor: shape=(2, 2), dtype=int32, numpy=\n",
              "array([[22, 28],\n",
              "       [49, 64]], dtype=int32)>"
            ]
          },
          "metadata": {},
          "execution_count": 34
        }
      ]
    },
    {
      "cell_type": "code",
      "source": [
        "# Multipication using transpose\n",
        "tf.matmul(tf.transpose(X),tf.transpose(Y))\n",
        "\n",
        "# Transpose != reshape"
      ],
      "metadata": {
        "execution": {
          "iopub.status.busy": "2023-03-18T07:14:08.578149Z",
          "iopub.execute_input": "2023-03-18T07:14:08.578623Z",
          "iopub.status.idle": "2023-03-18T07:14:08.606258Z",
          "shell.execute_reply.started": "2023-03-18T07:14:08.578582Z",
          "shell.execute_reply": "2023-03-18T07:14:08.604674Z"
        },
        "trusted": true,
        "colab": {
          "base_uri": "https://localhost:8080/"
        },
        "id": "o_7q6H6fO_CS",
        "outputId": "0692a499-1e4f-4f6f-8fab-8aacc079534b"
      },
      "execution_count": 35,
      "outputs": [
        {
          "output_type": "execute_result",
          "data": {
            "text/plain": [
              "<tf.Tensor: shape=(2, 2), dtype=int32, numpy=\n",
              "array([[22, 49],\n",
              "       [28, 64]], dtype=int32)>"
            ]
          },
          "metadata": {},
          "execution_count": 35
        }
      ]
    },
    {
      "cell_type": "code",
      "source": [
        "# Using tensordot(tensor contration)\n",
        "tf.tensordot(X,Y,axes=1) # same as X @ Y,tf.matmul(X,Y)"
      ],
      "metadata": {
        "execution": {
          "iopub.status.busy": "2023-03-18T07:56:39.481615Z",
          "iopub.execute_input": "2023-03-18T07:56:39.482038Z",
          "iopub.status.idle": "2023-03-18T07:56:39.491638Z",
          "shell.execute_reply.started": "2023-03-18T07:56:39.482003Z",
          "shell.execute_reply": "2023-03-18T07:56:39.490341Z"
        },
        "trusted": true,
        "colab": {
          "base_uri": "https://localhost:8080/"
        },
        "id": "xr4O-SggO_CS",
        "outputId": "987c519a-a4b9-4bb0-b6e2-48de6490e15f"
      },
      "execution_count": 36,
      "outputs": [
        {
          "output_type": "execute_result",
          "data": {
            "text/plain": [
              "<tf.Tensor: shape=(3, 3), dtype=int32, numpy=\n",
              "array([[ 9, 12, 15],\n",
              "       [19, 26, 33],\n",
              "       [29, 40, 51]], dtype=int32)>"
            ]
          },
          "metadata": {},
          "execution_count": 36
        }
      ]
    },
    {
      "cell_type": "markdown",
      "source": [
        "## Change Data Type of tensor `dtype`"
      ],
      "metadata": {
        "id": "tQfpZycFO_CT"
      }
    },
    {
      "cell_type": "code",
      "source": [
        "#  The default datatype depends on the datatype of the Tensor you input\n",
        "# Example\n",
        "A = tf.constant([[1,2],[3,2]])\n",
        "B = tf.constant([1.2,1.4])\n",
        "A.dtype,B.dtype\n",
        "# here default precision is 32bit"
      ],
      "metadata": {
        "execution": {
          "iopub.status.busy": "2023-03-18T08:08:31.281140Z",
          "iopub.execute_input": "2023-03-18T08:08:31.281602Z",
          "iopub.status.idle": "2023-03-18T08:08:31.291589Z",
          "shell.execute_reply.started": "2023-03-18T08:08:31.281561Z",
          "shell.execute_reply": "2023-03-18T08:08:31.290542Z"
        },
        "trusted": true,
        "colab": {
          "base_uri": "https://localhost:8080/"
        },
        "id": "200bvi4QO_CT",
        "outputId": "2404b485-1485-48dc-fd51-e91585b06287"
      },
      "execution_count": 37,
      "outputs": [
        {
          "output_type": "execute_result",
          "data": {
            "text/plain": [
              "(tf.int32, tf.float32)"
            ]
          },
          "metadata": {},
          "execution_count": 37
        }
      ]
    },
    {
      "cell_type": "code",
      "source": [
        "# use 8,16,32,64... depending on memory and process\n",
        "#Reduce precision (32--> 16)\n",
        "tf.cast(A,dtype=tf.int16)\n",
        "#similarly even increase precision "
      ],
      "metadata": {
        "execution": {
          "iopub.status.busy": "2023-03-18T08:11:50.546329Z",
          "iopub.execute_input": "2023-03-18T08:11:50.546758Z",
          "iopub.status.idle": "2023-03-18T08:11:50.556215Z",
          "shell.execute_reply.started": "2023-03-18T08:11:50.546717Z",
          "shell.execute_reply": "2023-03-18T08:11:50.554735Z"
        },
        "trusted": true,
        "colab": {
          "base_uri": "https://localhost:8080/"
        },
        "id": "uRA9dPRwO_CT",
        "outputId": "14cc3d90-0d9a-4cca-cdfd-849e8d2e61eb"
      },
      "execution_count": 38,
      "outputs": [
        {
          "output_type": "execute_result",
          "data": {
            "text/plain": [
              "<tf.Tensor: shape=(2, 2), dtype=int16, numpy=\n",
              "array([[1, 2],\n",
              "       [3, 2]], dtype=int16)>"
            ]
          },
          "metadata": {},
          "execution_count": 38
        }
      ]
    },
    {
      "cell_type": "markdown",
      "source": [
        "## Aggregating Tensor\n",
        "### Aggregating Tensor = condensing them from multiple value down to samller amount of values"
      ],
      "metadata": {
        "id": "gZoTvAS_O_CT"
      }
    },
    {
      "cell_type": "code",
      "source": [
        "# Get absolute value\n",
        "S = tf.constant([-1,-2,4])\n",
        "tf.abs(S)"
      ],
      "metadata": {
        "execution": {
          "iopub.status.busy": "2023-03-18T08:18:48.530357Z",
          "iopub.execute_input": "2023-03-18T08:18:48.530772Z",
          "iopub.status.idle": "2023-03-18T08:18:48.542473Z",
          "shell.execute_reply.started": "2023-03-18T08:18:48.530735Z",
          "shell.execute_reply": "2023-03-18T08:18:48.540389Z"
        },
        "trusted": true,
        "colab": {
          "base_uri": "https://localhost:8080/"
        },
        "id": "Jn_Zz2LoO_CT",
        "outputId": "b8a91c47-acca-483a-9073-03ce63137e6c"
      },
      "execution_count": 39,
      "outputs": [
        {
          "output_type": "execute_result",
          "data": {
            "text/plain": [
              "<tf.Tensor: shape=(3,), dtype=int32, numpy=array([1, 2, 4], dtype=int32)>"
            ]
          },
          "metadata": {},
          "execution_count": 39
        }
      ]
    },
    {
      "cell_type": "markdown",
      "source": [
        "## *Practice :-* Create a function to get the following aggregations -\n",
        "* ###  Minimum of the Tensor\n",
        "* ###  Maximum of the Tensor\n",
        "* ###  Get the mean of the Tensor\n",
        "* ###  Get the sum of Tensor"
      ],
      "metadata": {
        "id": "30twDz0GO_CT"
      }
    },
    {
      "cell_type": "code",
      "source": [
        "def aggr(tensor):\n",
        "    min = tf.reduce_min(tensor)\n",
        "    max = tf.reduce_max(tensor)\n",
        "    mean = tf.reduce_mean(tensor)\n",
        "    sum = tf.reduce_sum(tensor)\n",
        "    print(\"min: \",min.numpy())  \n",
        "    print(\"max: \",max.numpy())\n",
        "    print(\"mean: \",mean.numpy())\n",
        "    print(\"sum: \",sum.numpy())\n",
        "\n",
        "\n",
        "aggr(A)"
      ],
      "metadata": {
        "execution": {
          "iopub.status.busy": "2023-03-18T08:31:39.485405Z",
          "iopub.execute_input": "2023-03-18T08:31:39.485865Z",
          "iopub.status.idle": "2023-03-18T08:31:39.497068Z",
          "shell.execute_reply.started": "2023-03-18T08:31:39.485814Z",
          "shell.execute_reply": "2023-03-18T08:31:39.495650Z"
        },
        "trusted": true,
        "colab": {
          "base_uri": "https://localhost:8080/"
        },
        "id": "wKEImh4yO_CT",
        "outputId": "26334101-e0f7-4b53-fe59-1efe04a89cc9"
      },
      "execution_count": 40,
      "outputs": [
        {
          "output_type": "stream",
          "name": "stdout",
          "text": [
            "min:  1\n",
            "max:  3\n",
            "mean:  2\n",
            "sum:  8\n"
          ]
        }
      ]
    },
    {
      "cell_type": "markdown",
      "source": [
        "## Find the positional Maximum and Minimum"
      ],
      "metadata": {
        "id": "hnMyNR_RO_CU"
      }
    },
    {
      "cell_type": "code",
      "source": [
        "# creating a random tensor\n",
        "tf.random.set_seed(35)\n",
        "R = tf.random.uniform(shape=[30])\n",
        "R"
      ],
      "metadata": {
        "execution": {
          "iopub.status.busy": "2023-03-18T08:42:31.481507Z",
          "iopub.execute_input": "2023-03-18T08:42:31.482016Z",
          "iopub.status.idle": "2023-03-18T08:42:31.497664Z",
          "shell.execute_reply.started": "2023-03-18T08:42:31.481971Z",
          "shell.execute_reply": "2023-03-18T08:42:31.496356Z"
        },
        "trusted": true,
        "colab": {
          "base_uri": "https://localhost:8080/"
        },
        "id": "auC7gVBoO_CU",
        "outputId": "fbf4914a-9c35-4ab5-eaf7-bd2ddf7b5ca7"
      },
      "execution_count": 41,
      "outputs": [
        {
          "output_type": "execute_result",
          "data": {
            "text/plain": [
              "<tf.Tensor: shape=(30,), dtype=float32, numpy=\n",
              "array([0.08097744, 0.27146375, 0.26112723, 0.39334738, 0.7670845 ,\n",
              "       0.5373272 , 0.53815246, 0.41563308, 0.40667117, 0.65529   ,\n",
              "       0.5291939 , 0.13502538, 0.59320295, 0.5388031 , 0.17635989,\n",
              "       0.45555162, 0.9611225 , 0.7442961 , 0.77252376, 0.6969732 ,\n",
              "       0.57887435, 0.74274695, 0.25819337, 0.2897116 , 0.10989571,\n",
              "       0.6813458 , 0.7710763 , 0.7605777 , 0.5021825 , 0.03790379],\n",
              "      dtype=float32)>"
            ]
          },
          "metadata": {},
          "execution_count": 41
        }
      ]
    },
    {
      "cell_type": "code",
      "source": [
        "# Find the positional maximum\n",
        "tf.argmax(R)\n"
      ],
      "metadata": {
        "execution": {
          "iopub.status.busy": "2023-03-18T08:46:32.845624Z",
          "iopub.execute_input": "2023-03-18T08:46:32.846165Z",
          "iopub.status.idle": "2023-03-18T08:46:32.856341Z",
          "shell.execute_reply.started": "2023-03-18T08:46:32.846112Z",
          "shell.execute_reply": "2023-03-18T08:46:32.854988Z"
        },
        "trusted": true,
        "colab": {
          "base_uri": "https://localhost:8080/"
        },
        "id": "ZrFjBRt-O_CU",
        "outputId": "4c527787-7998-4533-f43f-3299347ffab9"
      },
      "execution_count": 42,
      "outputs": [
        {
          "output_type": "execute_result",
          "data": {
            "text/plain": [
              "<tf.Tensor: shape=(), dtype=int64, numpy=16>"
            ]
          },
          "metadata": {},
          "execution_count": 42
        }
      ]
    },
    {
      "cell_type": "code",
      "source": [
        "# Max Value is \n",
        "R[int(tf.argmax(R).numpy())].numpy()"
      ],
      "metadata": {
        "execution": {
          "iopub.status.busy": "2023-03-18T08:47:40.513866Z",
          "iopub.execute_input": "2023-03-18T08:47:40.514381Z",
          "iopub.status.idle": "2023-03-18T08:47:40.525810Z",
          "shell.execute_reply.started": "2023-03-18T08:47:40.514336Z",
          "shell.execute_reply": "2023-03-18T08:47:40.524392Z"
        },
        "trusted": true,
        "colab": {
          "base_uri": "https://localhost:8080/"
        },
        "id": "Q6WNfcv8O_CU",
        "outputId": "0d3e2de2-5c40-472c-84ee-cf3a797f7058"
      },
      "execution_count": 43,
      "outputs": [
        {
          "output_type": "execute_result",
          "data": {
            "text/plain": [
              "0.9611225"
            ]
          },
          "metadata": {},
          "execution_count": 43
        }
      ]
    },
    {
      "cell_type": "code",
      "source": [
        "# find Positional Min\n",
        "tf.argmin(R)"
      ],
      "metadata": {
        "execution": {
          "iopub.status.busy": "2023-03-18T08:50:13.620658Z",
          "iopub.execute_input": "2023-03-18T08:50:13.621104Z",
          "iopub.status.idle": "2023-03-18T08:50:13.631161Z",
          "shell.execute_reply.started": "2023-03-18T08:50:13.621063Z",
          "shell.execute_reply": "2023-03-18T08:50:13.629822Z"
        },
        "trusted": true,
        "colab": {
          "base_uri": "https://localhost:8080/"
        },
        "id": "9_O9TraYO_CU",
        "outputId": "bd56eeed-8e27-4a1d-e42f-86bef5fdbd33"
      },
      "execution_count": 44,
      "outputs": [
        {
          "output_type": "execute_result",
          "data": {
            "text/plain": [
              "<tf.Tensor: shape=(), dtype=int64, numpy=29>"
            ]
          },
          "metadata": {},
          "execution_count": 44
        }
      ]
    },
    {
      "cell_type": "code",
      "source": [
        "# Min value is \n",
        "R[int(tf.argmin(R).numpy())].numpy()"
      ],
      "metadata": {
        "execution": {
          "iopub.status.busy": "2023-03-18T08:51:16.640808Z",
          "iopub.execute_input": "2023-03-18T08:51:16.641248Z",
          "iopub.status.idle": "2023-03-18T08:51:16.651413Z",
          "shell.execute_reply.started": "2023-03-18T08:51:16.641213Z",
          "shell.execute_reply": "2023-03-18T08:51:16.650071Z"
        },
        "trusted": true,
        "colab": {
          "base_uri": "https://localhost:8080/"
        },
        "id": "qBa51JSMO_CU",
        "outputId": "d5208576-0bc0-4154-ebd7-9dd9e4b5b5cb"
      },
      "execution_count": 45,
      "outputs": [
        {
          "output_type": "execute_result",
          "data": {
            "text/plain": [
              "0.037903786"
            ]
          },
          "metadata": {},
          "execution_count": 45
        }
      ]
    },
    {
      "cell_type": "markdown",
      "source": [
        "## Editing dimension of a tensor(Squeezing Tensor)"
      ],
      "metadata": {
        "id": "Kmpt3-jgO_CU"
      }
    },
    {
      "cell_type": "code",
      "source": [
        "# Using the previous tensor 'R' but ReShaping it\n",
        "RR = tf.reshape(R, shape=[1,1,1,1,30])\n",
        "RR,RR.shape"
      ],
      "metadata": {
        "execution": {
          "iopub.status.busy": "2023-03-18T08:58:35.329181Z",
          "iopub.execute_input": "2023-03-18T08:58:35.329666Z",
          "iopub.status.idle": "2023-03-18T08:58:35.345268Z",
          "shell.execute_reply.started": "2023-03-18T08:58:35.329627Z",
          "shell.execute_reply": "2023-03-18T08:58:35.343446Z"
        },
        "trusted": true,
        "colab": {
          "base_uri": "https://localhost:8080/"
        },
        "id": "o0RQoCNUO_CU",
        "outputId": "3a93de69-9a85-4018-b62c-7e2fe4a39887"
      },
      "execution_count": 46,
      "outputs": [
        {
          "output_type": "execute_result",
          "data": {
            "text/plain": [
              "(<tf.Tensor: shape=(1, 1, 1, 1, 30), dtype=float32, numpy=\n",
              " array([[[[[0.08097744, 0.27146375, 0.26112723, 0.39334738, 0.7670845 ,\n",
              "            0.5373272 , 0.53815246, 0.41563308, 0.40667117, 0.65529   ,\n",
              "            0.5291939 , 0.13502538, 0.59320295, 0.5388031 , 0.17635989,\n",
              "            0.45555162, 0.9611225 , 0.7442961 , 0.77252376, 0.6969732 ,\n",
              "            0.57887435, 0.74274695, 0.25819337, 0.2897116 , 0.10989571,\n",
              "            0.6813458 , 0.7710763 , 0.7605777 , 0.5021825 , 0.03790379]]]]],\n",
              "       dtype=float32)>, TensorShape([1, 1, 1, 1, 30]))"
            ]
          },
          "metadata": {},
          "execution_count": 46
        }
      ]
    },
    {
      "cell_type": "code",
      "source": [
        "# Squeezing = Remove dim of size 1 from the tensor\n",
        "RR_s = tf.squeeze(RR)\n",
        "RR_s,RR_s.shape"
      ],
      "metadata": {
        "execution": {
          "iopub.status.busy": "2023-03-18T08:58:48.474497Z",
          "iopub.execute_input": "2023-03-18T08:58:48.475808Z",
          "iopub.status.idle": "2023-03-18T08:58:48.485452Z",
          "shell.execute_reply.started": "2023-03-18T08:58:48.475749Z",
          "shell.execute_reply": "2023-03-18T08:58:48.483893Z"
        },
        "trusted": true,
        "colab": {
          "base_uri": "https://localhost:8080/"
        },
        "id": "c3Bp-DuxO_CV",
        "outputId": "fc479fa8-b7a6-4c54-f1de-22e9e94b299d"
      },
      "execution_count": 47,
      "outputs": [
        {
          "output_type": "execute_result",
          "data": {
            "text/plain": [
              "(<tf.Tensor: shape=(30,), dtype=float32, numpy=\n",
              " array([0.08097744, 0.27146375, 0.26112723, 0.39334738, 0.7670845 ,\n",
              "        0.5373272 , 0.53815246, 0.41563308, 0.40667117, 0.65529   ,\n",
              "        0.5291939 , 0.13502538, 0.59320295, 0.5388031 , 0.17635989,\n",
              "        0.45555162, 0.9611225 , 0.7442961 , 0.77252376, 0.6969732 ,\n",
              "        0.57887435, 0.74274695, 0.25819337, 0.2897116 , 0.10989571,\n",
              "        0.6813458 , 0.7710763 , 0.7605777 , 0.5021825 , 0.03790379],\n",
              "       dtype=float32)>, TensorShape([30]))"
            ]
          },
          "metadata": {},
          "execution_count": 47
        }
      ]
    },
    {
      "cell_type": "markdown",
      "source": [
        "## One-hot encoding tenor"
      ],
      "metadata": {
        "id": "iZQqsJ9OO_CV"
      }
    },
    {
      "cell_type": "code",
      "source": [
        "# Creating a list of indices\n",
        "l = [0,1,2,3] \n",
        "tf.one_hot(l,depth=4)"
      ],
      "metadata": {
        "colab": {
          "base_uri": "https://localhost:8080/"
        },
        "id": "Er4T426CO_CV",
        "outputId": "31ce6048-7972-4c54-9d34-9eb1132f9be9"
      },
      "execution_count": 48,
      "outputs": [
        {
          "output_type": "execute_result",
          "data": {
            "text/plain": [
              "<tf.Tensor: shape=(4, 4), dtype=float32, numpy=\n",
              "array([[1., 0., 0., 0.],\n",
              "       [0., 1., 0., 0.],\n",
              "       [0., 0., 1., 0.],\n",
              "       [0., 0., 0., 1.]], dtype=float32)>"
            ]
          },
          "metadata": {},
          "execution_count": 48
        }
      ]
    },
    {
      "cell_type": "code",
      "source": [
        "# Specify custom values for one hot encoding\n",
        "tf.one_hot(l,depth=4,on_value='python',off_value='javascript')"
      ],
      "metadata": {
        "colab": {
          "base_uri": "https://localhost:8080/"
        },
        "id": "_MxUo9Q-QM4l",
        "outputId": "4fc7b5c3-6b01-4edd-d5f8-cb30dff02338"
      },
      "execution_count": 49,
      "outputs": [
        {
          "output_type": "execute_result",
          "data": {
            "text/plain": [
              "<tf.Tensor: shape=(4, 4), dtype=string, numpy=\n",
              "array([[b'python', b'javascript', b'javascript', b'javascript'],\n",
              "       [b'javascript', b'python', b'javascript', b'javascript'],\n",
              "       [b'javascript', b'javascript', b'python', b'javascript'],\n",
              "       [b'javascript', b'javascript', b'javascript', b'python']],\n",
              "      dtype=object)>"
            ]
          },
          "metadata": {},
          "execution_count": 49
        }
      ]
    },
    {
      "cell_type": "markdown",
      "source": [
        "## Square,log,square root in tensor"
      ],
      "metadata": {
        "id": "o9jg9H8OTtdM"
      }
    },
    {
      "cell_type": "code",
      "source": [
        "# Creating a tensor using range function\n",
        "S = tf.range(1,8)\n",
        "S"
      ],
      "metadata": {
        "colab": {
          "base_uri": "https://localhost:8080/"
        },
        "id": "D6u1xZpST5hc",
        "outputId": "04522a60-94d5-4bb1-b9dd-9dca4c0af9ed"
      },
      "execution_count": 56,
      "outputs": [
        {
          "output_type": "execute_result",
          "data": {
            "text/plain": [
              "<tf.Tensor: shape=(7,), dtype=int32, numpy=array([1, 2, 3, 4, 5, 6, 7], dtype=int32)>"
            ]
          },
          "metadata": {},
          "execution_count": 56
        }
      ]
    },
    {
      "cell_type": "code",
      "source": [
        "# Squaring S\n",
        "tf.square(S)"
      ],
      "metadata": {
        "colab": {
          "base_uri": "https://localhost:8080/"
        },
        "id": "8zbhWMxhUHj0",
        "outputId": "def806f9-9f48-4b93-ae9e-78a729d960d2"
      },
      "execution_count": 55,
      "outputs": [
        {
          "output_type": "execute_result",
          "data": {
            "text/plain": [
              "<tf.Tensor: shape=(7,), dtype=int32, numpy=array([   1,   16,   81,  256,  625, 1296, 2401], dtype=int32)>"
            ]
          },
          "metadata": {},
          "execution_count": 55
        }
      ]
    },
    {
      "cell_type": "code",
      "source": [
        "# square root of S\n",
        "tf.sqrt(tf.cast(S,dtype=tf.float32))  #int is not supported"
      ],
      "metadata": {
        "id": "35mo9IgLUP3T",
        "colab": {
          "base_uri": "https://localhost:8080/"
        },
        "outputId": "a847733c-3ab8-4136-9d05-d7578c04425b"
      },
      "execution_count": 57,
      "outputs": [
        {
          "output_type": "execute_result",
          "data": {
            "text/plain": [
              "<tf.Tensor: shape=(7,), dtype=float32, numpy=\n",
              "array([1.       , 1.4142135, 1.7320508, 2.       , 2.236068 , 2.4494898,\n",
              "       2.6457512], dtype=float32)>"
            ]
          },
          "metadata": {},
          "execution_count": 57
        }
      ]
    },
    {
      "cell_type": "code",
      "source": [
        "# find the log \n",
        "tf.math.log(tf.cast(S,dtype=tf.float32)) #int is not supported"
      ],
      "metadata": {
        "colab": {
          "base_uri": "https://localhost:8080/"
        },
        "id": "ktV8dXLURO28",
        "outputId": "5306ab38-91bb-4f08-8975-4e1ec130ea13"
      },
      "execution_count": 60,
      "outputs": [
        {
          "output_type": "execute_result",
          "data": {
            "text/plain": [
              "<tf.Tensor: shape=(7,), dtype=float32, numpy=\n",
              "array([0.       , 0.6931472, 1.0986123, 1.3862944, 1.609438 , 1.7917595,\n",
              "       1.9459101], dtype=float32)>"
            ]
          },
          "metadata": {},
          "execution_count": 60
        }
      ]
    },
    {
      "cell_type": "markdown",
      "source": [
        "## Using Tensor with NumPy\n",
        "\n",
        "### In creation of model we come across numpy and tensor interaction quite often!😁"
      ],
      "metadata": {
        "id": "IvGVCTMYda5o"
      }
    },
    {
      "cell_type": "code",
      "source": [
        "#Creating a tensor from numpy\n",
        "N = tf.constant (np.array([2.3,2.4,3.2]))\n",
        "N,type(N)"
      ],
      "metadata": {
        "colab": {
          "base_uri": "https://localhost:8080/"
        },
        "id": "F46QY9nXS5cr",
        "outputId": "37bedd91-3631-400f-b6ac-5c25ade4c94c"
      },
      "execution_count": 66,
      "outputs": [
        {
          "output_type": "execute_result",
          "data": {
            "text/plain": [
              "(<tf.Tensor: shape=(3,), dtype=float64, numpy=array([2.3, 2.4, 3.2])>,\n",
              " tensorflow.python.framework.ops.EagerTensor)"
            ]
          },
          "metadata": {},
          "execution_count": 66
        }
      ]
    },
    {
      "cell_type": "code",
      "source": [
        "# recreating the numpy from the tensor\n",
        "np.array(N),type(np.array(N))"
      ],
      "metadata": {
        "colab": {
          "base_uri": "https://localhost:8080/"
        },
        "id": "KTWLpR6seGtC",
        "outputId": "b27cc66f-500a-4ea9-995c-dee778e2108c"
      },
      "execution_count": 65,
      "outputs": [
        {
          "output_type": "execute_result",
          "data": {
            "text/plain": [
              "(array([2.3, 2.4, 3.2]), numpy.ndarray)"
            ]
          },
          "metadata": {},
          "execution_count": 65
        }
      ]
    },
    {
      "cell_type": "code",
      "source": [
        "# Alternative way tensor --> numpy\n",
        "N.numpy(),type(N.numpy())"
      ],
      "metadata": {
        "colab": {
          "base_uri": "https://localhost:8080/"
        },
        "id": "BfgkegO6gkDT",
        "outputId": "cf0bdcba-8644-4248-8e68-c76b42762adb"
      },
      "execution_count": 67,
      "outputs": [
        {
          "output_type": "execute_result",
          "data": {
            "text/plain": [
              "(array([2.3, 2.4, 3.2]), numpy.ndarray)"
            ]
          },
          "metadata": {},
          "execution_count": 67
        }
      ]
    },
    {
      "cell_type": "code",
      "source": [
        "# The default datatype of each are slightly different\n",
        "numpy_N = tf.constant(np.array([2.,3.,4.]))\n",
        "tensor_N = tf.constant([2.,3.,4.])\n",
        "# Check the datatype of each \n",
        "numpy_N.dtype,tensor_N.dtype\n",
        "# default for numpy is 64"
      ],
      "metadata": {
        "colab": {
          "base_uri": "https://localhost:8080/"
        },
        "id": "h9PD79-NhYrq",
        "outputId": "8ed0920b-b3d5-443d-c723-66fa4f4590e3"
      },
      "execution_count": 69,
      "outputs": [
        {
          "output_type": "execute_result",
          "data": {
            "text/plain": [
              "(tf.float64, tf.float32)"
            ]
          },
          "metadata": {},
          "execution_count": 69
        }
      ]
    },
    {
      "cell_type": "code",
      "source": [],
      "metadata": {
        "id": "OSlBM3Wjikx8"
      },
      "execution_count": null,
      "outputs": []
    }
  ]
}