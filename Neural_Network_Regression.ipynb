{
  "cells": [
    {
      "cell_type": "markdown",
      "metadata": {
        "id": "view-in-github",
        "colab_type": "text"
      },
      "source": [
        "<a href=\"https://colab.research.google.com/github/pravincoder/Fundamentals_tensorflow/blob/main/Neural_Network_Regression.ipynb\" target=\"_parent\"><img src=\"https://colab.research.google.com/assets/colab-badge.svg\" alt=\"Open In Colab\"/></a>"
      ]
    },
    {
      "cell_type": "markdown",
      "metadata": {
        "id": "3AzrlKeWvfOi"
      },
      "source": [
        "# Neural Network Regression \n",
        "### Whats to cover in this notebook?\n",
        "* Architecture of neural network regression model.\n",
        "* Input/Output shapes of regression model.\n",
        "* Creating custom data to view and fit. \n",
        "* (Modeling) Creating a model,compiling,fitting and evaluating the model.\n",
        "* Different evaluation method\n",
        "* (IMP) Saving and loading a model"
      ]
    },
    {
      "cell_type": "markdown",
      "metadata": {
        "id": "xGc1U1ZWGPZW"
      },
      "source": [
        "# Introduction to Regression with Neural Network in Tensorflow\n",
        "\n",
        " The simple defination is prediction of the numerial value based on various combinations of variables (both relational and non-realtional) .\n",
        "\n"
      ]
    },
    {
      "cell_type": "code",
      "execution_count": null,
      "metadata": {
        "id": "qSoD-vUrwnsD"
      },
      "outputs": [],
      "source": [
        "# import tensorflow , numpy,matplotlib.pyplot\n",
        "import tensorflow as tf\n",
        "import numpy as np\n",
        "import matplotlib.pyplot as plt"
      ]
    },
    {
      "cell_type": "code",
      "execution_count": null,
      "metadata": {
        "id": "LufQsW-kjrIw"
      },
      "outputs": [],
      "source": []
    },
    {
      "cell_type": "code",
      "execution_count": null,
      "metadata": {
        "id": "7fTkbz2IGGiP"
      },
      "outputs": [],
      "source": [
        "# Create features\n",
        "X = np.array([-7.0,-4.0,-1.0,2.,3.,4.,6.,8.,11.0,14.])\n",
        "Y = np.array([2.0,5.0,8.0,11.0,12.,13.,15.,17.,20.,23.])"
      ]
    },
    {
      "cell_type": "code",
      "execution_count": null,
      "metadata": {
        "colab": {
          "base_uri": "https://localhost:8080/",
          "height": 283
        },
        "id": "g3XIDXfJIIqx",
        "outputId": "ececf8ed-7e91-4c82-92ad-ef09ba584eae"
      },
      "outputs": [
        {
          "data": {
            "text/plain": [
              "<matplotlib.collections.PathCollection at 0x7fbddc7022e0>"
            ]
          },
          "execution_count": 3,
          "metadata": {},
          "output_type": "execute_result"
        },
        {
          "data": {
            "image/png": "[encoded data removed]",
            "text/plain": [
              "<Figure size 432x288 with 1 Axes>"
            ]
          },
          "metadata": {},
          "output_type": "display_data"
        }
      ],
      "source": [
        "# Visual the data\n",
        "plt.scatter(X,Y)"
      ]
    },
    {
      "cell_type": "code",
      "execution_count": null,
      "metadata": {
        "colab": {
          "base_uri": "https://localhost:8080/"
        },
        "id": "1OJNadLtLGYX",
        "outputId": "27e4bcb7-f641-4047-c65b-a9951092d80f"
      },
      "outputs": [
        {
          "data": {
            "text/plain": [
              "array([ True,  True,  True,  True,  True,  True,  True,  True,  True,\n",
              "        True])"
            ]
          },
          "execution_count": 4,
          "metadata": {},
          "output_type": "execute_result"
        }
      ],
      "source": [
        "Y == X+9"
      ]
    },
    {
      "cell_type": "markdown",
      "metadata": {
        "id": "d3gi4hqsJ5sv"
      },
      "source": [
        "# Input and Output Shape"
      ]
    },
    {
      "cell_type": "code",
      "execution_count": null,
      "metadata": {
        "colab": {
          "base_uri": "https://localhost:8080/"
        },
        "id": "2Q_0ZEZcIPQP",
        "outputId": "0ad933c6-1334-46e4-c160-bc6ad94b031c"
      },
      "outputs": [
        {
          "data": {
            "text/plain": [
              "(<tf.Tensor: shape=(3,), dtype=string, numpy=array([b'bedroom', b'bathroom', b'garage'], dtype=object)>,\n",
              " <tf.Tensor: shape=(1,), dtype=int32, numpy=array([934000], dtype=int32)>)"
            ]
          },
          "execution_count": 5,
          "metadata": {},
          "output_type": "execute_result"
        }
      ],
      "source": [
        "# Create a demo tensor for our housing price prediction problem\n",
        "house_info=tf.constant([\"bedroom\",\"bathroom\",\"garage\"])\n",
        "house_price = tf.constant([934000])\n",
        "house_info,house_price"
      ]
    },
    {
      "cell_type": "code",
      "execution_count": null,
      "metadata": {
        "colab": {
          "base_uri": "https://localhost:8080/"
        },
        "id": "GwFb-tjTKGHo",
        "outputId": "58decd2b-92bd-4bc8-d506-28931242ef3e"
      },
      "outputs": [
        {
          "data": {
            "text/plain": [
              "((), ())"
            ]
          },
          "execution_count": 6,
          "metadata": {},
          "output_type": "execute_result"
        }
      ],
      "source": [
        "input_shape = X[0].shape\n",
        "output_shape = Y[0].shape\n",
        "input_shape,output_shape"
      ]
    },
    {
      "cell_type": "code",
      "execution_count": null,
      "metadata": {
        "colab": {
          "base_uri": "https://localhost:8080/"
        },
        "id": "OmGMBu3_VdeM",
        "outputId": "14f5e9da-5acc-452e-bc2b-87d32ea8af63"
      },
      "outputs": [
        {
          "data": {
            "text/plain": [
              "0"
            ]
          },
          "execution_count": 7,
          "metadata": {},
          "output_type": "execute_result"
        }
      ],
      "source": [
        "X[0].ndim # Given input is a numpy array not a tensor"
      ]
    },
    {
      "cell_type": "code",
      "execution_count": null,
      "metadata": {
        "colab": {
          "base_uri": "https://localhost:8080/"
        },
        "id": "zwuInJJ_kBI4",
        "outputId": "ea29fd65-1222-410a-c83e-2dba5bacd4b0"
      },
      "outputs": [
        {
          "data": {
            "text/plain": [
              "(array([-7., -4., -1.,  2.,  3.,  4.,  6.,  8., 11., 14.]),\n",
              " array([ 2.,  5.,  8., 11., 12., 13., 15., 17., 20., 23.]))"
            ]
          },
          "execution_count": 8,
          "metadata": {},
          "output_type": "execute_result"
        }
      ],
      "source": [
        "X,Y"
      ]
    },
    {
      "cell_type": "code",
      "execution_count": null,
      "metadata": {
        "colab": {
          "base_uri": "https://localhost:8080/"
        },
        "id": "2Vj3cXoHVkwo",
        "outputId": "ddb09f4d-c86a-4c43-8be4-c251e8265be6"
      },
      "outputs": [
        {
          "data": {
            "text/plain": [
              "(TensorShape([10]), TensorShape([10]))"
            ]
          },
          "execution_count": 9,
          "metadata": {},
          "output_type": "execute_result"
        }
      ],
      "source": [
        "# Turn our Numpy array to Tensor\n",
        "X= tf.constant(X)\n",
        "Y= tf.constant(Y)\n",
        "\n",
        "X = tf.cast(X,dtype=tf.float32)\n",
        "Y = tf.cast(Y,dtype=tf.float32)\n",
        "X.shape,Y.shape"
      ]
    },
    {
      "cell_type": "markdown",
      "metadata": {
        "id": "k6oqVFrjWPK5"
      },
      "source": [
        "# Steps in Modeling with Tensorflow\n",
        "\n",
        "* **Creating a Model** - define the input and output layers, as well as the hidden layers of the deep learning model.\n",
        "* **Compiling a model** - define the loss function (in other words, the function which tells our model how wrong it is) and the Optimizer(tells our model how to improve in reading the patterns) and evaluation metrics (what we can use to interpret the preformance of our model).\n",
        "* **Fitting a Model** - letting the model try to find the pattern btw Features and Label(X & Y)."
      ]
    },
    {
      "cell_type": "code",
      "execution_count": null,
      "metadata": {
        "colab": {
          "base_uri": "https://localhost:8080/"
        },
        "id": "3A_q3U2mVuXo",
        "outputId": "38c8a0ec-cb43-4ffd-ace9-7976ef6e119a"
      },
      "outputs": [
        {
          "name": "stdout",
          "output_type": "stream",
          "text": [
            "Epoch 1/5\n",
            "1/1 [==============================] - 0s 451ms/step - loss: 8.2220 - mae: 8.2220\n",
            "Epoch 2/5\n",
            "1/1 [==============================] - 0s 9ms/step - loss: 8.0824 - mae: 8.0824\n",
            "Epoch 3/5\n",
            "1/1 [==============================] - 0s 11ms/step - loss: 7.9428 - mae: 7.9428\n",
            "Epoch 4/5\n",
            "1/1 [==============================] - 0s 10ms/step - loss: 7.8032 - mae: 7.8032\n",
            "Epoch 5/5\n",
            "1/1 [==============================] - 0s 11ms/step - loss: 7.6636 - mae: 7.6636\n"
          ]
        },
        {
          "data": {
            "text/plain": [
              "<keras.callbacks.History at 0x7fbdd4f50f10>"
            ]
          },
          "execution_count": 10,
          "metadata": {},
          "output_type": "execute_result"
        }
      ],
      "source": [
        "# Set Random Seed\n",
        "tf.random.set_seed(42)\n",
        "\n",
        "# Create a model using Sequential API\n",
        "model= tf.keras.Sequential([ tf.keras.layers.Dense(1,input_shape=(1,))])\n",
        "\n",
        "# Compile the model\n",
        "model.compile(loss=tf.keras.losses.mae,optimizer=tf.keras.optimizers.SGD(),\n",
        "              metrics=['mae'])\n",
        "\n",
        "# Fit the model\n",
        "model.fit(X,Y,epochs=5)\n"
      ]
    },
    {
      "cell_type": "code",
      "execution_count": null,
      "metadata": {
        "colab": {
          "base_uri": "https://localhost:8080/"
        },
        "id": "y2O6BD05g20y",
        "outputId": "b5f729f8-e03d-43b5-9c4a-f653c6f4a74b"
      },
      "outputs": [
        {
          "name": "stdout",
          "output_type": "stream",
          "text": [
            "1/1 [==============================] - 0s 256ms/step\n"
          ]
        },
        {
          "data": {
            "text/plain": [
              "array([[23.783852]], dtype=float32)"
            ]
          },
          "execution_count": 11,
          "metadata": {},
          "output_type": "execute_result"
        }
      ],
      "source": [
        "# try and make prediction\n",
        "model.predict([17.0])\n",
        "# output should be 17+9=26 "
      ]
    },
    {
      "cell_type": "markdown",
      "metadata": {
        "id": "rQUkOwz2pVLQ"
      },
      "source": [
        "# Improve our Model\n",
        "\n",
        "We can improve our model , by altering the steps we took to create a model\n",
        "\n",
        "* **Creating the Model** - we might add more layers,increase the number of hidden units (all called neurons) within each of the hidden layers,change the activation function of each layer\n",
        "\n",
        "* **Compiling a Model** - we should try changing the optimization function or perhaps the **learning rate** of the Optimization function.\n",
        "\n",
        "* **Fitting a Model** - we might fit the model for more **epochs** (leave it training for longer)  or on more data. "
      ]
    },
    {
      "cell_type": "code",
      "execution_count": null,
      "metadata": {
        "colab": {
          "base_uri": "https://localhost:8080/"
        },
        "id": "z9QrcYoxZaWy",
        "outputId": "61b67f79-4a8c-4d92-8213-40cac8cf279d"
      },
      "outputs": [
        {
          "name": "stdout",
          "output_type": "stream",
          "text": [
            "Epoch 1/100\n",
            "1/1 [==============================] - 0s 290ms/step - loss: 13.3920 - mae: 13.3920\n",
            "Epoch 2/100\n",
            "1/1 [==============================] - 0s 8ms/step - loss: 13.2524 - mae: 13.2524\n",
            "Epoch 3/100\n",
            "1/1 [==============================] - 0s 8ms/step - loss: 13.1128 - mae: 13.1128\n",
            "Epoch 4/100\n",
            "1/1 [==============================] - 0s 9ms/step - loss: 12.9732 - mae: 12.9732\n",
            "Epoch 5/100\n",
            "1/1 [==============================] - 0s 9ms/step - loss: 12.8336 - mae: 12.8336\n",
            "Epoch 6/100\n",
            "1/1 [==============================] - 0s 8ms/step - loss: 12.6940 - mae: 12.6940\n",
            "Epoch 7/100\n",
            "1/1 [==============================] - 0s 8ms/step - loss: 12.5544 - mae: 12.5544\n",
            "Epoch 8/100\n",
            "1/1 [==============================] - 0s 7ms/step - loss: 12.4148 - mae: 12.4148\n",
            "Epoch 9/100\n",
            "1/1 [==============================] - 0s 8ms/step - loss: 12.2752 - mae: 12.2752\n",
            "Epoch 10/100\n",
            "1/1 [==============================] - 0s 8ms/step - loss: 12.1356 - mae: 12.1356\n",
            "Epoch 11/100\n",
            "1/1 [==============================] - 0s 8ms/step - loss: 11.9960 - mae: 11.9960\n",
            "Epoch 12/100\n",
            "1/1 [==============================] - 0s 10ms/step - loss: 11.8564 - mae: 11.8564\n",
            "Epoch 13/100\n",
            "1/1 [==============================] - 0s 9ms/step - loss: 11.7168 - mae: 11.7168\n",
            "Epoch 14/100\n",
            "1/1 [==============================] - 0s 7ms/step - loss: 11.5772 - mae: 11.5772\n",
            "Epoch 15/100\n",
            "1/1 [==============================] - 0s 9ms/step - loss: 11.4376 - mae: 11.4376\n",
            "Epoch 16/100\n",
            "1/1 [==============================] - 0s 8ms/step - loss: 11.2980 - mae: 11.2980\n",
            "Epoch 17/100\n",
            "1/1 [==============================] - 0s 8ms/step - loss: 11.1584 - mae: 11.1584\n",
            "Epoch 18/100\n",
            "1/1 [==============================] - 0s 9ms/step - loss: 11.0188 - mae: 11.0188\n",
            "Epoch 19/100\n",
            "1/1 [==============================] - 0s 7ms/step - loss: 10.8792 - mae: 10.8792\n",
            "Epoch 20/100\n",
            "1/1 [==============================] - 0s 9ms/step - loss: 10.7396 - mae: 10.7396\n",
            "Epoch 21/100\n",
            "1/1 [==============================] - 0s 8ms/step - loss: 10.6000 - mae: 10.6000\n",
            "Epoch 22/100\n",
            "1/1 [==============================] - 0s 8ms/step - loss: 10.4604 - mae: 10.4604\n",
            "Epoch 23/100\n",
            "1/1 [==============================] - 0s 8ms/step - loss: 10.3208 - mae: 10.3208\n",
            "Epoch 24/100\n",
            "1/1 [==============================] - 0s 8ms/step - loss: 10.1812 - mae: 10.1812\n",
            "Epoch 25/100\n",
            "1/1 [==============================] - 0s 8ms/step - loss: 10.0416 - mae: 10.0416\n",
            "Epoch 26/100\n",
            "1/1 [==============================] - 0s 8ms/step - loss: 9.9020 - mae: 9.9020\n",
            "Epoch 27/100\n",
            "1/1 [==============================] - 0s 9ms/step - loss: 9.7624 - mae: 9.7624\n",
            "Epoch 28/100\n",
            "1/1 [==============================] - 0s 8ms/step - loss: 9.6228 - mae: 9.6228\n",
            "Epoch 29/100\n",
            "1/1 [==============================] - 0s 8ms/step - loss: 9.4832 - mae: 9.4832\n",
            "Epoch 30/100\n",
            "1/1 [==============================] - 0s 9ms/step - loss: 9.3436 - mae: 9.3436\n",
            "Epoch 31/100\n",
            "1/1 [==============================] - 0s 9ms/step - loss: 9.2040 - mae: 9.2040\n",
            "Epoch 32/100\n",
            "1/1 [==============================] - 0s 9ms/step - loss: 9.0644 - mae: 9.0644\n",
            "Epoch 33/100\n",
            "1/1 [==============================] - 0s 7ms/step - loss: 8.9248 - mae: 8.9248\n",
            "Epoch 34/100\n",
            "1/1 [==============================] - 0s 8ms/step - loss: 8.7852 - mae: 8.7852\n",
            "Epoch 35/100\n",
            "1/1 [==============================] - 0s 8ms/step - loss: 8.6456 - mae: 8.6456\n",
            "Epoch 36/100\n",
            "1/1 [==============================] - 0s 10ms/step - loss: 8.5060 - mae: 8.5060\n",
            "Epoch 37/100\n",
            "1/1 [==============================] - 0s 8ms/step - loss: 8.3664 - mae: 8.3664\n",
            "Epoch 38/100\n",
            "1/1 [==============================] - 0s 8ms/step - loss: 8.2268 - mae: 8.2268\n",
            "Epoch 39/100\n",
            "1/1 [==============================] - 0s 9ms/step - loss: 8.0872 - mae: 8.0872\n",
            "Epoch 40/100\n",
            "1/1 [==============================] - 0s 8ms/step - loss: 7.9476 - mae: 7.9476\n",
            "Epoch 41/100\n",
            "1/1 [==============================] - 0s 8ms/step - loss: 7.8080 - mae: 7.8080\n",
            "Epoch 42/100\n",
            "1/1 [==============================] - 0s 9ms/step - loss: 7.6684 - mae: 7.6684\n",
            "Epoch 43/100\n",
            "1/1 [==============================] - 0s 9ms/step - loss: 7.5288 - mae: 7.5288\n",
            "Epoch 44/100\n",
            "1/1 [==============================] - 0s 8ms/step - loss: 7.3892 - mae: 7.3892\n",
            "Epoch 45/100\n",
            "1/1 [==============================] - 0s 8ms/step - loss: 7.2496 - mae: 7.2496\n",
            "Epoch 46/100\n",
            "1/1 [==============================] - 0s 8ms/step - loss: 7.1100 - mae: 7.1100\n",
            "Epoch 47/100\n",
            "1/1 [==============================] - 0s 8ms/step - loss: 6.9704 - mae: 6.9704\n",
            "Epoch 48/100\n",
            "1/1 [==============================] - 0s 8ms/step - loss: 6.8308 - mae: 6.8308\n",
            "Epoch 49/100\n",
            "1/1 [==============================] - 0s 8ms/step - loss: 6.6912 - mae: 6.6912\n",
            "Epoch 50/100\n",
            "1/1 [==============================] - 0s 9ms/step - loss: 6.5516 - mae: 6.5516\n",
            "Epoch 51/100\n",
            "1/1 [==============================] - 0s 8ms/step - loss: 6.4120 - mae: 6.4120\n",
            "Epoch 52/100\n",
            "1/1 [==============================] - 0s 8ms/step - loss: 6.2992 - mae: 6.2992\n",
            "Epoch 53/100\n",
            "1/1 [==============================] - 0s 9ms/step - loss: 6.2864 - mae: 6.2864\n",
            "Epoch 54/100\n",
            "1/1 [==============================] - 0s 8ms/step - loss: 6.2736 - mae: 6.2736\n",
            "Epoch 55/100\n",
            "1/1 [==============================] - 0s 8ms/step - loss: 6.2608 - mae: 6.2608\n",
            "Epoch 56/100\n",
            "1/1 [==============================] - 0s 8ms/step - loss: 6.2480 - mae: 6.2480\n",
            "Epoch 57/100\n",
            "1/1 [==============================] - 0s 9ms/step - loss: 6.2352 - mae: 6.2352\n",
            "Epoch 58/100\n",
            "1/1 [==============================] - 0s 8ms/step - loss: 6.2224 - mae: 6.2224\n",
            "Epoch 59/100\n",
            "1/1 [==============================] - 0s 9ms/step - loss: 6.2096 - mae: 6.2096\n",
            "Epoch 60/100\n",
            "1/1 [==============================] - 0s 8ms/step - loss: 6.1968 - mae: 6.1968\n",
            "Epoch 61/100\n",
            "1/1 [==============================] - 0s 8ms/step - loss: 6.1840 - mae: 6.1840\n",
            "Epoch 62/100\n",
            "1/1 [==============================] - 0s 8ms/step - loss: 6.1712 - mae: 6.1712\n",
            "Epoch 63/100\n",
            "1/1 [==============================] - 0s 8ms/step - loss: 6.1584 - mae: 6.1584\n",
            "Epoch 64/100\n",
            "1/1 [==============================] - 0s 9ms/step - loss: 6.1456 - mae: 6.1456\n",
            "Epoch 65/100\n",
            "1/1 [==============================] - 0s 8ms/step - loss: 6.1328 - mae: 6.1328\n",
            "Epoch 66/100\n",
            "1/1 [==============================] - 0s 9ms/step - loss: 6.1200 - mae: 6.1200\n",
            "Epoch 67/100\n",
            "1/1 [==============================] - 0s 7ms/step - loss: 6.1072 - mae: 6.1072\n",
            "Epoch 68/100\n",
            "1/1 [==============================] - 0s 8ms/step - loss: 6.0944 - mae: 6.0944\n",
            "Epoch 69/100\n",
            "1/1 [==============================] - 0s 8ms/step - loss: 6.0816 - mae: 6.0816\n",
            "Epoch 70/100\n",
            "1/1 [==============================] - 0s 8ms/step - loss: 6.0716 - mae: 6.0716\n",
            "Epoch 71/100\n",
            "1/1 [==============================] - 0s 8ms/step - loss: 6.0752 - mae: 6.0752\n",
            "Epoch 72/100\n",
            "1/1 [==============================] - 0s 8ms/step - loss: 6.0624 - mae: 6.0624\n",
            "Epoch 73/100\n",
            "1/1 [==============================] - 0s 9ms/step - loss: 6.0612 - mae: 6.0612\n",
            "Epoch 74/100\n",
            "1/1 [==============================] - 0s 9ms/step - loss: 6.0560 - mae: 6.0560\n",
            "Epoch 75/100\n",
            "1/1 [==============================] - 0s 8ms/step - loss: 6.0444 - mae: 6.0444\n",
            "Epoch 76/100\n",
            "1/1 [==============================] - 0s 8ms/step - loss: 6.0496 - mae: 6.0496\n",
            "Epoch 77/100\n",
            "1/1 [==============================] - 0s 12ms/step - loss: 6.0368 - mae: 6.0368\n",
            "Epoch 78/100\n",
            "1/1 [==============================] - 0s 10ms/step - loss: 6.0340 - mae: 6.0340\n",
            "Epoch 79/100\n",
            "1/1 [==============================] - 0s 10ms/step - loss: 6.0304 - mae: 6.0304\n",
            "Epoch 80/100\n",
            "1/1 [==============================] - 0s 8ms/step - loss: 6.0176 - mae: 6.0176\n",
            "Epoch 81/100\n",
            "1/1 [==============================] - 0s 9ms/step - loss: 6.0236 - mae: 6.0236\n",
            "Epoch 82/100\n",
            "1/1 [==============================] - 0s 8ms/step - loss: 6.0112 - mae: 6.0112\n",
            "Epoch 83/100\n",
            "1/1 [==============================] - 0s 9ms/step - loss: 6.0068 - mae: 6.0068\n",
            "Epoch 84/100\n",
            "1/1 [==============================] - 0s 9ms/step - loss: 6.0048 - mae: 6.0048\n",
            "Epoch 85/100\n",
            "1/1 [==============================] - 0s 8ms/step - loss: 5.9920 - mae: 5.9920\n",
            "Epoch 86/100\n",
            "1/1 [==============================] - 0s 7ms/step - loss: 5.9964 - mae: 5.9964\n",
            "Epoch 87/100\n",
            "1/1 [==============================] - 0s 11ms/step - loss: 5.9856 - mae: 5.9856\n",
            "Epoch 88/100\n",
            "1/1 [==============================] - 0s 9ms/step - loss: 5.9796 - mae: 5.9796\n",
            "Epoch 89/100\n",
            "1/1 [==============================] - 0s 9ms/step - loss: 5.9792 - mae: 5.9792\n",
            "Epoch 90/100\n",
            "1/1 [==============================] - 0s 9ms/step - loss: 5.9664 - mae: 5.9664\n",
            "Epoch 91/100\n",
            "1/1 [==============================] - 0s 8ms/step - loss: 5.9692 - mae: 5.9692\n",
            "Epoch 92/100\n",
            "1/1 [==============================] - 0s 8ms/step - loss: 5.9600 - mae: 5.9600\n",
            "Epoch 93/100\n",
            "1/1 [==============================] - 0s 8ms/step - loss: 5.9524 - mae: 5.9524\n",
            "Epoch 94/100\n",
            "1/1 [==============================] - 0s 8ms/step - loss: 5.9536 - mae: 5.9536\n",
            "Epoch 95/100\n",
            "1/1 [==============================] - 0s 9ms/step - loss: 5.9408 - mae: 5.9408\n",
            "Epoch 96/100\n",
            "1/1 [==============================] - 0s 8ms/step - loss: 5.9420 - mae: 5.9420\n",
            "Epoch 97/100\n",
            "1/1 [==============================] - 0s 9ms/step - loss: 5.9344 - mae: 5.9344\n",
            "Epoch 98/100\n",
            "1/1 [==============================] - 0s 9ms/step - loss: 5.9252 - mae: 5.9252\n",
            "Epoch 99/100\n",
            "1/1 [==============================] - 0s 8ms/step - loss: 5.9280 - mae: 5.9280\n",
            "Epoch 100/100\n",
            "1/1 [==============================] - 0s 11ms/step - loss: 5.9152 - mae: 5.9152\n"
          ]
        },
        {
          "data": {
            "text/plain": [
              "<keras.callbacks.History at 0x7fbdc7273dc0>"
            ]
          },
          "execution_count": 58,
          "metadata": {},
          "output_type": "execute_result"
        }
      ],
      "source": [
        "# Just increasing the epochs to 100 that is 10x and checking the model prediction\n",
        "# Create a model using Sequential API\n",
        "model2= tf.keras.Sequential([ tf.keras.layers.Dense(1,input_shape=(1,))])\n",
        "\n",
        "# Compile the model\n",
        "model2.compile(loss=tf.keras.losses.mae,optimizer=tf.keras.optimizers.SGD(),\n",
        "              metrics=['mae'])\n",
        "\n",
        "# Fit the model\n",
        "model2.fit(X,Y,epochs=100)"
      ]
    },
    {
      "cell_type": "code",
      "execution_count": null,
      "metadata": {
        "colab": {
          "base_uri": "https://localhost:8080/"
        },
        "id": "GFspL_-WaA57",
        "outputId": "543ff285-dde6-47d8-ef7a-2ccdff2d682b"
      },
      "outputs": [
        {
          "name": "stdout",
          "output_type": "stream",
          "text": [
            "1/1 [==============================] - 0s 63ms/step\n"
          ]
        },
        {
          "data": {
            "text/plain": [
              "array([[30.525969]], dtype=float32)"
            ]
          },
          "execution_count": 59,
          "metadata": {},
          "output_type": "execute_result"
        }
      ],
      "source": [
        "# Check the prediction of model2\n",
        "model2.predict([17.0])"
      ]
    },
    {
      "cell_type": "markdown",
      "metadata": {
        "id": "u_rPjZ-9uwzI"
      },
      "source": [
        "# Creating a Larger Model"
      ]
    },
    {
      "cell_type": "code",
      "execution_count": null,
      "metadata": {
        "colab": {
          "base_uri": "https://localhost:8080/"
        },
        "id": "2ydMKWSeoz9J",
        "outputId": "e00bef3a-47d8-4b1a-dc87-973b549ee0d3"
      },
      "outputs": [
        {
          "name": "stdout",
          "output_type": "stream",
          "text": [
            "Epoch 1/150\n",
            "1/1 [==============================] - 0s 492ms/step - loss: 12.3832 - mae: 12.3832\n",
            "Epoch 2/150\n",
            "1/1 [==============================] - 0s 9ms/step - loss: 12.1514 - mae: 12.1514\n",
            "Epoch 3/150\n",
            "1/1 [==============================] - 0s 9ms/step - loss: 11.9332 - mae: 11.9332\n",
            "Epoch 4/150\n",
            "1/1 [==============================] - 0s 10ms/step - loss: 11.7055 - mae: 11.7055\n",
            "Epoch 5/150\n",
            "1/1 [==============================] - 0s 9ms/step - loss: 11.4572 - mae: 11.4572\n",
            "Epoch 6/150\n",
            "1/1 [==============================] - 0s 8ms/step - loss: 11.1806 - mae: 11.1806\n",
            "Epoch 7/150\n",
            "1/1 [==============================] - 0s 8ms/step - loss: 10.8620 - mae: 10.8620\n",
            "Epoch 8/150\n",
            "1/1 [==============================] - 0s 9ms/step - loss: 10.4914 - mae: 10.4914\n",
            "Epoch 9/150\n",
            "1/1 [==============================] - 0s 10ms/step - loss: 10.0505 - mae: 10.0505\n",
            "Epoch 10/150\n",
            "1/1 [==============================] - 0s 10ms/step - loss: 9.5249 - mae: 9.5249\n",
            "Epoch 11/150\n",
            "1/1 [==============================] - 0s 9ms/step - loss: 8.9116 - mae: 8.9116\n",
            "Epoch 12/150\n",
            "1/1 [==============================] - 0s 8ms/step - loss: 8.1310 - mae: 8.1310\n",
            "Epoch 13/150\n",
            "1/1 [==============================] - 0s 9ms/step - loss: 7.1152 - mae: 7.1152\n",
            "Epoch 14/150\n",
            "1/1 [==============================] - 0s 9ms/step - loss: 5.7595 - mae: 5.7595\n",
            "Epoch 15/150\n",
            "1/1 [==============================] - 0s 9ms/step - loss: 4.0661 - mae: 4.0661\n",
            "Epoch 16/150\n",
            "1/1 [==============================] - 0s 8ms/step - loss: 3.8356 - mae: 3.8356\n",
            "Epoch 17/150\n",
            "1/1 [==============================] - 0s 9ms/step - loss: 3.8225 - mae: 3.8225\n",
            "Epoch 18/150\n",
            "1/1 [==============================] - 0s 9ms/step - loss: 3.8095 - mae: 3.8095\n",
            "Epoch 19/150\n",
            "1/1 [==============================] - 0s 9ms/step - loss: 3.7968 - mae: 3.7968\n",
            "Epoch 20/150\n",
            "1/1 [==============================] - 0s 8ms/step - loss: 3.7842 - mae: 3.7842\n",
            "Epoch 21/150\n",
            "1/1 [==============================] - 0s 10ms/step - loss: 3.7719 - mae: 3.7719\n",
            "Epoch 22/150\n",
            "1/1 [==============================] - 0s 12ms/step - loss: 3.7955 - mae: 3.7955\n",
            "Epoch 23/150\n",
            "1/1 [==============================] - 0s 9ms/step - loss: 3.7842 - mae: 3.7842\n",
            "Epoch 24/150\n",
            "1/1 [==============================] - 0s 10ms/step - loss: 3.7708 - mae: 3.7708\n",
            "Epoch 25/150\n",
            "1/1 [==============================] - 0s 8ms/step - loss: 3.7576 - mae: 3.7576\n",
            "Epoch 26/150\n",
            "1/1 [==============================] - 0s 8ms/step - loss: 3.7446 - mae: 3.7446\n",
            "Epoch 27/150\n",
            "1/1 [==============================] - 0s 8ms/step - loss: 3.7318 - mae: 3.7318\n",
            "Epoch 28/150\n",
            "1/1 [==============================] - 0s 8ms/step - loss: 3.7192 - mae: 3.7192\n",
            "Epoch 29/150\n",
            "1/1 [==============================] - 0s 8ms/step - loss: 3.7067 - mae: 3.7067\n",
            "Epoch 30/150\n",
            "1/1 [==============================] - 0s 8ms/step - loss: 3.6944 - mae: 3.6944\n",
            "Epoch 31/150\n",
            "1/1 [==============================] - 0s 9ms/step - loss: 3.6823 - mae: 3.6823\n",
            "Epoch 32/150\n",
            "1/1 [==============================] - 0s 8ms/step - loss: 3.6703 - mae: 3.6703\n",
            "Epoch 33/150\n",
            "1/1 [==============================] - 0s 9ms/step - loss: 3.6584 - mae: 3.6584\n",
            "Epoch 34/150\n",
            "1/1 [==============================] - 0s 8ms/step - loss: 3.6467 - mae: 3.6467\n",
            "Epoch 35/150\n",
            "1/1 [==============================] - 0s 8ms/step - loss: 3.6351 - mae: 3.6351\n",
            "Epoch 36/150\n",
            "1/1 [==============================] - 0s 8ms/step - loss: 3.6237 - mae: 3.6237\n",
            "Epoch 37/150\n",
            "1/1 [==============================] - 0s 8ms/step - loss: 3.6404 - mae: 3.6404\n",
            "Epoch 38/150\n",
            "1/1 [==============================] - 0s 9ms/step - loss: 3.6297 - mae: 3.6297\n",
            "Epoch 39/150\n",
            "1/1 [==============================] - 0s 8ms/step - loss: 3.6172 - mae: 3.6172\n",
            "Epoch 40/150\n",
            "1/1 [==============================] - 0s 8ms/step - loss: 3.6048 - mae: 3.6048\n",
            "Epoch 41/150\n",
            "1/1 [==============================] - 0s 9ms/step - loss: 3.5926 - mae: 3.5926\n",
            "Epoch 42/150\n",
            "1/1 [==============================] - 0s 11ms/step - loss: 3.5804 - mae: 3.5804\n",
            "Epoch 43/150\n",
            "1/1 [==============================] - 0s 9ms/step - loss: 3.5684 - mae: 3.5684\n",
            "Epoch 44/150\n",
            "1/1 [==============================] - 0s 10ms/step - loss: 3.5565 - mae: 3.5565\n",
            "Epoch 45/150\n",
            "1/1 [==============================] - 0s 10ms/step - loss: 3.5446 - mae: 3.5446\n",
            "Epoch 46/150\n",
            "1/1 [==============================] - 0s 9ms/step - loss: 3.5329 - mae: 3.5329\n",
            "Epoch 47/150\n",
            "1/1 [==============================] - 0s 10ms/step - loss: 3.5213 - mae: 3.5213\n",
            "Epoch 48/150\n",
            "1/1 [==============================] - 0s 8ms/step - loss: 3.5097 - mae: 3.5097\n",
            "Epoch 49/150\n",
            "1/1 [==============================] - 0s 8ms/step - loss: 3.4983 - mae: 3.4983\n",
            "Epoch 50/150\n",
            "1/1 [==============================] - 0s 9ms/step - loss: 3.4869 - mae: 3.4869\n",
            "Epoch 51/150\n",
            "1/1 [==============================] - 0s 8ms/step - loss: 3.4756 - mae: 3.4756\n",
            "Epoch 52/150\n",
            "1/1 [==============================] - 0s 11ms/step - loss: 3.4643 - mae: 3.4643\n",
            "Epoch 53/150\n",
            "1/1 [==============================] - 0s 9ms/step - loss: 3.4532 - mae: 3.4532\n",
            "Epoch 54/150\n",
            "1/1 [==============================] - 0s 9ms/step - loss: 3.4420 - mae: 3.4420\n",
            "Epoch 55/150\n",
            "1/1 [==============================] - 0s 10ms/step - loss: 3.4310 - mae: 3.4310\n",
            "Epoch 56/150\n",
            "1/1 [==============================] - 0s 8ms/step - loss: 3.4200 - mae: 3.4200\n",
            "Epoch 57/150\n",
            "1/1 [==============================] - 0s 9ms/step - loss: 3.4172 - mae: 3.4172\n",
            "Epoch 58/150\n",
            "1/1 [==============================] - 0s 9ms/step - loss: 3.4163 - mae: 3.4163\n",
            "Epoch 59/150\n",
            "1/1 [==============================] - 0s 8ms/step - loss: 3.4041 - mae: 3.4041\n",
            "Epoch 60/150\n",
            "1/1 [==============================] - 0s 8ms/step - loss: 3.3920 - mae: 3.3920\n",
            "Epoch 61/150\n",
            "1/1 [==============================] - 0s 8ms/step - loss: 3.3799 - mae: 3.3799\n",
            "Epoch 62/150\n",
            "1/1 [==============================] - 0s 8ms/step - loss: 3.3679 - mae: 3.3679\n",
            "Epoch 63/150\n",
            "1/1 [==============================] - 0s 8ms/step - loss: 3.3559 - mae: 3.3559\n",
            "Epoch 64/150\n",
            "1/1 [==============================] - 0s 8ms/step - loss: 3.3439 - mae: 3.3439\n",
            "Epoch 65/150\n",
            "1/1 [==============================] - 0s 8ms/step - loss: 3.3320 - mae: 3.3320\n",
            "Epoch 66/150\n",
            "1/1 [==============================] - 0s 8ms/step - loss: 3.3201 - mae: 3.3201\n",
            "Epoch 67/150\n",
            "1/1 [==============================] - 0s 7ms/step - loss: 3.3082 - mae: 3.3082\n",
            "Epoch 68/150\n",
            "1/1 [==============================] - 0s 9ms/step - loss: 3.2963 - mae: 3.2963\n",
            "Epoch 69/150\n",
            "1/1 [==============================] - 0s 9ms/step - loss: 3.2844 - mae: 3.2844\n",
            "Epoch 70/150\n",
            "1/1 [==============================] - 0s 8ms/step - loss: 3.2725 - mae: 3.2725\n",
            "Epoch 71/150\n",
            "1/1 [==============================] - 0s 9ms/step - loss: 3.2606 - mae: 3.2606\n",
            "Epoch 72/150\n",
            "1/1 [==============================] - 0s 8ms/step - loss: 3.2487 - mae: 3.2487\n",
            "Epoch 73/150\n",
            "1/1 [==============================] - 0s 8ms/step - loss: 3.2368 - mae: 3.2368\n",
            "Epoch 74/150\n",
            "1/1 [==============================] - 0s 8ms/step - loss: 3.2249 - mae: 3.2249\n",
            "Epoch 75/150\n",
            "1/1 [==============================] - 0s 8ms/step - loss: 3.2130 - mae: 3.2130\n",
            "Epoch 76/150\n",
            "1/1 [==============================] - 0s 8ms/step - loss: 3.2011 - mae: 3.2011\n",
            "Epoch 77/150\n",
            "1/1 [==============================] - 0s 8ms/step - loss: 3.1889 - mae: 3.1889\n",
            "Epoch 78/150\n",
            "1/1 [==============================] - 0s 9ms/step - loss: 3.1761 - mae: 3.1761\n",
            "Epoch 79/150\n",
            "1/1 [==============================] - 0s 9ms/step - loss: 3.1632 - mae: 3.1632\n",
            "Epoch 80/150\n",
            "1/1 [==============================] - 0s 9ms/step - loss: 3.1503 - mae: 3.1503\n",
            "Epoch 81/150\n",
            "1/1 [==============================] - 0s 8ms/step - loss: 3.1369 - mae: 3.1369\n",
            "Epoch 82/150\n",
            "1/1 [==============================] - 0s 8ms/step - loss: 3.1234 - mae: 3.1234\n",
            "Epoch 83/150\n",
            "1/1 [==============================] - 0s 8ms/step - loss: 3.1099 - mae: 3.1099\n",
            "Epoch 84/150\n",
            "1/1 [==============================] - 0s 8ms/step - loss: 3.0963 - mae: 3.0963\n",
            "Epoch 85/150\n",
            "1/1 [==============================] - 0s 8ms/step - loss: 3.0826 - mae: 3.0826\n",
            "Epoch 86/150\n",
            "1/1 [==============================] - 0s 8ms/step - loss: 3.0689 - mae: 3.0689\n",
            "Epoch 87/150\n",
            "1/1 [==============================] - 0s 8ms/step - loss: 3.0551 - mae: 3.0551\n",
            "Epoch 88/150\n",
            "1/1 [==============================] - 0s 9ms/step - loss: 3.0411 - mae: 3.0411\n",
            "Epoch 89/150\n",
            "1/1 [==============================] - 0s 8ms/step - loss: 3.0267 - mae: 3.0267\n",
            "Epoch 90/150\n",
            "1/1 [==============================] - 0s 8ms/step - loss: 3.0123 - mae: 3.0123\n",
            "Epoch 91/150\n",
            "1/1 [==============================] - 0s 9ms/step - loss: 2.9978 - mae: 2.9978\n",
            "Epoch 92/150\n",
            "1/1 [==============================] - 0s 8ms/step - loss: 2.9832 - mae: 2.9832\n",
            "Epoch 93/150\n",
            "1/1 [==============================] - 0s 8ms/step - loss: 2.9684 - mae: 2.9684\n",
            "Epoch 94/150\n",
            "1/1 [==============================] - 0s 8ms/step - loss: 2.9525 - mae: 2.9525\n",
            "Epoch 95/150\n",
            "1/1 [==============================] - 0s 8ms/step - loss: 2.9322 - mae: 2.9322\n",
            "Epoch 96/150\n",
            "1/1 [==============================] - 0s 8ms/step - loss: 2.9118 - mae: 2.9118\n",
            "Epoch 97/150\n",
            "1/1 [==============================] - 0s 8ms/step - loss: 2.8914 - mae: 2.8914\n",
            "Epoch 98/150\n",
            "1/1 [==============================] - 0s 8ms/step - loss: 2.8706 - mae: 2.8706\n",
            "Epoch 99/150\n",
            "1/1 [==============================] - 0s 8ms/step - loss: 2.8494 - mae: 2.8494\n",
            "Epoch 100/150\n",
            "1/1 [==============================] - 0s 8ms/step - loss: 2.8280 - mae: 2.8280\n",
            "Epoch 101/150\n",
            "1/1 [==============================] - 0s 8ms/step - loss: 2.8063 - mae: 2.8063\n",
            "Epoch 102/150\n",
            "1/1 [==============================] - 0s 8ms/step - loss: 2.7843 - mae: 2.7843\n",
            "Epoch 103/150\n",
            "1/1 [==============================] - 0s 9ms/step - loss: 2.7620 - mae: 2.7620\n",
            "Epoch 104/150\n",
            "1/1 [==============================] - 0s 8ms/step - loss: 2.7394 - mae: 2.7394\n",
            "Epoch 105/150\n",
            "1/1 [==============================] - 0s 9ms/step - loss: 2.7165 - mae: 2.7165\n",
            "Epoch 106/150\n",
            "1/1 [==============================] - 0s 9ms/step - loss: 2.6932 - mae: 2.6932\n",
            "Epoch 107/150\n",
            "1/1 [==============================] - 0s 8ms/step - loss: 2.6695 - mae: 2.6695\n",
            "Epoch 108/150\n",
            "1/1 [==============================] - 0s 8ms/step - loss: 2.6454 - mae: 2.6454\n",
            "Epoch 109/150\n",
            "1/1 [==============================] - 0s 8ms/step - loss: 2.6209 - mae: 2.6209\n",
            "Epoch 110/150\n",
            "1/1 [==============================] - 0s 8ms/step - loss: 2.5960 - mae: 2.5960\n",
            "Epoch 111/150\n",
            "1/1 [==============================] - 0s 8ms/step - loss: 2.5706 - mae: 2.5706\n",
            "Epoch 112/150\n",
            "1/1 [==============================] - 0s 8ms/step - loss: 2.5447 - mae: 2.5447\n",
            "Epoch 113/150\n",
            "1/1 [==============================] - 0s 8ms/step - loss: 2.5183 - mae: 2.5183\n",
            "Epoch 114/150\n",
            "1/1 [==============================] - 0s 10ms/step - loss: 2.4914 - mae: 2.4914\n",
            "Epoch 115/150\n",
            "1/1 [==============================] - 0s 9ms/step - loss: 2.4639 - mae: 2.4639\n",
            "Epoch 116/150\n",
            "1/1 [==============================] - 0s 8ms/step - loss: 2.4358 - mae: 2.4358\n",
            "Epoch 117/150\n",
            "1/1 [==============================] - 0s 8ms/step - loss: 2.4071 - mae: 2.4071\n",
            "Epoch 118/150\n",
            "1/1 [==============================] - 0s 9ms/step - loss: 2.3777 - mae: 2.3777\n",
            "Epoch 119/150\n",
            "1/1 [==============================] - 0s 9ms/step - loss: 2.3477 - mae: 2.3477\n",
            "Epoch 120/150\n",
            "1/1 [==============================] - 0s 9ms/step - loss: 2.3170 - mae: 2.3170\n",
            "Epoch 121/150\n",
            "1/1 [==============================] - 0s 8ms/step - loss: 2.2854 - mae: 2.2854\n",
            "Epoch 122/150\n",
            "1/1 [==============================] - 0s 8ms/step - loss: 2.2532 - mae: 2.2532\n",
            "Epoch 123/150\n",
            "1/1 [==============================] - 0s 8ms/step - loss: 2.2200 - mae: 2.2200\n",
            "Epoch 124/150\n",
            "1/1 [==============================] - 0s 8ms/step - loss: 2.2048 - mae: 2.2048\n",
            "Epoch 125/150\n",
            "1/1 [==============================] - 0s 8ms/step - loss: 2.2055 - mae: 2.2055\n",
            "Epoch 126/150\n",
            "1/1 [==============================] - 0s 9ms/step - loss: 2.2566 - mae: 2.2566\n",
            "Epoch 127/150\n",
            "1/1 [==============================] - 0s 8ms/step - loss: 2.1047 - mae: 2.1047\n",
            "Epoch 128/150\n",
            "1/1 [==============================] - 0s 8ms/step - loss: 2.0689 - mae: 2.0689\n",
            "Epoch 129/150\n",
            "1/1 [==============================] - 0s 9ms/step - loss: 2.0322 - mae: 2.0322\n",
            "Epoch 130/150\n",
            "1/1 [==============================] - 0s 9ms/step - loss: 1.9943 - mae: 1.9943\n",
            "Epoch 131/150\n",
            "1/1 [==============================] - 0s 8ms/step - loss: 1.9554 - mae: 1.9554\n",
            "Epoch 132/150\n",
            "1/1 [==============================] - 0s 8ms/step - loss: 1.9152 - mae: 1.9152\n",
            "Epoch 133/150\n",
            "1/1 [==============================] - 0s 8ms/step - loss: 1.8740 - mae: 1.8740\n",
            "Epoch 134/150\n",
            "1/1 [==============================] - 0s 8ms/step - loss: 1.9604 - mae: 1.9604\n",
            "Epoch 135/150\n",
            "1/1 [==============================] - 0s 8ms/step - loss: 1.9250 - mae: 1.9250\n",
            "Epoch 136/150\n",
            "1/1 [==============================] - 0s 8ms/step - loss: 1.7748 - mae: 1.7748\n",
            "Epoch 137/150\n",
            "1/1 [==============================] - 0s 8ms/step - loss: 1.7273 - mae: 1.7273\n",
            "Epoch 138/150\n",
            "1/1 [==============================] - 0s 8ms/step - loss: 1.6783 - mae: 1.6783\n",
            "Epoch 139/150\n",
            "1/1 [==============================] - 0s 8ms/step - loss: 1.6275 - mae: 1.6275\n",
            "Epoch 140/150\n",
            "1/1 [==============================] - 0s 9ms/step - loss: 1.5749 - mae: 1.5749\n",
            "Epoch 141/150\n",
            "1/1 [==============================] - 0s 9ms/step - loss: 1.5202 - mae: 1.5202\n",
            "Epoch 142/150\n",
            "1/1 [==============================] - 0s 9ms/step - loss: 1.4793 - mae: 1.4793\n",
            "Epoch 143/150\n",
            "1/1 [==============================] - 0s 8ms/step - loss: 1.6441 - mae: 1.6441\n",
            "Epoch 144/150\n",
            "1/1 [==============================] - 0s 12ms/step - loss: 2.5904 - mae: 2.5904\n",
            "Epoch 145/150\n",
            "1/1 [==============================] - 0s 11ms/step - loss: 1.8442 - mae: 1.8442\n",
            "Epoch 146/150\n",
            "1/1 [==============================] - 0s 8ms/step - loss: 2.3056 - mae: 2.3056\n",
            "Epoch 147/150\n",
            "1/1 [==============================] - 0s 8ms/step - loss: 1.5552 - mae: 1.5552\n",
            "Epoch 148/150\n",
            "1/1 [==============================] - 0s 8ms/step - loss: 2.5930 - mae: 2.5930\n",
            "Epoch 149/150\n",
            "1/1 [==============================] - 0s 8ms/step - loss: 1.7567 - mae: 1.7567\n",
            "Epoch 150/150\n",
            "1/1 [==============================] - 0s 8ms/step - loss: 2.2686 - mae: 2.2686\n"
          ]
        },
        {
          "data": {
            "text/plain": [
              "<keras.callbacks.History at 0x7fbdc5d6f8e0>"
            ]
          },
          "execution_count": 69,
          "metadata": {},
          "output_type": "execute_result"
        }
      ],
      "source": [
        "# improved Model by increasing the dense.layers\n",
        "# Only increased the dense layers and neurons with increase in epochs\n",
        "# Set Random Seed\n",
        "tf.random.set_seed(42)\n",
        "\n",
        "# Create a model using Sequential API\n",
        "model3= tf.keras.Sequential([ tf.keras.layers.Dense(1,input_shape=(1,)),\n",
        "    tf.keras.layers.Dense(10,activation='relu'),\n",
        "    tf.keras.layers.Dense(10,activation='relu'),\n",
        "    tf.keras.layers.Dense(1)])\n",
        "\n",
        "# Compile the model\n",
        "model3.compile(loss=tf.keras.losses.mae,optimizer=tf.keras.optimizers.SGD(),\n",
        "              metrics=['mae'])\n",
        "\n",
        "# Fit the model\n",
        "model3.fit(X,Y,epochs=150)\n"
      ]
    },
    {
      "cell_type": "code",
      "execution_count": null,
      "metadata": {
        "colab": {
          "base_uri": "https://localhost:8080/"
        },
        "id": "sF6KMOZetd9Z",
        "outputId": "a3e2985c-65b2-49af-e104-d099ddfb35a8"
      },
      "outputs": [
        {
          "name": "stdout",
          "output_type": "stream",
          "text": [
            "1/1 [==============================] - 0s 100ms/step\n"
          ]
        },
        {
          "data": {
            "text/plain": [
              "array([[24.443985]], dtype=float32)"
            ]
          },
          "execution_count": 70,
          "metadata": {},
          "output_type": "execute_result"
        }
      ],
      "source": [
        "# try and make prediction with model3\n",
        "model3.predict([17.0])\n",
        "# output should be 17+9=26 "
      ]
    },
    {
      "cell_type": "code",
      "execution_count": null,
      "metadata": {
        "colab": {
          "base_uri": "https://localhost:8080/"
        },
        "id": "qpQD6BdKbBGp",
        "outputId": "cdd42e08-4699-4807-aa79-b06da8b2485d"
      },
      "outputs": [
        {
          "name": "stdout",
          "output_type": "stream",
          "text": [
            "Epoch 1/300\n",
            "1/1 [==============================] - 1s 1s/step - loss: 12.6447 - mae: 12.6447\n",
            "Epoch 2/300\n",
            "1/1 [==============================] - 0s 9ms/step - loss: 12.6260 - mae: 12.6260\n",
            "Epoch 3/300\n",
            "1/1 [==============================] - 0s 11ms/step - loss: 12.6075 - mae: 12.6075\n",
            "Epoch 4/300\n",
            "1/1 [==============================] - 0s 10ms/step - loss: 12.5892 - mae: 12.5892\n",
            "Epoch 5/300\n",
            "1/1 [==============================] - 0s 9ms/step - loss: 12.5711 - mae: 12.5711\n",
            "Epoch 6/300\n",
            "1/1 [==============================] - 0s 9ms/step - loss: 12.5535 - mae: 12.5535\n",
            "Epoch 7/300\n",
            "1/1 [==============================] - 0s 10ms/step - loss: 12.5362 - mae: 12.5362\n",
            "Epoch 8/300\n",
            "1/1 [==============================] - 0s 9ms/step - loss: 12.5193 - mae: 12.5193\n",
            "Epoch 9/300\n",
            "1/1 [==============================] - 0s 9ms/step - loss: 12.5028 - mae: 12.5028\n",
            "Epoch 10/300\n",
            "1/1 [==============================] - 0s 12ms/step - loss: 12.4869 - mae: 12.4869\n",
            "Epoch 11/300\n",
            "1/1 [==============================] - 0s 8ms/step - loss: 12.4712 - mae: 12.4712\n",
            "Epoch 12/300\n",
            "1/1 [==============================] - 0s 9ms/step - loss: 12.4555 - mae: 12.4555\n",
            "Epoch 13/300\n",
            "1/1 [==============================] - 0s 10ms/step - loss: 12.4396 - mae: 12.4396\n",
            "Epoch 14/300\n",
            "1/1 [==============================] - 0s 10ms/step - loss: 12.4237 - mae: 12.4237\n",
            "Epoch 15/300\n",
            "1/1 [==============================] - 0s 9ms/step - loss: 12.4078 - mae: 12.4078\n",
            "Epoch 16/300\n",
            "1/1 [==============================] - 0s 9ms/step - loss: 12.3918 - mae: 12.3918\n",
            "Epoch 17/300\n",
            "1/1 [==============================] - 0s 8ms/step - loss: 12.3757 - mae: 12.3757\n",
            "Epoch 18/300\n",
            "1/1 [==============================] - 0s 8ms/step - loss: 12.3595 - mae: 12.3595\n",
            "Epoch 19/300\n",
            "1/1 [==============================] - 0s 9ms/step - loss: 12.3433 - mae: 12.3433\n",
            "Epoch 20/300\n",
            "1/1 [==============================] - 0s 9ms/step - loss: 12.3271 - mae: 12.3271\n",
            "Epoch 21/300\n",
            "1/1 [==============================] - 0s 9ms/step - loss: 12.3109 - mae: 12.3109\n",
            "Epoch 22/300\n",
            "1/1 [==============================] - 0s 9ms/step - loss: 12.2948 - mae: 12.2948\n",
            "Epoch 23/300\n",
            "1/1 [==============================] - 0s 9ms/step - loss: 12.2784 - mae: 12.2784\n",
            "Epoch 24/300\n",
            "1/1 [==============================] - 0s 9ms/step - loss: 12.2618 - mae: 12.2618\n",
            "Epoch 25/300\n",
            "1/1 [==============================] - 0s 9ms/step - loss: 12.2448 - mae: 12.2448\n",
            "Epoch 26/300\n",
            "1/1 [==============================] - 0s 9ms/step - loss: 12.2277 - mae: 12.2277\n",
            "Epoch 27/300\n",
            "1/1 [==============================] - 0s 8ms/step - loss: 12.2104 - mae: 12.2104\n",
            "Epoch 28/300\n",
            "1/1 [==============================] - 0s 9ms/step - loss: 12.1928 - mae: 12.1928\n",
            "Epoch 29/300\n",
            "1/1 [==============================] - 0s 8ms/step - loss: 12.1749 - mae: 12.1749\n",
            "Epoch 30/300\n",
            "1/1 [==============================] - 0s 12ms/step - loss: 12.1567 - mae: 12.1567\n",
            "Epoch 31/300\n",
            "1/1 [==============================] - 0s 11ms/step - loss: 12.1382 - mae: 12.1382\n",
            "Epoch 32/300\n",
            "1/1 [==============================] - 0s 9ms/step - loss: 12.1194 - mae: 12.1194\n",
            "Epoch 33/300\n",
            "1/1 [==============================] - 0s 9ms/step - loss: 12.1003 - mae: 12.1003\n",
            "Epoch 34/300\n",
            "1/1 [==============================] - 0s 10ms/step - loss: 12.0807 - mae: 12.0807\n",
            "Epoch 35/300\n",
            "1/1 [==============================] - 0s 9ms/step - loss: 12.0607 - mae: 12.0607\n",
            "Epoch 36/300\n",
            "1/1 [==============================] - 0s 9ms/step - loss: 12.0402 - mae: 12.0402\n",
            "Epoch 37/300\n",
            "1/1 [==============================] - 0s 9ms/step - loss: 12.0193 - mae: 12.0193\n",
            "Epoch 38/300\n",
            "1/1 [==============================] - 0s 9ms/step - loss: 11.9980 - mae: 11.9980\n",
            "Epoch 39/300\n",
            "1/1 [==============================] - 0s 9ms/step - loss: 11.9762 - mae: 11.9762\n",
            "Epoch 40/300\n",
            "1/1 [==============================] - 0s 8ms/step - loss: 11.9538 - mae: 11.9538\n",
            "Epoch 41/300\n",
            "1/1 [==============================] - 0s 11ms/step - loss: 11.9310 - mae: 11.9310\n",
            "Epoch 42/300\n",
            "1/1 [==============================] - 0s 9ms/step - loss: 11.9076 - mae: 11.9076\n",
            "Epoch 43/300\n",
            "1/1 [==============================] - 0s 8ms/step - loss: 11.8837 - mae: 11.8837\n",
            "Epoch 44/300\n",
            "1/1 [==============================] - 0s 8ms/step - loss: 11.8591 - mae: 11.8591\n",
            "Epoch 45/300\n",
            "1/1 [==============================] - 0s 9ms/step - loss: 11.8340 - mae: 11.8340\n",
            "Epoch 46/300\n",
            "1/1 [==============================] - 0s 8ms/step - loss: 11.8083 - mae: 11.8083\n",
            "Epoch 47/300\n",
            "1/1 [==============================] - 0s 8ms/step - loss: 11.7819 - mae: 11.7819\n",
            "Epoch 48/300\n",
            "1/1 [==============================] - 0s 9ms/step - loss: 11.7548 - mae: 11.7548\n",
            "Epoch 49/300\n",
            "1/1 [==============================] - 0s 8ms/step - loss: 11.7272 - mae: 11.7272\n",
            "Epoch 50/300\n",
            "1/1 [==============================] - 0s 8ms/step - loss: 11.6987 - mae: 11.6987\n",
            "Epoch 51/300\n",
            "1/1 [==============================] - 0s 9ms/step - loss: 11.6695 - mae: 11.6695\n",
            "Epoch 52/300\n",
            "1/1 [==============================] - 0s 8ms/step - loss: 11.6394 - mae: 11.6394\n",
            "Epoch 53/300\n",
            "1/1 [==============================] - 0s 8ms/step - loss: 11.6084 - mae: 11.6084\n",
            "Epoch 54/300\n",
            "1/1 [==============================] - 0s 9ms/step - loss: 11.5765 - mae: 11.5765\n",
            "Epoch 55/300\n",
            "1/1 [==============================] - 0s 8ms/step - loss: 11.5435 - mae: 11.5435\n",
            "Epoch 56/300\n",
            "1/1 [==============================] - 0s 9ms/step - loss: 11.5096 - mae: 11.5096\n",
            "Epoch 57/300\n",
            "1/1 [==============================] - 0s 9ms/step - loss: 11.4747 - mae: 11.4747\n",
            "Epoch 58/300\n",
            "1/1 [==============================] - 0s 9ms/step - loss: 11.4387 - mae: 11.4387\n",
            "Epoch 59/300\n",
            "1/1 [==============================] - 0s 11ms/step - loss: 11.4015 - mae: 11.4015\n",
            "Epoch 60/300\n",
            "1/1 [==============================] - 0s 9ms/step - loss: 11.3630 - mae: 11.3630\n",
            "Epoch 61/300\n",
            "1/1 [==============================] - 0s 9ms/step - loss: 11.3234 - mae: 11.3234\n",
            "Epoch 62/300\n",
            "1/1 [==============================] - 0s 8ms/step - loss: 11.2826 - mae: 11.2826\n",
            "Epoch 63/300\n",
            "1/1 [==============================] - 0s 9ms/step - loss: 11.2405 - mae: 11.2405\n",
            "Epoch 64/300\n",
            "1/1 [==============================] - 0s 10ms/step - loss: 11.1972 - mae: 11.1972\n",
            "Epoch 65/300\n",
            "1/1 [==============================] - 0s 8ms/step - loss: 11.1526 - mae: 11.1526\n",
            "Epoch 66/300\n",
            "1/1 [==============================] - 0s 9ms/step - loss: 11.1067 - mae: 11.1067\n",
            "Epoch 67/300\n",
            "1/1 [==============================] - 0s 9ms/step - loss: 11.0595 - mae: 11.0595\n",
            "Epoch 68/300\n",
            "1/1 [==============================] - 0s 10ms/step - loss: 11.0110 - mae: 11.0110\n",
            "Epoch 69/300\n",
            "1/1 [==============================] - 0s 9ms/step - loss: 10.9611 - mae: 10.9611\n",
            "Epoch 70/300\n",
            "1/1 [==============================] - 0s 10ms/step - loss: 10.9096 - mae: 10.9096\n",
            "Epoch 71/300\n",
            "1/1 [==============================] - 0s 10ms/step - loss: 10.8566 - mae: 10.8566\n",
            "Epoch 72/300\n",
            "1/1 [==============================] - 0s 9ms/step - loss: 10.8020 - mae: 10.8020\n",
            "Epoch 73/300\n",
            "1/1 [==============================] - 0s 12ms/step - loss: 10.7458 - mae: 10.7458\n",
            "Epoch 74/300\n",
            "1/1 [==============================] - 0s 12ms/step - loss: 10.6878 - mae: 10.6878\n",
            "Epoch 75/300\n",
            "1/1 [==============================] - 0s 10ms/step - loss: 10.6282 - mae: 10.6282\n",
            "Epoch 76/300\n",
            "1/1 [==============================] - 0s 9ms/step - loss: 10.5666 - mae: 10.5666\n",
            "Epoch 77/300\n",
            "1/1 [==============================] - 0s 11ms/step - loss: 10.5032 - mae: 10.5032\n",
            "Epoch 78/300\n",
            "1/1 [==============================] - 0s 9ms/step - loss: 10.4378 - mae: 10.4378\n",
            "Epoch 79/300\n",
            "1/1 [==============================] - 0s 9ms/step - loss: 10.3704 - mae: 10.3704\n",
            "Epoch 80/300\n",
            "1/1 [==============================] - 0s 9ms/step - loss: 10.3009 - mae: 10.3009\n",
            "Epoch 81/300\n",
            "1/1 [==============================] - 0s 13ms/step - loss: 10.2292 - mae: 10.2292\n",
            "Epoch 82/300\n",
            "1/1 [==============================] - 0s 11ms/step - loss: 10.1552 - mae: 10.1552\n",
            "Epoch 83/300\n",
            "1/1 [==============================] - 0s 12ms/step - loss: 10.0786 - mae: 10.0786\n",
            "Epoch 84/300\n",
            "1/1 [==============================] - 0s 9ms/step - loss: 9.9995 - mae: 9.9995\n",
            "Epoch 85/300\n",
            "1/1 [==============================] - 0s 10ms/step - loss: 9.9181 - mae: 9.9181\n",
            "Epoch 86/300\n",
            "1/1 [==============================] - 0s 9ms/step - loss: 9.8344 - mae: 9.8344\n",
            "Epoch 87/300\n",
            "1/1 [==============================] - 0s 10ms/step - loss: 9.7481 - mae: 9.7481\n",
            "Epoch 88/300\n",
            "1/1 [==============================] - 0s 11ms/step - loss: 9.6591 - mae: 9.6591\n",
            "Epoch 89/300\n",
            "1/1 [==============================] - 0s 8ms/step - loss: 9.5675 - mae: 9.5675\n",
            "Epoch 90/300\n",
            "1/1 [==============================] - 0s 11ms/step - loss: 9.4733 - mae: 9.4733\n",
            "Epoch 91/300\n",
            "1/1 [==============================] - 0s 10ms/step - loss: 9.3763 - mae: 9.3763\n",
            "Epoch 92/300\n",
            "1/1 [==============================] - 0s 9ms/step - loss: 9.2765 - mae: 9.2765\n",
            "Epoch 93/300\n",
            "1/1 [==============================] - 0s 7ms/step - loss: 9.1738 - mae: 9.1738\n",
            "Epoch 94/300\n",
            "1/1 [==============================] - 0s 7ms/step - loss: 9.0764 - mae: 9.0764\n",
            "Epoch 95/300\n",
            "1/1 [==============================] - 0s 8ms/step - loss: 8.9790 - mae: 8.9790\n",
            "Epoch 96/300\n",
            "1/1 [==============================] - 0s 10ms/step - loss: 8.8788 - mae: 8.8788\n",
            "Epoch 97/300\n",
            "1/1 [==============================] - 0s 9ms/step - loss: 8.7759 - mae: 8.7759\n",
            "Epoch 98/300\n",
            "1/1 [==============================] - 0s 10ms/step - loss: 8.6701 - mae: 8.6701\n",
            "Epoch 99/300\n",
            "1/1 [==============================] - 0s 11ms/step - loss: 8.5614 - mae: 8.5614\n",
            "Epoch 100/300\n",
            "1/1 [==============================] - 0s 8ms/step - loss: 8.4497 - mae: 8.4497\n",
            "Epoch 101/300\n",
            "1/1 [==============================] - 0s 9ms/step - loss: 8.3348 - mae: 8.3348\n",
            "Epoch 102/300\n",
            "1/1 [==============================] - 0s 12ms/step - loss: 8.2167 - mae: 8.2167\n",
            "Epoch 103/300\n",
            "1/1 [==============================] - 0s 9ms/step - loss: 8.0953 - mae: 8.0953\n",
            "Epoch 104/300\n",
            "1/1 [==============================] - 0s 9ms/step - loss: 7.9706 - mae: 7.9706\n",
            "Epoch 105/300\n",
            "1/1 [==============================] - 0s 9ms/step - loss: 7.8424 - mae: 7.8424\n",
            "Epoch 106/300\n",
            "1/1 [==============================] - 0s 9ms/step - loss: 7.7099 - mae: 7.7099\n",
            "Epoch 107/300\n",
            "1/1 [==============================] - 0s 10ms/step - loss: 7.5731 - mae: 7.5731\n",
            "Epoch 108/300\n",
            "1/1 [==============================] - 0s 8ms/step - loss: 7.4323 - mae: 7.4323\n",
            "Epoch 109/300\n",
            "1/1 [==============================] - 0s 9ms/step - loss: 7.2875 - mae: 7.2875\n",
            "Epoch 110/300\n",
            "1/1 [==============================] - 0s 8ms/step - loss: 7.1385 - mae: 7.1385\n",
            "Epoch 111/300\n",
            "1/1 [==============================] - 0s 9ms/step - loss: 6.9851 - mae: 6.9851\n",
            "Epoch 112/300\n",
            "1/1 [==============================] - 0s 9ms/step - loss: 6.8271 - mae: 6.8271\n",
            "Epoch 113/300\n",
            "1/1 [==============================] - 0s 9ms/step - loss: 6.6647 - mae: 6.6647\n",
            "Epoch 114/300\n",
            "1/1 [==============================] - 0s 9ms/step - loss: 6.5006 - mae: 6.5006\n",
            "Epoch 115/300\n",
            "1/1 [==============================] - 0s 9ms/step - loss: 6.3322 - mae: 6.3322\n",
            "Epoch 116/300\n",
            "1/1 [==============================] - 0s 9ms/step - loss: 6.1592 - mae: 6.1592\n",
            "Epoch 117/300\n",
            "1/1 [==============================] - 0s 9ms/step - loss: 5.9813 - mae: 5.9813\n",
            "Epoch 118/300\n",
            "1/1 [==============================] - 0s 9ms/step - loss: 5.7985 - mae: 5.7985\n",
            "Epoch 119/300\n",
            "1/1 [==============================] - 0s 9ms/step - loss: 5.6106 - mae: 5.6106\n",
            "Epoch 120/300\n",
            "1/1 [==============================] - 0s 9ms/step - loss: 5.4175 - mae: 5.4175\n",
            "Epoch 121/300\n",
            "1/1 [==============================] - 0s 9ms/step - loss: 5.2191 - mae: 5.2191\n",
            "Epoch 122/300\n",
            "1/1 [==============================] - 0s 9ms/step - loss: 5.0152 - mae: 5.0152\n",
            "Epoch 123/300\n",
            "1/1 [==============================] - 0s 8ms/step - loss: 4.8061 - mae: 4.8061\n",
            "Epoch 124/300\n",
            "1/1 [==============================] - 0s 9ms/step - loss: 4.5923 - mae: 4.5923\n",
            "Epoch 125/300\n",
            "1/1 [==============================] - 0s 9ms/step - loss: 4.3726 - mae: 4.3726\n",
            "Epoch 126/300\n",
            "1/1 [==============================] - 0s 9ms/step - loss: 4.1470 - mae: 4.1470\n",
            "Epoch 127/300\n",
            "1/1 [==============================] - 0s 9ms/step - loss: 3.9154 - mae: 3.9154\n",
            "Epoch 128/300\n",
            "1/1 [==============================] - 0s 10ms/step - loss: 3.6776 - mae: 3.6776\n",
            "Epoch 129/300\n",
            "1/1 [==============================] - 0s 9ms/step - loss: 3.4334 - mae: 3.4334\n",
            "Epoch 130/300\n",
            "1/1 [==============================] - 0s 9ms/step - loss: 3.1828 - mae: 3.1828\n",
            "Epoch 131/300\n",
            "1/1 [==============================] - 0s 9ms/step - loss: 2.9256 - mae: 2.9256\n",
            "Epoch 132/300\n",
            "1/1 [==============================] - 0s 9ms/step - loss: 2.7894 - mae: 2.7894\n",
            "Epoch 133/300\n",
            "1/1 [==============================] - 0s 9ms/step - loss: 2.6592 - mae: 2.6592\n",
            "Epoch 134/300\n",
            "1/1 [==============================] - 0s 8ms/step - loss: 2.6062 - mae: 2.6062\n",
            "Epoch 135/300\n",
            "1/1 [==============================] - 0s 9ms/step - loss: 2.5819 - mae: 2.5819\n",
            "Epoch 136/300\n",
            "1/1 [==============================] - 0s 10ms/step - loss: 2.5583 - mae: 2.5583\n",
            "Epoch 137/300\n",
            "1/1 [==============================] - 0s 10ms/step - loss: 2.5353 - mae: 2.5353\n",
            "Epoch 138/300\n",
            "1/1 [==============================] - 0s 9ms/step - loss: 2.5491 - mae: 2.5491\n",
            "Epoch 139/300\n",
            "1/1 [==============================] - 0s 8ms/step - loss: 2.5798 - mae: 2.5798\n",
            "Epoch 140/300\n",
            "1/1 [==============================] - 0s 9ms/step - loss: 2.6039 - mae: 2.6039\n",
            "Epoch 141/300\n",
            "1/1 [==============================] - 0s 9ms/step - loss: 2.6219 - mae: 2.6219\n",
            "Epoch 142/300\n",
            "1/1 [==============================] - 0s 8ms/step - loss: 2.6343 - mae: 2.6343\n",
            "Epoch 143/300\n",
            "1/1 [==============================] - 0s 8ms/step - loss: 2.6419 - mae: 2.6419\n",
            "Epoch 144/300\n",
            "1/1 [==============================] - 0s 9ms/step - loss: 2.6453 - mae: 2.6453\n",
            "Epoch 145/300\n",
            "1/1 [==============================] - 0s 9ms/step - loss: 2.6442 - mae: 2.6442\n",
            "Epoch 146/300\n",
            "1/1 [==============================] - 0s 9ms/step - loss: 2.6391 - mae: 2.6391\n",
            "Epoch 147/300\n",
            "1/1 [==============================] - 0s 9ms/step - loss: 2.6303 - mae: 2.6303\n",
            "Epoch 148/300\n",
            "1/1 [==============================] - 0s 9ms/step - loss: 2.6182 - mae: 2.6182\n",
            "Epoch 149/300\n",
            "1/1 [==============================] - 0s 9ms/step - loss: 2.6034 - mae: 2.6034\n",
            "Epoch 150/300\n",
            "1/1 [==============================] - 0s 9ms/step - loss: 2.5867 - mae: 2.5867\n",
            "Epoch 151/300\n",
            "1/1 [==============================] - 0s 9ms/step - loss: 2.5678 - mae: 2.5678\n",
            "Epoch 152/300\n",
            "1/1 [==============================] - 0s 11ms/step - loss: 2.5470 - mae: 2.5470\n",
            "Epoch 153/300\n",
            "1/1 [==============================] - 0s 9ms/step - loss: 2.5246 - mae: 2.5246\n",
            "Epoch 154/300\n",
            "1/1 [==============================] - 0s 12ms/step - loss: 2.5022 - mae: 2.5022\n",
            "Epoch 155/300\n",
            "1/1 [==============================] - 0s 10ms/step - loss: 2.4783 - mae: 2.4783\n",
            "Epoch 156/300\n",
            "1/1 [==============================] - 0s 9ms/step - loss: 2.4531 - mae: 2.4531\n",
            "Epoch 157/300\n",
            "1/1 [==============================] - 0s 9ms/step - loss: 2.4267 - mae: 2.4267\n",
            "Epoch 158/300\n",
            "1/1 [==============================] - 0s 9ms/step - loss: 2.3993 - mae: 2.3993\n",
            "Epoch 159/300\n",
            "1/1 [==============================] - 0s 9ms/step - loss: 2.3712 - mae: 2.3712\n",
            "Epoch 160/300\n",
            "1/1 [==============================] - 0s 9ms/step - loss: 2.3424 - mae: 2.3424\n",
            "Epoch 161/300\n",
            "1/1 [==============================] - 0s 9ms/step - loss: 2.3136 - mae: 2.3136\n",
            "Epoch 162/300\n",
            "1/1 [==============================] - 0s 9ms/step - loss: 2.2852 - mae: 2.2852\n",
            "Epoch 163/300\n",
            "1/1 [==============================] - 0s 9ms/step - loss: 2.2565 - mae: 2.2565\n",
            "Epoch 164/300\n",
            "1/1 [==============================] - 0s 9ms/step - loss: 2.2467 - mae: 2.2467\n",
            "Epoch 165/300\n",
            "1/1 [==============================] - 0s 9ms/step - loss: 2.2400 - mae: 2.2400\n",
            "Epoch 166/300\n",
            "1/1 [==============================] - 0s 9ms/step - loss: 2.2322 - mae: 2.2322\n",
            "Epoch 167/300\n",
            "1/1 [==============================] - 0s 8ms/step - loss: 2.2215 - mae: 2.2215\n",
            "Epoch 168/300\n",
            "1/1 [==============================] - 0s 8ms/step - loss: 2.2084 - mae: 2.2084\n",
            "Epoch 169/300\n",
            "1/1 [==============================] - 0s 9ms/step - loss: 2.1924 - mae: 2.1924\n",
            "Epoch 170/300\n",
            "1/1 [==============================] - 0s 9ms/step - loss: 2.1712 - mae: 2.1712\n",
            "Epoch 171/300\n",
            "1/1 [==============================] - 0s 8ms/step - loss: 2.1468 - mae: 2.1468\n",
            "Epoch 172/300\n",
            "1/1 [==============================] - 0s 8ms/step - loss: 2.1307 - mae: 2.1307\n",
            "Epoch 173/300\n",
            "1/1 [==============================] - 0s 9ms/step - loss: 2.1148 - mae: 2.1148\n",
            "Epoch 174/300\n",
            "1/1 [==============================] - 0s 9ms/step - loss: 2.0975 - mae: 2.0975\n",
            "Epoch 175/300\n",
            "1/1 [==============================] - 0s 9ms/step - loss: 2.0799 - mae: 2.0799\n",
            "Epoch 176/300\n",
            "1/1 [==============================] - 0s 13ms/step - loss: 2.0628 - mae: 2.0628\n",
            "Epoch 177/300\n",
            "1/1 [==============================] - 0s 8ms/step - loss: 2.0465 - mae: 2.0465\n",
            "Epoch 178/300\n",
            "1/1 [==============================] - 0s 9ms/step - loss: 2.0298 - mae: 2.0298\n",
            "Epoch 179/300\n",
            "1/1 [==============================] - 0s 10ms/step - loss: 2.0127 - mae: 2.0127\n",
            "Epoch 180/300\n",
            "1/1 [==============================] - 0s 8ms/step - loss: 1.9981 - mae: 1.9981\n",
            "Epoch 181/300\n",
            "1/1 [==============================] - 0s 8ms/step - loss: 1.9919 - mae: 1.9919\n",
            "Epoch 182/300\n",
            "1/1 [==============================] - 0s 8ms/step - loss: 1.9823 - mae: 1.9823\n",
            "Epoch 183/300\n",
            "1/1 [==============================] - 0s 9ms/step - loss: 1.9700 - mae: 1.9700\n",
            "Epoch 184/300\n",
            "1/1 [==============================] - 0s 8ms/step - loss: 1.9552 - mae: 1.9552\n",
            "Epoch 185/300\n",
            "1/1 [==============================] - 0s 9ms/step - loss: 1.9380 - mae: 1.9380\n",
            "Epoch 186/300\n",
            "1/1 [==============================] - 0s 9ms/step - loss: 1.9238 - mae: 1.9238\n",
            "Epoch 187/300\n",
            "1/1 [==============================] - 0s 8ms/step - loss: 1.9142 - mae: 1.9142\n",
            "Epoch 188/300\n",
            "1/1 [==============================] - 0s 9ms/step - loss: 1.9034 - mae: 1.9034\n",
            "Epoch 189/300\n",
            "1/1 [==============================] - 0s 8ms/step - loss: 1.8916 - mae: 1.8916\n",
            "Epoch 190/300\n",
            "1/1 [==============================] - 0s 9ms/step - loss: 1.8788 - mae: 1.8788\n",
            "Epoch 191/300\n",
            "1/1 [==============================] - 0s 9ms/step - loss: 1.8651 - mae: 1.8651\n",
            "Epoch 192/300\n",
            "1/1 [==============================] - 0s 9ms/step - loss: 1.8507 - mae: 1.8507\n",
            "Epoch 193/300\n",
            "1/1 [==============================] - 0s 9ms/step - loss: 1.8356 - mae: 1.8356\n",
            "Epoch 194/300\n",
            "1/1 [==============================] - 0s 9ms/step - loss: 1.8253 - mae: 1.8253\n",
            "Epoch 195/300\n",
            "1/1 [==============================] - 0s 9ms/step - loss: 1.8149 - mae: 1.8149\n",
            "Epoch 196/300\n",
            "1/1 [==============================] - 0s 11ms/step - loss: 1.8019 - mae: 1.8019\n",
            "Epoch 197/300\n",
            "1/1 [==============================] - 0s 9ms/step - loss: 1.7865 - mae: 1.7865\n",
            "Epoch 198/300\n",
            "1/1 [==============================] - 0s 9ms/step - loss: 1.7713 - mae: 1.7713\n",
            "Epoch 199/300\n",
            "1/1 [==============================] - 0s 9ms/step - loss: 1.7603 - mae: 1.7603\n",
            "Epoch 200/300\n",
            "1/1 [==============================] - 0s 14ms/step - loss: 1.7481 - mae: 1.7481\n",
            "Epoch 201/300\n",
            "1/1 [==============================] - 0s 10ms/step - loss: 1.7345 - mae: 1.7345\n",
            "Epoch 202/300\n",
            "1/1 [==============================] - 0s 13ms/step - loss: 1.7198 - mae: 1.7198\n",
            "Epoch 203/300\n",
            "1/1 [==============================] - 0s 10ms/step - loss: 1.7076 - mae: 1.7076\n",
            "Epoch 204/300\n",
            "1/1 [==============================] - 0s 9ms/step - loss: 1.6953 - mae: 1.6953\n",
            "Epoch 205/300\n",
            "1/1 [==============================] - 0s 13ms/step - loss: 1.6807 - mae: 1.6807\n",
            "Epoch 206/300\n",
            "1/1 [==============================] - 0s 9ms/step - loss: 1.6671 - mae: 1.6671\n",
            "Epoch 207/300\n",
            "1/1 [==============================] - 0s 10ms/step - loss: 1.6545 - mae: 1.6545\n",
            "Epoch 208/300\n",
            "1/1 [==============================] - 0s 9ms/step - loss: 1.6407 - mae: 1.6407\n",
            "Epoch 209/300\n",
            "1/1 [==============================] - 0s 12ms/step - loss: 1.6258 - mae: 1.6258\n",
            "Epoch 210/300\n",
            "1/1 [==============================] - 0s 10ms/step - loss: 1.6123 - mae: 1.6123\n",
            "Epoch 211/300\n",
            "1/1 [==============================] - 0s 11ms/step - loss: 1.5991 - mae: 1.5991\n",
            "Epoch 212/300\n",
            "1/1 [==============================] - 0s 8ms/step - loss: 1.5838 - mae: 1.5838\n",
            "Epoch 213/300\n",
            "1/1 [==============================] - 0s 8ms/step - loss: 1.5711 - mae: 1.5711\n",
            "Epoch 214/300\n",
            "1/1 [==============================] - 0s 8ms/step - loss: 1.5582 - mae: 1.5582\n",
            "Epoch 215/300\n",
            "1/1 [==============================] - 0s 9ms/step - loss: 1.5440 - mae: 1.5440\n",
            "Epoch 216/300\n",
            "1/1 [==============================] - 0s 16ms/step - loss: 1.5285 - mae: 1.5285\n",
            "Epoch 217/300\n",
            "1/1 [==============================] - 0s 17ms/step - loss: 1.5140 - mae: 1.5140\n",
            "Epoch 218/300\n",
            "1/1 [==============================] - 0s 10ms/step - loss: 1.5007 - mae: 1.5007\n",
            "Epoch 219/300\n",
            "1/1 [==============================] - 0s 11ms/step - loss: 1.4854 - mae: 1.4854\n",
            "Epoch 220/300\n",
            "1/1 [==============================] - 0s 10ms/step - loss: 1.4718 - mae: 1.4718\n",
            "Epoch 221/300\n",
            "1/1 [==============================] - 0s 16ms/step - loss: 1.4585 - mae: 1.4585\n",
            "Epoch 222/300\n",
            "1/1 [==============================] - 0s 11ms/step - loss: 1.4436 - mae: 1.4436\n",
            "Epoch 223/300\n",
            "1/1 [==============================] - 0s 10ms/step - loss: 1.4275 - mae: 1.4275\n",
            "Epoch 224/300\n",
            "1/1 [==============================] - 0s 9ms/step - loss: 1.4162 - mae: 1.4162\n",
            "Epoch 225/300\n",
            "1/1 [==============================] - 0s 10ms/step - loss: 1.4032 - mae: 1.4032\n",
            "Epoch 226/300\n",
            "1/1 [==============================] - 0s 8ms/step - loss: 1.3885 - mae: 1.3885\n",
            "Epoch 227/300\n",
            "1/1 [==============================] - 0s 9ms/step - loss: 1.3724 - mae: 1.3724\n",
            "Epoch 228/300\n",
            "1/1 [==============================] - 0s 8ms/step - loss: 1.3586 - mae: 1.3586\n",
            "Epoch 229/300\n",
            "1/1 [==============================] - 0s 10ms/step - loss: 1.3460 - mae: 1.3460\n",
            "Epoch 230/300\n",
            "1/1 [==============================] - 0s 9ms/step - loss: 1.3319 - mae: 1.3319\n",
            "Epoch 231/300\n",
            "1/1 [==============================] - 0s 9ms/step - loss: 1.3163 - mae: 1.3163\n",
            "Epoch 232/300\n",
            "1/1 [==============================] - 0s 9ms/step - loss: 1.3003 - mae: 1.3003\n",
            "Epoch 233/300\n",
            "1/1 [==============================] - 0s 9ms/step - loss: 1.2869 - mae: 1.2869\n",
            "Epoch 234/300\n",
            "1/1 [==============================] - 0s 8ms/step - loss: 1.2718 - mae: 1.2718\n",
            "Epoch 235/300\n",
            "1/1 [==============================] - 0s 10ms/step - loss: 1.2580 - mae: 1.2580\n",
            "Epoch 236/300\n",
            "1/1 [==============================] - 0s 12ms/step - loss: 1.2437 - mae: 1.2437\n",
            "Epoch 237/300\n",
            "1/1 [==============================] - 0s 10ms/step - loss: 1.2276 - mae: 1.2276\n",
            "Epoch 238/300\n",
            "1/1 [==============================] - 0s 9ms/step - loss: 1.2136 - mae: 1.2136\n",
            "Epoch 239/300\n",
            "1/1 [==============================] - 0s 12ms/step - loss: 1.1992 - mae: 1.1992\n",
            "Epoch 240/300\n",
            "1/1 [==============================] - 0s 9ms/step - loss: 1.1831 - mae: 1.1831\n",
            "Epoch 241/300\n",
            "1/1 [==============================] - 0s 9ms/step - loss: 1.1663 - mae: 1.1663\n",
            "Epoch 242/300\n",
            "1/1 [==============================] - 0s 10ms/step - loss: 1.1512 - mae: 1.1512\n",
            "Epoch 243/300\n",
            "1/1 [==============================] - 0s 10ms/step - loss: 1.1350 - mae: 1.1350\n",
            "Epoch 244/300\n",
            "1/1 [==============================] - 0s 9ms/step - loss: 1.1193 - mae: 1.1193\n",
            "Epoch 245/300\n",
            "1/1 [==============================] - 0s 9ms/step - loss: 1.1046 - mae: 1.1046\n",
            "Epoch 246/300\n",
            "1/1 [==============================] - 0s 10ms/step - loss: 1.0884 - mae: 1.0884\n",
            "Epoch 247/300\n",
            "1/1 [==============================] - 0s 9ms/step - loss: 1.0726 - mae: 1.0726\n",
            "Epoch 248/300\n",
            "1/1 [==============================] - 0s 9ms/step - loss: 1.0566 - mae: 1.0566\n",
            "Epoch 249/300\n",
            "1/1 [==============================] - 0s 9ms/step - loss: 1.0407 - mae: 1.0407\n",
            "Epoch 250/300\n",
            "1/1 [==============================] - 0s 9ms/step - loss: 1.0247 - mae: 1.0247\n",
            "Epoch 251/300\n",
            "1/1 [==============================] - 0s 9ms/step - loss: 1.0078 - mae: 1.0078\n",
            "Epoch 252/300\n",
            "1/1 [==============================] - 0s 10ms/step - loss: 0.9918 - mae: 0.9918\n",
            "Epoch 253/300\n",
            "1/1 [==============================] - 0s 10ms/step - loss: 0.9758 - mae: 0.9758\n",
            "Epoch 254/300\n",
            "1/1 [==============================] - 0s 9ms/step - loss: 0.9590 - mae: 0.9590\n",
            "Epoch 255/300\n",
            "1/1 [==============================] - 0s 9ms/step - loss: 0.9425 - mae: 0.9425\n",
            "Epoch 256/300\n",
            "1/1 [==============================] - 0s 12ms/step - loss: 0.9264 - mae: 0.9264\n",
            "Epoch 257/300\n",
            "1/1 [==============================] - 0s 12ms/step - loss: 0.9095 - mae: 0.9095\n",
            "Epoch 258/300\n",
            "1/1 [==============================] - 0s 12ms/step - loss: 0.8930 - mae: 0.8930\n",
            "Epoch 259/300\n",
            "1/1 [==============================] - 0s 9ms/step - loss: 0.8749 - mae: 0.8749\n",
            "Epoch 260/300\n",
            "1/1 [==============================] - 0s 10ms/step - loss: 0.8569 - mae: 0.8569\n",
            "Epoch 261/300\n",
            "1/1 [==============================] - 0s 9ms/step - loss: 0.8385 - mae: 0.8385\n",
            "Epoch 262/300\n",
            "1/1 [==============================] - 0s 8ms/step - loss: 0.8184 - mae: 0.8184\n",
            "Epoch 263/300\n",
            "1/1 [==============================] - 0s 9ms/step - loss: 0.7988 - mae: 0.7988\n",
            "Epoch 264/300\n",
            "1/1 [==============================] - 0s 10ms/step - loss: 0.7792 - mae: 0.7792\n",
            "Epoch 265/300\n",
            "1/1 [==============================] - 0s 9ms/step - loss: 0.7591 - mae: 0.7591\n",
            "Epoch 266/300\n",
            "1/1 [==============================] - 0s 9ms/step - loss: 0.7395 - mae: 0.7395\n",
            "Epoch 267/300\n",
            "1/1 [==============================] - 0s 8ms/step - loss: 0.7192 - mae: 0.7192\n",
            "Epoch 268/300\n",
            "1/1 [==============================] - 0s 9ms/step - loss: 0.7015 - mae: 0.7015\n",
            "Epoch 269/300\n",
            "1/1 [==============================] - 0s 9ms/step - loss: 0.6818 - mae: 0.6818\n",
            "Epoch 270/300\n",
            "1/1 [==============================] - 0s 8ms/step - loss: 0.6598 - mae: 0.6598\n",
            "Epoch 271/300\n",
            "1/1 [==============================] - 0s 9ms/step - loss: 0.6402 - mae: 0.6402\n",
            "Epoch 272/300\n",
            "1/1 [==============================] - 0s 9ms/step - loss: 0.6199 - mae: 0.6199\n",
            "Epoch 273/300\n",
            "1/1 [==============================] - 0s 8ms/step - loss: 0.6003 - mae: 0.6003\n",
            "Epoch 274/300\n",
            "1/1 [==============================] - 0s 9ms/step - loss: 0.5801 - mae: 0.5801\n",
            "Epoch 275/300\n",
            "1/1 [==============================] - 0s 10ms/step - loss: 0.5591 - mae: 0.5591\n",
            "Epoch 276/300\n",
            "1/1 [==============================] - 0s 7ms/step - loss: 0.5391 - mae: 0.5391\n",
            "Epoch 277/300\n",
            "1/1 [==============================] - 0s 8ms/step - loss: 0.5184 - mae: 0.5184\n",
            "Epoch 278/300\n",
            "1/1 [==============================] - 0s 9ms/step - loss: 0.4983 - mae: 0.4983\n",
            "Epoch 279/300\n",
            "1/1 [==============================] - 0s 9ms/step - loss: 0.4768 - mae: 0.4768\n",
            "Epoch 280/300\n",
            "1/1 [==============================] - 0s 8ms/step - loss: 0.4563 - mae: 0.4563\n",
            "Epoch 281/300\n",
            "1/1 [==============================] - 0s 9ms/step - loss: 0.4362 - mae: 0.4362\n",
            "Epoch 282/300\n",
            "1/1 [==============================] - 0s 8ms/step - loss: 0.4156 - mae: 0.4156\n",
            "Epoch 283/300\n",
            "1/1 [==============================] - 0s 9ms/step - loss: 0.3942 - mae: 0.3942\n",
            "Epoch 284/300\n",
            "1/1 [==============================] - 0s 9ms/step - loss: 0.3726 - mae: 0.3726\n",
            "Epoch 285/300\n",
            "1/1 [==============================] - 0s 13ms/step - loss: 0.3520 - mae: 0.3520\n",
            "Epoch 286/300\n",
            "1/1 [==============================] - 0s 10ms/step - loss: 0.3308 - mae: 0.3308\n",
            "Epoch 287/300\n",
            "1/1 [==============================] - 0s 10ms/step - loss: 0.3109 - mae: 0.3109\n",
            "Epoch 288/300\n",
            "1/1 [==============================] - 0s 9ms/step - loss: 0.2884 - mae: 0.2884\n",
            "Epoch 289/300\n",
            "1/1 [==============================] - 0s 9ms/step - loss: 0.2672 - mae: 0.2672\n",
            "Epoch 290/300\n",
            "1/1 [==============================] - 0s 8ms/step - loss: 0.2471 - mae: 0.2471\n",
            "Epoch 291/300\n",
            "1/1 [==============================] - 0s 9ms/step - loss: 0.2263 - mae: 0.2263\n",
            "Epoch 292/300\n",
            "1/1 [==============================] - 0s 9ms/step - loss: 0.2048 - mae: 0.2048\n",
            "Epoch 293/300\n",
            "1/1 [==============================] - 0s 9ms/step - loss: 0.1825 - mae: 0.1825\n",
            "Epoch 294/300\n",
            "1/1 [==============================] - 0s 9ms/step - loss: 0.1658 - mae: 0.1658\n",
            "Epoch 295/300\n",
            "1/1 [==============================] - 0s 9ms/step - loss: 0.1548 - mae: 0.1548\n",
            "Epoch 296/300\n",
            "1/1 [==============================] - 0s 8ms/step - loss: 0.1437 - mae: 0.1437\n",
            "Epoch 297/300\n",
            "1/1 [==============================] - 0s 9ms/step - loss: 0.1315 - mae: 0.1315\n",
            "Epoch 298/300\n",
            "1/1 [==============================] - 0s 9ms/step - loss: 0.1188 - mae: 0.1188\n",
            "Epoch 299/300\n",
            "1/1 [==============================] - 0s 9ms/step - loss: 0.1053 - mae: 0.1053\n",
            "Epoch 300/300\n",
            "1/1 [==============================] - 0s 8ms/step - loss: 0.0922 - mae: 0.0922\n"
          ]
        },
        {
          "data": {
            "text/plain": [
              "<keras.callbacks.History at 0x7fbdc661aa30>"
            ]
          },
          "execution_count": 73,
          "metadata": {},
          "output_type": "execute_result"
        }
      ],
      "source": [
        "# increased the epochs\n",
        "# increased the dense layer (10,20,10)\n",
        "# Changed the optimizer to experimental.AdamW check more optimizer on tf/optimizers\n",
        "tf.random.set_seed(42)\n",
        "\n",
        "# Create a model using Sequential API\n",
        "model4= tf.keras.Sequential([ tf.keras.layers.Dense(1,input_shape=(1,)),\n",
        "    tf.keras.layers.Dense(10,activation='relu'),\n",
        "    tf.keras.layers.Dense(20,activation='relu'),\n",
        "    tf.keras.layers.Dense(10,activation='relu'),\n",
        "    tf.keras.layers.Dense(1)])\n",
        "\n",
        "# Compile the model\n",
        "model4.compile(loss=tf.keras.losses.mae,optimizer=tf.keras.optimizers.experimental.AdamW(),\n",
        "              metrics=['mae'])\n",
        "\n",
        "# Fit the model\n",
        "model4.fit(X,Y,epochs=300)"
      ]
    },
    {
      "cell_type": "code",
      "execution_count": null,
      "metadata": {
        "colab": {
          "base_uri": "https://localhost:8080/"
        },
        "id": "sgJ-MaqbbPjq",
        "outputId": "8daa973d-7e18-4b88-f1ab-44016cb1e231"
      },
      "outputs": [
        {
          "name": "stdout",
          "output_type": "stream",
          "text": [
            "1/1 [==============================] - 0s 38ms/step\n",
            "[[26.171309]]\n",
            "1/1 [==============================] - 0s 39ms/step\n",
            "[[29.223642]]\n",
            "1/1 [==============================] - 0s 20ms/step\n",
            "[[14.979431]]\n"
          ]
        }
      ],
      "source": [
        "# make Predictions\n",
        "print(model4.predict([17.0]))\n",
        "# 17+9 =26 perfect model with loss=0.09 \n",
        "# here is the most appropreate model after 4 model\n",
        "print(model4.predict([20.0]))\n",
        "# try on given data\n",
        "\n",
        "print(model4.predict(X[6:7].numpy()))"
      ]
    },
    {
      "cell_type": "markdown",
      "metadata": {
        "id": "uPnIKv9SuecO"
      },
      "source": [
        "# Evaluation of models\n",
        "\n",
        "### Typical WorkFlow of any Neural Network Model \n",
        "\n",
        "```\n",
        "Build a model --> fit it --> evaluate it --> tweak it --> fit again -->tweak .... so on until you get a satisfied result. \n",
        "```\n",
        "\n",
        "### But when Evaluating a model we only use,\n",
        "\n",
        "* `Visualization`\n",
        "\n",
        "## Reasons for Visualization \n",
        "\n",
        "* `Data` - what data are we working on ? , what does it look like?\n",
        "* `Model` - what should our model look like?\n",
        "* `Traning ` - how does a model perform while it learns?\n",
        "* `Prediction` - how do the prediction of the model line up against the ground truth(The original Labels)? (Used in above model for X=17, then Y =26).          "
      ]
    },
    {
      "cell_type": "code",
      "execution_count": 154,
      "metadata": {
        "colab": {
          "base_uri": "https://localhost:8080/"
        },
        "id": "B9CLQAHGt8fx",
        "outputId": "efac0832-3da9-4a1c-aab6-2ab1f672536d"
      },
      "outputs": [
        {
          "output_type": "execute_result",
          "data": {
            "text/plain": [
              "<tf.Tensor: shape=(60,), dtype=int32, numpy=\n",
              "array([-100,  -95,  -90,  -85,  -80,  -75,  -70,  -65,  -60,  -55,  -50,\n",
              "        -45,  -40,  -35,  -30,  -25,  -20,  -15,  -10,   -5,    0,    5,\n",
              "         10,   15,   20,   25,   30,   35,   40,   45,   50,   55,   60,\n",
              "         65,   70,   75,   80,   85,   90,   95,  100,  105,  110,  115,\n",
              "        120,  125,  130,  135,  140,  145,  150,  155,  160,  165,  170,\n",
              "        175,  180,  185,  190,  195], dtype=int32)>"
            ]
          },
          "metadata": {},
          "execution_count": 154
        }
      ],
      "source": [
        "# Make a bigger dataset\n",
        "X = tf.range(-100, 200, 5)\n",
        "X"
      ]
    },
    {
      "cell_type": "code",
      "execution_count": 155,
      "metadata": {
        "colab": {
          "base_uri": "https://localhost:8080/"
        },
        "id": "iN0IOCbujNfo",
        "outputId": "9d98ad2e-9a95-445f-8cc7-2d690a71b505"
      },
      "outputs": [
        {
          "output_type": "execute_result",
          "data": {
            "text/plain": [
              "<tf.Tensor: shape=(60,), dtype=int32, numpy=\n",
              "array([-90, -85, -80, -75, -70, -65, -60, -55, -50, -45, -40, -35, -30,\n",
              "       -25, -20, -15, -10,  -5,   0,   5,  10,  15,  20,  25,  30,  35,\n",
              "        40,  45,  50,  55,  60,  65,  70,  75,  80,  85,  90,  95, 100,\n",
              "       105, 110, 115, 120, 125, 130, 135, 140, 145, 150, 155, 160, 165,\n",
              "       170, 175, 180, 185, 190, 195, 200, 205], dtype=int32)>"
            ]
          },
          "metadata": {},
          "execution_count": 155
        }
      ],
      "source": [
        "y = X + 10\n",
        "y"
      ]
    },
    {
      "cell_type": "code",
      "execution_count": 157,
      "metadata": {
        "colab": {
          "base_uri": "https://localhost:8080/",
          "height": 283
        },
        "id": "59VPHV6Yk-GG",
        "outputId": "7a148e08-72be-4f19-d62f-7be8c5ba27fe"
      },
      "outputs": [
        {
          "output_type": "execute_result",
          "data": {
            "text/plain": [
              "[<matplotlib.lines.Line2D at 0x7fd1d95a13d0>]"
            ]
          },
          "metadata": {},
          "execution_count": 157
        },
        {
          "output_type": "display_data",
          "data": {
            "text/plain": [
              "<Figure size 432x288 with 1 Axes>"
            ],
            "image/png": "[encoded data removed]"
          },
          "metadata": {
            "needs_background": "light"
          }
        }
      ],
      "source": [
        "import matplotlib.pyplot as plt\n",
        "\n",
        "plt.plot(X, y)"
      ]
    },
    {
      "cell_type": "markdown",
      "source": [
        "## Typical split of any DataSet\n",
        " * **Training Set** - the model learns from this data, which is typically 70-80% of the total data you have available\n",
        " * **Validation Set** - the model gets tuned on this data, which is typically 10-15% of the data available.\n",
        " * **Testing Set**- the model gets evaluated on this data to test what is has learned, this set is typically 10-15% of the total data available."
      ],
      "metadata": {
        "id": "wOdwiZ7YwfR1"
      }
    },
    {
      "cell_type": "code",
      "execution_count": 160,
      "metadata": {
        "id": "IA3e4JDMn8v-",
        "colab": {
          "base_uri": "https://localhost:8080/"
        },
        "outputId": "e8064830-396f-42d0-e330-083c1071f83f"
      },
      "outputs": [
        {
          "output_type": "execute_result",
          "data": {
            "text/plain": [
              "(45, 15, 45, 15)"
            ]
          },
          "metadata": {},
          "execution_count": 160
        }
      ],
      "source": [
        "# Split the data into train and test sets\n",
        "X_train = X[:45] # first 40 are training samples (80% of the data) \n",
        "y_train = y[:45]\n",
        "\n",
        "X_test = X[45:] # last 10 are testing samples (20% of the data)\n",
        "y_test = y[45:]\n",
        "\n",
        "len(X_train), len(X_test), len(y_train), len(y_test)"
      ]
    },
    {
      "cell_type": "markdown",
      "source": [
        "# Visualizing the different set of data\n",
        "Now we've got our data in training and test sets... let's visualize it again!"
      ],
      "metadata": {
        "id": "DfH7L1kdwXcm"
      }
    },
    {
      "cell_type": "code",
      "source": [
        "plt.figure(figsize=(10, 7))\n",
        "# Plot training data in blue\n",
        "plt.scatter(X_train, y_train, c=\"b\", label=\"Training data\") # our model will learn on this\n",
        "# Plot test data in green\n",
        "plt.scatter(X_test, y_test, c=\"r\", label=\"Testing data\") # want our model to be able to predict this (given X, what's y?)\n",
        "# Show a legend\n",
        "plt.legend();\n",
        "     "
      ],
      "metadata": {
        "colab": {
          "base_uri": "https://localhost:8080/",
          "height": 428
        },
        "id": "g4BUqvUDuZgG",
        "outputId": "d80c3e35-574c-46a5-d1f0-c753f5a33368"
      },
      "execution_count": 162,
      "outputs": [
        {
          "output_type": "display_data",
          "data": {
            "text/plain": [
              "<Figure size 720x504 with 1 Axes>"
            ],
            "image/png": "[encoded data removed]"
          },
          "metadata": {
            "needs_background": "light"
          }
        }
      ]
    },
    {
      "cell_type": "code",
      "source": [
        "\n",
        "# Let's have a look at how to build a neural network for our data\n",
        "\n",
        "# 1. Create a model\n",
        "model5 = tf.keras.Sequential([\n",
        "  tf.keras.layers.Dense(1,input_shape=(1,),name='Input_layer'),\n",
        "  tf.keras.layers.Dense(90,activation='relu',name=\"Dense_l1\"),\n",
        "  tf.keras.layers.Dense(180,activation='relu',name=\"Dense_l2\"),\n",
        "  tf.keras.layers.Dense(90,activation='relu',name=\"Dense_l3\"),\n",
        "  tf.keras.layers.Dense(1,name='Output_layer')                             \n",
        "],name=\"Model_5\")\n",
        "\n",
        "# 2. Compile the model\n",
        "model5.compile(loss=tf.keras.losses.mae,\n",
        "              optimizer=tf.keras.optimizers.experimental.AdamW(),\n",
        "              metrics=[\"mae\"])\n",
        "\n",
        "# # 3. Fit the model\n",
        "model5.fit(X_train, y_train, epochs=170)"
      ],
      "metadata": {
        "colab": {
          "base_uri": "https://localhost:8080/"
        },
        "id": "INo0tL_pxS2n",
        "outputId": "ef3556c2-f2e7-4001-bf19-ef8cdfe5aef6"
      },
      "execution_count": 221,
      "outputs": [
        {
          "output_type": "stream",
          "name": "stdout",
          "text": [
            "Epoch 1/170\n",
            "2/2 [==============================] - 2s 12ms/step - loss: 57.5864 - mae: 57.5864\n",
            "Epoch 2/170\n",
            "2/2 [==============================] - 0s 10ms/step - loss: 56.9170 - mae: 56.9170\n",
            "Epoch 3/170\n",
            "2/2 [==============================] - 0s 11ms/step - loss: 56.2751 - mae: 56.2751\n",
            "Epoch 4/170\n",
            "2/2 [==============================] - 0s 11ms/step - loss: 55.6386 - mae: 55.6386\n",
            "Epoch 5/170\n",
            "2/2 [==============================] - 0s 10ms/step - loss: 54.9262 - mae: 54.9262\n",
            "Epoch 6/170\n",
            "2/2 [==============================] - 0s 10ms/step - loss: 54.0999 - mae: 54.0999\n",
            "Epoch 7/170\n",
            "2/2 [==============================] - 0s 9ms/step - loss: 53.1310 - mae: 53.1310\n",
            "Epoch 8/170\n",
            "2/2 [==============================] - 0s 8ms/step - loss: 52.0460 - mae: 52.0460\n",
            "Epoch 9/170\n",
            "2/2 [==============================] - 0s 8ms/step - loss: 50.7751 - mae: 50.7751\n",
            "Epoch 10/170\n",
            "2/2 [==============================] - 0s 9ms/step - loss: 49.2938 - mae: 49.2938\n",
            "Epoch 11/170\n",
            "2/2 [==============================] - 0s 9ms/step - loss: 47.3733 - mae: 47.3733\n",
            "Epoch 12/170\n",
            "2/2 [==============================] - 0s 9ms/step - loss: 45.2014 - mae: 45.2014\n",
            "Epoch 13/170\n",
            "2/2 [==============================] - 0s 9ms/step - loss: 42.7043 - mae: 42.7043\n",
            "Epoch 14/170\n",
            "2/2 [==============================] - 0s 9ms/step - loss: 39.5386 - mae: 39.5386\n",
            "Epoch 15/170\n",
            "2/2 [==============================] - 0s 8ms/step - loss: 36.0765 - mae: 36.0765\n",
            "Epoch 16/170\n",
            "2/2 [==============================] - 0s 13ms/step - loss: 31.9331 - mae: 31.9331\n",
            "Epoch 17/170\n",
            "2/2 [==============================] - 0s 9ms/step - loss: 26.9503 - mae: 26.9503\n",
            "Epoch 18/170\n",
            "2/2 [==============================] - 0s 9ms/step - loss: 21.2764 - mae: 21.2764\n",
            "Epoch 19/170\n",
            "2/2 [==============================] - 0s 9ms/step - loss: 14.8900 - mae: 14.8900\n",
            "Epoch 20/170\n",
            "2/2 [==============================] - 0s 8ms/step - loss: 7.7342 - mae: 7.7342\n",
            "Epoch 21/170\n",
            "2/2 [==============================] - 0s 9ms/step - loss: 5.9561 - mae: 5.9561\n",
            "Epoch 22/170\n",
            "2/2 [==============================] - 0s 9ms/step - loss: 8.9861 - mae: 8.9861\n",
            "Epoch 23/170\n",
            "2/2 [==============================] - 0s 8ms/step - loss: 10.0438 - mae: 10.0438\n",
            "Epoch 24/170\n",
            "2/2 [==============================] - 0s 8ms/step - loss: 8.9803 - mae: 8.9803\n",
            "Epoch 25/170\n",
            "2/2 [==============================] - 0s 11ms/step - loss: 6.7923 - mae: 6.7923\n",
            "Epoch 26/170\n",
            "2/2 [==============================] - 0s 11ms/step - loss: 4.3648 - mae: 4.3648\n",
            "Epoch 27/170\n",
            "2/2 [==============================] - 0s 9ms/step - loss: 4.0966 - mae: 4.0966\n",
            "Epoch 28/170\n",
            "2/2 [==============================] - 0s 9ms/step - loss: 5.6306 - mae: 5.6306\n",
            "Epoch 29/170\n",
            "2/2 [==============================] - 0s 9ms/step - loss: 5.8775 - mae: 5.8775\n",
            "Epoch 30/170\n",
            "2/2 [==============================] - 0s 8ms/step - loss: 4.4920 - mae: 4.4920\n",
            "Epoch 31/170\n",
            "2/2 [==============================] - 0s 9ms/step - loss: 3.4338 - mae: 3.4338\n",
            "Epoch 32/170\n",
            "2/2 [==============================] - 0s 9ms/step - loss: 4.3802 - mae: 4.3802\n",
            "Epoch 33/170\n",
            "2/2 [==============================] - 0s 9ms/step - loss: 4.1581 - mae: 4.1581\n",
            "Epoch 34/170\n",
            "2/2 [==============================] - 0s 9ms/step - loss: 4.0386 - mae: 4.0386\n",
            "Epoch 35/170\n",
            "2/2 [==============================] - 0s 9ms/step - loss: 3.3880 - mae: 3.3880\n",
            "Epoch 36/170\n",
            "2/2 [==============================] - 0s 8ms/step - loss: 3.5255 - mae: 3.5255\n",
            "Epoch 37/170\n",
            "2/2 [==============================] - 0s 9ms/step - loss: 3.6423 - mae: 3.6423\n",
            "Epoch 38/170\n",
            "2/2 [==============================] - 0s 9ms/step - loss: 2.9520 - mae: 2.9520\n",
            "Epoch 39/170\n",
            "2/2 [==============================] - 0s 10ms/step - loss: 3.1062 - mae: 3.1062\n",
            "Epoch 40/170\n",
            "2/2 [==============================] - 0s 10ms/step - loss: 3.4684 - mae: 3.4684\n",
            "Epoch 41/170\n",
            "2/2 [==============================] - 0s 9ms/step - loss: 2.7482 - mae: 2.7482\n",
            "Epoch 42/170\n",
            "2/2 [==============================] - 0s 10ms/step - loss: 3.1157 - mae: 3.1157\n",
            "Epoch 43/170\n",
            "2/2 [==============================] - 0s 9ms/step - loss: 2.8277 - mae: 2.8277\n",
            "Epoch 44/170\n",
            "2/2 [==============================] - 0s 9ms/step - loss: 2.6228 - mae: 2.6228\n",
            "Epoch 45/170\n",
            "2/2 [==============================] - 0s 9ms/step - loss: 2.9067 - mae: 2.9067\n",
            "Epoch 46/170\n",
            "2/2 [==============================] - 0s 9ms/step - loss: 2.6416 - mae: 2.6416\n",
            "Epoch 47/170\n",
            "2/2 [==============================] - 0s 10ms/step - loss: 2.4456 - mae: 2.4456\n",
            "Epoch 48/170\n",
            "2/2 [==============================] - 0s 9ms/step - loss: 2.2382 - mae: 2.2382\n",
            "Epoch 49/170\n",
            "2/2 [==============================] - 0s 10ms/step - loss: 2.4174 - mae: 2.4174\n",
            "Epoch 50/170\n",
            "2/2 [==============================] - 0s 11ms/step - loss: 2.3322 - mae: 2.3322\n",
            "Epoch 51/170\n",
            "2/2 [==============================] - 0s 9ms/step - loss: 2.0633 - mae: 2.0633\n",
            "Epoch 52/170\n",
            "2/2 [==============================] - 0s 9ms/step - loss: 2.0149 - mae: 2.0149\n",
            "Epoch 53/170\n",
            "2/2 [==============================] - 0s 8ms/step - loss: 1.8804 - mae: 1.8804\n",
            "Epoch 54/170\n",
            "2/2 [==============================] - 0s 9ms/step - loss: 1.8569 - mae: 1.8569\n",
            "Epoch 55/170\n",
            "2/2 [==============================] - 0s 9ms/step - loss: 1.7346 - mae: 1.7346\n",
            "Epoch 56/170\n",
            "2/2 [==============================] - 0s 11ms/step - loss: 1.7340 - mae: 1.7340\n",
            "Epoch 57/170\n",
            "2/2 [==============================] - 0s 9ms/step - loss: 1.6258 - mae: 1.6258\n",
            "Epoch 58/170\n",
            "2/2 [==============================] - 0s 12ms/step - loss: 1.7192 - mae: 1.7192\n",
            "Epoch 59/170\n",
            "2/2 [==============================] - 0s 9ms/step - loss: 1.5932 - mae: 1.5932\n",
            "Epoch 60/170\n",
            "2/2 [==============================] - 0s 10ms/step - loss: 1.7090 - mae: 1.7090\n",
            "Epoch 61/170\n",
            "2/2 [==============================] - 0s 10ms/step - loss: 1.4141 - mae: 1.4141\n",
            "Epoch 62/170\n",
            "2/2 [==============================] - 0s 9ms/step - loss: 1.8575 - mae: 1.8575\n",
            "Epoch 63/170\n",
            "2/2 [==============================] - 0s 8ms/step - loss: 2.0271 - mae: 2.0271\n",
            "Epoch 64/170\n",
            "2/2 [==============================] - 0s 9ms/step - loss: 1.6386 - mae: 1.6386\n",
            "Epoch 65/170\n",
            "2/2 [==============================] - 0s 8ms/step - loss: 2.5112 - mae: 2.5112\n",
            "Epoch 66/170\n",
            "2/2 [==============================] - 0s 9ms/step - loss: 1.5990 - mae: 1.5990\n",
            "Epoch 67/170\n",
            "2/2 [==============================] - 0s 8ms/step - loss: 1.6372 - mae: 1.6372\n",
            "Epoch 68/170\n",
            "2/2 [==============================] - 0s 9ms/step - loss: 1.4813 - mae: 1.4813\n",
            "Epoch 69/170\n",
            "2/2 [==============================] - 0s 9ms/step - loss: 0.9251 - mae: 0.9251\n",
            "Epoch 70/170\n",
            "2/2 [==============================] - 0s 9ms/step - loss: 1.7046 - mae: 1.7046\n",
            "Epoch 71/170\n",
            "2/2 [==============================] - 0s 9ms/step - loss: 1.1351 - mae: 1.1351\n",
            "Epoch 72/170\n",
            "2/2 [==============================] - 0s 9ms/step - loss: 1.7075 - mae: 1.7075\n",
            "Epoch 73/170\n",
            "2/2 [==============================] - 0s 9ms/step - loss: 1.4367 - mae: 1.4367\n",
            "Epoch 74/170\n",
            "2/2 [==============================] - 0s 11ms/step - loss: 1.0952 - mae: 1.0952\n",
            "Epoch 75/170\n",
            "2/2 [==============================] - 0s 11ms/step - loss: 1.2100 - mae: 1.2100\n",
            "Epoch 76/170\n",
            "2/2 [==============================] - 0s 8ms/step - loss: 1.0940 - mae: 1.0940\n",
            "Epoch 77/170\n",
            "2/2 [==============================] - 0s 12ms/step - loss: 0.8651 - mae: 0.8651\n",
            "Epoch 78/170\n",
            "2/2 [==============================] - 0s 11ms/step - loss: 0.8865 - mae: 0.8865\n",
            "Epoch 79/170\n",
            "2/2 [==============================] - 0s 9ms/step - loss: 0.7999 - mae: 0.7999\n",
            "Epoch 80/170\n",
            "2/2 [==============================] - 0s 9ms/step - loss: 0.7506 - mae: 0.7506\n",
            "Epoch 81/170\n",
            "2/2 [==============================] - 0s 9ms/step - loss: 0.7949 - mae: 0.7949\n",
            "Epoch 82/170\n",
            "2/2 [==============================] - 0s 8ms/step - loss: 1.3037 - mae: 1.3037\n",
            "Epoch 83/170\n",
            "2/2 [==============================] - 0s 9ms/step - loss: 0.6674 - mae: 0.6674\n",
            "Epoch 84/170\n",
            "2/2 [==============================] - 0s 12ms/step - loss: 0.9531 - mae: 0.9531\n",
            "Epoch 85/170\n",
            "2/2 [==============================] - 0s 8ms/step - loss: 0.7842 - mae: 0.7842\n",
            "Epoch 86/170\n",
            "2/2 [==============================] - 0s 12ms/step - loss: 0.8511 - mae: 0.8511\n",
            "Epoch 87/170\n",
            "2/2 [==============================] - 0s 8ms/step - loss: 1.1194 - mae: 1.1194\n",
            "Epoch 88/170\n",
            "2/2 [==============================] - 0s 11ms/step - loss: 1.2221 - mae: 1.2221\n",
            "Epoch 89/170\n",
            "2/2 [==============================] - 0s 10ms/step - loss: 0.7363 - mae: 0.7363\n",
            "Epoch 90/170\n",
            "2/2 [==============================] - 0s 10ms/step - loss: 0.9886 - mae: 0.9886\n",
            "Epoch 91/170\n",
            "2/2 [==============================] - 0s 10ms/step - loss: 0.5710 - mae: 0.5710\n",
            "Epoch 92/170\n",
            "2/2 [==============================] - 0s 8ms/step - loss: 1.4076 - mae: 1.4076\n",
            "Epoch 93/170\n",
            "2/2 [==============================] - 0s 9ms/step - loss: 1.5604 - mae: 1.5604\n",
            "Epoch 94/170\n",
            "2/2 [==============================] - 0s 9ms/step - loss: 0.4821 - mae: 0.4821\n",
            "Epoch 95/170\n",
            "2/2 [==============================] - 0s 8ms/step - loss: 1.3844 - mae: 1.3844\n",
            "Epoch 96/170\n",
            "2/2 [==============================] - 0s 8ms/step - loss: 1.0578 - mae: 1.0578\n",
            "Epoch 97/170\n",
            "2/2 [==============================] - 0s 12ms/step - loss: 0.4873 - mae: 0.4873\n",
            "Epoch 98/170\n",
            "2/2 [==============================] - 0s 11ms/step - loss: 0.7226 - mae: 0.7226\n",
            "Epoch 99/170\n",
            "2/2 [==============================] - 0s 9ms/step - loss: 0.5943 - mae: 0.5943\n",
            "Epoch 100/170\n",
            "2/2 [==============================] - 0s 8ms/step - loss: 0.6744 - mae: 0.6744\n",
            "Epoch 101/170\n",
            "2/2 [==============================] - 0s 8ms/step - loss: 0.5097 - mae: 0.5097\n",
            "Epoch 102/170\n",
            "2/2 [==============================] - 0s 9ms/step - loss: 0.5160 - mae: 0.5160\n",
            "Epoch 103/170\n",
            "2/2 [==============================] - 0s 8ms/step - loss: 0.2423 - mae: 0.2423\n",
            "Epoch 104/170\n",
            "2/2 [==============================] - 0s 8ms/step - loss: 0.1825 - mae: 0.1825\n",
            "Epoch 105/170\n",
            "2/2 [==============================] - 0s 9ms/step - loss: 0.3048 - mae: 0.3048\n",
            "Epoch 106/170\n",
            "2/2 [==============================] - 0s 9ms/step - loss: 0.4091 - mae: 0.4091\n",
            "Epoch 107/170\n",
            "2/2 [==============================] - 0s 12ms/step - loss: 0.2090 - mae: 0.2090\n",
            "Epoch 108/170\n",
            "2/2 [==============================] - 0s 13ms/step - loss: 0.1465 - mae: 0.1465\n",
            "Epoch 109/170\n",
            "2/2 [==============================] - 0s 9ms/step - loss: 0.3890 - mae: 0.3890\n",
            "Epoch 110/170\n",
            "2/2 [==============================] - 0s 8ms/step - loss: 0.3150 - mae: 0.3150\n",
            "Epoch 111/170\n",
            "2/2 [==============================] - 0s 10ms/step - loss: 0.4144 - mae: 0.4144\n",
            "Epoch 112/170\n",
            "2/2 [==============================] - 0s 8ms/step - loss: 0.5010 - mae: 0.5010\n",
            "Epoch 113/170\n",
            "2/2 [==============================] - 0s 11ms/step - loss: 0.5548 - mae: 0.5548\n",
            "Epoch 114/170\n",
            "2/2 [==============================] - 0s 12ms/step - loss: 0.5813 - mae: 0.5813\n",
            "Epoch 115/170\n",
            "2/2 [==============================] - 0s 11ms/step - loss: 0.5169 - mae: 0.5169\n",
            "Epoch 116/170\n",
            "2/2 [==============================] - 0s 10ms/step - loss: 0.9041 - mae: 0.9041\n",
            "Epoch 117/170\n",
            "2/2 [==============================] - 0s 11ms/step - loss: 0.4204 - mae: 0.4204\n",
            "Epoch 118/170\n",
            "2/2 [==============================] - 0s 10ms/step - loss: 1.1401 - mae: 1.1401\n",
            "Epoch 119/170\n",
            "2/2 [==============================] - 0s 11ms/step - loss: 0.5895 - mae: 0.5895\n",
            "Epoch 120/170\n",
            "2/2 [==============================] - 0s 8ms/step - loss: 1.3871 - mae: 1.3871\n",
            "Epoch 121/170\n",
            "2/2 [==============================] - 0s 10ms/step - loss: 1.6506 - mae: 1.6506\n",
            "Epoch 122/170\n",
            "2/2 [==============================] - 0s 8ms/step - loss: 0.8518 - mae: 0.8518\n",
            "Epoch 123/170\n",
            "2/2 [==============================] - 0s 7ms/step - loss: 1.2387 - mae: 1.2387\n",
            "Epoch 124/170\n",
            "2/2 [==============================] - 0s 8ms/step - loss: 1.5143 - mae: 1.5143\n",
            "Epoch 125/170\n",
            "2/2 [==============================] - 0s 8ms/step - loss: 0.8679 - mae: 0.8679\n",
            "Epoch 126/170\n",
            "2/2 [==============================] - 0s 7ms/step - loss: 0.9803 - mae: 0.9803\n",
            "Epoch 127/170\n",
            "2/2 [==============================] - 0s 9ms/step - loss: 1.2345 - mae: 1.2345\n",
            "Epoch 128/170\n",
            "2/2 [==============================] - 0s 9ms/step - loss: 0.4243 - mae: 0.4243\n",
            "Epoch 129/170\n",
            "2/2 [==============================] - 0s 8ms/step - loss: 0.7547 - mae: 0.7547\n",
            "Epoch 130/170\n",
            "2/2 [==============================] - 0s 9ms/step - loss: 0.5141 - mae: 0.5141\n",
            "Epoch 131/170\n",
            "2/2 [==============================] - 0s 8ms/step - loss: 0.4269 - mae: 0.4269\n",
            "Epoch 132/170\n",
            "2/2 [==============================] - 0s 8ms/step - loss: 0.5278 - mae: 0.5278\n",
            "Epoch 133/170\n",
            "2/2 [==============================] - 0s 8ms/step - loss: 0.4834 - mae: 0.4834\n",
            "Epoch 134/170\n",
            "2/2 [==============================] - 0s 8ms/step - loss: 0.3849 - mae: 0.3849\n",
            "Epoch 135/170\n",
            "2/2 [==============================] - 0s 10ms/step - loss: 0.6301 - mae: 0.6301\n",
            "Epoch 136/170\n",
            "2/2 [==============================] - 0s 8ms/step - loss: 0.2806 - mae: 0.2806\n",
            "Epoch 137/170\n",
            "2/2 [==============================] - 0s 8ms/step - loss: 0.9552 - mae: 0.9552\n",
            "Epoch 138/170\n",
            "2/2 [==============================] - 0s 7ms/step - loss: 0.8870 - mae: 0.8870\n",
            "Epoch 139/170\n",
            "2/2 [==============================] - 0s 7ms/step - loss: 0.4777 - mae: 0.4777\n",
            "Epoch 140/170\n",
            "2/2 [==============================] - 0s 7ms/step - loss: 0.6992 - mae: 0.6992\n",
            "Epoch 141/170\n",
            "2/2 [==============================] - 0s 8ms/step - loss: 0.4653 - mae: 0.4653\n",
            "Epoch 142/170\n",
            "2/2 [==============================] - 0s 10ms/step - loss: 0.3827 - mae: 0.3827\n",
            "Epoch 143/170\n",
            "2/2 [==============================] - 0s 10ms/step - loss: 0.3990 - mae: 0.3990\n",
            "Epoch 144/170\n",
            "2/2 [==============================] - 0s 9ms/step - loss: 0.6807 - mae: 0.6807\n",
            "Epoch 145/170\n",
            "2/2 [==============================] - 0s 10ms/step - loss: 0.5421 - mae: 0.5421\n",
            "Epoch 146/170\n",
            "2/2 [==============================] - 0s 13ms/step - loss: 0.5131 - mae: 0.5131\n",
            "Epoch 147/170\n",
            "2/2 [==============================] - 0s 11ms/step - loss: 0.8534 - mae: 0.8534\n",
            "Epoch 148/170\n",
            "2/2 [==============================] - 0s 8ms/step - loss: 0.2998 - mae: 0.2998\n",
            "Epoch 149/170\n",
            "2/2 [==============================] - 0s 10ms/step - loss: 0.9399 - mae: 0.9399\n",
            "Epoch 150/170\n",
            "2/2 [==============================] - 0s 9ms/step - loss: 0.4374 - mae: 0.4374\n",
            "Epoch 151/170\n",
            "2/2 [==============================] - 0s 8ms/step - loss: 0.3804 - mae: 0.3804\n",
            "Epoch 152/170\n",
            "2/2 [==============================] - 0s 12ms/step - loss: 0.4250 - mae: 0.4250\n",
            "Epoch 153/170\n",
            "2/2 [==============================] - 0s 8ms/step - loss: 0.5346 - mae: 0.5346\n",
            "Epoch 154/170\n",
            "2/2 [==============================] - 0s 10ms/step - loss: 0.3625 - mae: 0.3625\n",
            "Epoch 155/170\n",
            "2/2 [==============================] - 0s 8ms/step - loss: 0.6910 - mae: 0.6910\n",
            "Epoch 156/170\n",
            "2/2 [==============================] - 0s 8ms/step - loss: 0.2788 - mae: 0.2788\n",
            "Epoch 157/170\n",
            "2/2 [==============================] - 0s 6ms/step - loss: 0.5779 - mae: 0.5779\n",
            "Epoch 158/170\n",
            "2/2 [==============================] - 0s 9ms/step - loss: 0.4699 - mae: 0.4699\n",
            "Epoch 159/170\n",
            "2/2 [==============================] - 0s 8ms/step - loss: 0.3100 - mae: 0.3100\n",
            "Epoch 160/170\n",
            "2/2 [==============================] - 0s 9ms/step - loss: 0.2970 - mae: 0.2970\n",
            "Epoch 161/170\n",
            "2/2 [==============================] - 0s 9ms/step - loss: 0.4751 - mae: 0.4751\n",
            "Epoch 162/170\n",
            "2/2 [==============================] - 0s 8ms/step - loss: 0.2548 - mae: 0.2548\n",
            "Epoch 163/170\n",
            "2/2 [==============================] - 0s 7ms/step - loss: 0.5160 - mae: 0.5160\n",
            "Epoch 164/170\n",
            "2/2 [==============================] - 0s 8ms/step - loss: 0.1680 - mae: 0.1680\n",
            "Epoch 165/170\n",
            "2/2 [==============================] - 0s 9ms/step - loss: 0.4802 - mae: 0.4802\n",
            "Epoch 166/170\n",
            "2/2 [==============================] - 0s 8ms/step - loss: 0.4362 - mae: 0.4362\n",
            "Epoch 167/170\n",
            "2/2 [==============================] - 0s 7ms/step - loss: 0.7091 - mae: 0.7091\n",
            "Epoch 168/170\n",
            "2/2 [==============================] - 0s 7ms/step - loss: 0.5756 - mae: 0.5756\n",
            "Epoch 169/170\n",
            "2/2 [==============================] - 0s 9ms/step - loss: 0.4491 - mae: 0.4491\n",
            "Epoch 170/170\n",
            "2/2 [==============================] - 0s 8ms/step - loss: 0.6243 - mae: 0.6243\n"
          ]
        },
        {
          "output_type": "execute_result",
          "data": {
            "text/plain": [
              "<keras.callbacks.History at 0x7fd1ed9ecd60>"
            ]
          },
          "metadata": {},
          "execution_count": 221
        }
      ]
    },
    {
      "cell_type": "code",
      "source": [
        "model5.summary()"
      ],
      "metadata": {
        "colab": {
          "base_uri": "https://localhost:8080/"
        },
        "id": "31i5VYJ0x_dg",
        "outputId": "330dcb2e-c962-4330-cefd-9239439e89b3"
      },
      "execution_count": 212,
      "outputs": [
        {
          "output_type": "stream",
          "name": "stdout",
          "text": [
            "Model: \"Model_5\"\n",
            "_________________________________________________________________\n",
            " Layer (type)                Output Shape              Param #   \n",
            "=================================================================\n",
            " Input_layer (Dense)         (None, 1)                 2         \n",
            "                                                                 \n",
            " Dense_l1 (Dense)            (None, 90)                180       \n",
            "                                                                 \n",
            " Dense_l2 (Dense)            (None, 180)               16380     \n",
            "                                                                 \n",
            " Dense_l3 (Dense)            (None, 90)                16290     \n",
            "                                                                 \n",
            " Output_layer (Dense)        (None, 1)                 91        \n",
            "                                                                 \n",
            "=================================================================\n",
            "Total params: 32,943\n",
            "Trainable params: 32,943\n",
            "Non-trainable params: 0\n",
            "_________________________________________________________________\n"
          ]
        }
      ]
    },
    {
      "cell_type": "code",
      "source": [
        "from tensorflow.keras.utils import plot_model\n",
        "plot_model(model=model5,show_shapes=True,to_file='molel.png')"
      ],
      "metadata": {
        "colab": {
          "base_uri": "https://localhost:8080/",
          "height": 644
        },
        "id": "62QkPxd5yIj2",
        "outputId": "d5396a6e-e939-4a9c-8901-c9ac04b43699"
      },
      "execution_count": 213,
      "outputs": [
        {
          "output_type": "execute_result",
          "data": {
            "image/png": "[encoded data removed]",
            "text/plain": [
              "<IPython.core.display.Image object>"
            ]
          },
          "metadata": {},
          "execution_count": 213
        }
      ]
    },
    {
      "cell_type": "markdown",
      "source": [
        "# Visualizing our model's predictions\n",
        "To visualize predictions, it's a good idea to plot them against the ground truth labels.\n",
        "\n",
        "Often you'll see this in the form of y_test or y_true versus y_pred (ground truth versus your model's predictions)."
      ],
      "metadata": {
        "id": "Rau7wfrl0dJ3"
      }
    },
    {
      "cell_type": "code",
      "source": [
        "y_pred = model5.predict(X_test)\n",
        "y_pred,y_test"
      ],
      "metadata": {
        "colab": {
          "base_uri": "https://localhost:8080/"
        },
        "id": "zy2YnA4pz9GH",
        "outputId": "33622555-0d3c-47b3-db64-8fe4a15b683c"
      },
      "execution_count": 222,
      "outputs": [
        {
          "output_type": "stream",
          "name": "stdout",
          "text": [
            "1/1 [==============================] - 0s 76ms/step\n"
          ]
        },
        {
          "output_type": "execute_result",
          "data": {
            "text/plain": [
              "(array([[136.1537 ],\n",
              "        [141.20317],\n",
              "        [146.25264],\n",
              "        [151.3021 ],\n",
              "        [156.35155],\n",
              "        [161.40102],\n",
              "        [166.45045],\n",
              "        [171.49992],\n",
              "        [176.54938],\n",
              "        [181.59883],\n",
              "        [186.6483 ],\n",
              "        [191.69777],\n",
              "        [196.74721],\n",
              "        [201.79668],\n",
              "        [206.84615]], dtype=float32),\n",
              " <tf.Tensor: shape=(15,), dtype=int32, numpy=\n",
              " array([135, 140, 145, 150, 155, 160, 165, 170, 175, 180, 185, 190, 195,\n",
              "        200, 205], dtype=int32)>)"
            ]
          },
          "metadata": {},
          "execution_count": 222
        }
      ]
    },
    {
      "cell_type": "markdown",
      "source": [
        "# Let's create a Ploting function\n",
        "\n",
        "If we want to use a functionality many time it better to create a function.\n",
        "\n",
        "\n",
        "\n",
        "\n"
      ],
      "metadata": {
        "id": "BedKNZD52-am"
      }
    },
    {
      "cell_type": "code",
      "source": [
        "# Plotting function\n",
        "def plot_predict(train_data=X_train,test_data=X_test,train_label=y_train,test_label=y_test,predict = y_pred):\n",
        "  \"\"\"Plots training data, ,test data and compares predictions to ground Truth labels.\"\"\"\n",
        "  plt.figure(figsize=(10,7))\n",
        "  #plot the training data in blue\n",
        "  plt.scatter(train_data,train_label,c='b',label='Training data')\n",
        "  #plot the testing data in red\n",
        "  plt.scatter(test_data,test_label,c='r',label='Testing Data')\n",
        "  #plot the model prediction in green\n",
        "  plt.scatter(test_data,predict,c='g',label=\"Prediction\",marker='^')\n",
        "  #plot the legend\n",
        "  plt.legend();"
      ],
      "metadata": {
        "id": "O0cmm1600uXm"
      },
      "execution_count": 228,
      "outputs": []
    },
    {
      "cell_type": "code",
      "source": [
        "plot_predict(train_data=X_train,test_data=X_test,train_label=y_train,test_label=y_test,predict = y_pred)"
      ],
      "metadata": {
        "colab": {
          "base_uri": "https://localhost:8080/",
          "height": 428
        },
        "id": "Yx7tX-AW5Le3",
        "outputId": "53ddcff9-43ab-41bc-98a6-73c58ad9373d"
      },
      "execution_count": 229,
      "outputs": [
        {
          "output_type": "display_data",
          "data": {
            "text/plain": [
              "<Figure size 720x504 with 1 Axes>"
            ],
            "image/png": "[encoded data removed]"
          },
          "metadata": {
            "needs_background": "light"
          }
        }
      ]
    },
    {
      "cell_type": "markdown",
      "source": [
        "# Evaluating our models prediction with regression evaluation metrics\n",
        "\n",
        "Depending on the problem you're working on, there will be different evaluation metrics to evaluate your model's performance.\n",
        "\n",
        "Since we're working on a regression, two of the main metrics:\n",
        "\n",
        "* **MAE**- mean absolute error, \"on average, how wrong is each of my model's predictions\"\n",
        "* **MSE**- mean square error, \"square the average errors\""
      ],
      "metadata": {
        "id": "pbwDZOpp68k3"
      }
    },
    {
      "cell_type": "code",
      "source": [
        "model5.evaluate(X_test,y_test)"
      ],
      "metadata": {
        "colab": {
          "base_uri": "https://localhost:8080/"
        },
        "id": "nccfD1-X6DA-",
        "outputId": "b1f91196-f8d4-47d6-85e0-7bcd4c117902"
      },
      "execution_count": 230,
      "outputs": [
        {
          "output_type": "stream",
          "name": "stdout",
          "text": [
            "1/1 [==============================] - 0s 251ms/step - loss: 1.4999 - mae: 1.4999\n"
          ]
        },
        {
          "output_type": "execute_result",
          "data": {
            "text/plain": [
              "[1.4999247789382935, 1.4999247789382935]"
            ]
          },
          "metadata": {},
          "execution_count": 230
        }
      ]
    },
    {
      "cell_type": "code",
      "source": [
        "# Calculate the mean absolute error\n",
        "mae = tf.metrics.mean_absolute_error(y_test,tf.constant(y_pred))\n",
        "mae"
      ],
      "metadata": {
        "colab": {
          "base_uri": "https://localhost:8080/"
        },
        "id": "ffjdA_WV8_Z3",
        "outputId": "d880cfde-a6d5-4369-ee95-49e51811acd2"
      },
      "execution_count": 233,
      "outputs": [
        {
          "output_type": "execute_result",
          "data": {
            "text/plain": [
              "<tf.Tensor: shape=(15,), dtype=float32, numpy=\n",
              "array([34.000126, 29.784342, 26.248415, 23.392357, 21.21615 , 19.719795,\n",
              "       18.903303, 18.766663, 19.309875, 20.532942, 22.435873, 25.01866 ,\n",
              "       28.281286, 32.22379 , 36.846146], dtype=float32)>"
            ]
          },
          "metadata": {},
          "execution_count": 233
        }
      ]
    },
    {
      "cell_type": "code",
      "source": [
        "# differnet shape so we are getting such big value\n",
        "y_prediction = tf.squeeze(y_pred)\n",
        "y_prediction,y_test"
      ],
      "metadata": {
        "colab": {
          "base_uri": "https://localhost:8080/"
        },
        "id": "2IqzywAN9_8P",
        "outputId": "a5f45827-0442-4067-fb33-5431852d29c1"
      },
      "execution_count": 236,
      "outputs": [
        {
          "output_type": "execute_result",
          "data": {
            "text/plain": [
              "(<tf.Tensor: shape=(15,), dtype=float32, numpy=\n",
              " array([136.1537 , 141.20317, 146.25264, 151.3021 , 156.35155, 161.40102,\n",
              "        166.45045, 171.49992, 176.54938, 181.59883, 186.6483 , 191.69777,\n",
              "        196.74721, 201.79668, 206.84615], dtype=float32)>,\n",
              " <tf.Tensor: shape=(15,), dtype=int32, numpy=\n",
              " array([135, 140, 145, 150, 155, 160, 165, 170, 175, 180, 185, 190, 195,\n",
              "        200, 205], dtype=int32)>)"
            ]
          },
          "metadata": {},
          "execution_count": 236
        }
      ]
    },
    {
      "cell_type": "code",
      "source": [
        "# ReCalculating the mean absolute error\n",
        "mae = tf.keras.losses.mean_absolute_error(y_test,y_prediction)\n",
        "mae"
      ],
      "metadata": {
        "colab": {
          "base_uri": "https://localhost:8080/"
        },
        "id": "rlFE4dv2_AhX",
        "outputId": "8ebc1300-9204-4fa2-c5fa-a9a1a3a16697"
      },
      "execution_count": 237,
      "outputs": [
        {
          "output_type": "execute_result",
          "data": {
            "text/plain": [
              "<tf.Tensor: shape=(), dtype=float32, numpy=1.4999237>"
            ]
          },
          "metadata": {},
          "execution_count": 237
        }
      ]
    },
    {
      "cell_type": "code",
      "source": [
        "# Calucate the mean square error\n",
        "mse = tf.metrics.mean_squared_error(y_test,y_prediction)\n",
        "mse"
      ],
      "metadata": {
        "colab": {
          "base_uri": "https://localhost:8080/"
        },
        "id": "8WObd-WT_lKA",
        "outputId": "98ba848c-1a97-4321-a74f-fa4a8e00f49e"
      },
      "execution_count": 238,
      "outputs": [
        {
          "output_type": "execute_result",
          "data": {
            "text/plain": [
              "<tf.Tensor: shape=(), dtype=float32, numpy=2.295433>"
            ]
          },
          "metadata": {},
          "execution_count": 238
        }
      ]
    },
    {
      "cell_type": "markdown",
      "source": [
        "# Tips to improve any model\n",
        "\n",
        "1. `More Data` - get more examples for your model to train on(more opportunities to learn patttern or relationships btw features and labels).\n",
        "2. `Enlarge your Model` - (using complex model) this includes increasing different layers,hidden layers or more hidden units in each layer.\n",
        "3. `Train longer` - give your model more of a chance to find patterns in data.\n"
      ],
      "metadata": {
        "id": "6SgOxzjuAvlG"
      }
    },
    {
      "cell_type": "markdown",
      "source": [
        "# Tracking Your Experiments \n",
        "\n",
        "**Tip💁‍♂️**\n",
        "\n",
        "* `TensorBoard` - a component of the tensorflow library to help track modelling experiments (Future).\n",
        "* `Weight & Biases` -  a tool for tracking all kinds of machine learning experiments(plugs striaght into tensorboard)."
      ],
      "metadata": {
        "id": "AvdNGTc_Fpyw"
      }
    },
    {
      "cell_type": "markdown",
      "source": [
        "## Saving Model\n",
        "\n",
        "Saving our model for using it anywhere we want to use or model in web or app etc.\n",
        "\n",
        "There are to different format to save a model format.\n",
        "\n",
        "1.The SavedModel format.\n",
        "\n",
        "2.The HDF5 format.\n"
      ],
      "metadata": {
        "id": "kxerQMX-G7dw"
      }
    },
    {
      "cell_type": "code",
      "source": [
        "# Saving the model using SavedModel format\n",
        "model5.save('First model with 0.9 acc')"
      ],
      "metadata": {
        "colab": {
          "base_uri": "https://localhost:8080/"
        },
        "id": "gqlnCQReAJl3",
        "outputId": "e4d4f076-abf1-407d-d100-d7d9ba7d6eee"
      },
      "execution_count": 239,
      "outputs": [
        {
          "output_type": "stream",
          "name": "stderr",
          "text": [
            "WARNING:absl:Function `_wrapped_model` contains input name(s) Input_layer_input with unsupported characters which will be renamed to input_layer_input in the SavedModel.\n",
            "WARNING:absl:Found untraced functions such as _update_step_xla while saving (showing 1 of 1). These functions will not be directly callable after loading.\n"
          ]
        }
      ]
    },
    {
      "cell_type": "code",
      "source": [
        "# save the model using HDF5 fromat\n",
        "model5.save('First_model_0.9acc.h5')"
      ],
      "metadata": {
        "id": "VENUo-HRLhbZ"
      },
      "execution_count": 240,
      "outputs": []
    },
    {
      "cell_type": "markdown",
      "source": [
        "# Loading in a saved Model\n"
      ],
      "metadata": {
        "id": "ONXnvbtIMoig"
      }
    },
    {
      "cell_type": "code",
      "source": [
        "# loading the SavedModel format\n",
        "loaded_SavedModel = tf.keras.models.load_model('First model with 0.9 acc')\n",
        "loaded_SavedModel.predict([120])\n"
      ],
      "metadata": {
        "colab": {
          "base_uri": "https://localhost:8080/"
        },
        "id": "MwYjUzYyMYkZ",
        "outputId": "2a56c0b5-3829-46e7-cd93-d39dc453be72"
      },
      "execution_count": 242,
      "outputs": [
        {
          "output_type": "stream",
          "name": "stdout",
          "text": [
            "1/1 [==============================] - 0s 116ms/step\n"
          ]
        },
        {
          "output_type": "execute_result",
          "data": {
            "text/plain": [
              "array([[131.10426]], dtype=float32)"
            ]
          },
          "metadata": {},
          "execution_count": 242
        }
      ]
    },
    {
      "cell_type": "code",
      "source": [
        "# Compare model5 with the loaded model as weight are also saved\n",
        "model5_pred = model5.predict(X_test)\n",
        "loadedModel_pred = loaded_SavedModel(X_test)\n",
        "model5_pred == loadedModel_pred"
      ],
      "metadata": {
        "colab": {
          "base_uri": "https://localhost:8080/"
        },
        "id": "rmTPkPp3Nj-Z",
        "outputId": "1ef71e69-478f-486f-f0f5-4d533ebec0cc"
      },
      "execution_count": 243,
      "outputs": [
        {
          "output_type": "stream",
          "name": "stdout",
          "text": [
            "1/1 [==============================] - 0s 46ms/step\n"
          ]
        },
        {
          "output_type": "execute_result",
          "data": {
            "text/plain": [
              "<tf.Tensor: shape=(15, 1), dtype=bool, numpy=\n",
              "array([[ True],\n",
              "       [ True],\n",
              "       [ True],\n",
              "       [ True],\n",
              "       [ True],\n",
              "       [ True],\n",
              "       [ True],\n",
              "       [ True],\n",
              "       [ True],\n",
              "       [ True],\n",
              "       [ True],\n",
              "       [ True],\n",
              "       [ True],\n",
              "       [ True],\n",
              "       [ True]])>"
            ]
          },
          "metadata": {},
          "execution_count": 243
        }
      ]
    },
    {
      "cell_type": "code",
      "source": [],
      "metadata": {
        "id": "ARNa8b8XOwuR"
      },
      "execution_count": null,
      "outputs": []
    }
  ],
  "metadata": {
    "colab": {
      "provenance": [],
      "mount_file_id": "1cqSMkzp0-A_FQM3Pb0f8jtaUbYyJaWo9",
      "authorship_tag": "ABX9TyNq9sdWJqjKpCRrVif6W3UP",
      "include_colab_link": true
    },
    "kernelspec": {
      "display_name": "Python 3",
      "name": "python3"
    },
    "language_info": {
      "name": "python"
    }
  },
  "nbformat": 4,
  "nbformat_minor": 0
}