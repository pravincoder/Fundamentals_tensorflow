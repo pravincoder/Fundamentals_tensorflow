{
  "cells": [
    {
      "cell_type": "markdown",
      "metadata": {
        "id": "view-in-github",
        "colab_type": "text"
      },
      "source": [
        "<a href=\"https://colab.research.google.com/github/pravincoder/Fundamentals_tensorflow/blob/main/Neural_Network_Regression.ipynb\" target=\"_parent\"><img src=\"https://colab.research.google.com/assets/colab-badge.svg\" alt=\"Open In Colab\"/></a>"
      ]
    },
    {
      "cell_type": "markdown",
      "metadata": {
        "id": "3AzrlKeWvfOi"
      },
      "source": [
        "# Neural Network Regression \n",
        "### Whats to cover in this notebook?\n",
        "* Architecture of neural network regression model.\n",
        "* Input/Output shapes of regression model.\n",
        "* Creating custom data to view and fit. \n",
        "* (Modeling) Creating a model,compiling,fitting and evaluating the model.\n",
        "* Different evaluation method\n",
        "* (IMP) Saving and loading a model"
      ]
    },
    {
      "cell_type": "markdown",
      "metadata": {
        "id": "xGc1U1ZWGPZW"
      },
      "source": [
        "# Introduction to Regression with Neural Network in Tensorflow\n",
        "\n",
        " The simple defination is prediction of the numerial value based on various combinations of variables (both relational and non-realtional) .\n",
        "\n"
      ]
    },
    {
      "cell_type": "code",
      "execution_count": 102,
      "metadata": {
        "id": "qSoD-vUrwnsD"
      },
      "outputs": [],
      "source": [
        "# import tensorflow , numpy,matplotlib.pyplot\n",
        "import tensorflow as tf\n",
        "import numpy as np\n",
        "import matplotlib.pyplot as plt"
      ]
    },
    {
      "cell_type": "code",
      "execution_count": 102,
      "metadata": {
        "id": "LufQsW-kjrIw"
      },
      "outputs": [],
      "source": []
    },
    {
      "cell_type": "code",
      "execution_count": 103,
      "metadata": {
        "id": "7fTkbz2IGGiP"
      },
      "outputs": [],
      "source": [
        "# Create features\n",
        "X = np.array([-7.0,-4.0,-1.0,2.,3.,4.,6.,8.,11.0,14.])\n",
        "Y = np.array([2.0,5.0,8.0,11.0,12.,13.,15.,17.,20.,23.])"
      ]
    },
    {
      "cell_type": "code",
      "execution_count": 104,
      "metadata": {
        "colab": {
          "base_uri": "https://localhost:8080/",
          "height": 283
        },
        "id": "g3XIDXfJIIqx",
        "outputId": "7b06db2b-eca9-4de2-a37f-4d42ad24e0f1"
      },
      "outputs": [
        {
          "output_type": "execute_result",
          "data": {
            "text/plain": [
              "<matplotlib.collections.PathCollection at 0x7fdbe2324490>"
            ]
          },
          "metadata": {},
          "execution_count": 104
        },
        {
          "output_type": "display_data",
          "data": {
            "text/plain": [
              "<Figure size 432x288 with 1 Axes>"
            ],
            "image/png": "[encoded data removed]"
          },
          "metadata": {
            "needs_background": "light"
          }
        }
      ],
      "source": [
        "# Visual the data\n",
        "plt.scatter(X,Y)"
      ]
    },
    {
      "cell_type": "code",
      "execution_count": 105,
      "metadata": {
        "colab": {
          "base_uri": "https://localhost:8080/"
        },
        "id": "1OJNadLtLGYX",
        "outputId": "be2d7924-4d52-46fd-8d91-3dea69e878d9"
      },
      "outputs": [
        {
          "output_type": "execute_result",
          "data": {
            "text/plain": [
              "array([ True,  True,  True,  True,  True,  True,  True,  True,  True,\n",
              "        True])"
            ]
          },
          "metadata": {},
          "execution_count": 105
        }
      ],
      "source": [
        "Y == X+9"
      ]
    },
    {
      "cell_type": "markdown",
      "metadata": {
        "id": "d3gi4hqsJ5sv"
      },
      "source": [
        "# Input and Output Shape"
      ]
    },
    {
      "cell_type": "code",
      "execution_count": 106,
      "metadata": {
        "colab": {
          "base_uri": "https://localhost:8080/"
        },
        "id": "2Q_0ZEZcIPQP",
        "outputId": "0fe318d4-640b-4bd9-ec1b-1ca95287172a"
      },
      "outputs": [
        {
          "output_type": "execute_result",
          "data": {
            "text/plain": [
              "(<tf.Tensor: shape=(3,), dtype=string, numpy=array([b'bedroom', b'bathroom', b'garage'], dtype=object)>,\n",
              " <tf.Tensor: shape=(1,), dtype=int32, numpy=array([934000], dtype=int32)>)"
            ]
          },
          "metadata": {},
          "execution_count": 106
        }
      ],
      "source": [
        "# Create a demo tensor for our housing price prediction problem\n",
        "house_info=tf.constant([\"bedroom\",\"bathroom\",\"garage\"])\n",
        "house_price = tf.constant([934000])\n",
        "house_info,house_price"
      ]
    },
    {
      "cell_type": "code",
      "execution_count": 107,
      "metadata": {
        "colab": {
          "base_uri": "https://localhost:8080/"
        },
        "id": "GwFb-tjTKGHo",
        "outputId": "27fd1451-ba4f-4852-8c6d-0a486dc2f0f3"
      },
      "outputs": [
        {
          "output_type": "execute_result",
          "data": {
            "text/plain": [
              "((), ())"
            ]
          },
          "metadata": {},
          "execution_count": 107
        }
      ],
      "source": [
        "input_shape = X[0].shape\n",
        "output_shape = Y[0].shape\n",
        "input_shape,output_shape"
      ]
    },
    {
      "cell_type": "code",
      "execution_count": 108,
      "metadata": {
        "colab": {
          "base_uri": "https://localhost:8080/"
        },
        "id": "OmGMBu3_VdeM",
        "outputId": "2aa84540-4397-4da7-ecb0-209130da3e2c"
      },
      "outputs": [
        {
          "output_type": "execute_result",
          "data": {
            "text/plain": [
              "0"
            ]
          },
          "metadata": {},
          "execution_count": 108
        }
      ],
      "source": [
        "X[0].ndim # Given input is a numpy array not a tensor"
      ]
    },
    {
      "cell_type": "code",
      "execution_count": 109,
      "metadata": {
        "colab": {
          "base_uri": "https://localhost:8080/"
        },
        "id": "zwuInJJ_kBI4",
        "outputId": "ad95bbf2-a15a-43e5-efb1-7ddb4aa4987f"
      },
      "outputs": [
        {
          "output_type": "execute_result",
          "data": {
            "text/plain": [
              "(array([-7., -4., -1.,  2.,  3.,  4.,  6.,  8., 11., 14.]),\n",
              " array([ 2.,  5.,  8., 11., 12., 13., 15., 17., 20., 23.]))"
            ]
          },
          "metadata": {},
          "execution_count": 109
        }
      ],
      "source": [
        "X,Y"
      ]
    },
    {
      "cell_type": "code",
      "execution_count": 110,
      "metadata": {
        "colab": {
          "base_uri": "https://localhost:8080/"
        },
        "id": "2Vj3cXoHVkwo",
        "outputId": "1751e38b-b29a-4965-d8d2-a39969690e75"
      },
      "outputs": [
        {
          "output_type": "execute_result",
          "data": {
            "text/plain": [
              "(TensorShape([10]), TensorShape([10]))"
            ]
          },
          "metadata": {},
          "execution_count": 110
        }
      ],
      "source": [
        "# Turn our Numpy array to Tensor\n",
        "X= tf.constant(X)\n",
        "Y= tf.constant(Y)\n",
        "\n",
        "X = tf.cast(X,dtype=tf.float32)\n",
        "Y = tf.cast(Y,dtype=tf.float32)\n",
        "X.shape,Y.shape"
      ]
    },
    {
      "cell_type": "markdown",
      "metadata": {
        "id": "k6oqVFrjWPK5"
      },
      "source": [
        "# Steps in Modeling with Tensorflow\n",
        "\n",
        "* **Creating a Model** - define the input and output layers, as well as the hidden layers of the deep learning model.\n",
        "* **Compiling a model** - define the loss function (in other words, the function which tells our model how wrong it is) and the Optimizer(tells our model how to improve in reading the patterns) and evaluation metrics (what we can use to interpret the preformance of our model).\n",
        "* **Fitting a Model** - letting the model try to find the pattern btw Features and Label(X & Y)."
      ]
    },
    {
      "cell_type": "code",
      "execution_count": 111,
      "metadata": {
        "colab": {
          "base_uri": "https://localhost:8080/"
        },
        "id": "3A_q3U2mVuXo",
        "outputId": "91a1d98b-98c5-4aad-e174-23bfdd547e76"
      },
      "outputs": [
        {
          "output_type": "stream",
          "name": "stdout",
          "text": [
            "Epoch 1/5\n",
            "1/1 [==============================] - 1s 567ms/step - loss: 8.1716 - mae: 8.1716\n",
            "Epoch 2/5\n",
            "1/1 [==============================] - 0s 18ms/step - loss: 8.0320 - mae: 8.0320\n",
            "Epoch 3/5\n",
            "1/1 [==============================] - 0s 16ms/step - loss: 7.8924 - mae: 7.8924\n",
            "Epoch 4/5\n",
            "1/1 [==============================] - 0s 16ms/step - loss: 7.7528 - mae: 7.7528\n",
            "Epoch 5/5\n",
            "1/1 [==============================] - 0s 13ms/step - loss: 7.6132 - mae: 7.6132\n"
          ]
        },
        {
          "output_type": "execute_result",
          "data": {
            "text/plain": [
              "<keras.callbacks.History at 0x7fdc71856100>"
            ]
          },
          "metadata": {},
          "execution_count": 111
        }
      ],
      "source": [
        "# Set Random Seed\n",
        "tf.random.set_seed(42)\n",
        "\n",
        "# Create a model using Sequential API\n",
        "model= tf.keras.Sequential([ tf.keras.layers.Dense(1,input_shape=(1,))])\n",
        "\n",
        "# Compile the model\n",
        "model.compile(loss=tf.keras.losses.mae,optimizer=tf.keras.optimizers.SGD(),\n",
        "              metrics=['mae'])\n",
        "\n",
        "# Fit the model\n",
        "model.fit(X,Y,epochs=5)\n"
      ]
    },
    {
      "cell_type": "code",
      "execution_count": 112,
      "metadata": {
        "colab": {
          "base_uri": "https://localhost:8080/"
        },
        "id": "y2O6BD05g20y",
        "outputId": "f1202a81-aa80-490a-fca2-0bc17f5f74a8"
      },
      "outputs": [
        {
          "output_type": "stream",
          "name": "stdout",
          "text": [
            "1/1 [==============================] - 0s 82ms/step\n"
          ]
        },
        {
          "output_type": "execute_result",
          "data": {
            "text/plain": [
              "array([[24.021864]], dtype=float32)"
            ]
          },
          "metadata": {},
          "execution_count": 112
        }
      ],
      "source": [
        "# try and make prediction\n",
        "model.predict([17.0])\n",
        "# output should be 17+9=26 "
      ]
    },
    {
      "cell_type": "markdown",
      "metadata": {
        "id": "rQUkOwz2pVLQ"
      },
      "source": [
        "# Improve our Model\n",
        "\n",
        "We can improve our model , by altering the steps we took to create a model\n",
        "\n",
        "* **Creating the Model** - we might add more layers,increase the number of hidden units (all called neurons) within each of the hidden layers,change the activation function of each layer\n",
        "\n",
        "* **Compiling a Model** - we should try changing the optimization function or perhaps the **learning rate** of the Optimization function.\n",
        "\n",
        "* **Fitting a Model** - we might fit the model for more **epochs** (leave it training for longer)  or on more data. "
      ]
    },
    {
      "cell_type": "code",
      "execution_count": 113,
      "metadata": {
        "colab": {
          "base_uri": "https://localhost:8080/"
        },
        "id": "z9QrcYoxZaWy",
        "outputId": "fc210039-2488-4b34-f2f7-b37fc9033803"
      },
      "outputs": [
        {
          "output_type": "stream",
          "name": "stdout",
          "text": [
            "Epoch 1/100\n",
            "1/1 [==============================] - 0s 386ms/step - loss: 7.5512 - mae: 7.5512\n",
            "Epoch 2/100\n",
            "1/1 [==============================] - 0s 11ms/step - loss: 7.4116 - mae: 7.4116\n",
            "Epoch 3/100\n",
            "1/1 [==============================] - 0s 10ms/step - loss: 7.2720 - mae: 7.2720\n",
            "Epoch 4/100\n",
            "1/1 [==============================] - 0s 10ms/step - loss: 7.1324 - mae: 7.1324\n",
            "Epoch 5/100\n",
            "1/1 [==============================] - 0s 10ms/step - loss: 6.9928 - mae: 6.9928\n",
            "Epoch 6/100\n",
            "1/1 [==============================] - 0s 14ms/step - loss: 6.8532 - mae: 6.8532\n",
            "Epoch 7/100\n",
            "1/1 [==============================] - 0s 13ms/step - loss: 6.7136 - mae: 6.7136\n",
            "Epoch 8/100\n",
            "1/1 [==============================] - 0s 10ms/step - loss: 6.6204 - mae: 6.6204\n",
            "Epoch 9/100\n",
            "1/1 [==============================] - 0s 10ms/step - loss: 6.6076 - mae: 6.6076\n",
            "Epoch 10/100\n",
            "1/1 [==============================] - 0s 14ms/step - loss: 6.5948 - mae: 6.5948\n",
            "Epoch 11/100\n",
            "1/1 [==============================] - 0s 14ms/step - loss: 6.5820 - mae: 6.5820\n",
            "Epoch 12/100\n",
            "1/1 [==============================] - 0s 11ms/step - loss: 6.5692 - mae: 6.5692\n",
            "Epoch 13/100\n",
            "1/1 [==============================] - 0s 11ms/step - loss: 6.5564 - mae: 6.5564\n",
            "Epoch 14/100\n",
            "1/1 [==============================] - 0s 12ms/step - loss: 6.5436 - mae: 6.5436\n",
            "Epoch 15/100\n",
            "1/1 [==============================] - 0s 14ms/step - loss: 6.5308 - mae: 6.5308\n",
            "Epoch 16/100\n",
            "1/1 [==============================] - 0s 12ms/step - loss: 6.5180 - mae: 6.5180\n",
            "Epoch 17/100\n",
            "1/1 [==============================] - 0s 9ms/step - loss: 6.5052 - mae: 6.5052\n",
            "Epoch 18/100\n",
            "1/1 [==============================] - 0s 12ms/step - loss: 6.4924 - mae: 6.4924\n",
            "Epoch 19/100\n",
            "1/1 [==============================] - 0s 9ms/step - loss: 6.4796 - mae: 6.4796\n",
            "Epoch 20/100\n",
            "1/1 [==============================] - 0s 11ms/step - loss: 6.4668 - mae: 6.4668\n",
            "Epoch 21/100\n",
            "1/1 [==============================] - 0s 14ms/step - loss: 6.4540 - mae: 6.4540\n",
            "Epoch 22/100\n",
            "1/1 [==============================] - 0s 13ms/step - loss: 6.4412 - mae: 6.4412\n",
            "Epoch 23/100\n",
            "1/1 [==============================] - 0s 14ms/step - loss: 6.4284 - mae: 6.4284\n",
            "Epoch 24/100\n",
            "1/1 [==============================] - 0s 14ms/step - loss: 6.4156 - mae: 6.4156\n",
            "Epoch 25/100\n",
            "1/1 [==============================] - 0s 9ms/step - loss: 6.4028 - mae: 6.4028\n",
            "Epoch 26/100\n",
            "1/1 [==============================] - 0s 12ms/step - loss: 6.3900 - mae: 6.3900\n",
            "Epoch 27/100\n",
            "1/1 [==============================] - 0s 11ms/step - loss: 6.3958 - mae: 6.3958\n",
            "Epoch 28/100\n",
            "1/1 [==============================] - 0s 10ms/step - loss: 6.3836 - mae: 6.3836\n",
            "Epoch 29/100\n",
            "1/1 [==============================] - 0s 12ms/step - loss: 6.3790 - mae: 6.3790\n",
            "Epoch 30/100\n",
            "1/1 [==============================] - 0s 11ms/step - loss: 6.3772 - mae: 6.3772\n",
            "Epoch 31/100\n",
            "1/1 [==============================] - 0s 11ms/step - loss: 6.3644 - mae: 6.3644\n",
            "Epoch 32/100\n",
            "1/1 [==============================] - 0s 11ms/step - loss: 6.3686 - mae: 6.3686\n",
            "Epoch 33/100\n",
            "1/1 [==============================] - 0s 10ms/step - loss: 6.3580 - mae: 6.3580\n",
            "Epoch 34/100\n",
            "1/1 [==============================] - 0s 13ms/step - loss: 6.3518 - mae: 6.3518\n",
            "Epoch 35/100\n",
            "1/1 [==============================] - 0s 12ms/step - loss: 6.3516 - mae: 6.3516\n",
            "Epoch 36/100\n",
            "1/1 [==============================] - 0s 10ms/step - loss: 6.3388 - mae: 6.3388\n",
            "Epoch 37/100\n",
            "1/1 [==============================] - 0s 10ms/step - loss: 6.3414 - mae: 6.3414\n",
            "Epoch 38/100\n",
            "1/1 [==============================] - 0s 10ms/step - loss: 6.3324 - mae: 6.3324\n",
            "Epoch 39/100\n",
            "1/1 [==============================] - 0s 12ms/step - loss: 6.3246 - mae: 6.3246\n",
            "Epoch 40/100\n",
            "1/1 [==============================] - 0s 10ms/step - loss: 6.3260 - mae: 6.3260\n",
            "Epoch 41/100\n",
            "1/1 [==============================] - 0s 10ms/step - loss: 6.3132 - mae: 6.3132\n",
            "Epoch 42/100\n",
            "1/1 [==============================] - 0s 14ms/step - loss: 6.3142 - mae: 6.3142\n",
            "Epoch 43/100\n",
            "1/1 [==============================] - 0s 11ms/step - loss: 6.3068 - mae: 6.3068\n",
            "Epoch 44/100\n",
            "1/1 [==============================] - 0s 10ms/step - loss: 6.2974 - mae: 6.2974\n",
            "Epoch 45/100\n",
            "1/1 [==============================] - 0s 10ms/step - loss: 6.3004 - mae: 6.3004\n",
            "Epoch 46/100\n",
            "1/1 [==============================] - 0s 10ms/step - loss: 6.2876 - mae: 6.2876\n",
            "Epoch 47/100\n",
            "1/1 [==============================] - 0s 10ms/step - loss: 6.2870 - mae: 6.2870\n",
            "Epoch 48/100\n",
            "1/1 [==============================] - 0s 10ms/step - loss: 6.2812 - mae: 6.2812\n",
            "Epoch 49/100\n",
            "1/1 [==============================] - 0s 10ms/step - loss: 6.2702 - mae: 6.2702\n",
            "Epoch 50/100\n",
            "1/1 [==============================] - 0s 11ms/step - loss: 6.2748 - mae: 6.2748\n",
            "Epoch 51/100\n",
            "1/1 [==============================] - 0s 9ms/step - loss: 6.2620 - mae: 6.2620\n",
            "Epoch 52/100\n",
            "1/1 [==============================] - 0s 10ms/step - loss: 6.2598 - mae: 6.2598\n",
            "Epoch 53/100\n",
            "1/1 [==============================] - 0s 14ms/step - loss: 6.2556 - mae: 6.2556\n",
            "Epoch 54/100\n",
            "1/1 [==============================] - 0s 11ms/step - loss: 6.2430 - mae: 6.2430\n",
            "Epoch 55/100\n",
            "1/1 [==============================] - 0s 11ms/step - loss: 6.2492 - mae: 6.2492\n",
            "Epoch 56/100\n",
            "1/1 [==============================] - 0s 14ms/step - loss: 6.2364 - mae: 6.2364\n",
            "Epoch 57/100\n",
            "1/1 [==============================] - 0s 10ms/step - loss: 6.2326 - mae: 6.2326\n",
            "Epoch 58/100\n",
            "1/1 [==============================] - 0s 11ms/step - loss: 6.2300 - mae: 6.2300\n",
            "Epoch 59/100\n",
            "1/1 [==============================] - 0s 12ms/step - loss: 6.2172 - mae: 6.2172\n",
            "Epoch 60/100\n",
            "1/1 [==============================] - 0s 10ms/step - loss: 6.2222 - mae: 6.2222\n",
            "Epoch 61/100\n",
            "1/1 [==============================] - 0s 9ms/step - loss: 6.2108 - mae: 6.2108\n",
            "Epoch 62/100\n",
            "1/1 [==============================] - 0s 10ms/step - loss: 6.2054 - mae: 6.2054\n",
            "Epoch 63/100\n",
            "1/1 [==============================] - 0s 10ms/step - loss: 6.2044 - mae: 6.2044\n",
            "Epoch 64/100\n",
            "1/1 [==============================] - 0s 9ms/step - loss: 6.1916 - mae: 6.1916\n",
            "Epoch 65/100\n",
            "1/1 [==============================] - 0s 11ms/step - loss: 6.1950 - mae: 6.1950\n",
            "Epoch 66/100\n",
            "1/1 [==============================] - 0s 10ms/step - loss: 6.1852 - mae: 6.1852\n",
            "Epoch 67/100\n",
            "1/1 [==============================] - 0s 10ms/step - loss: 6.1782 - mae: 6.1782\n",
            "Epoch 68/100\n",
            "1/1 [==============================] - 0s 10ms/step - loss: 6.1788 - mae: 6.1788\n",
            "Epoch 69/100\n",
            "1/1 [==============================] - 0s 10ms/step - loss: 6.1660 - mae: 6.1660\n",
            "Epoch 70/100\n",
            "1/1 [==============================] - 0s 9ms/step - loss: 6.1678 - mae: 6.1678\n",
            "Epoch 71/100\n",
            "1/1 [==============================] - 0s 9ms/step - loss: 6.1596 - mae: 6.1596\n",
            "Epoch 72/100\n",
            "1/1 [==============================] - 0s 11ms/step - loss: 6.1510 - mae: 6.1510\n",
            "Epoch 73/100\n",
            "1/1 [==============================] - 0s 10ms/step - loss: 6.1532 - mae: 6.1532\n",
            "Epoch 74/100\n",
            "1/1 [==============================] - 0s 11ms/step - loss: 6.1404 - mae: 6.1404\n",
            "Epoch 75/100\n",
            "1/1 [==============================] - 0s 10ms/step - loss: 6.1406 - mae: 6.1406\n",
            "Epoch 76/100\n",
            "1/1 [==============================] - 0s 11ms/step - loss: 6.1340 - mae: 6.1340\n",
            "Epoch 77/100\n",
            "1/1 [==============================] - 0s 11ms/step - loss: 6.1238 - mae: 6.1238\n",
            "Epoch 78/100\n",
            "1/1 [==============================] - 0s 10ms/step - loss: 6.1276 - mae: 6.1276\n",
            "Epoch 79/100\n",
            "1/1 [==============================] - 0s 10ms/step - loss: 6.1148 - mae: 6.1148\n",
            "Epoch 80/100\n",
            "1/1 [==============================] - 0s 13ms/step - loss: 6.1134 - mae: 6.1134\n",
            "Epoch 81/100\n",
            "1/1 [==============================] - 0s 13ms/step - loss: 6.1084 - mae: 6.1084\n",
            "Epoch 82/100\n",
            "1/1 [==============================] - 0s 10ms/step - loss: 6.0966 - mae: 6.0966\n",
            "Epoch 83/100\n",
            "1/1 [==============================] - 0s 10ms/step - loss: 6.1020 - mae: 6.1020\n",
            "Epoch 84/100\n",
            "1/1 [==============================] - 0s 10ms/step - loss: 6.0892 - mae: 6.0892\n",
            "Epoch 85/100\n",
            "1/1 [==============================] - 0s 10ms/step - loss: 6.0862 - mae: 6.0862\n",
            "Epoch 86/100\n",
            "1/1 [==============================] - 0s 10ms/step - loss: 6.0828 - mae: 6.0828\n",
            "Epoch 87/100\n",
            "1/1 [==============================] - 0s 8ms/step - loss: 6.0700 - mae: 6.0700\n",
            "Epoch 88/100\n",
            "1/1 [==============================] - 0s 10ms/step - loss: 6.0758 - mae: 6.0758\n",
            "Epoch 89/100\n",
            "1/1 [==============================] - 0s 9ms/step - loss: 6.0636 - mae: 6.0636\n",
            "Epoch 90/100\n",
            "1/1 [==============================] - 0s 9ms/step - loss: 6.0590 - mae: 6.0590\n",
            "Epoch 91/100\n",
            "1/1 [==============================] - 0s 10ms/step - loss: 6.0572 - mae: 6.0572\n",
            "Epoch 92/100\n",
            "1/1 [==============================] - 0s 10ms/step - loss: 6.0444 - mae: 6.0444\n",
            "Epoch 93/100\n",
            "1/1 [==============================] - 0s 10ms/step - loss: 6.0486 - mae: 6.0486\n",
            "Epoch 94/100\n",
            "1/1 [==============================] - 0s 10ms/step - loss: 6.0380 - mae: 6.0380\n",
            "Epoch 95/100\n",
            "1/1 [==============================] - 0s 10ms/step - loss: 6.0318 - mae: 6.0318\n",
            "Epoch 96/100\n",
            "1/1 [==============================] - 0s 10ms/step - loss: 6.0316 - mae: 6.0316\n",
            "Epoch 97/100\n",
            "1/1 [==============================] - 0s 9ms/step - loss: 6.0188 - mae: 6.0188\n",
            "Epoch 98/100\n",
            "1/1 [==============================] - 0s 11ms/step - loss: 6.0214 - mae: 6.0214\n",
            "Epoch 99/100\n",
            "1/1 [==============================] - 0s 11ms/step - loss: 6.0124 - mae: 6.0124\n",
            "Epoch 100/100\n",
            "1/1 [==============================] - 0s 10ms/step - loss: 6.0046 - mae: 6.0046\n"
          ]
        },
        {
          "output_type": "execute_result",
          "data": {
            "text/plain": [
              "<keras.callbacks.History at 0x7fdbe2341fa0>"
            ]
          },
          "metadata": {},
          "execution_count": 113
        }
      ],
      "source": [
        "# Just increasing the epochs to 100 that is 10x and checking the model prediction\n",
        "# Create a model using Sequential API\n",
        "model2= tf.keras.Sequential([ tf.keras.layers.Dense(1,input_shape=(1,))])\n",
        "\n",
        "# Compile the model\n",
        "model2.compile(loss=tf.keras.losses.mae,optimizer=tf.keras.optimizers.SGD(),\n",
        "              metrics=['mae'])\n",
        "\n",
        "# Fit the model\n",
        "model2.fit(X,Y,epochs=100)"
      ]
    },
    {
      "cell_type": "code",
      "execution_count": 114,
      "metadata": {
        "colab": {
          "base_uri": "https://localhost:8080/"
        },
        "id": "GFspL_-WaA57",
        "outputId": "082850f1-1691-4bc8-be2f-76d89f18f14d"
      },
      "outputs": [
        {
          "output_type": "stream",
          "name": "stdout",
          "text": [
            "1/1 [==============================] - 0s 100ms/step\n"
          ]
        },
        {
          "output_type": "execute_result",
          "data": {
            "text/plain": [
              "array([[30.307678]], dtype=float32)"
            ]
          },
          "metadata": {},
          "execution_count": 114
        }
      ],
      "source": [
        "# Check the prediction of model2\n",
        "model2.predict([17.0])"
      ]
    },
    {
      "cell_type": "markdown",
      "metadata": {
        "id": "u_rPjZ-9uwzI"
      },
      "source": [
        "# Creating a Larger Model"
      ]
    },
    {
      "cell_type": "code",
      "execution_count": 115,
      "metadata": {
        "colab": {
          "base_uri": "https://localhost:8080/"
        },
        "id": "2ydMKWSeoz9J",
        "outputId": "54942acc-e0e0-4ebc-eb0b-985eb087ae59"
      },
      "outputs": [
        {
          "output_type": "stream",
          "name": "stdout",
          "text": [
            "Epoch 1/150\n",
            "1/1 [==============================] - 1s 562ms/step - loss: 14.3870 - mae: 14.3870\n",
            "Epoch 2/150\n",
            "1/1 [==============================] - 0s 13ms/step - loss: 11.8453 - mae: 11.8453\n",
            "Epoch 3/150\n",
            "1/1 [==============================] - 0s 10ms/step - loss: 9.6634 - mae: 9.6634\n",
            "Epoch 4/150\n",
            "1/1 [==============================] - 0s 421ms/step - loss: 7.2195 - mae: 7.2195\n",
            "Epoch 5/150\n",
            "1/1 [==============================] - 0s 13ms/step - loss: 4.6359 - mae: 4.6359\n",
            "Epoch 6/150\n",
            "1/1 [==============================] - 0s 12ms/step - loss: 4.7074 - mae: 4.7074\n",
            "Epoch 7/150\n",
            "1/1 [==============================] - 0s 13ms/step - loss: 4.5741 - mae: 4.5741\n",
            "Epoch 8/150\n",
            "1/1 [==============================] - 0s 12ms/step - loss: 4.5973 - mae: 4.5973\n",
            "Epoch 9/150\n",
            "1/1 [==============================] - 0s 14ms/step - loss: 4.6047 - mae: 4.6047\n",
            "Epoch 10/150\n",
            "1/1 [==============================] - 0s 11ms/step - loss: 4.5209 - mae: 4.5209\n",
            "Epoch 11/150\n",
            "1/1 [==============================] - 0s 9ms/step - loss: 4.5907 - mae: 4.5907\n",
            "Epoch 12/150\n",
            "1/1 [==============================] - 0s 10ms/step - loss: 4.4650 - mae: 4.4650\n",
            "Epoch 13/150\n",
            "1/1 [==============================] - 0s 10ms/step - loss: 4.4769 - mae: 4.4769\n",
            "Epoch 14/150\n",
            "1/1 [==============================] - 0s 11ms/step - loss: 4.5045 - mae: 4.5045\n",
            "Epoch 15/150\n",
            "1/1 [==============================] - 0s 12ms/step - loss: 4.3959 - mae: 4.3959\n",
            "Epoch 16/150\n",
            "1/1 [==============================] - 0s 12ms/step - loss: 4.4074 - mae: 4.4074\n",
            "Epoch 17/150\n",
            "1/1 [==============================] - 0s 9ms/step - loss: 4.3910 - mae: 4.3910\n",
            "Epoch 18/150\n",
            "1/1 [==============================] - 0s 11ms/step - loss: 4.2922 - mae: 4.2922\n",
            "Epoch 19/150\n",
            "1/1 [==============================] - 0s 11ms/step - loss: 4.3642 - mae: 4.3642\n",
            "Epoch 20/150\n",
            "1/1 [==============================] - 0s 11ms/step - loss: 4.2242 - mae: 4.2242\n",
            "Epoch 21/150\n",
            "1/1 [==============================] - 0s 10ms/step - loss: 4.1900 - mae: 4.1900\n",
            "Epoch 22/150\n",
            "1/1 [==============================] - 0s 12ms/step - loss: 4.2002 - mae: 4.2002\n",
            "Epoch 23/150\n",
            "1/1 [==============================] - 0s 13ms/step - loss: 4.2002 - mae: 4.2002\n",
            "Epoch 24/150\n",
            "1/1 [==============================] - 0s 10ms/step - loss: 4.1001 - mae: 4.1001\n",
            "Epoch 25/150\n",
            "1/1 [==============================] - 0s 14ms/step - loss: 4.0888 - mae: 4.0888\n",
            "Epoch 26/150\n",
            "1/1 [==============================] - 0s 12ms/step - loss: 4.1289 - mae: 4.1289\n",
            "Epoch 27/150\n",
            "1/1 [==============================] - 0s 16ms/step - loss: 4.0109 - mae: 4.0109\n",
            "Epoch 28/150\n",
            "1/1 [==============================] - 0s 15ms/step - loss: 3.9785 - mae: 3.9785\n",
            "Epoch 29/150\n",
            "1/1 [==============================] - 0s 10ms/step - loss: 3.9695 - mae: 3.9695\n",
            "Epoch 30/150\n",
            "1/1 [==============================] - 0s 13ms/step - loss: 4.0047 - mae: 4.0047\n",
            "Epoch 31/150\n",
            "1/1 [==============================] - 0s 11ms/step - loss: 3.8869 - mae: 3.8869\n",
            "Epoch 32/150\n",
            "1/1 [==============================] - 0s 10ms/step - loss: 3.8534 - mae: 3.8534\n",
            "Epoch 33/150\n",
            "1/1 [==============================] - 0s 10ms/step - loss: 3.8235 - mae: 3.8235\n",
            "Epoch 34/150\n",
            "1/1 [==============================] - 0s 10ms/step - loss: 3.8941 - mae: 3.8941\n",
            "Epoch 35/150\n",
            "1/1 [==============================] - 0s 11ms/step - loss: 3.7555 - mae: 3.7555\n",
            "Epoch 36/150\n",
            "1/1 [==============================] - 0s 11ms/step - loss: 3.7356 - mae: 3.7356\n",
            "Epoch 37/150\n",
            "1/1 [==============================] - 0s 10ms/step - loss: 3.7238 - mae: 3.7238\n",
            "Epoch 38/150\n",
            "1/1 [==============================] - 0s 11ms/step - loss: 3.7540 - mae: 3.7540\n",
            "Epoch 39/150\n",
            "1/1 [==============================] - 0s 12ms/step - loss: 3.7861 - mae: 3.7861\n",
            "Epoch 40/150\n",
            "1/1 [==============================] - 0s 10ms/step - loss: 3.7020 - mae: 3.7020\n",
            "Epoch 41/150\n",
            "1/1 [==============================] - 0s 11ms/step - loss: 3.7404 - mae: 3.7404\n",
            "Epoch 42/150\n",
            "1/1 [==============================] - 0s 11ms/step - loss: 3.7913 - mae: 3.7913\n",
            "Epoch 43/150\n",
            "1/1 [==============================] - 0s 11ms/step - loss: 3.6874 - mae: 3.6874\n",
            "Epoch 44/150\n",
            "1/1 [==============================] - 0s 12ms/step - loss: 3.6981 - mae: 3.6981\n",
            "Epoch 45/150\n",
            "1/1 [==============================] - 0s 11ms/step - loss: 3.7666 - mae: 3.7666\n",
            "Epoch 46/150\n",
            "1/1 [==============================] - 0s 11ms/step - loss: 3.6639 - mae: 3.6639\n",
            "Epoch 47/150\n",
            "1/1 [==============================] - 0s 13ms/step - loss: 3.6722 - mae: 3.6722\n",
            "Epoch 48/150\n",
            "1/1 [==============================] - 0s 11ms/step - loss: 3.7456 - mae: 3.7456\n",
            "Epoch 49/150\n",
            "1/1 [==============================] - 0s 20ms/step - loss: 3.6414 - mae: 3.6414\n",
            "Epoch 50/150\n",
            "1/1 [==============================] - 0s 11ms/step - loss: 3.6386 - mae: 3.6386\n",
            "Epoch 51/150\n",
            "1/1 [==============================] - 0s 12ms/step - loss: 3.6590 - mae: 3.6590\n",
            "Epoch 52/150\n",
            "1/1 [==============================] - 0s 9ms/step - loss: 3.7113 - mae: 3.7113\n",
            "Epoch 53/150\n",
            "1/1 [==============================] - 0s 11ms/step - loss: 3.6155 - mae: 3.6155\n",
            "Epoch 54/150\n",
            "1/1 [==============================] - 0s 17ms/step - loss: 3.6250 - mae: 3.6250\n",
            "Epoch 55/150\n",
            "1/1 [==============================] - 0s 10ms/step - loss: 3.6979 - mae: 3.6979\n",
            "Epoch 56/150\n",
            "1/1 [==============================] - 0s 11ms/step - loss: 3.5925 - mae: 3.5925\n",
            "Epoch 57/150\n",
            "1/1 [==============================] - 0s 11ms/step - loss: 3.5882 - mae: 3.5882\n",
            "Epoch 58/150\n",
            "1/1 [==============================] - 0s 12ms/step - loss: 3.7176 - mae: 3.7176\n",
            "Epoch 59/150\n",
            "1/1 [==============================] - 0s 17ms/step - loss: 3.5779 - mae: 3.5779\n",
            "Epoch 60/150\n",
            "1/1 [==============================] - 0s 10ms/step - loss: 3.5674 - mae: 3.5674\n",
            "Epoch 61/150\n",
            "1/1 [==============================] - 0s 13ms/step - loss: 3.5608 - mae: 3.5608\n",
            "Epoch 62/150\n",
            "1/1 [==============================] - 0s 11ms/step - loss: 3.6655 - mae: 3.6655\n",
            "Epoch 63/150\n",
            "1/1 [==============================] - 0s 11ms/step - loss: 3.5445 - mae: 3.5445\n",
            "Epoch 64/150\n",
            "1/1 [==============================] - 0s 11ms/step - loss: 3.5342 - mae: 3.5342\n",
            "Epoch 65/150\n",
            "1/1 [==============================] - 0s 12ms/step - loss: 3.5428 - mae: 3.5428\n",
            "Epoch 66/150\n",
            "1/1 [==============================] - 0s 11ms/step - loss: 3.6222 - mae: 3.6222\n",
            "Epoch 67/150\n",
            "1/1 [==============================] - 0s 17ms/step - loss: 3.5140 - mae: 3.5140\n",
            "Epoch 68/150\n",
            "1/1 [==============================] - 0s 11ms/step - loss: 3.5111 - mae: 3.5111\n",
            "Epoch 69/150\n",
            "1/1 [==============================] - 0s 10ms/step - loss: 3.5026 - mae: 3.5026\n",
            "Epoch 70/150\n",
            "1/1 [==============================] - 0s 9ms/step - loss: 3.6134 - mae: 3.6134\n",
            "Epoch 71/150\n",
            "1/1 [==============================] - 0s 10ms/step - loss: 3.4883 - mae: 3.4883\n",
            "Epoch 72/150\n",
            "1/1 [==============================] - 0s 12ms/step - loss: 3.4782 - mae: 3.4782\n",
            "Epoch 73/150\n",
            "1/1 [==============================] - 0s 11ms/step - loss: 3.4712 - mae: 3.4712\n",
            "Epoch 74/150\n",
            "1/1 [==============================] - 0s 20ms/step - loss: 3.5802 - mae: 3.5802\n",
            "Epoch 75/150\n",
            "1/1 [==============================] - 0s 45ms/step - loss: 3.4554 - mae: 3.4554\n",
            "Epoch 76/150\n",
            "1/1 [==============================] - 0s 44ms/step - loss: 3.4517 - mae: 3.4517\n",
            "Epoch 77/150\n",
            "1/1 [==============================] - 0s 31ms/step - loss: 3.4420 - mae: 3.4420\n",
            "Epoch 78/150\n",
            "1/1 [==============================] - 0s 35ms/step - loss: 3.4368 - mae: 3.4368\n",
            "Epoch 79/150\n",
            "1/1 [==============================] - 0s 49ms/step - loss: 3.5446 - mae: 3.5446\n",
            "Epoch 80/150\n",
            "1/1 [==============================] - 0s 37ms/step - loss: 3.4207 - mae: 3.4207\n",
            "Epoch 81/150\n",
            "1/1 [==============================] - 0s 36ms/step - loss: 3.4109 - mae: 3.4109\n",
            "Epoch 82/150\n",
            "1/1 [==============================] - 0s 29ms/step - loss: 3.4012 - mae: 3.4012\n",
            "Epoch 83/150\n",
            "1/1 [==============================] - 0s 35ms/step - loss: 3.4119 - mae: 3.4119\n",
            "Epoch 84/150\n",
            "1/1 [==============================] - 0s 34ms/step - loss: 3.5182 - mae: 3.5182\n",
            "Epoch 85/150\n",
            "1/1 [==============================] - 0s 40ms/step - loss: 3.3844 - mae: 3.3844\n",
            "Epoch 86/150\n",
            "1/1 [==============================] - 0s 29ms/step - loss: 3.3750 - mae: 3.3750\n",
            "Epoch 87/150\n",
            "1/1 [==============================] - 0s 30ms/step - loss: 3.3666 - mae: 3.3666\n",
            "Epoch 88/150\n",
            "1/1 [==============================] - 0s 36ms/step - loss: 3.3586 - mae: 3.3586\n",
            "Epoch 89/150\n",
            "1/1 [==============================] - 0s 38ms/step - loss: 3.4755 - mae: 3.4755\n",
            "Epoch 90/150\n",
            "1/1 [==============================] - 0s 39ms/step - loss: 3.3449 - mae: 3.3449\n",
            "Epoch 91/150\n",
            "1/1 [==============================] - 0s 33ms/step - loss: 3.3353 - mae: 3.3353\n",
            "Epoch 92/150\n",
            "1/1 [==============================] - 0s 41ms/step - loss: 3.3258 - mae: 3.3258\n",
            "Epoch 93/150\n",
            "1/1 [==============================] - 0s 37ms/step - loss: 3.3178 - mae: 3.3178\n",
            "Epoch 94/150\n",
            "1/1 [==============================] - 0s 26ms/step - loss: 3.3299 - mae: 3.3299\n",
            "Epoch 95/150\n",
            "1/1 [==============================] - 0s 14ms/step - loss: 3.4400 - mae: 3.4400\n",
            "Epoch 96/150\n",
            "1/1 [==============================] - 0s 11ms/step - loss: 3.3017 - mae: 3.3017\n",
            "Epoch 97/150\n",
            "1/1 [==============================] - 0s 12ms/step - loss: 3.2921 - mae: 3.2921\n",
            "Epoch 98/150\n",
            "1/1 [==============================] - 0s 15ms/step - loss: 3.2825 - mae: 3.2825\n",
            "Epoch 99/150\n",
            "1/1 [==============================] - 0s 24ms/step - loss: 3.2730 - mae: 3.2730\n",
            "Epoch 100/150\n",
            "1/1 [==============================] - 0s 17ms/step - loss: 3.2636 - mae: 3.2636\n",
            "Epoch 101/150\n",
            "1/1 [==============================] - 0s 34ms/step - loss: 3.2721 - mae: 3.2721\n",
            "Epoch 102/150\n",
            "1/1 [==============================] - 0s 24ms/step - loss: 3.3638 - mae: 3.3638\n",
            "Epoch 103/150\n",
            "1/1 [==============================] - 0s 23ms/step - loss: 3.2409 - mae: 3.2409\n",
            "Epoch 104/150\n",
            "1/1 [==============================] - 0s 31ms/step - loss: 3.2382 - mae: 3.2382\n",
            "Epoch 105/150\n",
            "1/1 [==============================] - 0s 17ms/step - loss: 3.2291 - mae: 3.2291\n",
            "Epoch 106/150\n",
            "1/1 [==============================] - 0s 27ms/step - loss: 3.2195 - mae: 3.2195\n",
            "Epoch 107/150\n",
            "1/1 [==============================] - 0s 29ms/step - loss: 3.2100 - mae: 3.2100\n",
            "Epoch 108/150\n",
            "1/1 [==============================] - 0s 16ms/step - loss: 3.2004 - mae: 3.2004\n",
            "Epoch 109/150\n",
            "1/1 [==============================] - 0s 19ms/step - loss: 3.2024 - mae: 3.2024\n",
            "Epoch 110/150\n",
            "1/1 [==============================] - 0s 17ms/step - loss: 3.3066 - mae: 3.3066\n",
            "Epoch 111/150\n",
            "1/1 [==============================] - 0s 12ms/step - loss: 3.1751 - mae: 3.1751\n",
            "Epoch 112/150\n",
            "1/1 [==============================] - 0s 12ms/step - loss: 3.1681 - mae: 3.1681\n",
            "Epoch 113/150\n",
            "1/1 [==============================] - 0s 14ms/step - loss: 3.1575 - mae: 3.1575\n",
            "Epoch 114/150\n",
            "1/1 [==============================] - 0s 12ms/step - loss: 3.1469 - mae: 3.1469\n",
            "Epoch 115/150\n",
            "1/1 [==============================] - 0s 14ms/step - loss: 3.1376 - mae: 3.1376\n",
            "Epoch 116/150\n",
            "1/1 [==============================] - 0s 13ms/step - loss: 3.1275 - mae: 3.1275\n",
            "Epoch 117/150\n",
            "1/1 [==============================] - 0s 13ms/step - loss: 3.1170 - mae: 3.1170\n",
            "Epoch 118/150\n",
            "1/1 [==============================] - 0s 12ms/step - loss: 3.1080 - mae: 3.1080\n",
            "Epoch 119/150\n",
            "1/1 [==============================] - 0s 11ms/step - loss: 3.1008 - mae: 3.1008\n",
            "Epoch 120/150\n",
            "1/1 [==============================] - 0s 11ms/step - loss: 3.2507 - mae: 3.2507\n",
            "Epoch 121/150\n",
            "1/1 [==============================] - 0s 12ms/step - loss: 3.0860 - mae: 3.0860\n",
            "Epoch 122/150\n",
            "1/1 [==============================] - 0s 11ms/step - loss: 3.0752 - mae: 3.0752\n",
            "Epoch 123/150\n",
            "1/1 [==============================] - 0s 10ms/step - loss: 3.0644 - mae: 3.0644\n",
            "Epoch 124/150\n",
            "1/1 [==============================] - 0s 12ms/step - loss: 3.0536 - mae: 3.0536\n",
            "Epoch 125/150\n",
            "1/1 [==============================] - 0s 11ms/step - loss: 3.0428 - mae: 3.0428\n",
            "Epoch 126/150\n",
            "1/1 [==============================] - 0s 11ms/step - loss: 3.0322 - mae: 3.0322\n",
            "Epoch 127/150\n",
            "1/1 [==============================] - 0s 12ms/step - loss: 3.0227 - mae: 3.0227\n",
            "Epoch 128/150\n",
            "1/1 [==============================] - 0s 13ms/step - loss: 3.0138 - mae: 3.0138\n",
            "Epoch 129/150\n",
            "1/1 [==============================] - 0s 13ms/step - loss: 3.0080 - mae: 3.0080\n",
            "Epoch 130/150\n",
            "1/1 [==============================] - 0s 11ms/step - loss: 2.9970 - mae: 2.9970\n",
            "Epoch 131/150\n",
            "1/1 [==============================] - 0s 12ms/step - loss: 2.9861 - mae: 2.9861\n",
            "Epoch 132/150\n",
            "1/1 [==============================] - 0s 12ms/step - loss: 2.9751 - mae: 2.9751\n",
            "Epoch 133/150\n",
            "1/1 [==============================] - 0s 12ms/step - loss: 2.9640 - mae: 2.9640\n",
            "Epoch 134/150\n",
            "1/1 [==============================] - 0s 12ms/step - loss: 2.9530 - mae: 2.9530\n",
            "Epoch 135/150\n",
            "1/1 [==============================] - 0s 15ms/step - loss: 2.9424 - mae: 2.9424\n",
            "Epoch 136/150\n",
            "1/1 [==============================] - 0s 11ms/step - loss: 2.9323 - mae: 2.9323\n",
            "Epoch 137/150\n",
            "1/1 [==============================] - 0s 9ms/step - loss: 2.9256 - mae: 2.9256\n",
            "Epoch 138/150\n",
            "1/1 [==============================] - 0s 10ms/step - loss: 2.9165 - mae: 2.9165\n",
            "Epoch 139/150\n",
            "1/1 [==============================] - 0s 11ms/step - loss: 2.9051 - mae: 2.9051\n",
            "Epoch 140/150\n",
            "1/1 [==============================] - 0s 10ms/step - loss: 2.8938 - mae: 2.8938\n",
            "Epoch 141/150\n",
            "1/1 [==============================] - 0s 11ms/step - loss: 2.8824 - mae: 2.8824\n",
            "Epoch 142/150\n",
            "1/1 [==============================] - 0s 10ms/step - loss: 2.8709 - mae: 2.8709\n",
            "Epoch 143/150\n",
            "1/1 [==============================] - 0s 11ms/step - loss: 2.8594 - mae: 2.8594\n",
            "Epoch 144/150\n",
            "1/1 [==============================] - 0s 10ms/step - loss: 2.8487 - mae: 2.8487\n",
            "Epoch 145/150\n",
            "1/1 [==============================] - 0s 14ms/step - loss: 2.8376 - mae: 2.8376\n",
            "Epoch 146/150\n",
            "1/1 [==============================] - 0s 15ms/step - loss: 2.8315 - mae: 2.8315\n",
            "Epoch 147/150\n",
            "1/1 [==============================] - 0s 10ms/step - loss: 2.8203 - mae: 2.8203\n",
            "Epoch 148/150\n",
            "1/1 [==============================] - 0s 10ms/step - loss: 2.8074 - mae: 2.8074\n",
            "Epoch 149/150\n",
            "1/1 [==============================] - 0s 9ms/step - loss: 2.7944 - mae: 2.7944\n",
            "Epoch 150/150\n",
            "1/1 [==============================] - 0s 9ms/step - loss: 2.7813 - mae: 2.7813\n"
          ]
        },
        {
          "output_type": "execute_result",
          "data": {
            "text/plain": [
              "<keras.callbacks.History at 0x7fdbe1e0a160>"
            ]
          },
          "metadata": {},
          "execution_count": 115
        }
      ],
      "source": [
        "# improved Model by increasing the dense.layers\n",
        "# Only increased the dense layers and neurons with increase in epochs\n",
        "# Set Random Seed\n",
        "tf.random.set_seed(42)\n",
        "\n",
        "# Create a model using Sequential API\n",
        "model3= tf.keras.Sequential([ tf.keras.layers.Dense(1,input_shape=(1,)),\n",
        "    tf.keras.layers.Dense(10,activation='relu'),\n",
        "    tf.keras.layers.Dense(10,activation='relu'),\n",
        "    tf.keras.layers.Dense(1)])\n",
        "\n",
        "# Compile the model\n",
        "model3.compile(loss=tf.keras.losses.mae,optimizer=tf.keras.optimizers.SGD(),\n",
        "              metrics=['mae'])\n",
        "\n",
        "# Fit the model\n",
        "model3.fit(X,Y,epochs=150)\n"
      ]
    },
    {
      "cell_type": "code",
      "execution_count": 116,
      "metadata": {
        "colab": {
          "base_uri": "https://localhost:8080/"
        },
        "id": "sF6KMOZetd9Z",
        "outputId": "fb25a14f-3faa-4b1b-91bd-02d783e8b738"
      },
      "outputs": [
        {
          "output_type": "stream",
          "name": "stdout",
          "text": [
            "1/1 [==============================] - 0s 110ms/step\n"
          ]
        },
        {
          "output_type": "execute_result",
          "data": {
            "text/plain": [
              "array([[29.901136]], dtype=float32)"
            ]
          },
          "metadata": {},
          "execution_count": 116
        }
      ],
      "source": [
        "# try and make prediction with model3\n",
        "model3.predict([17.0])\n",
        "# output should be 17+9=26 "
      ]
    },
    {
      "cell_type": "code",
      "execution_count": 117,
      "metadata": {
        "colab": {
          "base_uri": "https://localhost:8080/"
        },
        "id": "qpQD6BdKbBGp",
        "outputId": "95425ecf-93f9-4c8b-fb14-fe5adff35aa9"
      },
      "outputs": [
        {
          "output_type": "stream",
          "name": "stdout",
          "text": [
            "Epoch 1/300\n",
            "1/1 [==============================] - 1s 1s/step - loss: 13.2004 - mae: 13.2004\n",
            "Epoch 2/300\n",
            "1/1 [==============================] - 0s 11ms/step - loss: 13.1750 - mae: 13.1750\n",
            "Epoch 3/300\n",
            "1/1 [==============================] - 0s 15ms/step - loss: 13.1497 - mae: 13.1497\n",
            "Epoch 4/300\n",
            "1/1 [==============================] - 0s 11ms/step - loss: 13.1246 - mae: 13.1246\n",
            "Epoch 5/300\n",
            "1/1 [==============================] - 0s 12ms/step - loss: 13.0987 - mae: 13.0987\n",
            "Epoch 6/300\n",
            "1/1 [==============================] - 0s 11ms/step - loss: 13.0719 - mae: 13.0719\n",
            "Epoch 7/300\n",
            "1/1 [==============================] - 0s 9ms/step - loss: 13.0453 - mae: 13.0453\n",
            "Epoch 8/300\n",
            "1/1 [==============================] - 0s 15ms/step - loss: 13.0194 - mae: 13.0194\n",
            "Epoch 9/300\n",
            "1/1 [==============================] - 0s 13ms/step - loss: 12.9961 - mae: 12.9961\n",
            "Epoch 10/300\n",
            "1/1 [==============================] - 0s 17ms/step - loss: 12.9728 - mae: 12.9728\n",
            "Epoch 11/300\n",
            "1/1 [==============================] - 0s 17ms/step - loss: 12.9496 - mae: 12.9496\n",
            "Epoch 12/300\n",
            "1/1 [==============================] - 0s 12ms/step - loss: 12.9263 - mae: 12.9263\n",
            "Epoch 13/300\n",
            "1/1 [==============================] - 0s 11ms/step - loss: 12.9032 - mae: 12.9032\n",
            "Epoch 14/300\n",
            "1/1 [==============================] - 0s 11ms/step - loss: 12.8801 - mae: 12.8801\n",
            "Epoch 15/300\n",
            "1/1 [==============================] - 0s 10ms/step - loss: 12.8572 - mae: 12.8572\n",
            "Epoch 16/300\n",
            "1/1 [==============================] - 0s 11ms/step - loss: 12.8344 - mae: 12.8344\n",
            "Epoch 17/300\n",
            "1/1 [==============================] - 0s 11ms/step - loss: 12.8117 - mae: 12.8117\n",
            "Epoch 18/300\n",
            "1/1 [==============================] - 0s 11ms/step - loss: 12.7890 - mae: 12.7890\n",
            "Epoch 19/300\n",
            "1/1 [==============================] - 0s 11ms/step - loss: 12.7668 - mae: 12.7668\n",
            "Epoch 20/300\n",
            "1/1 [==============================] - 0s 15ms/step - loss: 12.7450 - mae: 12.7450\n",
            "Epoch 21/300\n",
            "1/1 [==============================] - 0s 11ms/step - loss: 12.7239 - mae: 12.7239\n",
            "Epoch 22/300\n",
            "1/1 [==============================] - 0s 11ms/step - loss: 12.7030 - mae: 12.7030\n",
            "Epoch 23/300\n",
            "1/1 [==============================] - 0s 14ms/step - loss: 12.6822 - mae: 12.6822\n",
            "Epoch 24/300\n",
            "1/1 [==============================] - 0s 11ms/step - loss: 12.6622 - mae: 12.6622\n",
            "Epoch 25/300\n",
            "1/1 [==============================] - 0s 17ms/step - loss: 12.6438 - mae: 12.6438\n",
            "Epoch 26/300\n",
            "1/1 [==============================] - 0s 15ms/step - loss: 12.6256 - mae: 12.6256\n",
            "Epoch 27/300\n",
            "1/1 [==============================] - 0s 12ms/step - loss: 12.6072 - mae: 12.6072\n",
            "Epoch 28/300\n",
            "1/1 [==============================] - 0s 15ms/step - loss: 12.5890 - mae: 12.5890\n",
            "Epoch 29/300\n",
            "1/1 [==============================] - 0s 14ms/step - loss: 12.5712 - mae: 12.5712\n",
            "Epoch 30/300\n",
            "1/1 [==============================] - 0s 12ms/step - loss: 12.5537 - mae: 12.5537\n",
            "Epoch 31/300\n",
            "1/1 [==============================] - 0s 9ms/step - loss: 12.5362 - mae: 12.5362\n",
            "Epoch 32/300\n",
            "1/1 [==============================] - 0s 9ms/step - loss: 12.5186 - mae: 12.5186\n",
            "Epoch 33/300\n",
            "1/1 [==============================] - 0s 10ms/step - loss: 12.5009 - mae: 12.5009\n",
            "Epoch 34/300\n",
            "1/1 [==============================] - 0s 10ms/step - loss: 12.4831 - mae: 12.4831\n",
            "Epoch 35/300\n",
            "1/1 [==============================] - 0s 10ms/step - loss: 12.4652 - mae: 12.4652\n",
            "Epoch 36/300\n",
            "1/1 [==============================] - 0s 13ms/step - loss: 12.4472 - mae: 12.4472\n",
            "Epoch 37/300\n",
            "1/1 [==============================] - 0s 13ms/step - loss: 12.4291 - mae: 12.4291\n",
            "Epoch 38/300\n",
            "1/1 [==============================] - 0s 12ms/step - loss: 12.4108 - mae: 12.4108\n",
            "Epoch 39/300\n",
            "1/1 [==============================] - 0s 11ms/step - loss: 12.3924 - mae: 12.3924\n",
            "Epoch 40/300\n",
            "1/1 [==============================] - 0s 12ms/step - loss: 12.3739 - mae: 12.3739\n",
            "Epoch 41/300\n",
            "1/1 [==============================] - 0s 11ms/step - loss: 12.3552 - mae: 12.3552\n",
            "Epoch 42/300\n",
            "1/1 [==============================] - 0s 11ms/step - loss: 12.3363 - mae: 12.3363\n",
            "Epoch 43/300\n",
            "1/1 [==============================] - 0s 10ms/step - loss: 12.3172 - mae: 12.3172\n",
            "Epoch 44/300\n",
            "1/1 [==============================] - 0s 13ms/step - loss: 12.2980 - mae: 12.2980\n",
            "Epoch 45/300\n",
            "1/1 [==============================] - 0s 11ms/step - loss: 12.2785 - mae: 12.2785\n",
            "Epoch 46/300\n",
            "1/1 [==============================] - 0s 11ms/step - loss: 12.2588 - mae: 12.2588\n",
            "Epoch 47/300\n",
            "1/1 [==============================] - 0s 11ms/step - loss: 12.2389 - mae: 12.2389\n",
            "Epoch 48/300\n",
            "1/1 [==============================] - 0s 11ms/step - loss: 12.2188 - mae: 12.2188\n",
            "Epoch 49/300\n",
            "1/1 [==============================] - 0s 11ms/step - loss: 12.1984 - mae: 12.1984\n",
            "Epoch 50/300\n",
            "1/1 [==============================] - 0s 11ms/step - loss: 12.1779 - mae: 12.1779\n",
            "Epoch 51/300\n",
            "1/1 [==============================] - 0s 11ms/step - loss: 12.1569 - mae: 12.1569\n",
            "Epoch 52/300\n",
            "1/1 [==============================] - 0s 11ms/step - loss: 12.1357 - mae: 12.1357\n",
            "Epoch 53/300\n",
            "1/1 [==============================] - 0s 11ms/step - loss: 12.1139 - mae: 12.1139\n",
            "Epoch 54/300\n",
            "1/1 [==============================] - 0s 10ms/step - loss: 12.0916 - mae: 12.0916\n",
            "Epoch 55/300\n",
            "1/1 [==============================] - 0s 10ms/step - loss: 12.0686 - mae: 12.0686\n",
            "Epoch 56/300\n",
            "1/1 [==============================] - 0s 10ms/step - loss: 12.0480 - mae: 12.0480\n",
            "Epoch 57/300\n",
            "1/1 [==============================] - 0s 11ms/step - loss: 12.0355 - mae: 12.0355\n",
            "Epoch 58/300\n",
            "1/1 [==============================] - 0s 10ms/step - loss: 12.0227 - mae: 12.0227\n",
            "Epoch 59/300\n",
            "1/1 [==============================] - 0s 9ms/step - loss: 12.0097 - mae: 12.0097\n",
            "Epoch 60/300\n",
            "1/1 [==============================] - 0s 10ms/step - loss: 11.9964 - mae: 11.9964\n",
            "Epoch 61/300\n",
            "1/1 [==============================] - 0s 11ms/step - loss: 11.9829 - mae: 11.9829\n",
            "Epoch 62/300\n",
            "1/1 [==============================] - 0s 11ms/step - loss: 11.9692 - mae: 11.9692\n",
            "Epoch 63/300\n",
            "1/1 [==============================] - 0s 11ms/step - loss: 11.9551 - mae: 11.9551\n",
            "Epoch 64/300\n",
            "1/1 [==============================] - 0s 11ms/step - loss: 11.9408 - mae: 11.9408\n",
            "Epoch 65/300\n",
            "1/1 [==============================] - 0s 11ms/step - loss: 11.9262 - mae: 11.9262\n",
            "Epoch 66/300\n",
            "1/1 [==============================] - 0s 11ms/step - loss: 11.9114 - mae: 11.9114\n",
            "Epoch 67/300\n",
            "1/1 [==============================] - 0s 11ms/step - loss: 11.8962 - mae: 11.8962\n",
            "Epoch 68/300\n",
            "1/1 [==============================] - 0s 10ms/step - loss: 11.8807 - mae: 11.8807\n",
            "Epoch 69/300\n",
            "1/1 [==============================] - 0s 11ms/step - loss: 11.8647 - mae: 11.8647\n",
            "Epoch 70/300\n",
            "1/1 [==============================] - 0s 13ms/step - loss: 11.8482 - mae: 11.8482\n",
            "Epoch 71/300\n",
            "1/1 [==============================] - 0s 12ms/step - loss: 11.8317 - mae: 11.8317\n",
            "Epoch 72/300\n",
            "1/1 [==============================] - 0s 10ms/step - loss: 11.8148 - mae: 11.8148\n",
            "Epoch 73/300\n",
            "1/1 [==============================] - 0s 12ms/step - loss: 11.7975 - mae: 11.7975\n",
            "Epoch 74/300\n",
            "1/1 [==============================] - 0s 11ms/step - loss: 11.7798 - mae: 11.7798\n",
            "Epoch 75/300\n",
            "1/1 [==============================] - 0s 11ms/step - loss: 11.7613 - mae: 11.7613\n",
            "Epoch 76/300\n",
            "1/1 [==============================] - 0s 15ms/step - loss: 11.7422 - mae: 11.7422\n",
            "Epoch 77/300\n",
            "1/1 [==============================] - 0s 11ms/step - loss: 11.7229 - mae: 11.7229\n",
            "Epoch 78/300\n",
            "1/1 [==============================] - 0s 13ms/step - loss: 11.7034 - mae: 11.7034\n",
            "Epoch 79/300\n",
            "1/1 [==============================] - 0s 12ms/step - loss: 11.6836 - mae: 11.6836\n",
            "Epoch 80/300\n",
            "1/1 [==============================] - 0s 12ms/step - loss: 11.6634 - mae: 11.6634\n",
            "Epoch 81/300\n",
            "1/1 [==============================] - 0s 12ms/step - loss: 11.6428 - mae: 11.6428\n",
            "Epoch 82/300\n",
            "1/1 [==============================] - 0s 12ms/step - loss: 11.6219 - mae: 11.6219\n",
            "Epoch 83/300\n",
            "1/1 [==============================] - 0s 11ms/step - loss: 11.6009 - mae: 11.6009\n",
            "Epoch 84/300\n",
            "1/1 [==============================] - 0s 12ms/step - loss: 11.5795 - mae: 11.5795\n",
            "Epoch 85/300\n",
            "1/1 [==============================] - 0s 11ms/step - loss: 11.5578 - mae: 11.5578\n",
            "Epoch 86/300\n",
            "1/1 [==============================] - 0s 11ms/step - loss: 11.5360 - mae: 11.5360\n",
            "Epoch 87/300\n",
            "1/1 [==============================] - 0s 11ms/step - loss: 11.5139 - mae: 11.5139\n",
            "Epoch 88/300\n",
            "1/1 [==============================] - 0s 14ms/step - loss: 11.4916 - mae: 11.4916\n",
            "Epoch 89/300\n",
            "1/1 [==============================] - 0s 11ms/step - loss: 11.4692 - mae: 11.4692\n",
            "Epoch 90/300\n",
            "1/1 [==============================] - 0s 11ms/step - loss: 11.4467 - mae: 11.4467\n",
            "Epoch 91/300\n",
            "1/1 [==============================] - 0s 12ms/step - loss: 11.4241 - mae: 11.4241\n",
            "Epoch 92/300\n",
            "1/1 [==============================] - 0s 12ms/step - loss: 11.4011 - mae: 11.4011\n",
            "Epoch 93/300\n",
            "1/1 [==============================] - 0s 12ms/step - loss: 11.3777 - mae: 11.3777\n",
            "Epoch 94/300\n",
            "1/1 [==============================] - 0s 12ms/step - loss: 11.3538 - mae: 11.3538\n",
            "Epoch 95/300\n",
            "1/1 [==============================] - 0s 15ms/step - loss: 11.3295 - mae: 11.3295\n",
            "Epoch 96/300\n",
            "1/1 [==============================] - 0s 15ms/step - loss: 11.3048 - mae: 11.3048\n",
            "Epoch 97/300\n",
            "1/1 [==============================] - 0s 12ms/step - loss: 11.2796 - mae: 11.2796\n",
            "Epoch 98/300\n",
            "1/1 [==============================] - 0s 12ms/step - loss: 11.2539 - mae: 11.2539\n",
            "Epoch 99/300\n",
            "1/1 [==============================] - 0s 12ms/step - loss: 11.2277 - mae: 11.2277\n",
            "Epoch 100/300\n",
            "1/1 [==============================] - 0s 11ms/step - loss: 11.2010 - mae: 11.2010\n",
            "Epoch 101/300\n",
            "1/1 [==============================] - 0s 16ms/step - loss: 11.1737 - mae: 11.1737\n",
            "Epoch 102/300\n",
            "1/1 [==============================] - 0s 13ms/step - loss: 11.1458 - mae: 11.1458\n",
            "Epoch 103/300\n",
            "1/1 [==============================] - 0s 14ms/step - loss: 11.1174 - mae: 11.1174\n",
            "Epoch 104/300\n",
            "1/1 [==============================] - 0s 11ms/step - loss: 11.0884 - mae: 11.0884\n",
            "Epoch 105/300\n",
            "1/1 [==============================] - 0s 11ms/step - loss: 11.0589 - mae: 11.0589\n",
            "Epoch 106/300\n",
            "1/1 [==============================] - 0s 10ms/step - loss: 11.0287 - mae: 11.0287\n",
            "Epoch 107/300\n",
            "1/1 [==============================] - 0s 11ms/step - loss: 10.9979 - mae: 10.9979\n",
            "Epoch 108/300\n",
            "1/1 [==============================] - 0s 12ms/step - loss: 10.9665 - mae: 10.9665\n",
            "Epoch 109/300\n",
            "1/1 [==============================] - 0s 12ms/step - loss: 10.9345 - mae: 10.9345\n",
            "Epoch 110/300\n",
            "1/1 [==============================] - 0s 11ms/step - loss: 10.9018 - mae: 10.9018\n",
            "Epoch 111/300\n",
            "1/1 [==============================] - 0s 11ms/step - loss: 10.8685 - mae: 10.8685\n",
            "Epoch 112/300\n",
            "1/1 [==============================] - 0s 13ms/step - loss: 10.8340 - mae: 10.8340\n",
            "Epoch 113/300\n",
            "1/1 [==============================] - 0s 12ms/step - loss: 10.7987 - mae: 10.7987\n",
            "Epoch 114/300\n",
            "1/1 [==============================] - 0s 13ms/step - loss: 10.7632 - mae: 10.7632\n",
            "Epoch 115/300\n",
            "1/1 [==============================] - 0s 12ms/step - loss: 10.7274 - mae: 10.7274\n",
            "Epoch 116/300\n",
            "1/1 [==============================] - 0s 12ms/step - loss: 10.6908 - mae: 10.6908\n",
            "Epoch 117/300\n",
            "1/1 [==============================] - 0s 11ms/step - loss: 10.6534 - mae: 10.6534\n",
            "Epoch 118/300\n",
            "1/1 [==============================] - 0s 11ms/step - loss: 10.6152 - mae: 10.6152\n",
            "Epoch 119/300\n",
            "1/1 [==============================] - 0s 12ms/step - loss: 10.5762 - mae: 10.5762\n",
            "Epoch 120/300\n",
            "1/1 [==============================] - 0s 19ms/step - loss: 10.5363 - mae: 10.5363\n",
            "Epoch 121/300\n",
            "1/1 [==============================] - 0s 14ms/step - loss: 10.4956 - mae: 10.4956\n",
            "Epoch 122/300\n",
            "1/1 [==============================] - 0s 11ms/step - loss: 10.4541 - mae: 10.4541\n",
            "Epoch 123/300\n",
            "1/1 [==============================] - 0s 11ms/step - loss: 10.4116 - mae: 10.4116\n",
            "Epoch 124/300\n",
            "1/1 [==============================] - 0s 12ms/step - loss: 10.3682 - mae: 10.3682\n",
            "Epoch 125/300\n",
            "1/1 [==============================] - 0s 13ms/step - loss: 10.3240 - mae: 10.3240\n",
            "Epoch 126/300\n",
            "1/1 [==============================] - 0s 11ms/step - loss: 10.2788 - mae: 10.2788\n",
            "Epoch 127/300\n",
            "1/1 [==============================] - 0s 12ms/step - loss: 10.2333 - mae: 10.2333\n",
            "Epoch 128/300\n",
            "1/1 [==============================] - 0s 12ms/step - loss: 10.1868 - mae: 10.1868\n",
            "Epoch 129/300\n",
            "1/1 [==============================] - 0s 10ms/step - loss: 10.1393 - mae: 10.1393\n",
            "Epoch 130/300\n",
            "1/1 [==============================] - 0s 14ms/step - loss: 10.0908 - mae: 10.0908\n",
            "Epoch 131/300\n",
            "1/1 [==============================] - 0s 13ms/step - loss: 10.0412 - mae: 10.0412\n",
            "Epoch 132/300\n",
            "1/1 [==============================] - 0s 15ms/step - loss: 9.9908 - mae: 9.9908\n",
            "Epoch 133/300\n",
            "1/1 [==============================] - 0s 12ms/step - loss: 9.9391 - mae: 9.9391\n",
            "Epoch 134/300\n",
            "1/1 [==============================] - 0s 10ms/step - loss: 9.8862 - mae: 9.8862\n",
            "Epoch 135/300\n",
            "1/1 [==============================] - 0s 13ms/step - loss: 9.8321 - mae: 9.8321\n",
            "Epoch 136/300\n",
            "1/1 [==============================] - 0s 11ms/step - loss: 9.7767 - mae: 9.7767\n",
            "Epoch 137/300\n",
            "1/1 [==============================] - 0s 13ms/step - loss: 9.7200 - mae: 9.7200\n",
            "Epoch 138/300\n",
            "1/1 [==============================] - 0s 11ms/step - loss: 9.6620 - mae: 9.6620\n",
            "Epoch 139/300\n",
            "1/1 [==============================] - 0s 11ms/step - loss: 9.6028 - mae: 9.6028\n",
            "Epoch 140/300\n",
            "1/1 [==============================] - 0s 10ms/step - loss: 9.5426 - mae: 9.5426\n",
            "Epoch 141/300\n",
            "1/1 [==============================] - 0s 11ms/step - loss: 9.4810 - mae: 9.4810\n",
            "Epoch 142/300\n",
            "1/1 [==============================] - 0s 12ms/step - loss: 9.4177 - mae: 9.4177\n",
            "Epoch 143/300\n",
            "1/1 [==============================] - 0s 13ms/step - loss: 9.3529 - mae: 9.3529\n",
            "Epoch 144/300\n",
            "1/1 [==============================] - 0s 16ms/step - loss: 9.2870 - mae: 9.2870\n",
            "Epoch 145/300\n",
            "1/1 [==============================] - 0s 10ms/step - loss: 9.2197 - mae: 9.2197\n",
            "Epoch 146/300\n",
            "1/1 [==============================] - 0s 10ms/step - loss: 9.1509 - mae: 9.1509\n",
            "Epoch 147/300\n",
            "1/1 [==============================] - 0s 11ms/step - loss: 9.0805 - mae: 9.0805\n",
            "Epoch 148/300\n",
            "1/1 [==============================] - 0s 11ms/step - loss: 9.0085 - mae: 9.0085\n",
            "Epoch 149/300\n",
            "1/1 [==============================] - 0s 12ms/step - loss: 8.9353 - mae: 8.9353\n",
            "Epoch 150/300\n",
            "1/1 [==============================] - 0s 11ms/step - loss: 8.8603 - mae: 8.8603\n",
            "Epoch 151/300\n",
            "1/1 [==============================] - 0s 12ms/step - loss: 8.7833 - mae: 8.7833\n",
            "Epoch 152/300\n",
            "1/1 [==============================] - 0s 13ms/step - loss: 8.7051 - mae: 8.7051\n",
            "Epoch 153/300\n",
            "1/1 [==============================] - 0s 11ms/step - loss: 8.6252 - mae: 8.6252\n",
            "Epoch 154/300\n",
            "1/1 [==============================] - 0s 11ms/step - loss: 8.5435 - mae: 8.5435\n",
            "Epoch 155/300\n",
            "1/1 [==============================] - 0s 10ms/step - loss: 8.4600 - mae: 8.4600\n",
            "Epoch 156/300\n",
            "1/1 [==============================] - 0s 14ms/step - loss: 8.3746 - mae: 8.3746\n",
            "Epoch 157/300\n",
            "1/1 [==============================] - 0s 13ms/step - loss: 8.2874 - mae: 8.2874\n",
            "Epoch 158/300\n",
            "1/1 [==============================] - 0s 14ms/step - loss: 8.1982 - mae: 8.1982\n",
            "Epoch 159/300\n",
            "1/1 [==============================] - 0s 15ms/step - loss: 8.1071 - mae: 8.1071\n",
            "Epoch 160/300\n",
            "1/1 [==============================] - 0s 11ms/step - loss: 8.0145 - mae: 8.0145\n",
            "Epoch 161/300\n",
            "1/1 [==============================] - 0s 14ms/step - loss: 7.9197 - mae: 7.9197\n",
            "Epoch 162/300\n",
            "1/1 [==============================] - 0s 14ms/step - loss: 7.8226 - mae: 7.8226\n",
            "Epoch 163/300\n",
            "1/1 [==============================] - 0s 10ms/step - loss: 7.7233 - mae: 7.7233\n",
            "Epoch 164/300\n",
            "1/1 [==============================] - 0s 12ms/step - loss: 7.6223 - mae: 7.6223\n",
            "Epoch 165/300\n",
            "1/1 [==============================] - 0s 13ms/step - loss: 7.5191 - mae: 7.5191\n",
            "Epoch 166/300\n",
            "1/1 [==============================] - 0s 16ms/step - loss: 7.4137 - mae: 7.4137\n",
            "Epoch 167/300\n",
            "1/1 [==============================] - 0s 13ms/step - loss: 7.3060 - mae: 7.3060\n",
            "Epoch 168/300\n",
            "1/1 [==============================] - 0s 13ms/step - loss: 7.1961 - mae: 7.1961\n",
            "Epoch 169/300\n",
            "1/1 [==============================] - 0s 15ms/step - loss: 7.0840 - mae: 7.0840\n",
            "Epoch 170/300\n",
            "1/1 [==============================] - 0s 12ms/step - loss: 6.9696 - mae: 6.9696\n",
            "Epoch 171/300\n",
            "1/1 [==============================] - 0s 14ms/step - loss: 6.8528 - mae: 6.8528\n",
            "Epoch 172/300\n",
            "1/1 [==============================] - 0s 11ms/step - loss: 6.7335 - mae: 6.7335\n",
            "Epoch 173/300\n",
            "1/1 [==============================] - 0s 13ms/step - loss: 6.6117 - mae: 6.6117\n",
            "Epoch 174/300\n",
            "1/1 [==============================] - 0s 11ms/step - loss: 6.4874 - mae: 6.4874\n",
            "Epoch 175/300\n",
            "1/1 [==============================] - 0s 11ms/step - loss: 6.3609 - mae: 6.3609\n",
            "Epoch 176/300\n",
            "1/1 [==============================] - 0s 11ms/step - loss: 6.2316 - mae: 6.2316\n",
            "Epoch 177/300\n",
            "1/1 [==============================] - 0s 11ms/step - loss: 6.0995 - mae: 6.0995\n",
            "Epoch 178/300\n",
            "1/1 [==============================] - 0s 11ms/step - loss: 5.9651 - mae: 5.9651\n",
            "Epoch 179/300\n",
            "1/1 [==============================] - 0s 12ms/step - loss: 5.8280 - mae: 5.8280\n",
            "Epoch 180/300\n",
            "1/1 [==============================] - 0s 12ms/step - loss: 5.6879 - mae: 5.6879\n",
            "Epoch 181/300\n",
            "1/1 [==============================] - 0s 11ms/step - loss: 5.5451 - mae: 5.5451\n",
            "Epoch 182/300\n",
            "1/1 [==============================] - 0s 10ms/step - loss: 5.3994 - mae: 5.3994\n",
            "Epoch 183/300\n",
            "1/1 [==============================] - 0s 10ms/step - loss: 5.2507 - mae: 5.2507\n",
            "Epoch 184/300\n",
            "1/1 [==============================] - 0s 11ms/step - loss: 5.0991 - mae: 5.0991\n",
            "Epoch 185/300\n",
            "1/1 [==============================] - 0s 11ms/step - loss: 4.9450 - mae: 4.9450\n",
            "Epoch 186/300\n",
            "1/1 [==============================] - 0s 15ms/step - loss: 4.7877 - mae: 4.7877\n",
            "Epoch 187/300\n",
            "1/1 [==============================] - 0s 10ms/step - loss: 4.6270 - mae: 4.6270\n",
            "Epoch 188/300\n",
            "1/1 [==============================] - 0s 11ms/step - loss: 4.4630 - mae: 4.4630\n",
            "Epoch 189/300\n",
            "1/1 [==============================] - 0s 14ms/step - loss: 4.2963 - mae: 4.2963\n",
            "Epoch 190/300\n",
            "1/1 [==============================] - 0s 10ms/step - loss: 4.1263 - mae: 4.1263\n",
            "Epoch 191/300\n",
            "1/1 [==============================] - 0s 10ms/step - loss: 3.9530 - mae: 3.9530\n",
            "Epoch 192/300\n",
            "1/1 [==============================] - 0s 11ms/step - loss: 3.7762 - mae: 3.7762\n",
            "Epoch 193/300\n",
            "1/1 [==============================] - 0s 11ms/step - loss: 3.6691 - mae: 3.6691\n",
            "Epoch 194/300\n",
            "1/1 [==============================] - 0s 10ms/step - loss: 3.5894 - mae: 3.5894\n",
            "Epoch 195/300\n",
            "1/1 [==============================] - 0s 12ms/step - loss: 3.5115 - mae: 3.5115\n",
            "Epoch 196/300\n",
            "1/1 [==============================] - 0s 10ms/step - loss: 3.4360 - mae: 3.4360\n",
            "Epoch 197/300\n",
            "1/1 [==============================] - 0s 10ms/step - loss: 3.3837 - mae: 3.3837\n",
            "Epoch 198/300\n",
            "1/1 [==============================] - 0s 11ms/step - loss: 3.3791 - mae: 3.3791\n",
            "Epoch 199/300\n",
            "1/1 [==============================] - 0s 11ms/step - loss: 3.3741 - mae: 3.3741\n",
            "Epoch 200/300\n",
            "1/1 [==============================] - 0s 11ms/step - loss: 3.3687 - mae: 3.3687\n",
            "Epoch 201/300\n",
            "1/1 [==============================] - 0s 11ms/step - loss: 3.3624 - mae: 3.3624\n",
            "Epoch 202/300\n",
            "1/1 [==============================] - 0s 11ms/step - loss: 3.3547 - mae: 3.3547\n",
            "Epoch 203/300\n",
            "1/1 [==============================] - 0s 11ms/step - loss: 3.3474 - mae: 3.3474\n",
            "Epoch 204/300\n",
            "1/1 [==============================] - 0s 11ms/step - loss: 3.3404 - mae: 3.3404\n",
            "Epoch 205/300\n",
            "1/1 [==============================] - 0s 11ms/step - loss: 3.3341 - mae: 3.3341\n",
            "Epoch 206/300\n",
            "1/1 [==============================] - 0s 11ms/step - loss: 3.3279 - mae: 3.3279\n",
            "Epoch 207/300\n",
            "1/1 [==============================] - 0s 11ms/step - loss: 3.3291 - mae: 3.3291\n",
            "Epoch 208/300\n",
            "1/1 [==============================] - 0s 11ms/step - loss: 3.3235 - mae: 3.3235\n",
            "Epoch 209/300\n",
            "1/1 [==============================] - 0s 10ms/step - loss: 3.3150 - mae: 3.3150\n",
            "Epoch 210/300\n",
            "1/1 [==============================] - 0s 11ms/step - loss: 3.3123 - mae: 3.3123\n",
            "Epoch 211/300\n",
            "1/1 [==============================] - 0s 10ms/step - loss: 3.3093 - mae: 3.3093\n",
            "Epoch 212/300\n",
            "1/1 [==============================] - 0s 11ms/step - loss: 3.3060 - mae: 3.3060\n",
            "Epoch 213/300\n",
            "1/1 [==============================] - 0s 14ms/step - loss: 3.3035 - mae: 3.3035\n",
            "Epoch 214/300\n",
            "1/1 [==============================] - 0s 10ms/step - loss: 3.3053 - mae: 3.3053\n",
            "Epoch 215/300\n",
            "1/1 [==============================] - 0s 14ms/step - loss: 3.3028 - mae: 3.3028\n",
            "Epoch 216/300\n",
            "1/1 [==============================] - 0s 13ms/step - loss: 3.2964 - mae: 3.2964\n",
            "Epoch 217/300\n",
            "1/1 [==============================] - 0s 12ms/step - loss: 3.2863 - mae: 3.2863\n",
            "Epoch 218/300\n",
            "1/1 [==============================] - 0s 13ms/step - loss: 3.2816 - mae: 3.2816\n",
            "Epoch 219/300\n",
            "1/1 [==============================] - 0s 14ms/step - loss: 3.2769 - mae: 3.2769\n",
            "Epoch 220/300\n",
            "1/1 [==============================] - 0s 12ms/step - loss: 3.2801 - mae: 3.2801\n",
            "Epoch 221/300\n",
            "1/1 [==============================] - 0s 14ms/step - loss: 3.2749 - mae: 3.2749\n",
            "Epoch 222/300\n",
            "1/1 [==============================] - 0s 13ms/step - loss: 3.2671 - mae: 3.2671\n",
            "Epoch 223/300\n",
            "1/1 [==============================] - 0s 13ms/step - loss: 3.2649 - mae: 3.2649\n",
            "Epoch 224/300\n",
            "1/1 [==============================] - 0s 12ms/step - loss: 3.2622 - mae: 3.2622\n",
            "Epoch 225/300\n",
            "1/1 [==============================] - 0s 12ms/step - loss: 3.2592 - mae: 3.2592\n",
            "Epoch 226/300\n",
            "1/1 [==============================] - 0s 12ms/step - loss: 3.2558 - mae: 3.2558\n",
            "Epoch 227/300\n",
            "1/1 [==============================] - 0s 11ms/step - loss: 3.2522 - mae: 3.2522\n",
            "Epoch 228/300\n",
            "1/1 [==============================] - 0s 11ms/step - loss: 3.2482 - mae: 3.2482\n",
            "Epoch 229/300\n",
            "1/1 [==============================] - 0s 13ms/step - loss: 3.2440 - mae: 3.2440\n",
            "Epoch 230/300\n",
            "1/1 [==============================] - 0s 12ms/step - loss: 3.2396 - mae: 3.2396\n",
            "Epoch 231/300\n",
            "1/1 [==============================] - 0s 11ms/step - loss: 3.2349 - mae: 3.2349\n",
            "Epoch 232/300\n",
            "1/1 [==============================] - 0s 12ms/step - loss: 3.2301 - mae: 3.2301\n",
            "Epoch 233/300\n",
            "1/1 [==============================] - 0s 13ms/step - loss: 3.2321 - mae: 3.2321\n",
            "Epoch 234/300\n",
            "1/1 [==============================] - 0s 13ms/step - loss: 3.2264 - mae: 3.2264\n",
            "Epoch 235/300\n",
            "1/1 [==============================] - 0s 13ms/step - loss: 3.2196 - mae: 3.2196\n",
            "Epoch 236/300\n",
            "1/1 [==============================] - 0s 10ms/step - loss: 3.2171 - mae: 3.2171\n",
            "Epoch 237/300\n",
            "1/1 [==============================] - 0s 12ms/step - loss: 3.2142 - mae: 3.2142\n",
            "Epoch 238/300\n",
            "1/1 [==============================] - 0s 10ms/step - loss: 3.2110 - mae: 3.2110\n",
            "Epoch 239/300\n",
            "1/1 [==============================] - 0s 14ms/step - loss: 3.2074 - mae: 3.2074\n",
            "Epoch 240/300\n",
            "1/1 [==============================] - 0s 13ms/step - loss: 3.2036 - mae: 3.2036\n",
            "Epoch 241/300\n",
            "1/1 [==============================] - 0s 12ms/step - loss: 3.1995 - mae: 3.1995\n",
            "Epoch 242/300\n",
            "1/1 [==============================] - 0s 14ms/step - loss: 3.1952 - mae: 3.1952\n",
            "Epoch 243/300\n",
            "1/1 [==============================] - 0s 14ms/step - loss: 3.1907 - mae: 3.1907\n",
            "Epoch 244/300\n",
            "1/1 [==============================] - 0s 11ms/step - loss: 3.1860 - mae: 3.1860\n",
            "Epoch 245/300\n",
            "1/1 [==============================] - 0s 13ms/step - loss: 3.1812 - mae: 3.1812\n",
            "Epoch 246/300\n",
            "1/1 [==============================] - 0s 13ms/step - loss: 3.1794 - mae: 3.1794\n",
            "Epoch 247/300\n",
            "1/1 [==============================] - 0s 12ms/step - loss: 3.1736 - mae: 3.1736\n",
            "Epoch 248/300\n",
            "1/1 [==============================] - 0s 12ms/step - loss: 3.1703 - mae: 3.1703\n",
            "Epoch 249/300\n",
            "1/1 [==============================] - 0s 11ms/step - loss: 3.1677 - mae: 3.1677\n",
            "Epoch 250/300\n",
            "1/1 [==============================] - 0s 11ms/step - loss: 3.1646 - mae: 3.1646\n",
            "Epoch 251/300\n",
            "1/1 [==============================] - 0s 12ms/step - loss: 3.1613 - mae: 3.1613\n",
            "Epoch 252/300\n",
            "1/1 [==============================] - 0s 13ms/step - loss: 3.1577 - mae: 3.1577\n",
            "Epoch 253/300\n",
            "1/1 [==============================] - 0s 11ms/step - loss: 3.1537 - mae: 3.1537\n",
            "Epoch 254/300\n",
            "1/1 [==============================] - 0s 13ms/step - loss: 3.1491 - mae: 3.1491\n",
            "Epoch 255/300\n",
            "1/1 [==============================] - 0s 13ms/step - loss: 3.1441 - mae: 3.1441\n",
            "Epoch 256/300\n",
            "1/1 [==============================] - 0s 15ms/step - loss: 3.1392 - mae: 3.1392\n",
            "Epoch 257/300\n",
            "1/1 [==============================] - 0s 13ms/step - loss: 3.1341 - mae: 3.1341\n",
            "Epoch 258/300\n",
            "1/1 [==============================] - 0s 12ms/step - loss: 3.1288 - mae: 3.1288\n",
            "Epoch 259/300\n",
            "1/1 [==============================] - 0s 11ms/step - loss: 3.1301 - mae: 3.1301\n",
            "Epoch 260/300\n",
            "1/1 [==============================] - 0s 17ms/step - loss: 3.1245 - mae: 3.1245\n",
            "Epoch 261/300\n",
            "1/1 [==============================] - 0s 11ms/step - loss: 3.1172 - mae: 3.1172\n",
            "Epoch 262/300\n",
            "1/1 [==============================] - 0s 15ms/step - loss: 3.1144 - mae: 3.1144\n",
            "Epoch 263/300\n",
            "1/1 [==============================] - 0s 12ms/step - loss: 3.1110 - mae: 3.1110\n",
            "Epoch 264/300\n",
            "1/1 [==============================] - 0s 16ms/step - loss: 3.1071 - mae: 3.1071\n",
            "Epoch 265/300\n",
            "1/1 [==============================] - 0s 13ms/step - loss: 3.1029 - mae: 3.1029\n",
            "Epoch 266/300\n",
            "1/1 [==============================] - 0s 14ms/step - loss: 3.0983 - mae: 3.0983\n",
            "Epoch 267/300\n",
            "1/1 [==============================] - 0s 10ms/step - loss: 3.0931 - mae: 3.0931\n",
            "Epoch 268/300\n",
            "1/1 [==============================] - 0s 13ms/step - loss: 3.0874 - mae: 3.0874\n",
            "Epoch 269/300\n",
            "1/1 [==============================] - 0s 12ms/step - loss: 3.0810 - mae: 3.0810\n",
            "Epoch 270/300\n",
            "1/1 [==============================] - 0s 11ms/step - loss: 3.0738 - mae: 3.0738\n",
            "Epoch 271/300\n",
            "1/1 [==============================] - 0s 10ms/step - loss: 3.0657 - mae: 3.0657\n",
            "Epoch 272/300\n",
            "1/1 [==============================] - 0s 11ms/step - loss: 3.0621 - mae: 3.0621\n",
            "Epoch 273/300\n",
            "1/1 [==============================] - 0s 13ms/step - loss: 3.0507 - mae: 3.0507\n",
            "Epoch 274/300\n",
            "1/1 [==============================] - 0s 11ms/step - loss: 3.0441 - mae: 3.0441\n",
            "Epoch 275/300\n",
            "1/1 [==============================] - 0s 13ms/step - loss: 3.0465 - mae: 3.0465\n",
            "Epoch 276/300\n",
            "1/1 [==============================] - 0s 12ms/step - loss: 3.0439 - mae: 3.0439\n",
            "Epoch 277/300\n",
            "1/1 [==============================] - 0s 14ms/step - loss: 3.0363 - mae: 3.0363\n",
            "Epoch 278/300\n",
            "1/1 [==============================] - 0s 13ms/step - loss: 3.0303 - mae: 3.0303\n",
            "Epoch 279/300\n",
            "1/1 [==============================] - 0s 10ms/step - loss: 3.0264 - mae: 3.0264\n",
            "Epoch 280/300\n",
            "1/1 [==============================] - 0s 10ms/step - loss: 3.0222 - mae: 3.0222\n",
            "Epoch 281/300\n",
            "1/1 [==============================] - 0s 13ms/step - loss: 3.0176 - mae: 3.0176\n",
            "Epoch 282/300\n",
            "1/1 [==============================] - 0s 11ms/step - loss: 3.0128 - mae: 3.0128\n",
            "Epoch 283/300\n",
            "1/1 [==============================] - 0s 12ms/step - loss: 3.0078 - mae: 3.0078\n",
            "Epoch 284/300\n",
            "1/1 [==============================] - 0s 11ms/step - loss: 3.0025 - mae: 3.0025\n",
            "Epoch 285/300\n",
            "1/1 [==============================] - 0s 10ms/step - loss: 2.9986 - mae: 2.9986\n",
            "Epoch 286/300\n",
            "1/1 [==============================] - 0s 11ms/step - loss: 2.9937 - mae: 2.9937\n",
            "Epoch 287/300\n",
            "1/1 [==============================] - 0s 13ms/step - loss: 2.9894 - mae: 2.9894\n",
            "Epoch 288/300\n",
            "1/1 [==============================] - 0s 12ms/step - loss: 2.9848 - mae: 2.9848\n",
            "Epoch 289/300\n",
            "1/1 [==============================] - 0s 13ms/step - loss: 2.9799 - mae: 2.9799\n",
            "Epoch 290/300\n",
            "1/1 [==============================] - 0s 12ms/step - loss: 2.9756 - mae: 2.9756\n",
            "Epoch 291/300\n",
            "1/1 [==============================] - 0s 16ms/step - loss: 2.9716 - mae: 2.9716\n",
            "Epoch 292/300\n",
            "1/1 [==============================] - 0s 10ms/step - loss: 2.9679 - mae: 2.9679\n",
            "Epoch 293/300\n",
            "1/1 [==============================] - 0s 10ms/step - loss: 2.9639 - mae: 2.9639\n",
            "Epoch 294/300\n",
            "1/1 [==============================] - 0s 13ms/step - loss: 2.9595 - mae: 2.9595\n",
            "Epoch 295/300\n",
            "1/1 [==============================] - 0s 12ms/step - loss: 2.9548 - mae: 2.9548\n",
            "Epoch 296/300\n",
            "1/1 [==============================] - 0s 13ms/step - loss: 2.9498 - mae: 2.9498\n",
            "Epoch 297/300\n",
            "1/1 [==============================] - 0s 13ms/step - loss: 2.9446 - mae: 2.9446\n",
            "Epoch 298/300\n",
            "1/1 [==============================] - 0s 11ms/step - loss: 2.9391 - mae: 2.9391\n",
            "Epoch 299/300\n",
            "1/1 [==============================] - 0s 15ms/step - loss: 2.9334 - mae: 2.9334\n",
            "Epoch 300/300\n",
            "1/1 [==============================] - 0s 12ms/step - loss: 2.9275 - mae: 2.9275\n"
          ]
        },
        {
          "output_type": "execute_result",
          "data": {
            "text/plain": [
              "<keras.callbacks.History at 0x7fdc71f9cb20>"
            ]
          },
          "metadata": {},
          "execution_count": 117
        }
      ],
      "source": [
        "# increased the epochs\n",
        "# increased the dense layer (10,20,10)\n",
        "# Changed the optimizer to experimental.AdamW check more optimizer on tf/optimizers\n",
        "tf.random.set_seed(42)\n",
        "\n",
        "# Create a model using Sequential API\n",
        "model4= tf.keras.Sequential([ tf.keras.layers.Dense(1,input_shape=(1,)),\n",
        "    tf.keras.layers.Dense(10,activation='relu'),\n",
        "    tf.keras.layers.Dense(20,activation='relu'),\n",
        "    tf.keras.layers.Dense(10,activation='relu'),\n",
        "    tf.keras.layers.Dense(1)])\n",
        "\n",
        "# Compile the model\n",
        "model4.compile(loss=tf.keras.losses.mae,optimizer=tf.keras.optimizers.experimental.AdamW(),\n",
        "              metrics=['mae'])\n",
        "\n",
        "# Fit the model\n",
        "model4.fit(X,Y,epochs=300)"
      ]
    },
    {
      "cell_type": "code",
      "execution_count": 118,
      "metadata": {
        "colab": {
          "base_uri": "https://localhost:8080/"
        },
        "id": "sgJ-MaqbbPjq",
        "outputId": "9bca19ed-ff36-41b4-ab1f-e327aa8388ce"
      },
      "outputs": [
        {
          "output_type": "stream",
          "name": "stdout",
          "text": [
            "1/1 [==============================] - 0s 188ms/step\n",
            "[[32.95126]]\n",
            "1/1 [==============================] - 0s 73ms/step\n",
            "[[38.303]]\n",
            "1/1 [==============================] - 0s 45ms/step\n",
            "[[13.328183]]\n"
          ]
        }
      ],
      "source": [
        "# make Predictions\n",
        "print(model4.predict([17.0]))\n",
        "# 17+9 =26 perfect model with loss=0.09 \n",
        "# here is the most appropreate model after 4 model\n",
        "print(model4.predict([20.0]))\n",
        "# try on given data\n",
        "\n",
        "print(model4.predict(X[6:7].numpy()))"
      ]
    },
    {
      "cell_type": "markdown",
      "metadata": {
        "id": "uPnIKv9SuecO"
      },
      "source": [
        "# Evaluation of models\n",
        "\n",
        "### Typical WorkFlow of any Neural Network Model \n",
        "\n",
        "```\n",
        "Build a model --> fit it --> evaluate it --> tweak it --> fit again -->tweak .... so on until you get a satisfied result. \n",
        "```\n",
        "\n",
        "### But when Evaluating a model we only use,\n",
        "\n",
        "* `Visualization`\n",
        "\n",
        "## Reasons for Visualization \n",
        "\n",
        "* `Data` - what data are we working on ? , what does it look like?\n",
        "* `Model` - what should our model look like?\n",
        "* `Traning ` - how does a model perform while it learns?\n",
        "* `Prediction` - how do the prediction of the model line up against the ground truth(The original Labels)? (Used in above model for X=17, then Y =26).          "
      ]
    },
    {
      "cell_type": "code",
      "execution_count": 119,
      "metadata": {
        "colab": {
          "base_uri": "https://localhost:8080/"
        },
        "id": "B9CLQAHGt8fx",
        "outputId": "2cb1c6ae-ee67-4331-a153-62d361adaca4"
      },
      "outputs": [
        {
          "output_type": "execute_result",
          "data": {
            "text/plain": [
              "<tf.Tensor: shape=(60,), dtype=int32, numpy=\n",
              "array([-100,  -95,  -90,  -85,  -80,  -75,  -70,  -65,  -60,  -55,  -50,\n",
              "        -45,  -40,  -35,  -30,  -25,  -20,  -15,  -10,   -5,    0,    5,\n",
              "         10,   15,   20,   25,   30,   35,   40,   45,   50,   55,   60,\n",
              "         65,   70,   75,   80,   85,   90,   95,  100,  105,  110,  115,\n",
              "        120,  125,  130,  135,  140,  145,  150,  155,  160,  165,  170,\n",
              "        175,  180,  185,  190,  195], dtype=int32)>"
            ]
          },
          "metadata": {},
          "execution_count": 119
        }
      ],
      "source": [
        "# Make a bigger dataset\n",
        "X = tf.range(-100, 200, 5)\n",
        "X"
      ]
    },
    {
      "cell_type": "code",
      "execution_count": 120,
      "metadata": {
        "colab": {
          "base_uri": "https://localhost:8080/"
        },
        "id": "iN0IOCbujNfo",
        "outputId": "01a7f4a2-793f-4a82-aaa1-ae5ef46dc71d"
      },
      "outputs": [
        {
          "output_type": "execute_result",
          "data": {
            "text/plain": [
              "<tf.Tensor: shape=(60,), dtype=int32, numpy=\n",
              "array([-90, -85, -80, -75, -70, -65, -60, -55, -50, -45, -40, -35, -30,\n",
              "       -25, -20, -15, -10,  -5,   0,   5,  10,  15,  20,  25,  30,  35,\n",
              "        40,  45,  50,  55,  60,  65,  70,  75,  80,  85,  90,  95, 100,\n",
              "       105, 110, 115, 120, 125, 130, 135, 140, 145, 150, 155, 160, 165,\n",
              "       170, 175, 180, 185, 190, 195, 200, 205], dtype=int32)>"
            ]
          },
          "metadata": {},
          "execution_count": 120
        }
      ],
      "source": [
        "y = X + 10\n",
        "y"
      ]
    },
    {
      "cell_type": "code",
      "execution_count": 121,
      "metadata": {
        "colab": {
          "base_uri": "https://localhost:8080/",
          "height": 283
        },
        "id": "59VPHV6Yk-GG",
        "outputId": "a33af6a7-314e-4624-ea4f-294363242c3c"
      },
      "outputs": [
        {
          "output_type": "execute_result",
          "data": {
            "text/plain": [
              "[<matplotlib.lines.Line2D at 0x7fdbe2367a90>]"
            ]
          },
          "metadata": {},
          "execution_count": 121
        },
        {
          "output_type": "display_data",
          "data": {
            "text/plain": [
              "<Figure size 432x288 with 1 Axes>"
            ],
            "image/png": "[encoded data removed]"
          },
          "metadata": {
            "needs_background": "light"
          }
        }
      ],
      "source": [
        "import matplotlib.pyplot as plt\n",
        "\n",
        "plt.plot(X, y)"
      ]
    },
    {
      "cell_type": "markdown",
      "source": [
        "## Typical split of any DataSet\n",
        " * **Training Set** - the model learns from this data, which is typically 70-80% of the total data you have available\n",
        " * **Validation Set** - the model gets tuned on this data, which is typically 10-15% of the data available.\n",
        " * **Testing Set**- the model gets evaluated on this data to test what is has learned, this set is typically 10-15% of the total data available."
      ],
      "metadata": {
        "id": "wOdwiZ7YwfR1"
      }
    },
    {
      "cell_type": "code",
      "execution_count": 122,
      "metadata": {
        "id": "IA3e4JDMn8v-",
        "colab": {
          "base_uri": "https://localhost:8080/"
        },
        "outputId": "5de67269-608c-450e-c467-6f0bbf7686e4"
      },
      "outputs": [
        {
          "output_type": "execute_result",
          "data": {
            "text/plain": [
              "(45, 15, 45, 15)"
            ]
          },
          "metadata": {},
          "execution_count": 122
        }
      ],
      "source": [
        "# Split the data into train and test sets\n",
        "X_train = X[:45] # first 40 are training samples (80% of the data) \n",
        "y_train = y[:45]\n",
        "\n",
        "X_test = X[45:] # last 10 are testing samples (20% of the data)\n",
        "y_test = y[45:]\n",
        "\n",
        "len(X_train), len(X_test), len(y_train), len(y_test)"
      ]
    },
    {
      "cell_type": "markdown",
      "source": [
        "# Visualizing the different set of data\n",
        "Now we've got our data in training and test sets... let's visualize it again!"
      ],
      "metadata": {
        "id": "DfH7L1kdwXcm"
      }
    },
    {
      "cell_type": "code",
      "source": [
        "plt.figure(figsize=(10, 7))\n",
        "# Plot training data in blue\n",
        "plt.scatter(X_train, y_train, c=\"b\", label=\"Training data\") # our model will learn on this\n",
        "# Plot test data in green\n",
        "plt.scatter(X_test, y_test, c=\"r\", label=\"Testing data\") # want our model to be able to predict this (given X, what's y?)\n",
        "# Show a legend\n",
        "plt.legend();\n",
        "     "
      ],
      "metadata": {
        "colab": {
          "base_uri": "https://localhost:8080/",
          "height": 428
        },
        "id": "g4BUqvUDuZgG",
        "outputId": "938cdf55-14e9-4d1b-8d90-67dabf2058c5"
      },
      "execution_count": 123,
      "outputs": [
        {
          "output_type": "display_data",
          "data": {
            "text/plain": [
              "<Figure size 720x504 with 1 Axes>"
            ],
            "image/png": "[encoded data removed]"
          },
          "metadata": {
            "needs_background": "light"
          }
        }
      ]
    },
    {
      "cell_type": "code",
      "source": [
        "\n",
        "# Let's have a look at how to build a neural network for our data\n",
        "\n",
        "# 1. Create a model\n",
        "model5 = tf.keras.Sequential([\n",
        "  tf.keras.layers.Dense(1,input_shape=(1,),name='Input_layer'),\n",
        "  tf.keras.layers.Dense(90,activation='relu',name=\"Dense_l1\"),\n",
        "  tf.keras.layers.Dense(180,activation='relu',name=\"Dense_l2\"),\n",
        "  tf.keras.layers.Dense(90,activation='relu',name=\"Dense_l3\"),\n",
        "  tf.keras.layers.Dense(1,name='Output_layer')                             \n",
        "],name=\"Model_5\")\n",
        "\n",
        "# 2. Compile the model\n",
        "model5.compile(loss=tf.keras.losses.mae,\n",
        "              optimizer=tf.keras.optimizers.experimental.AdamW(),\n",
        "              metrics=[\"mae\"])\n",
        "\n",
        "# # 3. Fit the model\n",
        "model5.fit(X_train, y_train, epochs=170)"
      ],
      "metadata": {
        "colab": {
          "base_uri": "https://localhost:8080/"
        },
        "id": "INo0tL_pxS2n",
        "outputId": "209d76e3-38c3-41fb-d52e-bf8ddfe70259"
      },
      "execution_count": 124,
      "outputs": [
        {
          "output_type": "stream",
          "name": "stdout",
          "text": [
            "Epoch 1/170\n",
            "2/2 [==============================] - 2s 13ms/step - loss: 58.0801 - mae: 58.0801\n",
            "Epoch 2/170\n",
            "2/2 [==============================] - 0s 11ms/step - loss: 55.4707 - mae: 55.4707\n",
            "Epoch 3/170\n",
            "2/2 [==============================] - 0s 12ms/step - loss: 53.4050 - mae: 53.4050\n",
            "Epoch 4/170\n",
            "2/2 [==============================] - 0s 10ms/step - loss: 51.4747 - mae: 51.4747\n",
            "Epoch 5/170\n",
            "2/2 [==============================] - 0s 11ms/step - loss: 49.3585 - mae: 49.3585\n",
            "Epoch 6/170\n",
            "2/2 [==============================] - 0s 13ms/step - loss: 47.2005 - mae: 47.2005\n",
            "Epoch 7/170\n",
            "2/2 [==============================] - 0s 15ms/step - loss: 44.7464 - mae: 44.7464\n",
            "Epoch 8/170\n",
            "2/2 [==============================] - 0s 27ms/step - loss: 42.0843 - mae: 42.0843\n",
            "Epoch 9/170\n",
            "2/2 [==============================] - 0s 37ms/step - loss: 38.8031 - mae: 38.8031\n",
            "Epoch 10/170\n",
            "2/2 [==============================] - 0s 40ms/step - loss: 35.2684 - mae: 35.2684\n",
            "Epoch 11/170\n",
            "2/2 [==============================] - 0s 20ms/step - loss: 30.9629 - mae: 30.9629\n",
            "Epoch 12/170\n",
            "2/2 [==============================] - 0s 18ms/step - loss: 26.1370 - mae: 26.1370\n",
            "Epoch 13/170\n",
            "2/2 [==============================] - 0s 14ms/step - loss: 20.6473 - mae: 20.6473\n",
            "Epoch 14/170\n",
            "2/2 [==============================] - 0s 29ms/step - loss: 14.3190 - mae: 14.3190\n",
            "Epoch 15/170\n",
            "2/2 [==============================] - 0s 30ms/step - loss: 7.9432 - mae: 7.9432\n",
            "Epoch 16/170\n",
            "2/2 [==============================] - 0s 40ms/step - loss: 4.6844 - mae: 4.6844\n",
            "Epoch 17/170\n",
            "2/2 [==============================] - 0s 22ms/step - loss: 9.2539 - mae: 9.2539\n",
            "Epoch 18/170\n",
            "2/2 [==============================] - 0s 25ms/step - loss: 10.2599 - mae: 10.2599\n",
            "Epoch 19/170\n",
            "2/2 [==============================] - 0s 21ms/step - loss: 9.7799 - mae: 9.7799\n",
            "Epoch 20/170\n",
            "2/2 [==============================] - 0s 29ms/step - loss: 8.9764 - mae: 8.9764\n",
            "Epoch 21/170\n",
            "2/2 [==============================] - 0s 23ms/step - loss: 7.2850 - mae: 7.2850\n",
            "Epoch 22/170\n",
            "2/2 [==============================] - 0s 19ms/step - loss: 4.8630 - mae: 4.8630\n",
            "Epoch 23/170\n",
            "2/2 [==============================] - 0s 20ms/step - loss: 5.1213 - mae: 5.1213\n",
            "Epoch 24/170\n",
            "2/2 [==============================] - 0s 13ms/step - loss: 6.4845 - mae: 6.4845\n",
            "Epoch 25/170\n",
            "2/2 [==============================] - 0s 24ms/step - loss: 6.3541 - mae: 6.3541\n",
            "Epoch 26/170\n",
            "2/2 [==============================] - 0s 17ms/step - loss: 4.9759 - mae: 4.9759\n",
            "Epoch 27/170\n",
            "2/2 [==============================] - 0s 12ms/step - loss: 3.9996 - mae: 3.9996\n",
            "Epoch 28/170\n",
            "2/2 [==============================] - 0s 12ms/step - loss: 4.9241 - mae: 4.9241\n",
            "Epoch 29/170\n",
            "2/2 [==============================] - 0s 11ms/step - loss: 5.0273 - mae: 5.0273\n",
            "Epoch 30/170\n",
            "2/2 [==============================] - 0s 14ms/step - loss: 4.7044 - mae: 4.7044\n",
            "Epoch 31/170\n",
            "2/2 [==============================] - 0s 11ms/step - loss: 4.2330 - mae: 4.2330\n",
            "Epoch 32/170\n",
            "2/2 [==============================] - 0s 9ms/step - loss: 3.8903 - mae: 3.8903\n",
            "Epoch 33/170\n",
            "2/2 [==============================] - 0s 8ms/step - loss: 4.0344 - mae: 4.0344\n",
            "Epoch 34/170\n",
            "2/2 [==============================] - 0s 9ms/step - loss: 3.7713 - mae: 3.7713\n",
            "Epoch 35/170\n",
            "2/2 [==============================] - 0s 9ms/step - loss: 3.7700 - mae: 3.7700\n",
            "Epoch 36/170\n",
            "2/2 [==============================] - 0s 8ms/step - loss: 4.0519 - mae: 4.0519\n",
            "Epoch 37/170\n",
            "2/2 [==============================] - 0s 8ms/step - loss: 4.1196 - mae: 4.1196\n",
            "Epoch 38/170\n",
            "2/2 [==============================] - 0s 11ms/step - loss: 3.8362 - mae: 3.8362\n",
            "Epoch 39/170\n",
            "2/2 [==============================] - 0s 9ms/step - loss: 3.6266 - mae: 3.6266\n",
            "Epoch 40/170\n",
            "2/2 [==============================] - 0s 10ms/step - loss: 3.7294 - mae: 3.7294\n",
            "Epoch 41/170\n",
            "2/2 [==============================] - 0s 10ms/step - loss: 3.7213 - mae: 3.7213\n",
            "Epoch 42/170\n",
            "2/2 [==============================] - 0s 8ms/step - loss: 3.6728 - mae: 3.6728\n",
            "Epoch 43/170\n",
            "2/2 [==============================] - 0s 10ms/step - loss: 3.6376 - mae: 3.6376\n",
            "Epoch 44/170\n",
            "2/2 [==============================] - 0s 9ms/step - loss: 3.6206 - mae: 3.6206\n",
            "Epoch 45/170\n",
            "2/2 [==============================] - 0s 9ms/step - loss: 3.4433 - mae: 3.4433\n",
            "Epoch 46/170\n",
            "2/2 [==============================] - 0s 12ms/step - loss: 3.5959 - mae: 3.5959\n",
            "Epoch 47/170\n",
            "2/2 [==============================] - 0s 12ms/step - loss: 3.7046 - mae: 3.7046\n",
            "Epoch 48/170\n",
            "2/2 [==============================] - 0s 9ms/step - loss: 3.4841 - mae: 3.4841\n",
            "Epoch 49/170\n",
            "2/2 [==============================] - 0s 8ms/step - loss: 3.3792 - mae: 3.3792\n",
            "Epoch 50/170\n",
            "2/2 [==============================] - 0s 8ms/step - loss: 3.5138 - mae: 3.5138\n",
            "Epoch 51/170\n",
            "2/2 [==============================] - 0s 11ms/step - loss: 3.2995 - mae: 3.2995\n",
            "Epoch 52/170\n",
            "2/2 [==============================] - 0s 9ms/step - loss: 3.3225 - mae: 3.3225\n",
            "Epoch 53/170\n",
            "2/2 [==============================] - 0s 11ms/step - loss: 3.2814 - mae: 3.2814\n",
            "Epoch 54/170\n",
            "2/2 [==============================] - 0s 10ms/step - loss: 3.2561 - mae: 3.2561\n",
            "Epoch 55/170\n",
            "2/2 [==============================] - 0s 12ms/step - loss: 3.2551 - mae: 3.2551\n",
            "Epoch 56/170\n",
            "2/2 [==============================] - 0s 8ms/step - loss: 3.2250 - mae: 3.2250\n",
            "Epoch 57/170\n",
            "2/2 [==============================] - 0s 11ms/step - loss: 3.1487 - mae: 3.1487\n",
            "Epoch 58/170\n",
            "2/2 [==============================] - 0s 7ms/step - loss: 3.1178 - mae: 3.1178\n",
            "Epoch 59/170\n",
            "2/2 [==============================] - 0s 8ms/step - loss: 3.1257 - mae: 3.1257\n",
            "Epoch 60/170\n",
            "2/2 [==============================] - 0s 9ms/step - loss: 3.1288 - mae: 3.1288\n",
            "Epoch 61/170\n",
            "2/2 [==============================] - 0s 9ms/step - loss: 3.0330 - mae: 3.0330\n",
            "Epoch 62/170\n",
            "2/2 [==============================] - 0s 8ms/step - loss: 2.9926 - mae: 2.9926\n",
            "Epoch 63/170\n",
            "2/2 [==============================] - 0s 8ms/step - loss: 3.0859 - mae: 3.0859\n",
            "Epoch 64/170\n",
            "2/2 [==============================] - 0s 8ms/step - loss: 3.0430 - mae: 3.0430\n",
            "Epoch 65/170\n",
            "2/2 [==============================] - 0s 9ms/step - loss: 2.9991 - mae: 2.9991\n",
            "Epoch 66/170\n",
            "2/2 [==============================] - 0s 9ms/step - loss: 3.0290 - mae: 3.0290\n",
            "Epoch 67/170\n",
            "2/2 [==============================] - 0s 10ms/step - loss: 2.9576 - mae: 2.9576\n",
            "Epoch 68/170\n",
            "2/2 [==============================] - 0s 10ms/step - loss: 2.8186 - mae: 2.8186\n",
            "Epoch 69/170\n",
            "2/2 [==============================] - 0s 10ms/step - loss: 2.8508 - mae: 2.8508\n",
            "Epoch 70/170\n",
            "2/2 [==============================] - 0s 9ms/step - loss: 2.7936 - mae: 2.7936\n",
            "Epoch 71/170\n",
            "2/2 [==============================] - 0s 9ms/step - loss: 2.7919 - mae: 2.7919\n",
            "Epoch 72/170\n",
            "2/2 [==============================] - 0s 8ms/step - loss: 2.8069 - mae: 2.8069\n",
            "Epoch 73/170\n",
            "2/2 [==============================] - 0s 9ms/step - loss: 2.9168 - mae: 2.9168\n",
            "Epoch 74/170\n",
            "2/2 [==============================] - 0s 8ms/step - loss: 2.4566 - mae: 2.4566\n",
            "Epoch 75/170\n",
            "2/2 [==============================] - 0s 9ms/step - loss: 3.1931 - mae: 3.1931\n",
            "Epoch 76/170\n",
            "2/2 [==============================] - 0s 10ms/step - loss: 2.5426 - mae: 2.5426\n",
            "Epoch 77/170\n",
            "2/2 [==============================] - 0s 9ms/step - loss: 3.0433 - mae: 3.0433\n",
            "Epoch 78/170\n",
            "2/2 [==============================] - 0s 8ms/step - loss: 3.1580 - mae: 3.1580\n",
            "Epoch 79/170\n",
            "2/2 [==============================] - 0s 9ms/step - loss: 3.0255 - mae: 3.0255\n",
            "Epoch 80/170\n",
            "2/2 [==============================] - 0s 9ms/step - loss: 2.5364 - mae: 2.5364\n",
            "Epoch 81/170\n",
            "2/2 [==============================] - 0s 10ms/step - loss: 2.6099 - mae: 2.6099\n",
            "Epoch 82/170\n",
            "2/2 [==============================] - 0s 9ms/step - loss: 2.3968 - mae: 2.3968\n",
            "Epoch 83/170\n",
            "2/2 [==============================] - 0s 9ms/step - loss: 2.3164 - mae: 2.3164\n",
            "Epoch 84/170\n",
            "2/2 [==============================] - 0s 9ms/step - loss: 2.4064 - mae: 2.4064\n",
            "Epoch 85/170\n",
            "2/2 [==============================] - 0s 10ms/step - loss: 2.5026 - mae: 2.5026\n",
            "Epoch 86/170\n",
            "2/2 [==============================] - 0s 9ms/step - loss: 2.0017 - mae: 2.0017\n",
            "Epoch 87/170\n",
            "2/2 [==============================] - 0s 18ms/step - loss: 2.7085 - mae: 2.7085\n",
            "Epoch 88/170\n",
            "2/2 [==============================] - 0s 10ms/step - loss: 2.3211 - mae: 2.3211\n",
            "Epoch 89/170\n",
            "2/2 [==============================] - 0s 10ms/step - loss: 2.3101 - mae: 2.3101\n",
            "Epoch 90/170\n",
            "2/2 [==============================] - 0s 8ms/step - loss: 2.0782 - mae: 2.0782\n",
            "Epoch 91/170\n",
            "2/2 [==============================] - 0s 9ms/step - loss: 2.0716 - mae: 2.0716\n",
            "Epoch 92/170\n",
            "2/2 [==============================] - 0s 9ms/step - loss: 1.8341 - mae: 1.8341\n",
            "Epoch 93/170\n",
            "2/2 [==============================] - 0s 9ms/step - loss: 1.9980 - mae: 1.9980\n",
            "Epoch 94/170\n",
            "2/2 [==============================] - 0s 9ms/step - loss: 1.7392 - mae: 1.7392\n",
            "Epoch 95/170\n",
            "2/2 [==============================] - 0s 9ms/step - loss: 1.6936 - mae: 1.6936\n",
            "Epoch 96/170\n",
            "2/2 [==============================] - 0s 8ms/step - loss: 1.6575 - mae: 1.6575\n",
            "Epoch 97/170\n",
            "2/2 [==============================] - 0s 8ms/step - loss: 1.6294 - mae: 1.6294\n",
            "Epoch 98/170\n",
            "2/2 [==============================] - 0s 9ms/step - loss: 1.9828 - mae: 1.9828\n",
            "Epoch 99/170\n",
            "2/2 [==============================] - 0s 11ms/step - loss: 1.5299 - mae: 1.5299\n",
            "Epoch 100/170\n",
            "2/2 [==============================] - 0s 9ms/step - loss: 1.8500 - mae: 1.8500\n",
            "Epoch 101/170\n",
            "2/2 [==============================] - 0s 9ms/step - loss: 1.7327 - mae: 1.7327\n",
            "Epoch 102/170\n",
            "2/2 [==============================] - 0s 9ms/step - loss: 1.6419 - mae: 1.6419\n",
            "Epoch 103/170\n",
            "2/2 [==============================] - 0s 12ms/step - loss: 1.4938 - mae: 1.4938\n",
            "Epoch 104/170\n",
            "2/2 [==============================] - 0s 10ms/step - loss: 1.0060 - mae: 1.0060\n",
            "Epoch 105/170\n",
            "2/2 [==============================] - 0s 9ms/step - loss: 1.1195 - mae: 1.1195\n",
            "Epoch 106/170\n",
            "2/2 [==============================] - 0s 9ms/step - loss: 0.9459 - mae: 0.9459\n",
            "Epoch 107/170\n",
            "2/2 [==============================] - 0s 11ms/step - loss: 0.9474 - mae: 0.9474\n",
            "Epoch 108/170\n",
            "2/2 [==============================] - 0s 10ms/step - loss: 0.8480 - mae: 0.8480\n",
            "Epoch 109/170\n",
            "2/2 [==============================] - 0s 8ms/step - loss: 1.2221 - mae: 1.2221\n",
            "Epoch 110/170\n",
            "2/2 [==============================] - 0s 9ms/step - loss: 1.0869 - mae: 1.0869\n",
            "Epoch 111/170\n",
            "2/2 [==============================] - 0s 9ms/step - loss: 0.8607 - mae: 0.8607\n",
            "Epoch 112/170\n",
            "2/2 [==============================] - 0s 10ms/step - loss: 0.7829 - mae: 0.7829\n",
            "Epoch 113/170\n",
            "2/2 [==============================] - 0s 8ms/step - loss: 0.8203 - mae: 0.8203\n",
            "Epoch 114/170\n",
            "2/2 [==============================] - 0s 8ms/step - loss: 0.8809 - mae: 0.8809\n",
            "Epoch 115/170\n",
            "2/2 [==============================] - 0s 10ms/step - loss: 0.6802 - mae: 0.6802\n",
            "Epoch 116/170\n",
            "2/2 [==============================] - 0s 11ms/step - loss: 0.8523 - mae: 0.8523\n",
            "Epoch 117/170\n",
            "2/2 [==============================] - 0s 10ms/step - loss: 0.6827 - mae: 0.6827\n",
            "Epoch 118/170\n",
            "2/2 [==============================] - 0s 11ms/step - loss: 0.7710 - mae: 0.7710\n",
            "Epoch 119/170\n",
            "2/2 [==============================] - 0s 8ms/step - loss: 0.6945 - mae: 0.6945\n",
            "Epoch 120/170\n",
            "2/2 [==============================] - 0s 8ms/step - loss: 1.1846 - mae: 1.1846\n",
            "Epoch 121/170\n",
            "2/2 [==============================] - 0s 9ms/step - loss: 0.9196 - mae: 0.9196\n",
            "Epoch 122/170\n",
            "2/2 [==============================] - 0s 9ms/step - loss: 1.1685 - mae: 1.1685\n",
            "Epoch 123/170\n",
            "2/2 [==============================] - 0s 10ms/step - loss: 0.9789 - mae: 0.9789\n",
            "Epoch 124/170\n",
            "2/2 [==============================] - 0s 9ms/step - loss: 0.7606 - mae: 0.7606\n",
            "Epoch 125/170\n",
            "2/2 [==============================] - 0s 9ms/step - loss: 1.1018 - mae: 1.1018\n",
            "Epoch 126/170\n",
            "2/2 [==============================] - 0s 9ms/step - loss: 0.7672 - mae: 0.7672\n",
            "Epoch 127/170\n",
            "2/2 [==============================] - 0s 9ms/step - loss: 0.7042 - mae: 0.7042\n",
            "Epoch 128/170\n",
            "2/2 [==============================] - 0s 8ms/step - loss: 0.6061 - mae: 0.6061\n",
            "Epoch 129/170\n",
            "2/2 [==============================] - 0s 10ms/step - loss: 0.8971 - mae: 0.8971\n",
            "Epoch 130/170\n",
            "2/2 [==============================] - 0s 9ms/step - loss: 0.9832 - mae: 0.9832\n",
            "Epoch 131/170\n",
            "2/2 [==============================] - 0s 9ms/step - loss: 0.8395 - mae: 0.8395\n",
            "Epoch 132/170\n",
            "2/2 [==============================] - 0s 10ms/step - loss: 0.7757 - mae: 0.7757\n",
            "Epoch 133/170\n",
            "2/2 [==============================] - 0s 9ms/step - loss: 0.4507 - mae: 0.4507\n",
            "Epoch 134/170\n",
            "2/2 [==============================] - 0s 10ms/step - loss: 0.7214 - mae: 0.7214\n",
            "Epoch 135/170\n",
            "2/2 [==============================] - 0s 9ms/step - loss: 0.5535 - mae: 0.5535\n",
            "Epoch 136/170\n",
            "2/2 [==============================] - 0s 9ms/step - loss: 1.1034 - mae: 1.1034\n",
            "Epoch 137/170\n",
            "2/2 [==============================] - 0s 9ms/step - loss: 0.7639 - mae: 0.7639\n",
            "Epoch 138/170\n",
            "2/2 [==============================] - 0s 11ms/step - loss: 1.6200 - mae: 1.6200\n",
            "Epoch 139/170\n",
            "2/2 [==============================] - 0s 11ms/step - loss: 0.6391 - mae: 0.6391\n",
            "Epoch 140/170\n",
            "2/2 [==============================] - 0s 9ms/step - loss: 0.5384 - mae: 0.5384\n",
            "Epoch 141/170\n",
            "2/2 [==============================] - 0s 9ms/step - loss: 0.5103 - mae: 0.5103\n",
            "Epoch 142/170\n",
            "2/2 [==============================] - 0s 10ms/step - loss: 0.7631 - mae: 0.7631\n",
            "Epoch 143/170\n",
            "2/2 [==============================] - 0s 9ms/step - loss: 0.8332 - mae: 0.8332\n",
            "Epoch 144/170\n",
            "2/2 [==============================] - 0s 10ms/step - loss: 0.6958 - mae: 0.6958\n",
            "Epoch 145/170\n",
            "2/2 [==============================] - 0s 9ms/step - loss: 0.8704 - mae: 0.8704\n",
            "Epoch 146/170\n",
            "2/2 [==============================] - 0s 10ms/step - loss: 1.1138 - mae: 1.1138\n",
            "Epoch 147/170\n",
            "2/2 [==============================] - 0s 12ms/step - loss: 0.5816 - mae: 0.5816\n",
            "Epoch 148/170\n",
            "2/2 [==============================] - 0s 10ms/step - loss: 1.1490 - mae: 1.1490\n",
            "Epoch 149/170\n",
            "2/2 [==============================] - 0s 11ms/step - loss: 0.6857 - mae: 0.6857\n",
            "Epoch 150/170\n",
            "2/2 [==============================] - 0s 9ms/step - loss: 1.1397 - mae: 1.1397\n",
            "Epoch 151/170\n",
            "2/2 [==============================] - 0s 11ms/step - loss: 0.7340 - mae: 0.7340\n",
            "Epoch 152/170\n",
            "2/2 [==============================] - 0s 7ms/step - loss: 1.5601 - mae: 1.5601\n",
            "Epoch 153/170\n",
            "2/2 [==============================] - 0s 9ms/step - loss: 0.6626 - mae: 0.6626\n",
            "Epoch 154/170\n",
            "2/2 [==============================] - 0s 9ms/step - loss: 0.8972 - mae: 0.8972\n",
            "Epoch 155/170\n",
            "2/2 [==============================] - 0s 9ms/step - loss: 1.3737 - mae: 1.3737\n",
            "Epoch 156/170\n",
            "2/2 [==============================] - 0s 9ms/step - loss: 1.1408 - mae: 1.1408\n",
            "Epoch 157/170\n",
            "2/2 [==============================] - 0s 9ms/step - loss: 0.8600 - mae: 0.8600\n",
            "Epoch 158/170\n",
            "2/2 [==============================] - 0s 10ms/step - loss: 1.4226 - mae: 1.4226\n",
            "Epoch 159/170\n",
            "2/2 [==============================] - 0s 12ms/step - loss: 1.0983 - mae: 1.0983\n",
            "Epoch 160/170\n",
            "2/2 [==============================] - 0s 11ms/step - loss: 0.9536 - mae: 0.9536\n",
            "Epoch 161/170\n",
            "2/2 [==============================] - 0s 10ms/step - loss: 0.7618 - mae: 0.7618\n",
            "Epoch 162/170\n",
            "2/2 [==============================] - 0s 9ms/step - loss: 0.5859 - mae: 0.5859\n",
            "Epoch 163/170\n",
            "2/2 [==============================] - 0s 10ms/step - loss: 0.9086 - mae: 0.9086\n",
            "Epoch 164/170\n",
            "2/2 [==============================] - 0s 9ms/step - loss: 0.8605 - mae: 0.8605\n",
            "Epoch 165/170\n",
            "2/2 [==============================] - 0s 18ms/step - loss: 0.5115 - mae: 0.5115\n",
            "Epoch 166/170\n",
            "2/2 [==============================] - 0s 10ms/step - loss: 0.9357 - mae: 0.9357\n",
            "Epoch 167/170\n",
            "2/2 [==============================] - 0s 10ms/step - loss: 0.5934 - mae: 0.5934\n",
            "Epoch 168/170\n",
            "2/2 [==============================] - 0s 9ms/step - loss: 1.3146 - mae: 1.3146\n",
            "Epoch 169/170\n",
            "2/2 [==============================] - 0s 9ms/step - loss: 0.8681 - mae: 0.8681\n",
            "Epoch 170/170\n",
            "2/2 [==============================] - 0s 9ms/step - loss: 1.1264 - mae: 1.1264\n"
          ]
        },
        {
          "output_type": "execute_result",
          "data": {
            "text/plain": [
              "<keras.callbacks.History at 0x7fdbe201cbb0>"
            ]
          },
          "metadata": {},
          "execution_count": 124
        }
      ]
    },
    {
      "cell_type": "code",
      "source": [
        "model5.summary()"
      ],
      "metadata": {
        "colab": {
          "base_uri": "https://localhost:8080/"
        },
        "id": "31i5VYJ0x_dg",
        "outputId": "dcca9f97-d408-4e46-8eb7-7968525d4d79"
      },
      "execution_count": 125,
      "outputs": [
        {
          "output_type": "stream",
          "name": "stdout",
          "text": [
            "Model: \"Model_5\"\n",
            "_________________________________________________________________\n",
            " Layer (type)                Output Shape              Param #   \n",
            "=================================================================\n",
            " Input_layer (Dense)         (None, 1)                 2         \n",
            "                                                                 \n",
            " Dense_l1 (Dense)            (None, 90)                180       \n",
            "                                                                 \n",
            " Dense_l2 (Dense)            (None, 180)               16380     \n",
            "                                                                 \n",
            " Dense_l3 (Dense)            (None, 90)                16290     \n",
            "                                                                 \n",
            " Output_layer (Dense)        (None, 1)                 91        \n",
            "                                                                 \n",
            "=================================================================\n",
            "Total params: 32,943\n",
            "Trainable params: 32,943\n",
            "Non-trainable params: 0\n",
            "_________________________________________________________________\n"
          ]
        }
      ]
    },
    {
      "cell_type": "code",
      "source": [
        "from tensorflow.keras.utils import plot_model\n",
        "plot_model(model=model5,show_shapes=True,to_file='molel.png')"
      ],
      "metadata": {
        "colab": {
          "base_uri": "https://localhost:8080/",
          "height": 644
        },
        "id": "62QkPxd5yIj2",
        "outputId": "b13de1bd-bb85-4218-d559-bce198bb19f8"
      },
      "execution_count": 126,
      "outputs": [
        {
          "output_type": "execute_result",
          "data": {
            "image/png": "[encoded data removed]",
            "text/plain": [
              "<IPython.core.display.Image object>"
            ]
          },
          "metadata": {},
          "execution_count": 126
        }
      ]
    },
    {
      "cell_type": "markdown",
      "source": [
        "# Visualizing our model's predictions\n",
        "To visualize predictions, it's a good idea to plot them against the ground truth labels.\n",
        "\n",
        "Often you'll see this in the form of y_test or y_true versus y_pred (ground truth versus your model's predictions)."
      ],
      "metadata": {
        "id": "Rau7wfrl0dJ3"
      }
    },
    {
      "cell_type": "code",
      "source": [
        "y_pred = model5.predict(X_test)\n",
        "y_pred,y_test"
      ],
      "metadata": {
        "colab": {
          "base_uri": "https://localhost:8080/"
        },
        "id": "zy2YnA4pz9GH",
        "outputId": "d2d06d23-e913-4c56-bdb3-b51eb400c23c"
      },
      "execution_count": 127,
      "outputs": [
        {
          "output_type": "stream",
          "name": "stdout",
          "text": [
            "1/1 [==============================] - 0s 85ms/step\n"
          ]
        },
        {
          "output_type": "execute_result",
          "data": {
            "text/plain": [
              "(array([[137.11826],\n",
              "        [142.20238],\n",
              "        [147.28647],\n",
              "        [152.37059],\n",
              "        [157.45471],\n",
              "        [162.5388 ],\n",
              "        [167.62292],\n",
              "        [172.70703],\n",
              "        [177.79114],\n",
              "        [182.87524],\n",
              "        [187.95938],\n",
              "        [193.04836],\n",
              "        [198.13818],\n",
              "        [203.22797],\n",
              "        [208.31778]], dtype=float32),\n",
              " <tf.Tensor: shape=(15,), dtype=int32, numpy=\n",
              " array([135, 140, 145, 150, 155, 160, 165, 170, 175, 180, 185, 190, 195,\n",
              "        200, 205], dtype=int32)>)"
            ]
          },
          "metadata": {},
          "execution_count": 127
        }
      ]
    },
    {
      "cell_type": "markdown",
      "source": [
        "# Let's create a Ploting function\n",
        "\n",
        "If we want to use a functionality many time it better to create a function.\n",
        "\n",
        "\n",
        "\n",
        "\n"
      ],
      "metadata": {
        "id": "BedKNZD52-am"
      }
    },
    {
      "cell_type": "code",
      "source": [
        "# Plotting function\n",
        "def plot_predict(train_data=X_train,test_data=X_test,train_label=y_train,test_label=y_test,predict = y_pred):\n",
        "  \"\"\"Plots training data, ,test data and compares predictions to ground Truth labels.\"\"\"\n",
        "  plt.figure(figsize=(10,7))\n",
        "  #plot the training data in blue\n",
        "  plt.scatter(train_data,train_label,c='b',label='Training data')\n",
        "  #plot the testing data in red\n",
        "  plt.scatter(test_data,test_label,c='r',label='Testing Data')\n",
        "  #plot the model prediction in green\n",
        "  plt.scatter(test_data,predict,c='g',label=\"Prediction\",marker='^')\n",
        "  #plot the legend\n",
        "  plt.legend();"
      ],
      "metadata": {
        "id": "O0cmm1600uXm"
      },
      "execution_count": 128,
      "outputs": []
    },
    {
      "cell_type": "code",
      "source": [
        "plot_predict(train_data=X_train,test_data=X_test,train_label=y_train,test_label=y_test,predict = y_pred)"
      ],
      "metadata": {
        "colab": {
          "base_uri": "https://localhost:8080/",
          "height": 428
        },
        "id": "Yx7tX-AW5Le3",
        "outputId": "887423d0-6140-4a9d-e9a2-71e03503d34f"
      },
      "execution_count": 129,
      "outputs": [
        {
          "output_type": "display_data",
          "data": {
            "text/plain": [
              "<Figure size 720x504 with 1 Axes>"
            ],
            "image/png": "[encoded data removed]"
          },
          "metadata": {
            "needs_background": "light"
          }
        }
      ]
    },
    {
      "cell_type": "markdown",
      "source": [
        "# Evaluating our models prediction with regression evaluation metrics\n",
        "\n",
        "Depending on the problem you're working on, there will be different evaluation metrics to evaluate your model's performance.\n",
        "\n",
        "Since we're working on a regression, two of the main metrics:\n",
        "\n",
        "* **MAE**- mean absolute error, \"on average, how wrong is each of my model's predictions\"\n",
        "* **MSE**- mean square error, \"square the average errors\""
      ],
      "metadata": {
        "id": "pbwDZOpp68k3"
      }
    },
    {
      "cell_type": "code",
      "source": [
        "model5.evaluate(X_test,y_test)"
      ],
      "metadata": {
        "colab": {
          "base_uri": "https://localhost:8080/"
        },
        "id": "nccfD1-X6DA-",
        "outputId": "0eba6987-1d08-475f-89ee-d95c6456587c"
      },
      "execution_count": 130,
      "outputs": [
        {
          "output_type": "stream",
          "name": "stdout",
          "text": [
            "1/1 [==============================] - 0s 149ms/step - loss: 2.7106 - mae: 2.7106\n"
          ]
        },
        {
          "output_type": "execute_result",
          "data": {
            "text/plain": [
              "[2.710616111755371, 2.710616111755371]"
            ]
          },
          "metadata": {},
          "execution_count": 130
        }
      ]
    },
    {
      "cell_type": "code",
      "source": [
        "# Calculate the mean absolute error\n",
        "mae = tf.metrics.mean_absolute_error(y_test,tf.constant(y_pred))\n",
        "mae"
      ],
      "metadata": {
        "colab": {
          "base_uri": "https://localhost:8080/"
        },
        "id": "ffjdA_WV8_Z3",
        "outputId": "29001652-ce67-457e-d87a-046029f42018"
      },
      "execution_count": 131,
      "outputs": [
        {
          "output_type": "execute_result",
          "data": {
            "text/plain": [
              "<tf.Tensor: shape=(15,), dtype=float32, numpy=\n",
              "array([33.164177, 29.051592, 25.628119, 22.893726, 20.848429, 19.49224 ,\n",
              "       18.825138, 18.847136, 19.558228, 20.958414, 23.04771 , 25.829012,\n",
              "       29.301334, 33.464237, 38.317783], dtype=float32)>"
            ]
          },
          "metadata": {},
          "execution_count": 131
        }
      ]
    },
    {
      "cell_type": "code",
      "source": [
        "# differnet shape so we are getting such big value\n",
        "y_prediction = tf.squeeze(y_pred)\n",
        "y_prediction,y_test"
      ],
      "metadata": {
        "colab": {
          "base_uri": "https://localhost:8080/"
        },
        "id": "2IqzywAN9_8P",
        "outputId": "3eb7fff6-0ace-4ed2-8592-597dd82f7719"
      },
      "execution_count": 132,
      "outputs": [
        {
          "output_type": "execute_result",
          "data": {
            "text/plain": [
              "(<tf.Tensor: shape=(15,), dtype=float32, numpy=\n",
              " array([137.11826, 142.20238, 147.28647, 152.37059, 157.45471, 162.5388 ,\n",
              "        167.62292, 172.70703, 177.79114, 182.87524, 187.95938, 193.04836,\n",
              "        198.13818, 203.22797, 208.31778], dtype=float32)>,\n",
              " <tf.Tensor: shape=(15,), dtype=int32, numpy=\n",
              " array([135, 140, 145, 150, 155, 160, 165, 170, 175, 180, 185, 190, 195,\n",
              "        200, 205], dtype=int32)>)"
            ]
          },
          "metadata": {},
          "execution_count": 132
        }
      ]
    },
    {
      "cell_type": "code",
      "source": [
        "# ReCalculating the mean absolute error\n",
        "mae = tf.keras.losses.mean_absolute_error(y_test,y_prediction)\n",
        "mae"
      ],
      "metadata": {
        "colab": {
          "base_uri": "https://localhost:8080/"
        },
        "id": "rlFE4dv2_AhX",
        "outputId": "970af2e9-4481-4ea6-d3f6-e360ba15e37f"
      },
      "execution_count": 133,
      "outputs": [
        {
          "output_type": "execute_result",
          "data": {
            "text/plain": [
              "<tf.Tensor: shape=(), dtype=float32, numpy=2.710614>"
            ]
          },
          "metadata": {},
          "execution_count": 133
        }
      ]
    },
    {
      "cell_type": "code",
      "source": [
        "# Calucate the mean square error\n",
        "mse = tf.metrics.mean_squared_error(y_test,y_prediction)\n",
        "mse"
      ],
      "metadata": {
        "colab": {
          "base_uri": "https://localhost:8080/"
        },
        "id": "8WObd-WT_lKA",
        "outputId": "cd69ad58-11c6-47f2-8a33-2744993bfe7b"
      },
      "execution_count": 134,
      "outputs": [
        {
          "output_type": "execute_result",
          "data": {
            "text/plain": [
              "<tf.Tensor: shape=(), dtype=float32, numpy=7.4831667>"
            ]
          },
          "metadata": {},
          "execution_count": 134
        }
      ]
    },
    {
      "cell_type": "markdown",
      "source": [
        "# Tips to improve any model\n",
        "\n",
        "1. `More Data` - get more examples for your model to train on(more opportunities to learn patttern or relationships btw features and labels).\n",
        "2. `Enlarge your Model` - (using complex model) this includes increasing different layers,hidden layers or more hidden units in each layer.\n",
        "3. `Train longer` - give your model more of a chance to find patterns in data.\n"
      ],
      "metadata": {
        "id": "6SgOxzjuAvlG"
      }
    },
    {
      "cell_type": "markdown",
      "source": [
        "# Tracking Your Experiments \n",
        "\n",
        "**Tip💁‍♂️**\n",
        "\n",
        "* `TensorBoard` - a component of the tensorflow library to help track modelling experiments (Future).\n",
        "* `Weight & Biases` -  a tool for tracking all kinds of machine learning experiments(plugs striaght into tensorboard)."
      ],
      "metadata": {
        "id": "AvdNGTc_Fpyw"
      }
    },
    {
      "cell_type": "markdown",
      "source": [
        "## Saving Model\n",
        "\n",
        "Saving our model for using it anywhere we want to use or model in web or app etc.\n",
        "\n",
        "There are to different format to save a model format.\n",
        "\n",
        "1.The SavedModel format.\n",
        "\n",
        "2.The HDF5 format.\n"
      ],
      "metadata": {
        "id": "kxerQMX-G7dw"
      }
    },
    {
      "cell_type": "code",
      "source": [
        "# Saving the model using SavedModel format\n",
        "model5.save('First model with 0.9 acc')"
      ],
      "metadata": {
        "colab": {
          "base_uri": "https://localhost:8080/"
        },
        "id": "gqlnCQReAJl3",
        "outputId": "d5f34e9b-57f0-45b4-8f7f-1f1bdc5f1ba7"
      },
      "execution_count": 135,
      "outputs": [
        {
          "output_type": "stream",
          "name": "stderr",
          "text": [
            "WARNING:absl:Function `_wrapped_model` contains input name(s) Input_layer_input with unsupported characters which will be renamed to input_layer_input in the SavedModel.\n",
            "WARNING:absl:Found untraced functions such as _update_step_xla while saving (showing 1 of 1). These functions will not be directly callable after loading.\n"
          ]
        }
      ]
    },
    {
      "cell_type": "code",
      "source": [
        "# save the model using HDF5 fromat\n",
        "model5.save('First_model_0.9acc.h5')"
      ],
      "metadata": {
        "id": "VENUo-HRLhbZ"
      },
      "execution_count": 136,
      "outputs": []
    },
    {
      "cell_type": "markdown",
      "source": [
        "# Loading in a saved Model\n"
      ],
      "metadata": {
        "id": "ONXnvbtIMoig"
      }
    },
    {
      "cell_type": "code",
      "source": [
        "# loading the SavedModel format\n",
        "loaded_SavedModel = tf.keras.models.load_model('First model with 0.9 acc')\n",
        "loaded_SavedModel.predict([120])\n"
      ],
      "metadata": {
        "colab": {
          "base_uri": "https://localhost:8080/"
        },
        "id": "MwYjUzYyMYkZ",
        "outputId": "c48920fe-815d-42a7-b5da-ce1e019e90b4"
      },
      "execution_count": 137,
      "outputs": [
        {
          "output_type": "stream",
          "name": "stdout",
          "text": [
            "1/1 [==============================] - 0s 111ms/step\n"
          ]
        },
        {
          "output_type": "execute_result",
          "data": {
            "text/plain": [
              "array([[132.03416]], dtype=float32)"
            ]
          },
          "metadata": {},
          "execution_count": 137
        }
      ]
    },
    {
      "cell_type": "code",
      "source": [
        "# Compare model5 with the loaded model as weight are also saved\n",
        "model5_pred = model5.predict(X_test)\n",
        "loadedModel_pred = loaded_SavedModel(X_test)\n",
        "model5_pred == loadedModel_pred"
      ],
      "metadata": {
        "colab": {
          "base_uri": "https://localhost:8080/"
        },
        "id": "rmTPkPp3Nj-Z",
        "outputId": "fef7956a-0a13-422e-93a8-9b058a73148f"
      },
      "execution_count": 138,
      "outputs": [
        {
          "output_type": "stream",
          "name": "stdout",
          "text": [
            "1/1 [==============================] - 0s 32ms/step\n"
          ]
        },
        {
          "output_type": "execute_result",
          "data": {
            "text/plain": [
              "<tf.Tensor: shape=(15, 1), dtype=bool, numpy=\n",
              "array([[ True],\n",
              "       [ True],\n",
              "       [ True],\n",
              "       [ True],\n",
              "       [ True],\n",
              "       [ True],\n",
              "       [ True],\n",
              "       [ True],\n",
              "       [ True],\n",
              "       [ True],\n",
              "       [ True],\n",
              "       [ True],\n",
              "       [ True],\n",
              "       [ True],\n",
              "       [ True]])>"
            ]
          },
          "metadata": {},
          "execution_count": 138
        }
      ]
    },
    {
      "cell_type": "code",
      "source": [
        "# loading the the h5 format\n",
        "loaded_h5_model = tf.keras.models.load_model('First_model_0.9acc.h5')\n",
        "loaded_h5_model.summary(),loaded_h5_model.predict([120])\n"
      ],
      "metadata": {
        "id": "ARNa8b8XOwuR",
        "colab": {
          "base_uri": "https://localhost:8080/"
        },
        "outputId": "6f4e13e8-657d-45e2-c3ff-9f0a75621c1d"
      },
      "execution_count": 139,
      "outputs": [
        {
          "output_type": "stream",
          "name": "stdout",
          "text": [
            "Model: \"Model_5\"\n",
            "_________________________________________________________________\n",
            " Layer (type)                Output Shape              Param #   \n",
            "=================================================================\n",
            " Input_layer (Dense)         (None, 1)                 2         \n",
            "                                                                 \n",
            " Dense_l1 (Dense)            (None, 90)                180       \n",
            "                                                                 \n",
            " Dense_l2 (Dense)            (None, 180)               16380     \n",
            "                                                                 \n",
            " Dense_l3 (Dense)            (None, 90)                16290     \n",
            "                                                                 \n",
            " Output_layer (Dense)        (None, 1)                 91        \n",
            "                                                                 \n",
            "=================================================================\n",
            "Total params: 32,943\n",
            "Trainable params: 32,943\n",
            "Non-trainable params: 0\n",
            "_________________________________________________________________\n",
            "1/1 [==============================] - 0s 98ms/step\n"
          ]
        },
        {
          "output_type": "execute_result",
          "data": {
            "text/plain": [
              "(None, array([[132.03416]], dtype=float32))"
            ]
          },
          "metadata": {},
          "execution_count": 139
        }
      ]
    },
    {
      "cell_type": "code",
      "source": [
        "model5_pred = model5.predict(X_test)\n",
        "loaded_modelh5_pred = loaded_h5_model.predict(X_test)\n",
        "model5_pred == loaded_modelh5_pred"
      ],
      "metadata": {
        "colab": {
          "base_uri": "https://localhost:8080/"
        },
        "id": "CE0wn2HiUtnd",
        "outputId": "a807a79a-c295-4a46-dd1f-9e8e0afdb8d7"
      },
      "execution_count": 140,
      "outputs": [
        {
          "output_type": "stream",
          "name": "stdout",
          "text": [
            "1/1 [==============================] - 0s 24ms/step\n",
            "1/1 [==============================] - 0s 83ms/step\n"
          ]
        },
        {
          "output_type": "execute_result",
          "data": {
            "text/plain": [
              "array([[ True],\n",
              "       [ True],\n",
              "       [ True],\n",
              "       [ True],\n",
              "       [ True],\n",
              "       [ True],\n",
              "       [ True],\n",
              "       [ True],\n",
              "       [ True],\n",
              "       [ True],\n",
              "       [ True],\n",
              "       [ True],\n",
              "       [ True],\n",
              "       [ True],\n",
              "       [ True]])"
            ]
          },
          "metadata": {},
          "execution_count": 140
        }
      ]
    },
    {
      "cell_type": "markdown",
      "source": [
        "## Download a Model (or any other file) from Colab\n",
        "\n",
        "If you want to download your files from Google Colab:\n",
        "\n",
        "1. You can go to the \"Files\" tab and right click to the files you're after and click \"download\".\n",
        "\n",
        "2. Use code below.\n",
        "\n",
        "* `from google.colab import files`\n",
        "* `files.download(file_path)` \n",
        "\n",
        "  Ex:- `files.download('/content/xyz.h5')`\n",
        "\n",
        "3. Save it to Google drive by connecting the google Drive and Copying it there.\n",
        "> Click \"Mount to drive\" icon in files tab.\n",
        "> Move the required file to drive.  "
      ],
      "metadata": {
        "id": "C7UzUoFNWOaO"
      }
    },
    {
      "cell_type": "code",
      "source": [
        "from google.colab import files\n",
        "files.download('/content/First_model_0.9acc.h5')"
      ],
      "metadata": {
        "colab": {
          "base_uri": "https://localhost:8080/",
          "height": 17
        },
        "id": "JX5tXESRVVkt",
        "outputId": "06dc73e9-be96-4f5d-e784-c2960a6da81d"
      },
      "execution_count": 141,
      "outputs": [
        {
          "output_type": "display_data",
          "data": {
            "text/plain": [
              "<IPython.core.display.Javascript object>"
            ],
            "application/javascript": [
              "\n",
              "    async function download(id, filename, size) {\n",
              "      if (!google.colab.kernel.accessAllowed) {\n",
              "        return;\n",
              "      }\n",
              "      const div = document.createElement('div');\n",
              "      const label = document.createElement('label');\n",
              "      label.textContent = `Downloading \"${filename}\": `;\n",
              "      div.appendChild(label);\n",
              "      const progress = document.createElement('progress');\n",
              "      progress.max = size;\n",
              "      div.appendChild(progress);\n",
              "      document.body.appendChild(div);\n",
              "\n",
              "      const buffers = [];\n",
              "      let downloaded = 0;\n",
              "\n",
              "      const channel = await google.colab.kernel.comms.open(id);\n",
              "      // Send a message to notify the kernel that we're ready.\n",
              "      channel.send({})\n",
              "\n",
              "      for await (const message of channel.messages) {\n",
              "        // Send a message to notify the kernel that we're ready.\n",
              "        channel.send({})\n",
              "        if (message.buffers) {\n",
              "          for (const buffer of message.buffers) {\n",
              "            buffers.push(buffer);\n",
              "            downloaded += buffer.byteLength;\n",
              "            progress.value = downloaded;\n",
              "          }\n",
              "        }\n",
              "      }\n",
              "      const blob = new Blob(buffers, {type: 'application/binary'});\n",
              "      const a = document.createElement('a');\n",
              "      a.href = window.URL.createObjectURL(blob);\n",
              "      a.download = filename;\n",
              "      div.appendChild(a);\n",
              "      a.click();\n",
              "      div.remove();\n",
              "    }\n",
              "  "
            ]
          },
          "metadata": {}
        },
        {
          "output_type": "display_data",
          "data": {
            "text/plain": [
              "<IPython.core.display.Javascript object>"
            ],
            "application/javascript": [
              "download(\"download_e963ba67-0899-41a0-9b3f-d50672937766\", \"First_model_0.9acc.h5\", 443416)"
            ]
          },
          "metadata": {}
        }
      ]
    },
    {
      "cell_type": "markdown",
      "source": [
        "# A larger Example "
      ],
      "metadata": {
        "id": "vZjYOdwRc4zf"
      }
    },
    {
      "cell_type": "code",
      "source": [
        "# Import the required dependiences for large model\n",
        "import tensorflow as tf\n",
        "import pandas as pd\n",
        "import matplotlib.pyplot as plt\n",
        "from sklearn.model_selection import train_test_split"
      ],
      "metadata": {
        "id": "jaosfV9VaXOf"
      },
      "execution_count": 142,
      "outputs": []
    },
    {
      "cell_type": "code",
      "source": [
        "# read the insurance dataset \n",
        "insurance_data = pd.read_csv('/content/drive/MyDrive/tf/insurance.csv')\n",
        "insurance_data.tail()"
      ],
      "metadata": {
        "colab": {
          "base_uri": "https://localhost:8080/",
          "height": 206
        },
        "id": "Ofn6QPwge8e2",
        "outputId": "5921b23f-48ca-4770-a4f8-3c5b9aab53ce"
      },
      "execution_count": 143,
      "outputs": [
        {
          "output_type": "execute_result",
          "data": {
            "text/plain": [
              "      age     sex    bmi  children smoker     region     charges\n",
              "1333   50    male  30.97         3     no  northwest  10600.5483\n",
              "1334   18  female  31.92         0     no  northeast   2205.9808\n",
              "1335   18  female  36.85         0     no  southeast   1629.8335\n",
              "1336   21  female  25.80         0     no  southwest   2007.9450\n",
              "1337   61  female  29.07         0    yes  northwest  29141.3603"
            ],
            "text/html": [
              "\n",
              "  <div id=\"df-a15e0843-36ef-4a5c-880d-25e986bed20f\">\n",
              "    <div class=\"colab-df-container\">\n",
              "      <div>\n",
              "<style scoped>\n",
              "    .dataframe tbody tr th:only-of-type {\n",
              "        vertical-align: middle;\n",
              "    }\n",
              "\n",
              "    .dataframe tbody tr th {\n",
              "        vertical-align: top;\n",
              "    }\n",
              "\n",
              "    .dataframe thead th {\n",
              "        text-align: right;\n",
              "    }\n",
              "</style>\n",
              "<table border=\"1\" class=\"dataframe\">\n",
              "  <thead>\n",
              "    <tr style=\"text-align: right;\">\n",
              "      <th></th>\n",
              "      <th>age</th>\n",
              "      <th>sex</th>\n",
              "      <th>bmi</th>\n",
              "      <th>children</th>\n",
              "      <th>smoker</th>\n",
              "      <th>region</th>\n",
              "      <th>charges</th>\n",
              "    </tr>\n",
              "  </thead>\n",
              "  <tbody>\n",
              "    <tr>\n",
              "      <th>1333</th>\n",
              "      <td>50</td>\n",
              "      <td>male</td>\n",
              "      <td>30.97</td>\n",
              "      <td>3</td>\n",
              "      <td>no</td>\n",
              "      <td>northwest</td>\n",
              "      <td>10600.5483</td>\n",
              "    </tr>\n",
              "    <tr>\n",
              "      <th>1334</th>\n",
              "      <td>18</td>\n",
              "      <td>female</td>\n",
              "      <td>31.92</td>\n",
              "      <td>0</td>\n",
              "      <td>no</td>\n",
              "      <td>northeast</td>\n",
              "      <td>2205.9808</td>\n",
              "    </tr>\n",
              "    <tr>\n",
              "      <th>1335</th>\n",
              "      <td>18</td>\n",
              "      <td>female</td>\n",
              "      <td>36.85</td>\n",
              "      <td>0</td>\n",
              "      <td>no</td>\n",
              "      <td>southeast</td>\n",
              "      <td>1629.8335</td>\n",
              "    </tr>\n",
              "    <tr>\n",
              "      <th>1336</th>\n",
              "      <td>21</td>\n",
              "      <td>female</td>\n",
              "      <td>25.80</td>\n",
              "      <td>0</td>\n",
              "      <td>no</td>\n",
              "      <td>southwest</td>\n",
              "      <td>2007.9450</td>\n",
              "    </tr>\n",
              "    <tr>\n",
              "      <th>1337</th>\n",
              "      <td>61</td>\n",
              "      <td>female</td>\n",
              "      <td>29.07</td>\n",
              "      <td>0</td>\n",
              "      <td>yes</td>\n",
              "      <td>northwest</td>\n",
              "      <td>29141.3603</td>\n",
              "    </tr>\n",
              "  </tbody>\n",
              "</table>\n",
              "</div>\n",
              "      <button class=\"colab-df-convert\" onclick=\"convertToInteractive('df-a15e0843-36ef-4a5c-880d-25e986bed20f')\"\n",
              "              title=\"Convert this dataframe to an interactive table.\"\n",
              "              style=\"display:none;\">\n",
              "        \n",
              "  <svg xmlns=\"http://www.w3.org/2000/svg\" height=\"24px\"viewBox=\"0 0 24 24\"\n",
              "       width=\"24px\">\n",
              "    <path d=\"M0 0h24v24H0V0z\" fill=\"none\"/>\n",
              "    <path d=\"M18.56 5.44l.94 2.06.94-2.06 2.06-.94-2.06-.94-.94-2.06-.94 2.06-2.06.94zm-11 1L8.5 8.5l.94-2.06 2.06-.94-2.06-.94L8.5 2.5l-.94 2.06-2.06.94zm10 10l.94 2.06.94-2.06 2.06-.94-2.06-.94-.94-2.06-.94 2.06-2.06.94z\"/><path d=\"M17.41 7.96l-1.37-1.37c-.4-.4-.92-.59-1.43-.59-.52 0-1.04.2-1.43.59L10.3 9.45l-7.72 7.72c-.78.78-.78 2.05 0 2.83L4 21.41c.39.39.9.59 1.41.59.51 0 1.02-.2 1.41-.59l7.78-7.78 2.81-2.81c.8-.78.8-2.07 0-2.86zM5.41 20L4 18.59l7.72-7.72 1.47 1.35L5.41 20z\"/>\n",
              "  </svg>\n",
              "      </button>\n",
              "      \n",
              "  <style>\n",
              "    .colab-df-container {\n",
              "      display:flex;\n",
              "      flex-wrap:wrap;\n",
              "      gap: 12px;\n",
              "    }\n",
              "\n",
              "    .colab-df-convert {\n",
              "      background-color: #E8F0FE;\n",
              "      border: none;\n",
              "      border-radius: 50%;\n",
              "      cursor: pointer;\n",
              "      display: none;\n",
              "      fill: #1967D2;\n",
              "      height: 32px;\n",
              "      padding: 0 0 0 0;\n",
              "      width: 32px;\n",
              "    }\n",
              "\n",
              "    .colab-df-convert:hover {\n",
              "      background-color: #E2EBFA;\n",
              "      box-shadow: 0px 1px 2px rgba(60, 64, 67, 0.3), 0px 1px 3px 1px rgba(60, 64, 67, 0.15);\n",
              "      fill: #174EA6;\n",
              "    }\n",
              "\n",
              "    [theme=dark] .colab-df-convert {\n",
              "      background-color: #3B4455;\n",
              "      fill: #D2E3FC;\n",
              "    }\n",
              "\n",
              "    [theme=dark] .colab-df-convert:hover {\n",
              "      background-color: #434B5C;\n",
              "      box-shadow: 0px 1px 3px 1px rgba(0, 0, 0, 0.15);\n",
              "      filter: drop-shadow(0px 1px 2px rgba(0, 0, 0, 0.3));\n",
              "      fill: #FFFFFF;\n",
              "    }\n",
              "  </style>\n",
              "\n",
              "      <script>\n",
              "        const buttonEl =\n",
              "          document.querySelector('#df-a15e0843-36ef-4a5c-880d-25e986bed20f button.colab-df-convert');\n",
              "        buttonEl.style.display =\n",
              "          google.colab.kernel.accessAllowed ? 'block' : 'none';\n",
              "\n",
              "        async function convertToInteractive(key) {\n",
              "          const element = document.querySelector('#df-a15e0843-36ef-4a5c-880d-25e986bed20f');\n",
              "          const dataTable =\n",
              "            await google.colab.kernel.invokeFunction('convertToInteractive',\n",
              "                                                     [key], {});\n",
              "          if (!dataTable) return;\n",
              "\n",
              "          const docLinkHtml = 'Like what you see? Visit the ' +\n",
              "            '<a target=\"_blank\" href=https://colab.research.google.com/notebooks/data_table.ipynb>data table notebook</a>'\n",
              "            + ' to learn more about interactive tables.';\n",
              "          element.innerHTML = '';\n",
              "          dataTable['output_type'] = 'display_data';\n",
              "          await google.colab.output.renderOutput(dataTable, element);\n",
              "          const docLink = document.createElement('div');\n",
              "          docLink.innerHTML = docLinkHtml;\n",
              "          element.appendChild(docLink);\n",
              "        }\n",
              "      </script>\n",
              "    </div>\n",
              "  </div>\n",
              "  "
            ]
          },
          "metadata": {},
          "execution_count": 143
        }
      ]
    },
    {
      "cell_type": "markdown",
      "source": [
        "**Note:-**Using pandas dummies with one-hot encoding of tensorflow on sex,smoker,region.(`dtype`object-->int64)"
      ],
      "metadata": {
        "id": "YxLhwQPKiywO"
      }
    },
    {
      "cell_type": "code",
      "source": [
        "insurance = pd.get_dummies(insurance_data)"
      ],
      "metadata": {
        "id": "QbbUu94tfIBV"
      },
      "execution_count": 144,
      "outputs": []
    },
    {
      "cell_type": "code",
      "source": [
        "# Create a X & y values(features and labels)\n",
        "# feature include (age\tbmi\tchildren\tsex_female\tsex_male\tsmoker_no\tsmoker_yes\tregion_northeast\tregion_northwest\tregion_southeast\tregion_southwest)\n",
        "# label (charges)\n",
        "X = insurance.drop('charges',axis=1)\n",
        "y = insurance['charges']\n"
      ],
      "metadata": {
        "id": "xClMjg_3kUNu"
      },
      "execution_count": 145,
      "outputs": []
    },
    {
      "cell_type": "markdown",
      "source": [
        "**Note** :- Using a scikit learn train&test split method to spilt the insurance data into testing and training data "
      ],
      "metadata": {
        "id": "jbTzCJ7WrNcH"
      }
    },
    {
      "cell_type": "code",
      "source": [
        "# creating training and test data set using sklearn\n",
        "X_train,X_test,y_train,y_test = train_test_split(X,y,test_size=0.2,random_state=42)\n",
        "# Check Split\n",
        "len(X),len(X_train),len(X_test)"
      ],
      "metadata": {
        "colab": {
          "base_uri": "https://localhost:8080/"
        },
        "id": "95Qym9W5o6IV",
        "outputId": "f4c525f5-e045-451f-fda1-79f4a7233def"
      },
      "execution_count": 146,
      "outputs": [
        {
          "output_type": "execute_result",
          "data": {
            "text/plain": [
              "(1338, 1070, 268)"
            ]
          },
          "metadata": {},
          "execution_count": 146
        }
      ]
    },
    {
      "cell_type": "code",
      "source": [
        "X_train.shape"
      ],
      "metadata": {
        "colab": {
          "base_uri": "https://localhost:8080/"
        },
        "id": "oQL0aL3ZthpO",
        "outputId": "915dacea-e312-4bdd-ed2d-a18caf26a440"
      },
      "execution_count": 147,
      "outputs": [
        {
          "output_type": "execute_result",
          "data": {
            "text/plain": [
              "(1070, 11)"
            ]
          },
          "metadata": {},
          "execution_count": 147
        }
      ]
    },
    {
      "cell_type": "code",
      "source": [
        "from keras.layers.attention.multi_head_attention import activation\n",
        "# Build a neural network \n",
        "tf.random.set_seed(42)\n",
        "insurance_model=tf.keras.Sequential([\n",
        "    tf.keras.layers.Dense(11,input_shape=(11,),name='Input_layer'),\n",
        "    tf.keras.layers.Dense(121,activation='relu',name='D1'),\n",
        "    tf.keras.layers.Dense(11,activation='relu',name='D2'),\n",
        "    tf.keras.layers.Dense(1,name='Output_layer')\n",
        "],name='Insurance_Predictor')\n",
        "\n",
        "# Compile\n",
        "insurance_model.compile(optimizer=tf.keras.optimizers.experimental.Adam(),loss='mae',metrics=['mae'])\n",
        "\n",
        "# Fit the model\n",
        "history=insurance_model.fit(X_train,y_train,epochs=500)"
      ],
      "metadata": {
        "colab": {
          "base_uri": "https://localhost:8080/"
        },
        "id": "IR6bCERfqNOF",
        "outputId": "cddb1a7a-b955-489b-f070-704f41d037b0"
      },
      "execution_count": 101,
      "outputs": [
        {
          "output_type": "stream",
          "name": "stdout",
          "text": [
            "Epoch 1/500\n",
            "34/34 [==============================] - 3s 5ms/step - loss: 13309.4316 - mae: 13309.4316\n",
            "Epoch 2/500\n",
            "34/34 [==============================] - 0s 7ms/step - loss: 13197.8945 - mae: 13197.8945\n",
            "Epoch 3/500\n",
            "34/34 [==============================] - 0s 6ms/step - loss: 12865.5547 - mae: 12865.5547\n",
            "Epoch 4/500\n",
            "34/34 [==============================] - 0s 6ms/step - loss: 11985.5537 - mae: 11985.5537\n",
            "Epoch 5/500\n",
            "34/34 [==============================] - 0s 6ms/step - loss: 10202.0059 - mae: 10202.0059\n",
            "Epoch 6/500\n",
            "34/34 [==============================] - 0s 6ms/step - loss: 8116.9712 - mae: 8116.9712\n",
            "Epoch 7/500\n",
            "34/34 [==============================] - 0s 6ms/step - loss: 7472.7690 - mae: 7472.7690\n",
            "Epoch 8/500\n",
            "34/34 [==============================] - 0s 7ms/step - loss: 7446.3779 - mae: 7446.3779\n",
            "Epoch 9/500\n",
            "34/34 [==============================] - 0s 6ms/step - loss: 7424.2202 - mae: 7424.2202\n",
            "Epoch 10/500\n",
            "34/34 [==============================] - 0s 7ms/step - loss: 7405.2139 - mae: 7405.2139\n",
            "Epoch 11/500\n",
            "34/34 [==============================] - 0s 6ms/step - loss: 7387.0977 - mae: 7387.0977\n",
            "Epoch 12/500\n",
            "34/34 [==============================] - 0s 7ms/step - loss: 7362.8975 - mae: 7362.8975\n",
            "Epoch 13/500\n",
            "34/34 [==============================] - 0s 7ms/step - loss: 7343.5396 - mae: 7343.5396\n",
            "Epoch 14/500\n",
            "34/34 [==============================] - 0s 8ms/step - loss: 7319.4468 - mae: 7319.4468\n",
            "Epoch 15/500\n",
            "34/34 [==============================] - 0s 8ms/step - loss: 7301.9746 - mae: 7301.9746\n",
            "Epoch 16/500\n",
            "34/34 [==============================] - 0s 10ms/step - loss: 7278.0464 - mae: 7278.0464\n",
            "Epoch 17/500\n",
            "34/34 [==============================] - 0s 10ms/step - loss: 7260.9595 - mae: 7260.9595\n",
            "Epoch 18/500\n",
            "34/34 [==============================] - 0s 11ms/step - loss: 7235.9199 - mae: 7235.9199\n",
            "Epoch 19/500\n",
            "34/34 [==============================] - 0s 9ms/step - loss: 7213.8052 - mae: 7213.8052\n",
            "Epoch 20/500\n",
            "34/34 [==============================] - 0s 9ms/step - loss: 7190.7959 - mae: 7190.7959\n",
            "Epoch 21/500\n",
            "34/34 [==============================] - 0s 7ms/step - loss: 7167.9990 - mae: 7167.9990\n",
            "Epoch 22/500\n",
            "34/34 [==============================] - 0s 11ms/step - loss: 7151.2080 - mae: 7151.2080\n",
            "Epoch 23/500\n",
            "34/34 [==============================] - 0s 9ms/step - loss: 7122.5054 - mae: 7122.5054\n",
            "Epoch 24/500\n",
            "34/34 [==============================] - 0s 10ms/step - loss: 7097.4683 - mae: 7097.4683\n",
            "Epoch 25/500\n",
            "34/34 [==============================] - 0s 11ms/step - loss: 7080.2363 - mae: 7080.2363\n",
            "Epoch 26/500\n",
            "34/34 [==============================] - 0s 7ms/step - loss: 7053.4482 - mae: 7053.4482\n",
            "Epoch 27/500\n",
            "34/34 [==============================] - 0s 8ms/step - loss: 7024.7598 - mae: 7024.7598\n",
            "Epoch 28/500\n",
            "34/34 [==============================] - 0s 8ms/step - loss: 6997.1758 - mae: 6997.1758\n",
            "Epoch 29/500\n",
            "34/34 [==============================] - 0s 8ms/step - loss: 6971.3960 - mae: 6971.3960\n",
            "Epoch 30/500\n",
            "34/34 [==============================] - 0s 5ms/step - loss: 6947.9790 - mae: 6947.9790\n",
            "Epoch 31/500\n",
            "34/34 [==============================] - 0s 7ms/step - loss: 6915.7163 - mae: 6915.7163\n",
            "Epoch 32/500\n",
            "34/34 [==============================] - 0s 6ms/step - loss: 6888.1987 - mae: 6888.1987\n",
            "Epoch 33/500\n",
            "34/34 [==============================] - 0s 6ms/step - loss: 6860.8213 - mae: 6860.8213\n",
            "Epoch 34/500\n",
            "34/34 [==============================] - 0s 7ms/step - loss: 6833.4360 - mae: 6833.4360\n",
            "Epoch 35/500\n",
            "34/34 [==============================] - 0s 7ms/step - loss: 6800.0044 - mae: 6800.0044\n",
            "Epoch 36/500\n",
            "34/34 [==============================] - 0s 6ms/step - loss: 6765.1978 - mae: 6765.1978\n",
            "Epoch 37/500\n",
            "34/34 [==============================] - 0s 7ms/step - loss: 6728.6021 - mae: 6728.6021\n",
            "Epoch 38/500\n",
            "34/34 [==============================] - 0s 5ms/step - loss: 6698.6167 - mae: 6698.6167\n",
            "Epoch 39/500\n",
            "34/34 [==============================] - 0s 6ms/step - loss: 6656.7378 - mae: 6656.7378\n",
            "Epoch 40/500\n",
            "34/34 [==============================] - 0s 8ms/step - loss: 6623.8906 - mae: 6623.8906\n",
            "Epoch 41/500\n",
            "34/34 [==============================] - 0s 8ms/step - loss: 6593.9570 - mae: 6593.9570\n",
            "Epoch 42/500\n",
            "34/34 [==============================] - 0s 9ms/step - loss: 6573.4800 - mae: 6573.4800\n",
            "Epoch 43/500\n",
            "34/34 [==============================] - 0s 6ms/step - loss: 6560.9673 - mae: 6560.9673\n",
            "Epoch 44/500\n",
            "34/34 [==============================] - 0s 6ms/step - loss: 6546.2554 - mae: 6546.2554\n",
            "Epoch 45/500\n",
            "34/34 [==============================] - 0s 6ms/step - loss: 6541.6606 - mae: 6541.6606\n",
            "Epoch 46/500\n",
            "34/34 [==============================] - 0s 4ms/step - loss: 6529.4429 - mae: 6529.4429\n",
            "Epoch 47/500\n",
            "34/34 [==============================] - 0s 5ms/step - loss: 6518.1562 - mae: 6518.1562\n",
            "Epoch 48/500\n",
            "34/34 [==============================] - 0s 6ms/step - loss: 6496.9019 - mae: 6496.9019\n",
            "Epoch 49/500\n",
            "34/34 [==============================] - 0s 5ms/step - loss: 6489.9316 - mae: 6489.9316\n",
            "Epoch 50/500\n",
            "34/34 [==============================] - 0s 7ms/step - loss: 6479.8291 - mae: 6479.8291\n",
            "Epoch 51/500\n",
            "34/34 [==============================] - 0s 4ms/step - loss: 6464.1782 - mae: 6464.1782\n",
            "Epoch 52/500\n",
            "34/34 [==============================] - 0s 6ms/step - loss: 6454.8823 - mae: 6454.8823\n",
            "Epoch 53/500\n",
            "34/34 [==============================] - 0s 7ms/step - loss: 6440.5640 - mae: 6440.5640\n",
            "Epoch 54/500\n",
            "34/34 [==============================] - 0s 6ms/step - loss: 6429.3882 - mae: 6429.3882\n",
            "Epoch 55/500\n",
            "34/34 [==============================] - 0s 5ms/step - loss: 6417.9810 - mae: 6417.9810\n",
            "Epoch 56/500\n",
            "34/34 [==============================] - 0s 7ms/step - loss: 6405.0815 - mae: 6405.0815\n",
            "Epoch 57/500\n",
            "34/34 [==============================] - 0s 5ms/step - loss: 6393.1582 - mae: 6393.1582\n",
            "Epoch 58/500\n",
            "34/34 [==============================] - 0s 4ms/step - loss: 6379.4033 - mae: 6379.4033\n",
            "Epoch 59/500\n",
            "34/34 [==============================] - 0s 6ms/step - loss: 6367.6133 - mae: 6367.6133\n",
            "Epoch 60/500\n",
            "34/34 [==============================] - 0s 7ms/step - loss: 6355.3691 - mae: 6355.3691\n",
            "Epoch 61/500\n",
            "34/34 [==============================] - 0s 5ms/step - loss: 6333.4180 - mae: 6333.4180\n",
            "Epoch 62/500\n",
            "34/34 [==============================] - 0s 5ms/step - loss: 6325.8667 - mae: 6325.8667\n",
            "Epoch 63/500\n",
            "34/34 [==============================] - 0s 4ms/step - loss: 6308.2441 - mae: 6308.2441\n",
            "Epoch 64/500\n",
            "34/34 [==============================] - 0s 5ms/step - loss: 6288.8799 - mae: 6288.8799\n",
            "Epoch 65/500\n",
            "34/34 [==============================] - 0s 4ms/step - loss: 6271.3125 - mae: 6271.3125\n",
            "Epoch 66/500\n",
            "34/34 [==============================] - 0s 5ms/step - loss: 6252.9136 - mae: 6252.9136\n",
            "Epoch 67/500\n",
            "34/34 [==============================] - 0s 5ms/step - loss: 6240.5977 - mae: 6240.5977\n",
            "Epoch 68/500\n",
            "34/34 [==============================] - 0s 4ms/step - loss: 6215.8789 - mae: 6215.8789\n",
            "Epoch 69/500\n",
            "34/34 [==============================] - 0s 4ms/step - loss: 6198.1172 - mae: 6198.1172\n",
            "Epoch 70/500\n",
            "34/34 [==============================] - 0s 9ms/step - loss: 6175.7480 - mae: 6175.7480\n",
            "Epoch 71/500\n",
            "34/34 [==============================] - 0s 8ms/step - loss: 6150.2588 - mae: 6150.2588\n",
            "Epoch 72/500\n",
            "34/34 [==============================] - 0s 6ms/step - loss: 6128.3457 - mae: 6128.3457\n",
            "Epoch 73/500\n",
            "34/34 [==============================] - 0s 7ms/step - loss: 6115.2051 - mae: 6115.2051\n",
            "Epoch 74/500\n",
            "34/34 [==============================] - 0s 10ms/step - loss: 6079.1279 - mae: 6079.1279\n",
            "Epoch 75/500\n",
            "34/34 [==============================] - 0s 6ms/step - loss: 6047.3940 - mae: 6047.3940\n",
            "Epoch 76/500\n",
            "34/34 [==============================] - 0s 6ms/step - loss: 6032.8438 - mae: 6032.8438\n",
            "Epoch 77/500\n",
            "34/34 [==============================] - 0s 9ms/step - loss: 5993.2842 - mae: 5993.2842\n",
            "Epoch 78/500\n",
            "34/34 [==============================] - 0s 12ms/step - loss: 5955.8882 - mae: 5955.8882\n",
            "Epoch 79/500\n",
            "34/34 [==============================] - 0s 9ms/step - loss: 5919.8462 - mae: 5919.8462\n",
            "Epoch 80/500\n",
            "34/34 [==============================] - 0s 8ms/step - loss: 5885.3965 - mae: 5885.3965\n",
            "Epoch 81/500\n",
            "34/34 [==============================] - 0s 6ms/step - loss: 5846.3823 - mae: 5846.3823\n",
            "Epoch 82/500\n",
            "34/34 [==============================] - 0s 8ms/step - loss: 5804.6997 - mae: 5804.6997\n",
            "Epoch 83/500\n",
            "34/34 [==============================] - 0s 7ms/step - loss: 5762.9404 - mae: 5762.9404\n",
            "Epoch 84/500\n",
            "34/34 [==============================] - 0s 10ms/step - loss: 5706.8872 - mae: 5706.8872\n",
            "Epoch 85/500\n",
            "34/34 [==============================] - 0s 8ms/step - loss: 5660.1768 - mae: 5660.1768\n",
            "Epoch 86/500\n",
            "34/34 [==============================] - 0s 8ms/step - loss: 5593.3706 - mae: 5593.3706\n",
            "Epoch 87/500\n",
            "34/34 [==============================] - 0s 7ms/step - loss: 5530.0190 - mae: 5530.0190\n",
            "Epoch 88/500\n",
            "34/34 [==============================] - 0s 8ms/step - loss: 5464.9033 - mae: 5464.9033\n",
            "Epoch 89/500\n",
            "34/34 [==============================] - 0s 8ms/step - loss: 5389.0190 - mae: 5389.0190\n",
            "Epoch 90/500\n",
            "34/34 [==============================] - 0s 7ms/step - loss: 5297.8091 - mae: 5297.8091\n",
            "Epoch 91/500\n",
            "34/34 [==============================] - 0s 7ms/step - loss: 5201.0747 - mae: 5201.0747\n",
            "Epoch 92/500\n",
            "34/34 [==============================] - 0s 7ms/step - loss: 5090.6650 - mae: 5090.6650\n",
            "Epoch 93/500\n",
            "34/34 [==============================] - 0s 8ms/step - loss: 4971.7339 - mae: 4971.7339\n",
            "Epoch 94/500\n",
            "34/34 [==============================] - 0s 8ms/step - loss: 4819.8174 - mae: 4819.8174\n",
            "Epoch 95/500\n",
            "34/34 [==============================] - 0s 6ms/step - loss: 4656.6626 - mae: 4656.6626\n",
            "Epoch 96/500\n",
            "34/34 [==============================] - 0s 5ms/step - loss: 4482.9800 - mae: 4482.9800\n",
            "Epoch 97/500\n",
            "34/34 [==============================] - 0s 6ms/step - loss: 4295.9673 - mae: 4295.9673\n",
            "Epoch 98/500\n",
            "34/34 [==============================] - 0s 5ms/step - loss: 4099.9854 - mae: 4099.9854\n",
            "Epoch 99/500\n",
            "34/34 [==============================] - 0s 5ms/step - loss: 3965.8271 - mae: 3965.8271\n",
            "Epoch 100/500\n",
            "34/34 [==============================] - 0s 4ms/step - loss: 3844.1985 - mae: 3844.1985\n",
            "Epoch 101/500\n",
            "34/34 [==============================] - 0s 4ms/step - loss: 3814.1199 - mae: 3814.1199\n",
            "Epoch 102/500\n",
            "34/34 [==============================] - 0s 4ms/step - loss: 3744.1335 - mae: 3744.1335\n",
            "Epoch 103/500\n",
            "34/34 [==============================] - 0s 5ms/step - loss: 3715.9963 - mae: 3715.9963\n",
            "Epoch 104/500\n",
            "34/34 [==============================] - 0s 4ms/step - loss: 3720.4944 - mae: 3720.4944\n",
            "Epoch 105/500\n",
            "34/34 [==============================] - 0s 4ms/step - loss: 3691.7393 - mae: 3691.7393\n",
            "Epoch 106/500\n",
            "34/34 [==============================] - 0s 4ms/step - loss: 3679.9663 - mae: 3679.9663\n",
            "Epoch 107/500\n",
            "34/34 [==============================] - 0s 5ms/step - loss: 3670.0398 - mae: 3670.0398\n",
            "Epoch 108/500\n",
            "34/34 [==============================] - 0s 5ms/step - loss: 3670.0093 - mae: 3670.0093\n",
            "Epoch 109/500\n",
            "34/34 [==============================] - 0s 7ms/step - loss: 3680.9722 - mae: 3680.9722\n",
            "Epoch 110/500\n",
            "34/34 [==============================] - 0s 9ms/step - loss: 3653.5447 - mae: 3653.5447\n",
            "Epoch 111/500\n",
            "34/34 [==============================] - 0s 8ms/step - loss: 3667.8892 - mae: 3667.8892\n",
            "Epoch 112/500\n",
            "34/34 [==============================] - 0s 6ms/step - loss: 3645.9519 - mae: 3645.9519\n",
            "Epoch 113/500\n",
            "34/34 [==============================] - 0s 7ms/step - loss: 3640.4971 - mae: 3640.4971\n",
            "Epoch 114/500\n",
            "34/34 [==============================] - 0s 6ms/step - loss: 3650.2905 - mae: 3650.2905\n",
            "Epoch 115/500\n",
            "34/34 [==============================] - 0s 6ms/step - loss: 3636.4390 - mae: 3636.4390\n",
            "Epoch 116/500\n",
            "34/34 [==============================] - 0s 7ms/step - loss: 3620.7454 - mae: 3620.7454\n",
            "Epoch 117/500\n",
            "34/34 [==============================] - 0s 6ms/step - loss: 3618.4807 - mae: 3618.4807\n",
            "Epoch 118/500\n",
            "34/34 [==============================] - 0s 5ms/step - loss: 3629.3064 - mae: 3629.3064\n",
            "Epoch 119/500\n",
            "34/34 [==============================] - 0s 7ms/step - loss: 3611.0593 - mae: 3611.0593\n",
            "Epoch 120/500\n",
            "34/34 [==============================] - 0s 9ms/step - loss: 3598.3091 - mae: 3598.3091\n",
            "Epoch 121/500\n",
            "34/34 [==============================] - 0s 8ms/step - loss: 3591.1750 - mae: 3591.1750\n",
            "Epoch 122/500\n",
            "34/34 [==============================] - 0s 7ms/step - loss: 3582.3699 - mae: 3582.3699\n",
            "Epoch 123/500\n",
            "34/34 [==============================] - 0s 4ms/step - loss: 3589.9829 - mae: 3589.9829\n",
            "Epoch 124/500\n",
            "34/34 [==============================] - 0s 5ms/step - loss: 3593.8740 - mae: 3593.8740\n",
            "Epoch 125/500\n",
            "34/34 [==============================] - 0s 7ms/step - loss: 3574.9788 - mae: 3574.9788\n",
            "Epoch 126/500\n",
            "34/34 [==============================] - 0s 5ms/step - loss: 3566.9248 - mae: 3566.9248\n",
            "Epoch 127/500\n",
            "34/34 [==============================] - 0s 7ms/step - loss: 3570.6147 - mae: 3570.6147\n",
            "Epoch 128/500\n",
            "34/34 [==============================] - 0s 5ms/step - loss: 3554.5327 - mae: 3554.5327\n",
            "Epoch 129/500\n",
            "34/34 [==============================] - 0s 5ms/step - loss: 3550.4614 - mae: 3550.4614\n",
            "Epoch 130/500\n",
            "34/34 [==============================] - 0s 8ms/step - loss: 3553.2644 - mae: 3553.2644\n",
            "Epoch 131/500\n",
            "34/34 [==============================] - 0s 6ms/step - loss: 3535.5818 - mae: 3535.5818\n",
            "Epoch 132/500\n",
            "34/34 [==============================] - 0s 6ms/step - loss: 3537.9172 - mae: 3537.9172\n",
            "Epoch 133/500\n",
            "34/34 [==============================] - 0s 3ms/step - loss: 3535.0205 - mae: 3535.0205\n",
            "Epoch 134/500\n",
            "34/34 [==============================] - 0s 3ms/step - loss: 3517.8489 - mae: 3517.8489\n",
            "Epoch 135/500\n",
            "34/34 [==============================] - 0s 3ms/step - loss: 3513.6602 - mae: 3513.6602\n",
            "Epoch 136/500\n",
            "34/34 [==============================] - 0s 3ms/step - loss: 3508.0361 - mae: 3508.0361\n",
            "Epoch 137/500\n",
            "34/34 [==============================] - 0s 3ms/step - loss: 3496.3589 - mae: 3496.3589\n",
            "Epoch 138/500\n",
            "34/34 [==============================] - 0s 3ms/step - loss: 3495.8369 - mae: 3495.8369\n",
            "Epoch 139/500\n",
            "34/34 [==============================] - 0s 3ms/step - loss: 3497.1165 - mae: 3497.1165\n",
            "Epoch 140/500\n",
            "34/34 [==============================] - 0s 3ms/step - loss: 3484.8713 - mae: 3484.8713\n",
            "Epoch 141/500\n",
            "34/34 [==============================] - 0s 3ms/step - loss: 3467.6931 - mae: 3467.6931\n",
            "Epoch 142/500\n",
            "34/34 [==============================] - 0s 3ms/step - loss: 3459.1340 - mae: 3459.1340\n",
            "Epoch 143/500\n",
            "34/34 [==============================] - 0s 3ms/step - loss: 3468.6072 - mae: 3468.6072\n",
            "Epoch 144/500\n",
            "34/34 [==============================] - 0s 3ms/step - loss: 3438.4663 - mae: 3438.4663\n",
            "Epoch 145/500\n",
            "34/34 [==============================] - 0s 3ms/step - loss: 3434.6289 - mae: 3434.6289\n",
            "Epoch 146/500\n",
            "34/34 [==============================] - 0s 3ms/step - loss: 3430.2144 - mae: 3430.2144\n",
            "Epoch 147/500\n",
            "34/34 [==============================] - 0s 3ms/step - loss: 3433.2061 - mae: 3433.2061\n",
            "Epoch 148/500\n",
            "34/34 [==============================] - 0s 2ms/step - loss: 3410.0078 - mae: 3410.0078\n",
            "Epoch 149/500\n",
            "34/34 [==============================] - 0s 2ms/step - loss: 3395.9749 - mae: 3395.9749\n",
            "Epoch 150/500\n",
            "34/34 [==============================] - 0s 3ms/step - loss: 3388.4321 - mae: 3388.4321\n",
            "Epoch 151/500\n",
            "34/34 [==============================] - 0s 4ms/step - loss: 3380.6946 - mae: 3380.6946\n",
            "Epoch 152/500\n",
            "34/34 [==============================] - 0s 4ms/step - loss: 3366.7231 - mae: 3366.7231\n",
            "Epoch 153/500\n",
            "34/34 [==============================] - 0s 4ms/step - loss: 3385.0972 - mae: 3385.0972\n",
            "Epoch 154/500\n",
            "34/34 [==============================] - 0s 4ms/step - loss: 3374.3718 - mae: 3374.3718\n",
            "Epoch 155/500\n",
            "34/34 [==============================] - 0s 4ms/step - loss: 3345.9846 - mae: 3345.9846\n",
            "Epoch 156/500\n",
            "34/34 [==============================] - 0s 4ms/step - loss: 3327.7395 - mae: 3327.7395\n",
            "Epoch 157/500\n",
            "34/34 [==============================] - 0s 4ms/step - loss: 3316.4460 - mae: 3316.4460\n",
            "Epoch 158/500\n",
            "34/34 [==============================] - 0s 4ms/step - loss: 3305.0125 - mae: 3305.0125\n",
            "Epoch 159/500\n",
            "34/34 [==============================] - 0s 5ms/step - loss: 3309.0249 - mae: 3309.0249\n",
            "Epoch 160/500\n",
            "34/34 [==============================] - 0s 4ms/step - loss: 3310.0911 - mae: 3310.0911\n",
            "Epoch 161/500\n",
            "34/34 [==============================] - 0s 4ms/step - loss: 3266.2266 - mae: 3266.2266\n",
            "Epoch 162/500\n",
            "34/34 [==============================] - 0s 4ms/step - loss: 3260.7971 - mae: 3260.7971\n",
            "Epoch 163/500\n",
            "34/34 [==============================] - 0s 5ms/step - loss: 3251.8125 - mae: 3251.8125\n",
            "Epoch 164/500\n",
            "34/34 [==============================] - 0s 4ms/step - loss: 3252.5039 - mae: 3252.5039\n",
            "Epoch 165/500\n",
            "34/34 [==============================] - 0s 5ms/step - loss: 3226.0405 - mae: 3226.0405\n",
            "Epoch 166/500\n",
            "34/34 [==============================] - 0s 4ms/step - loss: 3212.6787 - mae: 3212.6787\n",
            "Epoch 167/500\n",
            "34/34 [==============================] - 0s 4ms/step - loss: 3199.4863 - mae: 3199.4863\n",
            "Epoch 168/500\n",
            "34/34 [==============================] - 0s 5ms/step - loss: 3187.9277 - mae: 3187.9277\n",
            "Epoch 169/500\n",
            "34/34 [==============================] - 0s 4ms/step - loss: 3178.3345 - mae: 3178.3345\n",
            "Epoch 170/500\n",
            "34/34 [==============================] - 0s 4ms/step - loss: 3166.0803 - mae: 3166.0803\n",
            "Epoch 171/500\n",
            "34/34 [==============================] - 0s 4ms/step - loss: 3148.7363 - mae: 3148.7363\n",
            "Epoch 172/500\n",
            "34/34 [==============================] - 0s 4ms/step - loss: 3140.6228 - mae: 3140.6228\n",
            "Epoch 173/500\n",
            "34/34 [==============================] - 0s 4ms/step - loss: 3118.2917 - mae: 3118.2917\n",
            "Epoch 174/500\n",
            "34/34 [==============================] - 0s 4ms/step - loss: 3116.3369 - mae: 3116.3369\n",
            "Epoch 175/500\n",
            "34/34 [==============================] - 0s 4ms/step - loss: 3110.1184 - mae: 3110.1184\n",
            "Epoch 176/500\n",
            "34/34 [==============================] - 0s 4ms/step - loss: 3082.4243 - mae: 3082.4243\n",
            "Epoch 177/500\n",
            "34/34 [==============================] - 0s 4ms/step - loss: 3084.0996 - mae: 3084.0996\n",
            "Epoch 178/500\n",
            "34/34 [==============================] - 0s 4ms/step - loss: 3066.7363 - mae: 3066.7363\n",
            "Epoch 179/500\n",
            "34/34 [==============================] - 0s 4ms/step - loss: 3051.2024 - mae: 3051.2024\n",
            "Epoch 180/500\n",
            "34/34 [==============================] - 0s 5ms/step - loss: 3047.9148 - mae: 3047.9148\n",
            "Epoch 181/500\n",
            "34/34 [==============================] - 0s 4ms/step - loss: 3045.9507 - mae: 3045.9507\n",
            "Epoch 182/500\n",
            "34/34 [==============================] - 0s 4ms/step - loss: 3048.3535 - mae: 3048.3535\n",
            "Epoch 183/500\n",
            "34/34 [==============================] - 0s 5ms/step - loss: 3028.0430 - mae: 3028.0430\n",
            "Epoch 184/500\n",
            "34/34 [==============================] - 0s 4ms/step - loss: 3027.0256 - mae: 3027.0256\n",
            "Epoch 185/500\n",
            "34/34 [==============================] - 0s 3ms/step - loss: 3010.5376 - mae: 3010.5376\n",
            "Epoch 186/500\n",
            "34/34 [==============================] - 0s 3ms/step - loss: 3009.0884 - mae: 3009.0884\n",
            "Epoch 187/500\n",
            "34/34 [==============================] - 0s 3ms/step - loss: 3006.0515 - mae: 3006.0515\n",
            "Epoch 188/500\n",
            "34/34 [==============================] - 0s 3ms/step - loss: 2988.9829 - mae: 2988.9829\n",
            "Epoch 189/500\n",
            "34/34 [==============================] - 0s 2ms/step - loss: 2983.7686 - mae: 2983.7686\n",
            "Epoch 190/500\n",
            "34/34 [==============================] - 0s 2ms/step - loss: 2989.0076 - mae: 2989.0076\n",
            "Epoch 191/500\n",
            "34/34 [==============================] - 0s 3ms/step - loss: 2981.5022 - mae: 2981.5022\n",
            "Epoch 192/500\n",
            "34/34 [==============================] - 0s 2ms/step - loss: 2970.3955 - mae: 2970.3955\n",
            "Epoch 193/500\n",
            "34/34 [==============================] - 0s 2ms/step - loss: 2970.6082 - mae: 2970.6082\n",
            "Epoch 194/500\n",
            "34/34 [==============================] - 0s 3ms/step - loss: 2962.3772 - mae: 2962.3772\n",
            "Epoch 195/500\n",
            "34/34 [==============================] - 0s 3ms/step - loss: 2960.4492 - mae: 2960.4492\n",
            "Epoch 196/500\n",
            "34/34 [==============================] - 0s 2ms/step - loss: 2972.3015 - mae: 2972.3015\n",
            "Epoch 197/500\n",
            "34/34 [==============================] - 0s 2ms/step - loss: 2973.0225 - mae: 2973.0225\n",
            "Epoch 198/500\n",
            "34/34 [==============================] - 0s 3ms/step - loss: 2945.9255 - mae: 2945.9255\n",
            "Epoch 199/500\n",
            "34/34 [==============================] - 0s 2ms/step - loss: 2946.0947 - mae: 2946.0947\n",
            "Epoch 200/500\n",
            "34/34 [==============================] - 0s 3ms/step - loss: 2948.9199 - mae: 2948.9199\n",
            "Epoch 201/500\n",
            "34/34 [==============================] - 0s 3ms/step - loss: 2927.7708 - mae: 2927.7708\n",
            "Epoch 202/500\n",
            "34/34 [==============================] - 0s 3ms/step - loss: 2925.9485 - mae: 2925.9485\n",
            "Epoch 203/500\n",
            "34/34 [==============================] - 0s 2ms/step - loss: 2923.9360 - mae: 2923.9360\n",
            "Epoch 204/500\n",
            "34/34 [==============================] - 0s 3ms/step - loss: 2915.8943 - mae: 2915.8943\n",
            "Epoch 205/500\n",
            "34/34 [==============================] - 0s 2ms/step - loss: 2907.9912 - mae: 2907.9912\n",
            "Epoch 206/500\n",
            "34/34 [==============================] - 0s 3ms/step - loss: 2906.4131 - mae: 2906.4131\n",
            "Epoch 207/500\n",
            "34/34 [==============================] - 0s 2ms/step - loss: 2902.3433 - mae: 2902.3433\n",
            "Epoch 208/500\n",
            "34/34 [==============================] - 0s 2ms/step - loss: 2895.6099 - mae: 2895.6099\n",
            "Epoch 209/500\n",
            "34/34 [==============================] - 0s 3ms/step - loss: 2890.1636 - mae: 2890.1636\n",
            "Epoch 210/500\n",
            "34/34 [==============================] - 0s 3ms/step - loss: 2889.4248 - mae: 2889.4248\n",
            "Epoch 211/500\n",
            "34/34 [==============================] - 0s 3ms/step - loss: 2875.2437 - mae: 2875.2437\n",
            "Epoch 212/500\n",
            "34/34 [==============================] - 0s 3ms/step - loss: 2867.5073 - mae: 2867.5073\n",
            "Epoch 213/500\n",
            "34/34 [==============================] - 0s 3ms/step - loss: 2867.9514 - mae: 2867.9514\n",
            "Epoch 214/500\n",
            "34/34 [==============================] - 0s 3ms/step - loss: 2865.2244 - mae: 2865.2244\n",
            "Epoch 215/500\n",
            "34/34 [==============================] - 0s 3ms/step - loss: 2858.5354 - mae: 2858.5354\n",
            "Epoch 216/500\n",
            "34/34 [==============================] - 0s 2ms/step - loss: 2849.3613 - mae: 2849.3613\n",
            "Epoch 217/500\n",
            "34/34 [==============================] - 0s 3ms/step - loss: 2858.5208 - mae: 2858.5208\n",
            "Epoch 218/500\n",
            "34/34 [==============================] - 0s 3ms/step - loss: 2852.2361 - mae: 2852.2361\n",
            "Epoch 219/500\n",
            "34/34 [==============================] - 0s 3ms/step - loss: 2835.5657 - mae: 2835.5657\n",
            "Epoch 220/500\n",
            "34/34 [==============================] - 0s 3ms/step - loss: 2834.8152 - mae: 2834.8152\n",
            "Epoch 221/500\n",
            "34/34 [==============================] - 0s 3ms/step - loss: 2860.2659 - mae: 2860.2659\n",
            "Epoch 222/500\n",
            "34/34 [==============================] - 0s 3ms/step - loss: 2835.5571 - mae: 2835.5571\n",
            "Epoch 223/500\n",
            "34/34 [==============================] - 0s 3ms/step - loss: 2819.7734 - mae: 2819.7734\n",
            "Epoch 224/500\n",
            "34/34 [==============================] - 0s 3ms/step - loss: 2815.4617 - mae: 2815.4617\n",
            "Epoch 225/500\n",
            "34/34 [==============================] - 0s 3ms/step - loss: 2808.3760 - mae: 2808.3760\n",
            "Epoch 226/500\n",
            "34/34 [==============================] - 0s 3ms/step - loss: 2805.4382 - mae: 2805.4382\n",
            "Epoch 227/500\n",
            "34/34 [==============================] - 0s 3ms/step - loss: 2808.7146 - mae: 2808.7146\n",
            "Epoch 228/500\n",
            "34/34 [==============================] - 0s 3ms/step - loss: 2791.6626 - mae: 2791.6626\n",
            "Epoch 229/500\n",
            "34/34 [==============================] - 0s 4ms/step - loss: 2800.5825 - mae: 2800.5825\n",
            "Epoch 230/500\n",
            "34/34 [==============================] - 0s 3ms/step - loss: 2784.6453 - mae: 2784.6453\n",
            "Epoch 231/500\n",
            "34/34 [==============================] - 0s 3ms/step - loss: 2776.1814 - mae: 2776.1814\n",
            "Epoch 232/500\n",
            "34/34 [==============================] - 0s 3ms/step - loss: 2780.3020 - mae: 2780.3020\n",
            "Epoch 233/500\n",
            "34/34 [==============================] - 0s 3ms/step - loss: 2769.2727 - mae: 2769.2727\n",
            "Epoch 234/500\n",
            "34/34 [==============================] - 0s 2ms/step - loss: 2758.7568 - mae: 2758.7568\n",
            "Epoch 235/500\n",
            "34/34 [==============================] - 0s 3ms/step - loss: 2769.6665 - mae: 2769.6665\n",
            "Epoch 236/500\n",
            "34/34 [==============================] - 0s 3ms/step - loss: 2758.8525 - mae: 2758.8525\n",
            "Epoch 237/500\n",
            "34/34 [==============================] - 0s 3ms/step - loss: 2752.0918 - mae: 2752.0918\n",
            "Epoch 238/500\n",
            "34/34 [==============================] - 0s 3ms/step - loss: 2745.6980 - mae: 2745.6980\n",
            "Epoch 239/500\n",
            "34/34 [==============================] - 0s 3ms/step - loss: 2741.8770 - mae: 2741.8770\n",
            "Epoch 240/500\n",
            "34/34 [==============================] - 0s 3ms/step - loss: 2740.0317 - mae: 2740.0317\n",
            "Epoch 241/500\n",
            "34/34 [==============================] - 0s 3ms/step - loss: 2732.0894 - mae: 2732.0894\n",
            "Epoch 242/500\n",
            "34/34 [==============================] - 0s 3ms/step - loss: 2735.1177 - mae: 2735.1177\n",
            "Epoch 243/500\n",
            "34/34 [==============================] - 0s 2ms/step - loss: 2725.4421 - mae: 2725.4421\n",
            "Epoch 244/500\n",
            "34/34 [==============================] - 0s 3ms/step - loss: 2714.8582 - mae: 2714.8582\n",
            "Epoch 245/500\n",
            "34/34 [==============================] - 0s 2ms/step - loss: 2722.0117 - mae: 2722.0117\n",
            "Epoch 246/500\n",
            "34/34 [==============================] - 0s 3ms/step - loss: 2709.7021 - mae: 2709.7021\n",
            "Epoch 247/500\n",
            "34/34 [==============================] - 0s 3ms/step - loss: 2709.4927 - mae: 2709.4927\n",
            "Epoch 248/500\n",
            "34/34 [==============================] - 0s 3ms/step - loss: 2704.1147 - mae: 2704.1147\n",
            "Epoch 249/500\n",
            "34/34 [==============================] - 0s 3ms/step - loss: 2698.1584 - mae: 2698.1584\n",
            "Epoch 250/500\n",
            "34/34 [==============================] - 0s 4ms/step - loss: 2694.7366 - mae: 2694.7366\n",
            "Epoch 251/500\n",
            "34/34 [==============================] - 0s 3ms/step - loss: 2690.0864 - mae: 2690.0864\n",
            "Epoch 252/500\n",
            "34/34 [==============================] - 0s 2ms/step - loss: 2695.8652 - mae: 2695.8652\n",
            "Epoch 253/500\n",
            "34/34 [==============================] - 0s 3ms/step - loss: 2695.5444 - mae: 2695.5444\n",
            "Epoch 254/500\n",
            "34/34 [==============================] - 0s 3ms/step - loss: 2682.5117 - mae: 2682.5117\n",
            "Epoch 255/500\n",
            "34/34 [==============================] - 0s 2ms/step - loss: 2683.9124 - mae: 2683.9124\n",
            "Epoch 256/500\n",
            "34/34 [==============================] - 0s 3ms/step - loss: 2677.2092 - mae: 2677.2092\n",
            "Epoch 257/500\n",
            "34/34 [==============================] - 0s 3ms/step - loss: 2678.7632 - mae: 2678.7632\n",
            "Epoch 258/500\n",
            "34/34 [==============================] - 0s 3ms/step - loss: 2672.7104 - mae: 2672.7104\n",
            "Epoch 259/500\n",
            "34/34 [==============================] - 0s 3ms/step - loss: 2663.6113 - mae: 2663.6113\n",
            "Epoch 260/500\n",
            "34/34 [==============================] - 0s 3ms/step - loss: 2668.6255 - mae: 2668.6255\n",
            "Epoch 261/500\n",
            "34/34 [==============================] - 0s 2ms/step - loss: 2662.4915 - mae: 2662.4915\n",
            "Epoch 262/500\n",
            "34/34 [==============================] - 0s 2ms/step - loss: 2665.0542 - mae: 2665.0542\n",
            "Epoch 263/500\n",
            "34/34 [==============================] - 0s 3ms/step - loss: 2654.9983 - mae: 2654.9983\n",
            "Epoch 264/500\n",
            "34/34 [==============================] - 0s 3ms/step - loss: 2651.7234 - mae: 2651.7234\n",
            "Epoch 265/500\n",
            "34/34 [==============================] - 0s 2ms/step - loss: 2645.0493 - mae: 2645.0493\n",
            "Epoch 266/500\n",
            "34/34 [==============================] - 0s 3ms/step - loss: 2642.8704 - mae: 2642.8704\n",
            "Epoch 267/500\n",
            "34/34 [==============================] - 0s 2ms/step - loss: 2640.2891 - mae: 2640.2891\n",
            "Epoch 268/500\n",
            "34/34 [==============================] - 0s 2ms/step - loss: 2634.5020 - mae: 2634.5020\n",
            "Epoch 269/500\n",
            "34/34 [==============================] - 0s 3ms/step - loss: 2631.2996 - mae: 2631.2996\n",
            "Epoch 270/500\n",
            "34/34 [==============================] - 0s 3ms/step - loss: 2634.0745 - mae: 2634.0745\n",
            "Epoch 271/500\n",
            "34/34 [==============================] - 0s 3ms/step - loss: 2637.5237 - mae: 2637.5237\n",
            "Epoch 272/500\n",
            "34/34 [==============================] - 0s 3ms/step - loss: 2628.2791 - mae: 2628.2791\n",
            "Epoch 273/500\n",
            "34/34 [==============================] - 0s 3ms/step - loss: 2626.3435 - mae: 2626.3435\n",
            "Epoch 274/500\n",
            "34/34 [==============================] - 0s 3ms/step - loss: 2635.6992 - mae: 2635.6992\n",
            "Epoch 275/500\n",
            "34/34 [==============================] - 0s 3ms/step - loss: 2616.3459 - mae: 2616.3459\n",
            "Epoch 276/500\n",
            "34/34 [==============================] - 0s 3ms/step - loss: 2618.9897 - mae: 2618.9897\n",
            "Epoch 277/500\n",
            "34/34 [==============================] - 0s 2ms/step - loss: 2616.9265 - mae: 2616.9265\n",
            "Epoch 278/500\n",
            "34/34 [==============================] - 0s 2ms/step - loss: 2611.8997 - mae: 2611.8997\n",
            "Epoch 279/500\n",
            "34/34 [==============================] - 0s 3ms/step - loss: 2611.1167 - mae: 2611.1167\n",
            "Epoch 280/500\n",
            "34/34 [==============================] - 0s 3ms/step - loss: 2609.5474 - mae: 2609.5474\n",
            "Epoch 281/500\n",
            "34/34 [==============================] - 0s 2ms/step - loss: 2611.2825 - mae: 2611.2825\n",
            "Epoch 282/500\n",
            "34/34 [==============================] - 0s 3ms/step - loss: 2603.3535 - mae: 2603.3535\n",
            "Epoch 283/500\n",
            "34/34 [==============================] - 0s 2ms/step - loss: 2597.8247 - mae: 2597.8247\n",
            "Epoch 284/500\n",
            "34/34 [==============================] - 0s 3ms/step - loss: 2601.6821 - mae: 2601.6821\n",
            "Epoch 285/500\n",
            "34/34 [==============================] - 0s 4ms/step - loss: 2593.8608 - mae: 2593.8608\n",
            "Epoch 286/500\n",
            "34/34 [==============================] - 0s 4ms/step - loss: 2595.3667 - mae: 2595.3667\n",
            "Epoch 287/500\n",
            "34/34 [==============================] - 0s 4ms/step - loss: 2587.9834 - mae: 2587.9834\n",
            "Epoch 288/500\n",
            "34/34 [==============================] - 0s 4ms/step - loss: 2585.9949 - mae: 2585.9949\n",
            "Epoch 289/500\n",
            "34/34 [==============================] - 0s 5ms/step - loss: 2587.1372 - mae: 2587.1372\n",
            "Epoch 290/500\n",
            "34/34 [==============================] - 0s 4ms/step - loss: 2591.3447 - mae: 2591.3447\n",
            "Epoch 291/500\n",
            "34/34 [==============================] - 0s 4ms/step - loss: 2580.2207 - mae: 2580.2207\n",
            "Epoch 292/500\n",
            "34/34 [==============================] - 0s 4ms/step - loss: 2582.7659 - mae: 2582.7659\n",
            "Epoch 293/500\n",
            "34/34 [==============================] - 0s 4ms/step - loss: 2592.9829 - mae: 2592.9829\n",
            "Epoch 294/500\n",
            "34/34 [==============================] - 0s 4ms/step - loss: 2589.7524 - mae: 2589.7524\n",
            "Epoch 295/500\n",
            "34/34 [==============================] - 0s 4ms/step - loss: 2577.1924 - mae: 2577.1924\n",
            "Epoch 296/500\n",
            "34/34 [==============================] - 0s 4ms/step - loss: 2596.2771 - mae: 2596.2771\n",
            "Epoch 297/500\n",
            "34/34 [==============================] - 0s 3ms/step - loss: 2589.2378 - mae: 2589.2378\n",
            "Epoch 298/500\n",
            "34/34 [==============================] - 0s 4ms/step - loss: 2570.9761 - mae: 2570.9761\n",
            "Epoch 299/500\n",
            "34/34 [==============================] - 0s 4ms/step - loss: 2569.1099 - mae: 2569.1099\n",
            "Epoch 300/500\n",
            "34/34 [==============================] - 0s 4ms/step - loss: 2564.4128 - mae: 2564.4128\n",
            "Epoch 301/500\n",
            "34/34 [==============================] - 0s 4ms/step - loss: 2559.7573 - mae: 2559.7573\n",
            "Epoch 302/500\n",
            "34/34 [==============================] - 0s 4ms/step - loss: 2559.5598 - mae: 2559.5598\n",
            "Epoch 303/500\n",
            "34/34 [==============================] - 0s 4ms/step - loss: 2559.2468 - mae: 2559.2468\n",
            "Epoch 304/500\n",
            "34/34 [==============================] - 0s 4ms/step - loss: 2553.5188 - mae: 2553.5188\n",
            "Epoch 305/500\n",
            "34/34 [==============================] - 0s 4ms/step - loss: 2555.6401 - mae: 2555.6401\n",
            "Epoch 306/500\n",
            "34/34 [==============================] - 0s 4ms/step - loss: 2552.8501 - mae: 2552.8501\n",
            "Epoch 307/500\n",
            "34/34 [==============================] - 0s 4ms/step - loss: 2547.1780 - mae: 2547.1780\n",
            "Epoch 308/500\n",
            "34/34 [==============================] - 0s 4ms/step - loss: 2549.6765 - mae: 2549.6765\n",
            "Epoch 309/500\n",
            "34/34 [==============================] - 0s 4ms/step - loss: 2547.0020 - mae: 2547.0020\n",
            "Epoch 310/500\n",
            "34/34 [==============================] - 0s 5ms/step - loss: 2553.6475 - mae: 2553.6475\n",
            "Epoch 311/500\n",
            "34/34 [==============================] - 0s 4ms/step - loss: 2543.3340 - mae: 2543.3340\n",
            "Epoch 312/500\n",
            "34/34 [==============================] - 0s 4ms/step - loss: 2554.9756 - mae: 2554.9756\n",
            "Epoch 313/500\n",
            "34/34 [==============================] - 0s 4ms/step - loss: 2536.7520 - mae: 2536.7520\n",
            "Epoch 314/500\n",
            "34/34 [==============================] - 0s 4ms/step - loss: 2540.1050 - mae: 2540.1050\n",
            "Epoch 315/500\n",
            "34/34 [==============================] - 0s 4ms/step - loss: 2543.2083 - mae: 2543.2083\n",
            "Epoch 316/500\n",
            "34/34 [==============================] - 0s 4ms/step - loss: 2533.9719 - mae: 2533.9719\n",
            "Epoch 317/500\n",
            "34/34 [==============================] - 0s 4ms/step - loss: 2527.1628 - mae: 2527.1628\n",
            "Epoch 318/500\n",
            "34/34 [==============================] - 0s 5ms/step - loss: 2531.4634 - mae: 2531.4634\n",
            "Epoch 319/500\n",
            "34/34 [==============================] - 0s 4ms/step - loss: 2525.2458 - mae: 2525.2458\n",
            "Epoch 320/500\n",
            "34/34 [==============================] - 0s 4ms/step - loss: 2524.7720 - mae: 2524.7720\n",
            "Epoch 321/500\n",
            "34/34 [==============================] - 0s 4ms/step - loss: 2530.2227 - mae: 2530.2227\n",
            "Epoch 322/500\n",
            "34/34 [==============================] - 0s 4ms/step - loss: 2520.8887 - mae: 2520.8887\n",
            "Epoch 323/500\n",
            "34/34 [==============================] - 0s 3ms/step - loss: 2517.9321 - mae: 2517.9321\n",
            "Epoch 324/500\n",
            "34/34 [==============================] - 0s 2ms/step - loss: 2515.6155 - mae: 2515.6155\n",
            "Epoch 325/500\n",
            "34/34 [==============================] - 0s 2ms/step - loss: 2519.6638 - mae: 2519.6638\n",
            "Epoch 326/500\n",
            "34/34 [==============================] - 0s 4ms/step - loss: 2518.8247 - mae: 2518.8247\n",
            "Epoch 327/500\n",
            "34/34 [==============================] - 0s 3ms/step - loss: 2513.8289 - mae: 2513.8289\n",
            "Epoch 328/500\n",
            "34/34 [==============================] - 0s 2ms/step - loss: 2530.4802 - mae: 2530.4802\n",
            "Epoch 329/500\n",
            "34/34 [==============================] - 0s 3ms/step - loss: 2513.1731 - mae: 2513.1731\n",
            "Epoch 330/500\n",
            "34/34 [==============================] - 0s 3ms/step - loss: 2510.1067 - mae: 2510.1067\n",
            "Epoch 331/500\n",
            "34/34 [==============================] - 0s 3ms/step - loss: 2504.4814 - mae: 2504.4814\n",
            "Epoch 332/500\n",
            "34/34 [==============================] - 0s 2ms/step - loss: 2507.7205 - mae: 2507.7205\n",
            "Epoch 333/500\n",
            "34/34 [==============================] - 0s 3ms/step - loss: 2506.0508 - mae: 2506.0508\n",
            "Epoch 334/500\n",
            "34/34 [==============================] - 0s 3ms/step - loss: 2505.2676 - mae: 2505.2676\n",
            "Epoch 335/500\n",
            "34/34 [==============================] - 0s 3ms/step - loss: 2500.1021 - mae: 2500.1021\n",
            "Epoch 336/500\n",
            "34/34 [==============================] - 0s 3ms/step - loss: 2505.4412 - mae: 2505.4412\n",
            "Epoch 337/500\n",
            "34/34 [==============================] - 0s 3ms/step - loss: 2493.9785 - mae: 2493.9785\n",
            "Epoch 338/500\n",
            "34/34 [==============================] - 0s 3ms/step - loss: 2492.2024 - mae: 2492.2024\n",
            "Epoch 339/500\n",
            "34/34 [==============================] - 0s 3ms/step - loss: 2507.3289 - mae: 2507.3289\n",
            "Epoch 340/500\n",
            "34/34 [==============================] - 0s 3ms/step - loss: 2493.4756 - mae: 2493.4756\n",
            "Epoch 341/500\n",
            "34/34 [==============================] - 0s 4ms/step - loss: 2491.6060 - mae: 2491.6060\n",
            "Epoch 342/500\n",
            "34/34 [==============================] - 0s 3ms/step - loss: 2485.5132 - mae: 2485.5132\n",
            "Epoch 343/500\n",
            "34/34 [==============================] - 0s 3ms/step - loss: 2482.5691 - mae: 2482.5691\n",
            "Epoch 344/500\n",
            "34/34 [==============================] - 0s 2ms/step - loss: 2480.0166 - mae: 2480.0166\n",
            "Epoch 345/500\n",
            "34/34 [==============================] - 0s 3ms/step - loss: 2481.9873 - mae: 2481.9873\n",
            "Epoch 346/500\n",
            "34/34 [==============================] - 0s 3ms/step - loss: 2486.4438 - mae: 2486.4438\n",
            "Epoch 347/500\n",
            "34/34 [==============================] - 0s 3ms/step - loss: 2484.7732 - mae: 2484.7732\n",
            "Epoch 348/500\n",
            "34/34 [==============================] - 0s 2ms/step - loss: 2472.6287 - mae: 2472.6287\n",
            "Epoch 349/500\n",
            "34/34 [==============================] - 0s 3ms/step - loss: 2487.8110 - mae: 2487.8110\n",
            "Epoch 350/500\n",
            "34/34 [==============================] - 0s 3ms/step - loss: 2474.3215 - mae: 2474.3215\n",
            "Epoch 351/500\n",
            "34/34 [==============================] - 0s 3ms/step - loss: 2470.1575 - mae: 2470.1575\n",
            "Epoch 352/500\n",
            "34/34 [==============================] - 0s 2ms/step - loss: 2467.4709 - mae: 2467.4709\n",
            "Epoch 353/500\n",
            "34/34 [==============================] - 0s 3ms/step - loss: 2462.8743 - mae: 2462.8743\n",
            "Epoch 354/500\n",
            "34/34 [==============================] - 0s 3ms/step - loss: 2461.8538 - mae: 2461.8538\n",
            "Epoch 355/500\n",
            "34/34 [==============================] - 0s 3ms/step - loss: 2463.1548 - mae: 2463.1548\n",
            "Epoch 356/500\n",
            "34/34 [==============================] - 0s 2ms/step - loss: 2461.1458 - mae: 2461.1458\n",
            "Epoch 357/500\n",
            "34/34 [==============================] - 0s 3ms/step - loss: 2457.2847 - mae: 2457.2847\n",
            "Epoch 358/500\n",
            "34/34 [==============================] - 0s 2ms/step - loss: 2470.9592 - mae: 2470.9592\n",
            "Epoch 359/500\n",
            "34/34 [==============================] - 0s 2ms/step - loss: 2455.1482 - mae: 2455.1482\n",
            "Epoch 360/500\n",
            "34/34 [==============================] - 0s 2ms/step - loss: 2460.7932 - mae: 2460.7932\n",
            "Epoch 361/500\n",
            "34/34 [==============================] - 0s 3ms/step - loss: 2453.4937 - mae: 2453.4937\n",
            "Epoch 362/500\n",
            "34/34 [==============================] - 0s 3ms/step - loss: 2452.8982 - mae: 2452.8982\n",
            "Epoch 363/500\n",
            "34/34 [==============================] - 0s 3ms/step - loss: 2455.5481 - mae: 2455.5481\n",
            "Epoch 364/500\n",
            "34/34 [==============================] - 0s 3ms/step - loss: 2447.0598 - mae: 2447.0598\n",
            "Epoch 365/500\n",
            "34/34 [==============================] - 0s 3ms/step - loss: 2451.3674 - mae: 2451.3674\n",
            "Epoch 366/500\n",
            "34/34 [==============================] - 0s 3ms/step - loss: 2449.2717 - mae: 2449.2717\n",
            "Epoch 367/500\n",
            "34/34 [==============================] - 0s 3ms/step - loss: 2443.1804 - mae: 2443.1804\n",
            "Epoch 368/500\n",
            "34/34 [==============================] - 0s 3ms/step - loss: 2453.3521 - mae: 2453.3521\n",
            "Epoch 369/500\n",
            "34/34 [==============================] - 0s 3ms/step - loss: 2450.5320 - mae: 2450.5320\n",
            "Epoch 370/500\n",
            "34/34 [==============================] - 0s 3ms/step - loss: 2451.1311 - mae: 2451.1311\n",
            "Epoch 371/500\n",
            "34/34 [==============================] - 0s 3ms/step - loss: 2459.7783 - mae: 2459.7783\n",
            "Epoch 372/500\n",
            "34/34 [==============================] - 0s 3ms/step - loss: 2441.2581 - mae: 2441.2581\n",
            "Epoch 373/500\n",
            "34/34 [==============================] - 0s 2ms/step - loss: 2439.2041 - mae: 2439.2041\n",
            "Epoch 374/500\n",
            "34/34 [==============================] - 0s 3ms/step - loss: 2443.3452 - mae: 2443.3452\n",
            "Epoch 375/500\n",
            "34/34 [==============================] - 0s 2ms/step - loss: 2439.2390 - mae: 2439.2390\n",
            "Epoch 376/500\n",
            "34/34 [==============================] - 0s 3ms/step - loss: 2437.1636 - mae: 2437.1636\n",
            "Epoch 377/500\n",
            "34/34 [==============================] - 0s 3ms/step - loss: 2439.9514 - mae: 2439.9514\n",
            "Epoch 378/500\n",
            "34/34 [==============================] - 0s 3ms/step - loss: 2435.2742 - mae: 2435.2742\n",
            "Epoch 379/500\n",
            "34/34 [==============================] - 0s 3ms/step - loss: 2432.8059 - mae: 2432.8059\n",
            "Epoch 380/500\n",
            "34/34 [==============================] - 0s 3ms/step - loss: 2430.6343 - mae: 2430.6343\n",
            "Epoch 381/500\n",
            "34/34 [==============================] - 0s 3ms/step - loss: 2428.3794 - mae: 2428.3794\n",
            "Epoch 382/500\n",
            "34/34 [==============================] - 0s 3ms/step - loss: 2431.3147 - mae: 2431.3147\n",
            "Epoch 383/500\n",
            "34/34 [==============================] - 0s 3ms/step - loss: 2425.6899 - mae: 2425.6899\n",
            "Epoch 384/500\n",
            "34/34 [==============================] - 0s 3ms/step - loss: 2425.1379 - mae: 2425.1379\n",
            "Epoch 385/500\n",
            "34/34 [==============================] - 0s 3ms/step - loss: 2425.5737 - mae: 2425.5737\n",
            "Epoch 386/500\n",
            "34/34 [==============================] - 0s 3ms/step - loss: 2415.4778 - mae: 2415.4778\n",
            "Epoch 387/500\n",
            "34/34 [==============================] - 0s 3ms/step - loss: 2418.9138 - mae: 2418.9138\n",
            "Epoch 388/500\n",
            "34/34 [==============================] - 0s 3ms/step - loss: 2416.6855 - mae: 2416.6855\n",
            "Epoch 389/500\n",
            "34/34 [==============================] - 0s 3ms/step - loss: 2415.0259 - mae: 2415.0259\n",
            "Epoch 390/500\n",
            "34/34 [==============================] - 0s 2ms/step - loss: 2419.5618 - mae: 2419.5618\n",
            "Epoch 391/500\n",
            "34/34 [==============================] - 0s 3ms/step - loss: 2414.4370 - mae: 2414.4370\n",
            "Epoch 392/500\n",
            "34/34 [==============================] - 0s 3ms/step - loss: 2413.2134 - mae: 2413.2134\n",
            "Epoch 393/500\n",
            "34/34 [==============================] - 0s 3ms/step - loss: 2415.3196 - mae: 2415.3196\n",
            "Epoch 394/500\n",
            "34/34 [==============================] - 0s 3ms/step - loss: 2409.6846 - mae: 2409.6846\n",
            "Epoch 395/500\n",
            "34/34 [==============================] - 0s 3ms/step - loss: 2409.9988 - mae: 2409.9988\n",
            "Epoch 396/500\n",
            "34/34 [==============================] - 0s 3ms/step - loss: 2410.7778 - mae: 2410.7778\n",
            "Epoch 397/500\n",
            "34/34 [==============================] - 0s 3ms/step - loss: 2405.4236 - mae: 2405.4236\n",
            "Epoch 398/500\n",
            "34/34 [==============================] - 0s 3ms/step - loss: 2400.7732 - mae: 2400.7732\n",
            "Epoch 399/500\n",
            "34/34 [==============================] - 0s 3ms/step - loss: 2411.3445 - mae: 2411.3445\n",
            "Epoch 400/500\n",
            "34/34 [==============================] - 0s 2ms/step - loss: 2400.7214 - mae: 2400.7214\n",
            "Epoch 401/500\n",
            "34/34 [==============================] - 0s 3ms/step - loss: 2403.6663 - mae: 2403.6663\n",
            "Epoch 402/500\n",
            "34/34 [==============================] - 0s 2ms/step - loss: 2399.9656 - mae: 2399.9656\n",
            "Epoch 403/500\n",
            "34/34 [==============================] - 0s 3ms/step - loss: 2397.3428 - mae: 2397.3428\n",
            "Epoch 404/500\n",
            "34/34 [==============================] - 0s 3ms/step - loss: 2394.2668 - mae: 2394.2668\n",
            "Epoch 405/500\n",
            "34/34 [==============================] - 0s 3ms/step - loss: 2395.3599 - mae: 2395.3599\n",
            "Epoch 406/500\n",
            "34/34 [==============================] - 0s 3ms/step - loss: 2398.4771 - mae: 2398.4771\n",
            "Epoch 407/500\n",
            "34/34 [==============================] - 0s 3ms/step - loss: 2391.0693 - mae: 2391.0693\n",
            "Epoch 408/500\n",
            "34/34 [==============================] - 0s 3ms/step - loss: 2390.5320 - mae: 2390.5320\n",
            "Epoch 409/500\n",
            "34/34 [==============================] - 0s 3ms/step - loss: 2393.2563 - mae: 2393.2563\n",
            "Epoch 410/500\n",
            "34/34 [==============================] - 0s 3ms/step - loss: 2388.4253 - mae: 2388.4253\n",
            "Epoch 411/500\n",
            "34/34 [==============================] - 0s 3ms/step - loss: 2392.5945 - mae: 2392.5945\n",
            "Epoch 412/500\n",
            "34/34 [==============================] - 0s 3ms/step - loss: 2402.1724 - mae: 2402.1724\n",
            "Epoch 413/500\n",
            "34/34 [==============================] - 0s 3ms/step - loss: 2395.8726 - mae: 2395.8726\n",
            "Epoch 414/500\n",
            "34/34 [==============================] - 0s 3ms/step - loss: 2396.1589 - mae: 2396.1589\n",
            "Epoch 415/500\n",
            "34/34 [==============================] - 0s 3ms/step - loss: 2381.8325 - mae: 2381.8325\n",
            "Epoch 416/500\n",
            "34/34 [==============================] - 0s 3ms/step - loss: 2380.7156 - mae: 2380.7156\n",
            "Epoch 417/500\n",
            "34/34 [==============================] - 0s 3ms/step - loss: 2375.1963 - mae: 2375.1963\n",
            "Epoch 418/500\n",
            "34/34 [==============================] - 0s 3ms/step - loss: 2376.8140 - mae: 2376.8140\n",
            "Epoch 419/500\n",
            "34/34 [==============================] - 0s 3ms/step - loss: 2378.3545 - mae: 2378.3545\n",
            "Epoch 420/500\n",
            "34/34 [==============================] - 0s 3ms/step - loss: 2370.1790 - mae: 2370.1790\n",
            "Epoch 421/500\n",
            "34/34 [==============================] - 0s 3ms/step - loss: 2375.1482 - mae: 2375.1482\n",
            "Epoch 422/500\n",
            "34/34 [==============================] - 0s 4ms/step - loss: 2368.6121 - mae: 2368.6121\n",
            "Epoch 423/500\n",
            "34/34 [==============================] - 0s 4ms/step - loss: 2374.0396 - mae: 2374.0396\n",
            "Epoch 424/500\n",
            "34/34 [==============================] - 0s 5ms/step - loss: 2367.5732 - mae: 2367.5732\n",
            "Epoch 425/500\n",
            "34/34 [==============================] - 0s 4ms/step - loss: 2369.0315 - mae: 2369.0315\n",
            "Epoch 426/500\n",
            "34/34 [==============================] - 0s 4ms/step - loss: 2371.0088 - mae: 2371.0088\n",
            "Epoch 427/500\n",
            "34/34 [==============================] - 0s 4ms/step - loss: 2367.5186 - mae: 2367.5186\n",
            "Epoch 428/500\n",
            "34/34 [==============================] - 0s 4ms/step - loss: 2370.1047 - mae: 2370.1047\n",
            "Epoch 429/500\n",
            "34/34 [==============================] - 0s 4ms/step - loss: 2372.0596 - mae: 2372.0596\n",
            "Epoch 430/500\n",
            "34/34 [==============================] - 0s 3ms/step - loss: 2360.8452 - mae: 2360.8452\n",
            "Epoch 431/500\n",
            "34/34 [==============================] - 0s 4ms/step - loss: 2361.0776 - mae: 2361.0776\n",
            "Epoch 432/500\n",
            "34/34 [==============================] - 0s 4ms/step - loss: 2362.9785 - mae: 2362.9785\n",
            "Epoch 433/500\n",
            "34/34 [==============================] - 0s 4ms/step - loss: 2359.6819 - mae: 2359.6819\n",
            "Epoch 434/500\n",
            "34/34 [==============================] - 0s 5ms/step - loss: 2355.7964 - mae: 2355.7964\n",
            "Epoch 435/500\n",
            "34/34 [==============================] - 0s 4ms/step - loss: 2353.0154 - mae: 2353.0154\n",
            "Epoch 436/500\n",
            "34/34 [==============================] - 0s 4ms/step - loss: 2350.7637 - mae: 2350.7637\n",
            "Epoch 437/500\n",
            "34/34 [==============================] - 0s 4ms/step - loss: 2350.1626 - mae: 2350.1626\n",
            "Epoch 438/500\n",
            "34/34 [==============================] - 0s 4ms/step - loss: 2349.8428 - mae: 2349.8428\n",
            "Epoch 439/500\n",
            "34/34 [==============================] - 0s 4ms/step - loss: 2358.4392 - mae: 2358.4392\n",
            "Epoch 440/500\n",
            "34/34 [==============================] - 0s 4ms/step - loss: 2351.1194 - mae: 2351.1194\n",
            "Epoch 441/500\n",
            "34/34 [==============================] - 0s 4ms/step - loss: 2342.8647 - mae: 2342.8647\n",
            "Epoch 442/500\n",
            "34/34 [==============================] - 0s 4ms/step - loss: 2344.1782 - mae: 2344.1782\n",
            "Epoch 443/500\n",
            "34/34 [==============================] - 0s 5ms/step - loss: 2345.7866 - mae: 2345.7866\n",
            "Epoch 444/500\n",
            "34/34 [==============================] - 0s 4ms/step - loss: 2341.2317 - mae: 2341.2317\n",
            "Epoch 445/500\n",
            "34/34 [==============================] - 0s 4ms/step - loss: 2342.3486 - mae: 2342.3486\n",
            "Epoch 446/500\n",
            "34/34 [==============================] - 0s 4ms/step - loss: 2347.8015 - mae: 2347.8015\n",
            "Epoch 447/500\n",
            "34/34 [==============================] - 0s 4ms/step - loss: 2341.9678 - mae: 2341.9678\n",
            "Epoch 448/500\n",
            "34/34 [==============================] - 0s 4ms/step - loss: 2339.3105 - mae: 2339.3105\n",
            "Epoch 449/500\n",
            "34/34 [==============================] - 0s 4ms/step - loss: 2334.6409 - mae: 2334.6409\n",
            "Epoch 450/500\n",
            "34/34 [==============================] - 0s 4ms/step - loss: 2334.5774 - mae: 2334.5774\n",
            "Epoch 451/500\n",
            "34/34 [==============================] - 0s 5ms/step - loss: 2334.7678 - mae: 2334.7678\n",
            "Epoch 452/500\n",
            "34/34 [==============================] - 0s 4ms/step - loss: 2331.5400 - mae: 2331.5400\n",
            "Epoch 453/500\n",
            "34/34 [==============================] - 0s 4ms/step - loss: 2334.6245 - mae: 2334.6245\n",
            "Epoch 454/500\n",
            "34/34 [==============================] - 0s 4ms/step - loss: 2332.2993 - mae: 2332.2993\n",
            "Epoch 455/500\n",
            "34/34 [==============================] - 0s 4ms/step - loss: 2333.3721 - mae: 2333.3721\n",
            "Epoch 456/500\n",
            "34/34 [==============================] - 0s 4ms/step - loss: 2330.5696 - mae: 2330.5696\n",
            "Epoch 457/500\n",
            "34/34 [==============================] - 0s 4ms/step - loss: 2333.4001 - mae: 2333.4001\n",
            "Epoch 458/500\n",
            "34/34 [==============================] - 0s 4ms/step - loss: 2326.5745 - mae: 2326.5745\n",
            "Epoch 459/500\n",
            "34/34 [==============================] - 0s 4ms/step - loss: 2332.8765 - mae: 2332.8765\n",
            "Epoch 460/500\n",
            "34/34 [==============================] - 0s 4ms/step - loss: 2317.6082 - mae: 2317.6082\n",
            "Epoch 461/500\n",
            "34/34 [==============================] - 0s 4ms/step - loss: 2321.4797 - mae: 2321.4797\n",
            "Epoch 462/500\n",
            "34/34 [==============================] - 0s 4ms/step - loss: 2331.8889 - mae: 2331.8889\n",
            "Epoch 463/500\n",
            "34/34 [==============================] - 0s 4ms/step - loss: 2315.4268 - mae: 2315.4268\n",
            "Epoch 464/500\n",
            "34/34 [==============================] - 0s 4ms/step - loss: 2318.0242 - mae: 2318.0242\n",
            "Epoch 465/500\n",
            "34/34 [==============================] - 0s 4ms/step - loss: 2318.2542 - mae: 2318.2542\n",
            "Epoch 466/500\n",
            "34/34 [==============================] - 0s 4ms/step - loss: 2313.9370 - mae: 2313.9370\n",
            "Epoch 467/500\n",
            "34/34 [==============================] - 0s 3ms/step - loss: 2314.6638 - mae: 2314.6638\n",
            "Epoch 468/500\n",
            "34/34 [==============================] - 0s 3ms/step - loss: 2309.8792 - mae: 2309.8792\n",
            "Epoch 469/500\n",
            "34/34 [==============================] - 0s 3ms/step - loss: 2319.0720 - mae: 2319.0720\n",
            "Epoch 470/500\n",
            "34/34 [==============================] - 0s 3ms/step - loss: 2314.4094 - mae: 2314.4094\n",
            "Epoch 471/500\n",
            "34/34 [==============================] - 0s 3ms/step - loss: 2307.2375 - mae: 2307.2375\n",
            "Epoch 472/500\n",
            "34/34 [==============================] - 0s 3ms/step - loss: 2309.4353 - mae: 2309.4353\n",
            "Epoch 473/500\n",
            "34/34 [==============================] - 0s 3ms/step - loss: 2309.4109 - mae: 2309.4109\n",
            "Epoch 474/500\n",
            "34/34 [==============================] - 0s 3ms/step - loss: 2306.6489 - mae: 2306.6489\n",
            "Epoch 475/500\n",
            "34/34 [==============================] - 0s 3ms/step - loss: 2306.2632 - mae: 2306.2632\n",
            "Epoch 476/500\n",
            "34/34 [==============================] - 0s 3ms/step - loss: 2311.9255 - mae: 2311.9255\n",
            "Epoch 477/500\n",
            "34/34 [==============================] - 0s 3ms/step - loss: 2300.2363 - mae: 2300.2363\n",
            "Epoch 478/500\n",
            "34/34 [==============================] - 0s 3ms/step - loss: 2298.1160 - mae: 2298.1160\n",
            "Epoch 479/500\n",
            "34/34 [==============================] - 0s 3ms/step - loss: 2300.9575 - mae: 2300.9575\n",
            "Epoch 480/500\n",
            "34/34 [==============================] - 0s 3ms/step - loss: 2297.4346 - mae: 2297.4346\n",
            "Epoch 481/500\n",
            "34/34 [==============================] - 0s 3ms/step - loss: 2302.6497 - mae: 2302.6497\n",
            "Epoch 482/500\n",
            "34/34 [==============================] - 0s 3ms/step - loss: 2304.2454 - mae: 2304.2454\n",
            "Epoch 483/500\n",
            "34/34 [==============================] - 0s 3ms/step - loss: 2297.2043 - mae: 2297.2043\n",
            "Epoch 484/500\n",
            "34/34 [==============================] - 0s 3ms/step - loss: 2293.8933 - mae: 2293.8933\n",
            "Epoch 485/500\n",
            "34/34 [==============================] - 0s 3ms/step - loss: 2295.5593 - mae: 2295.5593\n",
            "Epoch 486/500\n",
            "34/34 [==============================] - 0s 3ms/step - loss: 2296.6670 - mae: 2296.6670\n",
            "Epoch 487/500\n",
            "34/34 [==============================] - 0s 3ms/step - loss: 2293.5583 - mae: 2293.5583\n",
            "Epoch 488/500\n",
            "34/34 [==============================] - 0s 3ms/step - loss: 2286.0515 - mae: 2286.0515\n",
            "Epoch 489/500\n",
            "34/34 [==============================] - 0s 3ms/step - loss: 2292.0308 - mae: 2292.0308\n",
            "Epoch 490/500\n",
            "34/34 [==============================] - 0s 3ms/step - loss: 2289.8948 - mae: 2289.8948\n",
            "Epoch 491/500\n",
            "34/34 [==============================] - 0s 3ms/step - loss: 2290.0718 - mae: 2290.0718\n",
            "Epoch 492/500\n",
            "34/34 [==============================] - 0s 3ms/step - loss: 2292.4727 - mae: 2292.4727\n",
            "Epoch 493/500\n",
            "34/34 [==============================] - 0s 3ms/step - loss: 2297.3306 - mae: 2297.3306\n",
            "Epoch 494/500\n",
            "34/34 [==============================] - 0s 3ms/step - loss: 2284.4294 - mae: 2284.4294\n",
            "Epoch 495/500\n",
            "34/34 [==============================] - 0s 3ms/step - loss: 2280.7131 - mae: 2280.7131\n",
            "Epoch 496/500\n",
            "34/34 [==============================] - 0s 3ms/step - loss: 2282.7261 - mae: 2282.7261\n",
            "Epoch 497/500\n",
            "34/34 [==============================] - 0s 2ms/step - loss: 2279.1831 - mae: 2279.1831\n",
            "Epoch 498/500\n",
            "34/34 [==============================] - 0s 3ms/step - loss: 2282.9438 - mae: 2282.9438\n",
            "Epoch 499/500\n",
            "34/34 [==============================] - 0s 3ms/step - loss: 2293.3123 - mae: 2293.3123\n",
            "Epoch 500/500\n",
            "34/34 [==============================] - 0s 3ms/step - loss: 2286.5779 - mae: 2286.5779\n"
          ]
        }
      ]
    },
    {
      "cell_type": "code",
      "source": [
        "from tensorflow.keras.utils import plot_model\n",
        "plot_model(insurance_model,show_dtype=True)"
      ],
      "metadata": {
        "colab": {
          "base_uri": "https://localhost:8080/",
          "height": 466
        },
        "id": "RHLwDfBU8SVx",
        "outputId": "43d22ffc-3097-4353-a8ee-a0c5265577a3"
      },
      "execution_count": 148,
      "outputs": [
        {
          "output_type": "execute_result",
          "data": {
            "image/png": "[encoded data removed]",
            "text/plain": [
              "<IPython.core.display.Image object>"
            ]
          },
          "metadata": {},
          "execution_count": 148
        }
      ]
    },
    {
      "cell_type": "code",
      "source": [
        "insurance_model.evaluate(X_test,y_test)"
      ],
      "metadata": {
        "colab": {
          "base_uri": "https://localhost:8080/"
        },
        "id": "SIe_ZFjawvSw",
        "outputId": "a5d34c8b-7ddf-4191-cdff-df2b4ec81dce"
      },
      "execution_count": 149,
      "outputs": [
        {
          "output_type": "stream",
          "name": "stdout",
          "text": [
            "9/9 [==============================] - 0s 2ms/step - loss: 1997.1360 - mae: 1997.1360\n"
          ]
        },
        {
          "output_type": "execute_result",
          "data": {
            "text/plain": [
              "[1997.135986328125, 1997.135986328125]"
            ]
          },
          "metadata": {},
          "execution_count": 149
        }
      ]
    },
    {
      "cell_type": "code",
      "source": [
        "insurance_model.predict(X_test.head()),y_test.head()\n"
      ],
      "metadata": {
        "colab": {
          "base_uri": "https://localhost:8080/"
        },
        "id": "DLr4OolexcTf",
        "outputId": "745d8de6-b794-419e-d60e-a33851cfc4d5"
      },
      "execution_count": 94,
      "outputs": [
        {
          "output_type": "stream",
          "name": "stdout",
          "text": [
            "1/1 [==============================] - 0s 73ms/step\n"
          ]
        },
        {
          "output_type": "execute_result",
          "data": {
            "text/plain": [
              "(array([[ 8994.93  ],\n",
              "        [ 5224.4194],\n",
              "        [29061.273 ],\n",
              "        [ 9220.721 ],\n",
              "        [31037.207 ]], dtype=float32),           charges\n",
              " 764    9095.06825\n",
              " 887    5272.17580\n",
              " 890   29330.98315\n",
              " 1293   9301.89355\n",
              " 259   33750.29180)"
            ]
          },
          "metadata": {},
          "execution_count": 94
        }
      ]
    },
    {
      "cell_type": "code",
      "source": [
        "pd.DataFrame(history.history).plot()\n",
        "plt.ylabel(\"Loss\")\n",
        "plt.xlabel(\"epochs\")"
      ],
      "metadata": {
        "colab": {
          "base_uri": "https://localhost:8080/",
          "height": 297
        },
        "id": "feH0YTzYx2ef",
        "outputId": "785abce7-4b54-4a78-a80d-932be3a8c819"
      },
      "execution_count": 150,
      "outputs": [
        {
          "output_type": "execute_result",
          "data": {
            "text/plain": [
              "Text(0.5, 0, 'epochs')"
            ]
          },
          "metadata": {},
          "execution_count": 150
        },
        {
          "output_type": "display_data",
          "data": {
            "text/plain": [
              "<Figure size 432x288 with 1 Axes>"
            ],
            "image/png": "[encoded data removed]"
          },
          "metadata": {
            "needs_background": "light"
          }
        }
      ]
    },
    {
      "cell_type": "markdown",
      "source": [
        ">🤔 **Question:** How long should you train for?\n",
        "\n",
        "It depends Really.. it depends on the problem you're working on.However, there is solution it is called [EarlyStopping Callback](https://www.tensorflow.org/api_docs/python/tf/keras/callbacks/EarlyStopping).\n",
        "\n",
        "A tf component you can use to stop training once it stop improving"
      ],
      "metadata": {
        "id": "LYeOXH6EQGSp"
      }
    },
    {
      "cell_type": "markdown",
      "source": [
        "## Preprocessing Data (Normalization and Standardization)\n",
        "\n",
        "In terms of scaling values neural network tends to prefer normalization.\n",
        "\n",
        "If you're not sure on which to use , you could try both and see which perform better(StandardScaler,MinMaxScaler) sklearn."
      ],
      "metadata": {
        "id": "Q7PC_69WblJ5"
      }
    },
    {
      "cell_type": "code",
      "source": [
        "import pandas as pd\n",
        "import matplotlib.pyplot as plt\n",
        "import tensorflow as tf\n",
        "\n",
        "# Read csv\n",
        "insurance = pd.read_csv('/content/drive/MyDrive/tf/insurance.csv')\n",
        "insurance"
      ],
      "metadata": {
        "colab": {
          "base_uri": "https://localhost:8080/",
          "height": 423
        },
        "id": "sKWYCtNkep2R",
        "outputId": "4a073d05-23cc-498a-a9ab-c2595718935e"
      },
      "execution_count": 157,
      "outputs": [
        {
          "output_type": "execute_result",
          "data": {
            "text/plain": [
              "      age     sex     bmi  children smoker     region      charges\n",
              "0      19  female  27.900         0    yes  southwest  16884.92400\n",
              "1      18    male  33.770         1     no  southeast   1725.55230\n",
              "2      28    male  33.000         3     no  southeast   4449.46200\n",
              "3      33    male  22.705         0     no  northwest  21984.47061\n",
              "4      32    male  28.880         0     no  northwest   3866.85520\n",
              "...   ...     ...     ...       ...    ...        ...          ...\n",
              "1333   50    male  30.970         3     no  northwest  10600.54830\n",
              "1334   18  female  31.920         0     no  northeast   2205.98080\n",
              "1335   18  female  36.850         0     no  southeast   1629.83350\n",
              "1336   21  female  25.800         0     no  southwest   2007.94500\n",
              "1337   61  female  29.070         0    yes  northwest  29141.36030\n",
              "\n",
              "[1338 rows x 7 columns]"
            ],
            "text/html": [
              "\n",
              "  <div id=\"df-2a854b58-cb06-43ab-9e6f-8014fc084e8a\">\n",
              "    <div class=\"colab-df-container\">\n",
              "      <div>\n",
              "<style scoped>\n",
              "    .dataframe tbody tr th:only-of-type {\n",
              "        vertical-align: middle;\n",
              "    }\n",
              "\n",
              "    .dataframe tbody tr th {\n",
              "        vertical-align: top;\n",
              "    }\n",
              "\n",
              "    .dataframe thead th {\n",
              "        text-align: right;\n",
              "    }\n",
              "</style>\n",
              "<table border=\"1\" class=\"dataframe\">\n",
              "  <thead>\n",
              "    <tr style=\"text-align: right;\">\n",
              "      <th></th>\n",
              "      <th>age</th>\n",
              "      <th>sex</th>\n",
              "      <th>bmi</th>\n",
              "      <th>children</th>\n",
              "      <th>smoker</th>\n",
              "      <th>region</th>\n",
              "      <th>charges</th>\n",
              "    </tr>\n",
              "  </thead>\n",
              "  <tbody>\n",
              "    <tr>\n",
              "      <th>0</th>\n",
              "      <td>19</td>\n",
              "      <td>female</td>\n",
              "      <td>27.900</td>\n",
              "      <td>0</td>\n",
              "      <td>yes</td>\n",
              "      <td>southwest</td>\n",
              "      <td>16884.92400</td>\n",
              "    </tr>\n",
              "    <tr>\n",
              "      <th>1</th>\n",
              "      <td>18</td>\n",
              "      <td>male</td>\n",
              "      <td>33.770</td>\n",
              "      <td>1</td>\n",
              "      <td>no</td>\n",
              "      <td>southeast</td>\n",
              "      <td>1725.55230</td>\n",
              "    </tr>\n",
              "    <tr>\n",
              "      <th>2</th>\n",
              "      <td>28</td>\n",
              "      <td>male</td>\n",
              "      <td>33.000</td>\n",
              "      <td>3</td>\n",
              "      <td>no</td>\n",
              "      <td>southeast</td>\n",
              "      <td>4449.46200</td>\n",
              "    </tr>\n",
              "    <tr>\n",
              "      <th>3</th>\n",
              "      <td>33</td>\n",
              "      <td>male</td>\n",
              "      <td>22.705</td>\n",
              "      <td>0</td>\n",
              "      <td>no</td>\n",
              "      <td>northwest</td>\n",
              "      <td>21984.47061</td>\n",
              "    </tr>\n",
              "    <tr>\n",
              "      <th>4</th>\n",
              "      <td>32</td>\n",
              "      <td>male</td>\n",
              "      <td>28.880</td>\n",
              "      <td>0</td>\n",
              "      <td>no</td>\n",
              "      <td>northwest</td>\n",
              "      <td>3866.85520</td>\n",
              "    </tr>\n",
              "    <tr>\n",
              "      <th>...</th>\n",
              "      <td>...</td>\n",
              "      <td>...</td>\n",
              "      <td>...</td>\n",
              "      <td>...</td>\n",
              "      <td>...</td>\n",
              "      <td>...</td>\n",
              "      <td>...</td>\n",
              "    </tr>\n",
              "    <tr>\n",
              "      <th>1333</th>\n",
              "      <td>50</td>\n",
              "      <td>male</td>\n",
              "      <td>30.970</td>\n",
              "      <td>3</td>\n",
              "      <td>no</td>\n",
              "      <td>northwest</td>\n",
              "      <td>10600.54830</td>\n",
              "    </tr>\n",
              "    <tr>\n",
              "      <th>1334</th>\n",
              "      <td>18</td>\n",
              "      <td>female</td>\n",
              "      <td>31.920</td>\n",
              "      <td>0</td>\n",
              "      <td>no</td>\n",
              "      <td>northeast</td>\n",
              "      <td>2205.98080</td>\n",
              "    </tr>\n",
              "    <tr>\n",
              "      <th>1335</th>\n",
              "      <td>18</td>\n",
              "      <td>female</td>\n",
              "      <td>36.850</td>\n",
              "      <td>0</td>\n",
              "      <td>no</td>\n",
              "      <td>southeast</td>\n",
              "      <td>1629.83350</td>\n",
              "    </tr>\n",
              "    <tr>\n",
              "      <th>1336</th>\n",
              "      <td>21</td>\n",
              "      <td>female</td>\n",
              "      <td>25.800</td>\n",
              "      <td>0</td>\n",
              "      <td>no</td>\n",
              "      <td>southwest</td>\n",
              "      <td>2007.94500</td>\n",
              "    </tr>\n",
              "    <tr>\n",
              "      <th>1337</th>\n",
              "      <td>61</td>\n",
              "      <td>female</td>\n",
              "      <td>29.070</td>\n",
              "      <td>0</td>\n",
              "      <td>yes</td>\n",
              "      <td>northwest</td>\n",
              "      <td>29141.36030</td>\n",
              "    </tr>\n",
              "  </tbody>\n",
              "</table>\n",
              "<p>1338 rows × 7 columns</p>\n",
              "</div>\n",
              "      <button class=\"colab-df-convert\" onclick=\"convertToInteractive('df-2a854b58-cb06-43ab-9e6f-8014fc084e8a')\"\n",
              "              title=\"Convert this dataframe to an interactive table.\"\n",
              "              style=\"display:none;\">\n",
              "        \n",
              "  <svg xmlns=\"http://www.w3.org/2000/svg\" height=\"24px\"viewBox=\"0 0 24 24\"\n",
              "       width=\"24px\">\n",
              "    <path d=\"M0 0h24v24H0V0z\" fill=\"none\"/>\n",
              "    <path d=\"M18.56 5.44l.94 2.06.94-2.06 2.06-.94-2.06-.94-.94-2.06-.94 2.06-2.06.94zm-11 1L8.5 8.5l.94-2.06 2.06-.94-2.06-.94L8.5 2.5l-.94 2.06-2.06.94zm10 10l.94 2.06.94-2.06 2.06-.94-2.06-.94-.94-2.06-.94 2.06-2.06.94z\"/><path d=\"M17.41 7.96l-1.37-1.37c-.4-.4-.92-.59-1.43-.59-.52 0-1.04.2-1.43.59L10.3 9.45l-7.72 7.72c-.78.78-.78 2.05 0 2.83L4 21.41c.39.39.9.59 1.41.59.51 0 1.02-.2 1.41-.59l7.78-7.78 2.81-2.81c.8-.78.8-2.07 0-2.86zM5.41 20L4 18.59l7.72-7.72 1.47 1.35L5.41 20z\"/>\n",
              "  </svg>\n",
              "      </button>\n",
              "      \n",
              "  <style>\n",
              "    .colab-df-container {\n",
              "      display:flex;\n",
              "      flex-wrap:wrap;\n",
              "      gap: 12px;\n",
              "    }\n",
              "\n",
              "    .colab-df-convert {\n",
              "      background-color: #E8F0FE;\n",
              "      border: none;\n",
              "      border-radius: 50%;\n",
              "      cursor: pointer;\n",
              "      display: none;\n",
              "      fill: #1967D2;\n",
              "      height: 32px;\n",
              "      padding: 0 0 0 0;\n",
              "      width: 32px;\n",
              "    }\n",
              "\n",
              "    .colab-df-convert:hover {\n",
              "      background-color: #E2EBFA;\n",
              "      box-shadow: 0px 1px 2px rgba(60, 64, 67, 0.3), 0px 1px 3px 1px rgba(60, 64, 67, 0.15);\n",
              "      fill: #174EA6;\n",
              "    }\n",
              "\n",
              "    [theme=dark] .colab-df-convert {\n",
              "      background-color: #3B4455;\n",
              "      fill: #D2E3FC;\n",
              "    }\n",
              "\n",
              "    [theme=dark] .colab-df-convert:hover {\n",
              "      background-color: #434B5C;\n",
              "      box-shadow: 0px 1px 3px 1px rgba(0, 0, 0, 0.15);\n",
              "      filter: drop-shadow(0px 1px 2px rgba(0, 0, 0, 0.3));\n",
              "      fill: #FFFFFF;\n",
              "    }\n",
              "  </style>\n",
              "\n",
              "      <script>\n",
              "        const buttonEl =\n",
              "          document.querySelector('#df-2a854b58-cb06-43ab-9e6f-8014fc084e8a button.colab-df-convert');\n",
              "        buttonEl.style.display =\n",
              "          google.colab.kernel.accessAllowed ? 'block' : 'none';\n",
              "\n",
              "        async function convertToInteractive(key) {\n",
              "          const element = document.querySelector('#df-2a854b58-cb06-43ab-9e6f-8014fc084e8a');\n",
              "          const dataTable =\n",
              "            await google.colab.kernel.invokeFunction('convertToInteractive',\n",
              "                                                     [key], {});\n",
              "          if (!dataTable) return;\n",
              "\n",
              "          const docLinkHtml = 'Like what you see? Visit the ' +\n",
              "            '<a target=\"_blank\" href=https://colab.research.google.com/notebooks/data_table.ipynb>data table notebook</a>'\n",
              "            + ' to learn more about interactive tables.';\n",
              "          element.innerHTML = '';\n",
              "          dataTable['output_type'] = 'display_data';\n",
              "          await google.colab.output.renderOutput(dataTable, element);\n",
              "          const docLink = document.createElement('div');\n",
              "          docLink.innerHTML = docLinkHtml;\n",
              "          element.appendChild(docLink);\n",
              "        }\n",
              "      </script>\n",
              "    </div>\n",
              "  </div>\n",
              "  "
            ]
          },
          "metadata": {},
          "execution_count": 157
        }
      ]
    },
    {
      "cell_type": "markdown",
      "source": [
        "# Normalizing"
      ],
      "metadata": {
        "id": "hs_vADekj6s5"
      }
    },
    {
      "cell_type": "code",
      "source": [
        "# to preapare our data , we need to to import some classes from scikit-learn\n",
        "from sklearn.compose import make_column_transformer\n",
        "from sklearn.preprocessing import MinMaxScaler,OneHotEncoder\n",
        "from sklearn.model_selection import train_test_split\n",
        "# Create a column transformer\n",
        "ct =make_column_transformer((MinMaxScaler(),['age','bmi','children']), # turn all values in these column btw 0 and 1\n",
        "                     (OneHotEncoder(handle_unknown='ignore'),['sex','smoker','region'])\n",
        ")   \n",
        "\n",
        "# Create X & y\n",
        "X = insurance.drop('charges',axis=1) \n",
        "y = insurance['charges'] \n",
        "\n",
        "# train_test_split\n",
        "X_train,X_test,y_train,y_test = train_test_split(X,y,test_size=0.2,random_state=42)\n",
        "\n",
        "# fit the colomn Transformer to our training data\n",
        "ct.fit(X_train)\n",
        "\n",
        "# Transform training and test data with normalization (MinMaxScaler) and OneHotEncoder\n",
        "X_train_normal = ct.transform(X_train)\n",
        "X_test_normal = ct.transform(X_test)"
      ],
      "metadata": {
        "id": "T24QXop0fc2Q"
      },
      "execution_count": 161,
      "outputs": []
    },
    {
      "cell_type": "code",
      "source": [
        "# Checking how our data looks now?\n",
        "X_train.loc[0],X_train_normal[0]"
      ],
      "metadata": {
        "colab": {
          "base_uri": "https://localhost:8080/"
        },
        "id": "SKFSTFW9j2Kx",
        "outputId": "2cf3bf5b-48c9-4599-d6a0-8f52603f6352"
      },
      "execution_count": 167,
      "outputs": [
        {
          "output_type": "execute_result",
          "data": {
            "text/plain": [
              "(age                19\n",
              " sex            female\n",
              " bmi              27.9\n",
              " children            0\n",
              " smoker            yes\n",
              " region      southwest\n",
              " Name: 0, dtype: object,\n",
              " array([0.60869565, 0.10734463, 0.4       , 1.        , 0.        ,\n",
              "        1.        , 0.        , 0.        , 1.        , 0.        ,\n",
              "        0.        ]))"
            ]
          },
          "metadata": {},
          "execution_count": 167
        }
      ]
    },
    {
      "cell_type": "code",
      "source": [
        "#lets check the shape before modeling\n",
        "X_train.shape,X_train_normal.shape,"
      ],
      "metadata": {
        "colab": {
          "base_uri": "https://localhost:8080/"
        },
        "id": "sZKMrO7hfNs6",
        "outputId": "4e8f4abf-e90f-4047-ad35-4e6a7d6f45a7"
      },
      "execution_count": 169,
      "outputs": [
        {
          "output_type": "execute_result",
          "data": {
            "text/plain": [
              "((1070, 6), (1070, 11))"
            ]
          },
          "metadata": {},
          "execution_count": 169
        }
      ]
    },
    {
      "cell_type": "markdown",
      "source": [
        "Great ! Our data is now Normalized and one hot encoded . Now let's build the neural network model."
      ],
      "metadata": {
        "id": "WQ_WlNamlSUD"
      }
    },
    {
      "cell_type": "code",
      "source": [
        "#Random Seed = 42\n",
        "tf.random.set_seed(42)\n",
        "# Model layering\n",
        "insurance_model2 = tf.keras.Sequential(\n",
        "    [tf.keras.layers.Dense(11,input_shape=(11,),name='Input_layer'),\n",
        "     tf.keras.layers.Dense(121,activation='relu',name = 'D1'),\n",
        "     tf.keras.layers.Dense(11,activation='relu',name='D2'),\n",
        "     tf.keras.layers.Dense(1,activation=None,name='Output_layer')]\n",
        ",name='Insurance_Predictor2')\n",
        "# MOdel Complilation\n",
        "insurance_model2.compile(loss='mae',optimizer='Adam',metrics=['mae'])\n",
        "# Model Fitting\n",
        "insurance_model2.fit(X_train_normal,y_train,epochs=300)\n"
      ],
      "metadata": {
        "colab": {
          "base_uri": "https://localhost:8080/"
        },
        "id": "V0WS9y16ln0y",
        "outputId": "509a009f-7bd8-40e1-eff4-00608071d45e"
      },
      "execution_count": 174,
      "outputs": [
        {
          "output_type": "stream",
          "name": "stdout",
          "text": [
            "Epoch 1/300\n",
            "34/34 [==============================] - 2s 5ms/step - loss: 13345.1934 - mae: 13345.1934\n",
            "Epoch 2/300\n",
            "34/34 [==============================] - 0s 3ms/step - loss: 13340.2803 - mae: 13340.2803\n",
            "Epoch 3/300\n",
            "34/34 [==============================] - 0s 2ms/step - loss: 13316.6113 - mae: 13316.6113\n",
            "Epoch 4/300\n",
            "34/34 [==============================] - 0s 2ms/step - loss: 13229.1377 - mae: 13229.1377\n",
            "Epoch 5/300\n",
            "34/34 [==============================] - 0s 2ms/step - loss: 12993.1104 - mae: 12993.1104\n",
            "Epoch 6/300\n",
            "34/34 [==============================] - 0s 2ms/step - loss: 12485.2559 - mae: 12485.2559\n",
            "Epoch 7/300\n",
            "34/34 [==============================] - 0s 2ms/step - loss: 11574.3604 - mae: 11574.3604\n",
            "Epoch 8/300\n",
            "34/34 [==============================] - 0s 3ms/step - loss: 10345.9365 - mae: 10345.9365\n",
            "Epoch 9/300\n",
            "34/34 [==============================] - 0s 3ms/step - loss: 9116.2578 - mae: 9116.2578\n",
            "Epoch 10/300\n",
            "34/34 [==============================] - 0s 2ms/step - loss: 8260.7139 - mae: 8260.7139\n",
            "Epoch 11/300\n",
            "34/34 [==============================] - 0s 2ms/step - loss: 7896.5942 - mae: 7896.5942\n",
            "Epoch 12/300\n",
            "34/34 [==============================] - 0s 3ms/step - loss: 7770.2559 - mae: 7770.2559\n",
            "Epoch 13/300\n",
            "34/34 [==============================] - 0s 2ms/step - loss: 7684.2432 - mae: 7684.2432\n",
            "Epoch 14/300\n",
            "34/34 [==============================] - 0s 2ms/step - loss: 7592.4971 - mae: 7592.4971\n",
            "Epoch 15/300\n",
            "34/34 [==============================] - 0s 2ms/step - loss: 7506.0898 - mae: 7506.0898\n",
            "Epoch 16/300\n",
            "34/34 [==============================] - 0s 2ms/step - loss: 7415.6709 - mae: 7415.6709\n",
            "Epoch 17/300\n",
            "34/34 [==============================] - 0s 3ms/step - loss: 7323.8896 - mae: 7323.8896\n",
            "Epoch 18/300\n",
            "34/34 [==============================] - 0s 2ms/step - loss: 7226.4365 - mae: 7226.4365\n",
            "Epoch 19/300\n",
            "34/34 [==============================] - 0s 3ms/step - loss: 7123.3770 - mae: 7123.3770\n",
            "Epoch 20/300\n",
            "34/34 [==============================] - 0s 2ms/step - loss: 7013.3643 - mae: 7013.3643\n",
            "Epoch 21/300\n",
            "34/34 [==============================] - 0s 2ms/step - loss: 6897.7188 - mae: 6897.7188\n",
            "Epoch 22/300\n",
            "34/34 [==============================] - 0s 2ms/step - loss: 6769.2358 - mae: 6769.2358\n",
            "Epoch 23/300\n",
            "34/34 [==============================] - 0s 2ms/step - loss: 6630.7554 - mae: 6630.7554\n",
            "Epoch 24/300\n",
            "34/34 [==============================] - 0s 2ms/step - loss: 6478.6118 - mae: 6478.6118\n",
            "Epoch 25/300\n",
            "34/34 [==============================] - 0s 3ms/step - loss: 6323.8428 - mae: 6323.8428\n",
            "Epoch 26/300\n",
            "34/34 [==============================] - 0s 3ms/step - loss: 6120.1670 - mae: 6120.1670\n",
            "Epoch 27/300\n",
            "34/34 [==============================] - 0s 2ms/step - loss: 5918.4023 - mae: 5918.4023\n",
            "Epoch 28/300\n",
            "34/34 [==============================] - 0s 2ms/step - loss: 5700.2666 - mae: 5700.2666\n",
            "Epoch 29/300\n",
            "34/34 [==============================] - 0s 2ms/step - loss: 5466.0645 - mae: 5466.0645\n",
            "Epoch 30/300\n",
            "34/34 [==============================] - 0s 3ms/step - loss: 5214.7930 - mae: 5214.7930\n",
            "Epoch 31/300\n",
            "34/34 [==============================] - 0s 2ms/step - loss: 4960.0654 - mae: 4960.0654\n",
            "Epoch 32/300\n",
            "34/34 [==============================] - 0s 2ms/step - loss: 4710.5596 - mae: 4710.5596\n",
            "Epoch 33/300\n",
            "34/34 [==============================] - 0s 2ms/step - loss: 4489.6143 - mae: 4489.6143\n",
            "Epoch 34/300\n",
            "34/34 [==============================] - 0s 2ms/step - loss: 4276.3613 - mae: 4276.3613\n",
            "Epoch 35/300\n",
            "34/34 [==============================] - 0s 3ms/step - loss: 4072.5271 - mae: 4072.5271\n",
            "Epoch 36/300\n",
            "34/34 [==============================] - 0s 2ms/step - loss: 3893.5400 - mae: 3893.5400\n",
            "Epoch 37/300\n",
            "34/34 [==============================] - 0s 3ms/step - loss: 3764.7629 - mae: 3764.7629\n",
            "Epoch 38/300\n",
            "34/34 [==============================] - 0s 2ms/step - loss: 3689.4788 - mae: 3689.4788\n",
            "Epoch 39/300\n",
            "34/34 [==============================] - 0s 2ms/step - loss: 3649.4441 - mae: 3649.4441\n",
            "Epoch 40/300\n",
            "34/34 [==============================] - 0s 2ms/step - loss: 3636.7622 - mae: 3636.7622\n",
            "Epoch 41/300\n",
            "34/34 [==============================] - 0s 3ms/step - loss: 3624.8442 - mae: 3624.8442\n",
            "Epoch 42/300\n",
            "34/34 [==============================] - 0s 2ms/step - loss: 3630.6001 - mae: 3630.6001\n",
            "Epoch 43/300\n",
            "34/34 [==============================] - 0s 2ms/step - loss: 3620.6182 - mae: 3620.6182\n",
            "Epoch 44/300\n",
            "34/34 [==============================] - 0s 2ms/step - loss: 3609.1819 - mae: 3609.1819\n",
            "Epoch 45/300\n",
            "34/34 [==============================] - 0s 2ms/step - loss: 3602.8274 - mae: 3602.8274\n",
            "Epoch 46/300\n",
            "34/34 [==============================] - 0s 2ms/step - loss: 3600.4993 - mae: 3600.4993\n",
            "Epoch 47/300\n",
            "34/34 [==============================] - 0s 2ms/step - loss: 3596.7927 - mae: 3596.7927\n",
            "Epoch 48/300\n",
            "34/34 [==============================] - 0s 2ms/step - loss: 3586.8938 - mae: 3586.8938\n",
            "Epoch 49/300\n",
            "34/34 [==============================] - 0s 2ms/step - loss: 3584.8081 - mae: 3584.8081\n",
            "Epoch 50/300\n",
            "34/34 [==============================] - 0s 2ms/step - loss: 3573.1516 - mae: 3573.1516\n",
            "Epoch 51/300\n",
            "34/34 [==============================] - 0s 2ms/step - loss: 3577.4973 - mae: 3577.4973\n",
            "Epoch 52/300\n",
            "34/34 [==============================] - 0s 2ms/step - loss: 3569.7385 - mae: 3569.7385\n",
            "Epoch 53/300\n",
            "34/34 [==============================] - 0s 3ms/step - loss: 3559.1826 - mae: 3559.1826\n",
            "Epoch 54/300\n",
            "34/34 [==============================] - 0s 2ms/step - loss: 3560.3831 - mae: 3560.3831\n",
            "Epoch 55/300\n",
            "34/34 [==============================] - 0s 2ms/step - loss: 3560.4021 - mae: 3560.4021\n",
            "Epoch 56/300\n",
            "34/34 [==============================] - 0s 3ms/step - loss: 3542.8127 - mae: 3542.8127\n",
            "Epoch 57/300\n",
            "34/34 [==============================] - 0s 3ms/step - loss: 3538.3701 - mae: 3538.3701\n",
            "Epoch 58/300\n",
            "34/34 [==============================] - 0s 2ms/step - loss: 3532.6731 - mae: 3532.6731\n",
            "Epoch 59/300\n",
            "34/34 [==============================] - 0s 2ms/step - loss: 3532.3169 - mae: 3532.3169\n",
            "Epoch 60/300\n",
            "34/34 [==============================] - 0s 2ms/step - loss: 3524.2498 - mae: 3524.2498\n",
            "Epoch 61/300\n",
            "34/34 [==============================] - 0s 2ms/step - loss: 3520.7744 - mae: 3520.7744\n",
            "Epoch 62/300\n",
            "34/34 [==============================] - 0s 2ms/step - loss: 3511.4104 - mae: 3511.4104\n",
            "Epoch 63/300\n",
            "34/34 [==============================] - 0s 2ms/step - loss: 3506.0479 - mae: 3506.0479\n",
            "Epoch 64/300\n",
            "34/34 [==============================] - 0s 3ms/step - loss: 3503.0208 - mae: 3503.0208\n",
            "Epoch 65/300\n",
            "34/34 [==============================] - 0s 2ms/step - loss: 3503.0837 - mae: 3503.0837\n",
            "Epoch 66/300\n",
            "34/34 [==============================] - 0s 2ms/step - loss: 3492.7727 - mae: 3492.7727\n",
            "Epoch 67/300\n",
            "34/34 [==============================] - 0s 2ms/step - loss: 3488.2852 - mae: 3488.2852\n",
            "Epoch 68/300\n",
            "34/34 [==============================] - 0s 2ms/step - loss: 3486.3418 - mae: 3486.3418\n",
            "Epoch 69/300\n",
            "34/34 [==============================] - 0s 2ms/step - loss: 3477.4590 - mae: 3477.4590\n",
            "Epoch 70/300\n",
            "34/34 [==============================] - 0s 3ms/step - loss: 3476.6025 - mae: 3476.6025\n",
            "Epoch 71/300\n",
            "34/34 [==============================] - 0s 2ms/step - loss: 3468.5337 - mae: 3468.5337\n",
            "Epoch 72/300\n",
            "34/34 [==============================] - 0s 2ms/step - loss: 3462.2073 - mae: 3462.2073\n",
            "Epoch 73/300\n",
            "34/34 [==============================] - 0s 2ms/step - loss: 3457.4607 - mae: 3457.4607\n",
            "Epoch 74/300\n",
            "34/34 [==============================] - 0s 2ms/step - loss: 3449.4585 - mae: 3449.4585\n",
            "Epoch 75/300\n",
            "34/34 [==============================] - 0s 2ms/step - loss: 3444.0603 - mae: 3444.0603\n",
            "Epoch 76/300\n",
            "34/34 [==============================] - 0s 3ms/step - loss: 3440.7693 - mae: 3440.7693\n",
            "Epoch 77/300\n",
            "34/34 [==============================] - 0s 2ms/step - loss: 3429.5378 - mae: 3429.5378\n",
            "Epoch 78/300\n",
            "34/34 [==============================] - 0s 2ms/step - loss: 3423.7358 - mae: 3423.7358\n",
            "Epoch 79/300\n",
            "34/34 [==============================] - 0s 3ms/step - loss: 3421.5393 - mae: 3421.5393\n",
            "Epoch 80/300\n",
            "34/34 [==============================] - 0s 2ms/step - loss: 3417.9617 - mae: 3417.9617\n",
            "Epoch 81/300\n",
            "34/34 [==============================] - 0s 3ms/step - loss: 3415.3098 - mae: 3415.3098\n",
            "Epoch 82/300\n",
            "34/34 [==============================] - 0s 2ms/step - loss: 3408.7485 - mae: 3408.7485\n",
            "Epoch 83/300\n",
            "34/34 [==============================] - 0s 2ms/step - loss: 3406.5227 - mae: 3406.5227\n",
            "Epoch 84/300\n",
            "34/34 [==============================] - 0s 2ms/step - loss: 3403.6289 - mae: 3403.6289\n",
            "Epoch 85/300\n",
            "34/34 [==============================] - 0s 3ms/step - loss: 3395.7083 - mae: 3395.7083\n",
            "Epoch 86/300\n",
            "34/34 [==============================] - 0s 5ms/step - loss: 3394.3657 - mae: 3394.3657\n",
            "Epoch 87/300\n",
            "34/34 [==============================] - 0s 4ms/step - loss: 3392.4299 - mae: 3392.4299\n",
            "Epoch 88/300\n",
            "34/34 [==============================] - 0s 4ms/step - loss: 3388.4819 - mae: 3388.4819\n",
            "Epoch 89/300\n",
            "34/34 [==============================] - 0s 3ms/step - loss: 3384.8169 - mae: 3384.8169\n",
            "Epoch 90/300\n",
            "34/34 [==============================] - 0s 3ms/step - loss: 3382.7971 - mae: 3382.7971\n",
            "Epoch 91/300\n",
            "34/34 [==============================] - 0s 3ms/step - loss: 3376.7439 - mae: 3376.7439\n",
            "Epoch 92/300\n",
            "34/34 [==============================] - 0s 3ms/step - loss: 3375.0251 - mae: 3375.0251\n",
            "Epoch 93/300\n",
            "34/34 [==============================] - 0s 3ms/step - loss: 3366.4153 - mae: 3366.4153\n",
            "Epoch 94/300\n",
            "34/34 [==============================] - 0s 3ms/step - loss: 3365.4641 - mae: 3365.4641\n",
            "Epoch 95/300\n",
            "34/34 [==============================] - 0s 4ms/step - loss: 3359.2356 - mae: 3359.2356\n",
            "Epoch 96/300\n",
            "34/34 [==============================] - 0s 4ms/step - loss: 3358.3853 - mae: 3358.3853\n",
            "Epoch 97/300\n",
            "34/34 [==============================] - 0s 4ms/step - loss: 3353.2034 - mae: 3353.2034\n",
            "Epoch 98/300\n",
            "34/34 [==============================] - 0s 3ms/step - loss: 3345.1169 - mae: 3345.1169\n",
            "Epoch 99/300\n",
            "34/34 [==============================] - 0s 4ms/step - loss: 3345.0244 - mae: 3345.0244\n",
            "Epoch 100/300\n",
            "34/34 [==============================] - 0s 4ms/step - loss: 3339.2375 - mae: 3339.2375\n",
            "Epoch 101/300\n",
            "34/34 [==============================] - 0s 4ms/step - loss: 3335.9622 - mae: 3335.9622\n",
            "Epoch 102/300\n",
            "34/34 [==============================] - 0s 4ms/step - loss: 3329.4473 - mae: 3329.4473\n",
            "Epoch 103/300\n",
            "34/34 [==============================] - 0s 4ms/step - loss: 3324.2625 - mae: 3324.2625\n",
            "Epoch 104/300\n",
            "34/34 [==============================] - 0s 3ms/step - loss: 3319.4929 - mae: 3319.4929\n",
            "Epoch 105/300\n",
            "34/34 [==============================] - 0s 4ms/step - loss: 3314.9385 - mae: 3314.9385\n",
            "Epoch 106/300\n",
            "34/34 [==============================] - 0s 3ms/step - loss: 3312.5037 - mae: 3312.5037\n",
            "Epoch 107/300\n",
            "34/34 [==============================] - 0s 4ms/step - loss: 3307.8179 - mae: 3307.8179\n",
            "Epoch 108/300\n",
            "34/34 [==============================] - 0s 3ms/step - loss: 3306.6987 - mae: 3306.6987\n",
            "Epoch 109/300\n",
            "34/34 [==============================] - 0s 4ms/step - loss: 3305.1221 - mae: 3305.1221\n",
            "Epoch 110/300\n",
            "34/34 [==============================] - 0s 4ms/step - loss: 3301.9585 - mae: 3301.9585\n",
            "Epoch 111/300\n",
            "34/34 [==============================] - 0s 4ms/step - loss: 3302.9292 - mae: 3302.9292\n",
            "Epoch 112/300\n",
            "34/34 [==============================] - 0s 4ms/step - loss: 3294.6960 - mae: 3294.6960\n",
            "Epoch 113/300\n",
            "34/34 [==============================] - 0s 4ms/step - loss: 3294.7173 - mae: 3294.7173\n",
            "Epoch 114/300\n",
            "34/34 [==============================] - 0s 4ms/step - loss: 3298.7393 - mae: 3298.7393\n",
            "Epoch 115/300\n",
            "34/34 [==============================] - 0s 3ms/step - loss: 3298.8818 - mae: 3298.8818\n",
            "Epoch 116/300\n",
            "34/34 [==============================] - 0s 4ms/step - loss: 3285.5862 - mae: 3285.5862\n",
            "Epoch 117/300\n",
            "34/34 [==============================] - 0s 3ms/step - loss: 3287.4431 - mae: 3287.4431\n",
            "Epoch 118/300\n",
            "34/34 [==============================] - 0s 4ms/step - loss: 3280.4883 - mae: 3280.4883\n",
            "Epoch 119/300\n",
            "34/34 [==============================] - 0s 4ms/step - loss: 3283.2415 - mae: 3283.2415\n",
            "Epoch 120/300\n",
            "34/34 [==============================] - 0s 4ms/step - loss: 3277.5503 - mae: 3277.5503\n",
            "Epoch 121/300\n",
            "34/34 [==============================] - 0s 4ms/step - loss: 3278.9128 - mae: 3278.9128\n",
            "Epoch 122/300\n",
            "34/34 [==============================] - 0s 4ms/step - loss: 3282.3164 - mae: 3282.3164\n",
            "Epoch 123/300\n",
            "34/34 [==============================] - 0s 2ms/step - loss: 3274.7976 - mae: 3274.7976\n",
            "Epoch 124/300\n",
            "34/34 [==============================] - 0s 2ms/step - loss: 3273.7998 - mae: 3273.7998\n",
            "Epoch 125/300\n",
            "34/34 [==============================] - 0s 2ms/step - loss: 3272.2461 - mae: 3272.2461\n",
            "Epoch 126/300\n",
            "34/34 [==============================] - 0s 3ms/step - loss: 3273.7397 - mae: 3273.7397\n",
            "Epoch 127/300\n",
            "34/34 [==============================] - 0s 2ms/step - loss: 3274.9026 - mae: 3274.9026\n",
            "Epoch 128/300\n",
            "34/34 [==============================] - 0s 3ms/step - loss: 3272.9111 - mae: 3272.9111\n",
            "Epoch 129/300\n",
            "34/34 [==============================] - 0s 2ms/step - loss: 3279.2302 - mae: 3279.2302\n",
            "Epoch 130/300\n",
            "34/34 [==============================] - 0s 3ms/step - loss: 3268.9465 - mae: 3268.9465\n",
            "Epoch 131/300\n",
            "34/34 [==============================] - 0s 2ms/step - loss: 3266.1953 - mae: 3266.1953\n",
            "Epoch 132/300\n",
            "34/34 [==============================] - 0s 3ms/step - loss: 3265.4836 - mae: 3265.4836\n",
            "Epoch 133/300\n",
            "34/34 [==============================] - 0s 2ms/step - loss: 3263.3513 - mae: 3263.3513\n",
            "Epoch 134/300\n",
            "34/34 [==============================] - 0s 2ms/step - loss: 3261.1472 - mae: 3261.1472\n",
            "Epoch 135/300\n",
            "34/34 [==============================] - 0s 2ms/step - loss: 3260.2551 - mae: 3260.2551\n",
            "Epoch 136/300\n",
            "34/34 [==============================] - 0s 2ms/step - loss: 3260.3694 - mae: 3260.3694\n",
            "Epoch 137/300\n",
            "34/34 [==============================] - 0s 2ms/step - loss: 3269.9358 - mae: 3269.9358\n",
            "Epoch 138/300\n",
            "34/34 [==============================] - 0s 3ms/step - loss: 3261.7935 - mae: 3261.7935\n",
            "Epoch 139/300\n",
            "34/34 [==============================] - 0s 2ms/step - loss: 3257.6169 - mae: 3257.6169\n",
            "Epoch 140/300\n",
            "34/34 [==============================] - 0s 2ms/step - loss: 3255.9539 - mae: 3255.9539\n",
            "Epoch 141/300\n",
            "34/34 [==============================] - 0s 2ms/step - loss: 3255.3923 - mae: 3255.3923\n",
            "Epoch 142/300\n",
            "34/34 [==============================] - 0s 2ms/step - loss: 3255.0271 - mae: 3255.0271\n",
            "Epoch 143/300\n",
            "34/34 [==============================] - 0s 2ms/step - loss: 3251.7141 - mae: 3251.7141\n",
            "Epoch 144/300\n",
            "34/34 [==============================] - 0s 3ms/step - loss: 3249.1953 - mae: 3249.1953\n",
            "Epoch 145/300\n",
            "34/34 [==============================] - 0s 2ms/step - loss: 3251.9895 - mae: 3251.9895\n",
            "Epoch 146/300\n",
            "34/34 [==============================] - 0s 2ms/step - loss: 3252.1465 - mae: 3252.1465\n",
            "Epoch 147/300\n",
            "34/34 [==============================] - 0s 2ms/step - loss: 3248.0740 - mae: 3248.0740\n",
            "Epoch 148/300\n",
            "34/34 [==============================] - 0s 2ms/step - loss: 3249.0129 - mae: 3249.0129\n",
            "Epoch 149/300\n",
            "34/34 [==============================] - 0s 2ms/step - loss: 3244.4080 - mae: 3244.4080\n",
            "Epoch 150/300\n",
            "34/34 [==============================] - 0s 2ms/step - loss: 3243.7959 - mae: 3243.7959\n",
            "Epoch 151/300\n",
            "34/34 [==============================] - 0s 3ms/step - loss: 3241.7314 - mae: 3241.7314\n",
            "Epoch 152/300\n",
            "34/34 [==============================] - 0s 2ms/step - loss: 3241.6223 - mae: 3241.6223\n",
            "Epoch 153/300\n",
            "34/34 [==============================] - 0s 2ms/step - loss: 3237.5879 - mae: 3237.5879\n",
            "Epoch 154/300\n",
            "34/34 [==============================] - 0s 2ms/step - loss: 3239.9294 - mae: 3239.9294\n",
            "Epoch 155/300\n",
            "34/34 [==============================] - 0s 2ms/step - loss: 3240.0662 - mae: 3240.0662\n",
            "Epoch 156/300\n",
            "34/34 [==============================] - 0s 2ms/step - loss: 3235.9683 - mae: 3235.9683\n",
            "Epoch 157/300\n",
            "34/34 [==============================] - 0s 2ms/step - loss: 3235.1348 - mae: 3235.1348\n",
            "Epoch 158/300\n",
            "34/34 [==============================] - 0s 2ms/step - loss: 3238.8159 - mae: 3238.8159\n",
            "Epoch 159/300\n",
            "34/34 [==============================] - 0s 2ms/step - loss: 3232.3171 - mae: 3232.3171\n",
            "Epoch 160/300\n",
            "34/34 [==============================] - 0s 2ms/step - loss: 3237.3687 - mae: 3237.3687\n",
            "Epoch 161/300\n",
            "34/34 [==============================] - 0s 2ms/step - loss: 3234.1707 - mae: 3234.1707\n",
            "Epoch 162/300\n",
            "34/34 [==============================] - 0s 3ms/step - loss: 3228.4583 - mae: 3228.4583\n",
            "Epoch 163/300\n",
            "34/34 [==============================] - 0s 2ms/step - loss: 3228.8049 - mae: 3228.8049\n",
            "Epoch 164/300\n",
            "34/34 [==============================] - 0s 2ms/step - loss: 3227.9402 - mae: 3227.9402\n",
            "Epoch 165/300\n",
            "34/34 [==============================] - 0s 2ms/step - loss: 3228.6953 - mae: 3228.6953\n",
            "Epoch 166/300\n",
            "34/34 [==============================] - 0s 2ms/step - loss: 3226.3235 - mae: 3226.3235\n",
            "Epoch 167/300\n",
            "34/34 [==============================] - 0s 2ms/step - loss: 3224.6890 - mae: 3224.6890\n",
            "Epoch 168/300\n",
            "34/34 [==============================] - 0s 2ms/step - loss: 3223.3740 - mae: 3223.3740\n",
            "Epoch 169/300\n",
            "34/34 [==============================] - 0s 2ms/step - loss: 3222.5864 - mae: 3222.5864\n",
            "Epoch 170/300\n",
            "34/34 [==============================] - 0s 2ms/step - loss: 3223.5112 - mae: 3223.5112\n",
            "Epoch 171/300\n",
            "34/34 [==============================] - 0s 3ms/step - loss: 3221.4727 - mae: 3221.4727\n",
            "Epoch 172/300\n",
            "34/34 [==============================] - 0s 2ms/step - loss: 3220.0457 - mae: 3220.0457\n",
            "Epoch 173/300\n",
            "34/34 [==============================] - 0s 2ms/step - loss: 3219.7275 - mae: 3219.7275\n",
            "Epoch 174/300\n",
            "34/34 [==============================] - 0s 3ms/step - loss: 3220.9121 - mae: 3220.9121\n",
            "Epoch 175/300\n",
            "34/34 [==============================] - 0s 2ms/step - loss: 3217.7244 - mae: 3217.7244\n",
            "Epoch 176/300\n",
            "34/34 [==============================] - 0s 3ms/step - loss: 3218.8684 - mae: 3218.8684\n",
            "Epoch 177/300\n",
            "34/34 [==============================] - 0s 2ms/step - loss: 3218.4475 - mae: 3218.4475\n",
            "Epoch 178/300\n",
            "34/34 [==============================] - 0s 2ms/step - loss: 3217.9741 - mae: 3217.9741\n",
            "Epoch 179/300\n",
            "34/34 [==============================] - 0s 2ms/step - loss: 3220.3706 - mae: 3220.3706\n",
            "Epoch 180/300\n",
            "34/34 [==============================] - 0s 2ms/step - loss: 3220.0930 - mae: 3220.0930\n",
            "Epoch 181/300\n",
            "34/34 [==============================] - 0s 2ms/step - loss: 3216.1689 - mae: 3216.1689\n",
            "Epoch 182/300\n",
            "34/34 [==============================] - 0s 2ms/step - loss: 3218.9365 - mae: 3218.9365\n",
            "Epoch 183/300\n",
            "34/34 [==============================] - 0s 2ms/step - loss: 3212.3953 - mae: 3212.3953\n",
            "Epoch 184/300\n",
            "34/34 [==============================] - 0s 3ms/step - loss: 3211.2705 - mae: 3211.2705\n",
            "Epoch 185/300\n",
            "34/34 [==============================] - 0s 2ms/step - loss: 3212.6890 - mae: 3212.6890\n",
            "Epoch 186/300\n",
            "34/34 [==============================] - 0s 2ms/step - loss: 3209.9844 - mae: 3209.9844\n",
            "Epoch 187/300\n",
            "34/34 [==============================] - 0s 2ms/step - loss: 3208.5063 - mae: 3208.5063\n",
            "Epoch 188/300\n",
            "34/34 [==============================] - 0s 2ms/step - loss: 3205.7856 - mae: 3205.7856\n",
            "Epoch 189/300\n",
            "34/34 [==============================] - 0s 2ms/step - loss: 3206.2109 - mae: 3206.2109\n",
            "Epoch 190/300\n",
            "34/34 [==============================] - 0s 3ms/step - loss: 3205.1467 - mae: 3205.1467\n",
            "Epoch 191/300\n",
            "34/34 [==============================] - 0s 2ms/step - loss: 3209.7085 - mae: 3209.7085\n",
            "Epoch 192/300\n",
            "34/34 [==============================] - 0s 2ms/step - loss: 3207.9326 - mae: 3207.9326\n",
            "Epoch 193/300\n",
            "34/34 [==============================] - 0s 2ms/step - loss: 3204.4131 - mae: 3204.4131\n",
            "Epoch 194/300\n",
            "34/34 [==============================] - 0s 2ms/step - loss: 3202.7273 - mae: 3202.7273\n",
            "Epoch 195/300\n",
            "34/34 [==============================] - 0s 2ms/step - loss: 3202.3994 - mae: 3202.3994\n",
            "Epoch 196/300\n",
            "34/34 [==============================] - 0s 2ms/step - loss: 3204.3071 - mae: 3204.3071\n",
            "Epoch 197/300\n",
            "34/34 [==============================] - 0s 3ms/step - loss: 3205.2458 - mae: 3205.2458\n",
            "Epoch 198/300\n",
            "34/34 [==============================] - 0s 2ms/step - loss: 3204.2959 - mae: 3204.2959\n",
            "Epoch 199/300\n",
            "34/34 [==============================] - 0s 2ms/step - loss: 3204.6965 - mae: 3204.6965\n",
            "Epoch 200/300\n",
            "34/34 [==============================] - 0s 2ms/step - loss: 3200.5713 - mae: 3200.5713\n",
            "Epoch 201/300\n",
            "34/34 [==============================] - 0s 2ms/step - loss: 3199.4358 - mae: 3199.4358\n",
            "Epoch 202/300\n",
            "34/34 [==============================] - 0s 2ms/step - loss: 3199.3284 - mae: 3199.3284\n",
            "Epoch 203/300\n",
            "34/34 [==============================] - 0s 2ms/step - loss: 3201.6602 - mae: 3201.6602\n",
            "Epoch 204/300\n",
            "34/34 [==============================] - 0s 2ms/step - loss: 3206.1672 - mae: 3206.1672\n",
            "Epoch 205/300\n",
            "34/34 [==============================] - 0s 2ms/step - loss: 3196.9534 - mae: 3196.9534\n",
            "Epoch 206/300\n",
            "34/34 [==============================] - 0s 2ms/step - loss: 3196.4971 - mae: 3196.4971\n",
            "Epoch 207/300\n",
            "34/34 [==============================] - 0s 2ms/step - loss: 3196.4924 - mae: 3196.4924\n",
            "Epoch 208/300\n",
            "34/34 [==============================] - 0s 2ms/step - loss: 3197.2041 - mae: 3197.2041\n",
            "Epoch 209/300\n",
            "34/34 [==============================] - 0s 2ms/step - loss: 3195.2771 - mae: 3195.2771\n",
            "Epoch 210/300\n",
            "34/34 [==============================] - 0s 2ms/step - loss: 3195.8779 - mae: 3195.8779\n",
            "Epoch 211/300\n",
            "34/34 [==============================] - 0s 3ms/step - loss: 3196.1067 - mae: 3196.1067\n",
            "Epoch 212/300\n",
            "34/34 [==============================] - 0s 2ms/step - loss: 3193.1667 - mae: 3193.1667\n",
            "Epoch 213/300\n",
            "34/34 [==============================] - 0s 2ms/step - loss: 3196.8193 - mae: 3196.8193\n",
            "Epoch 214/300\n",
            "34/34 [==============================] - 0s 2ms/step - loss: 3192.8374 - mae: 3192.8374\n",
            "Epoch 215/300\n",
            "34/34 [==============================] - 0s 2ms/step - loss: 3197.2725 - mae: 3197.2725\n",
            "Epoch 216/300\n",
            "34/34 [==============================] - 0s 2ms/step - loss: 3191.1082 - mae: 3191.1082\n",
            "Epoch 217/300\n",
            "34/34 [==============================] - 0s 2ms/step - loss: 3189.3577 - mae: 3189.3577\n",
            "Epoch 218/300\n",
            "34/34 [==============================] - 0s 2ms/step - loss: 3189.3135 - mae: 3189.3135\n",
            "Epoch 219/300\n",
            "34/34 [==============================] - 0s 3ms/step - loss: 3191.7605 - mae: 3191.7605\n",
            "Epoch 220/300\n",
            "34/34 [==============================] - 0s 2ms/step - loss: 3188.7573 - mae: 3188.7573\n",
            "Epoch 221/300\n",
            "34/34 [==============================] - 0s 2ms/step - loss: 3191.9824 - mae: 3191.9824\n",
            "Epoch 222/300\n",
            "34/34 [==============================] - 0s 2ms/step - loss: 3191.6155 - mae: 3191.6155\n",
            "Epoch 223/300\n",
            "34/34 [==============================] - 0s 2ms/step - loss: 3193.1936 - mae: 3193.1936\n",
            "Epoch 224/300\n",
            "34/34 [==============================] - 0s 2ms/step - loss: 3187.1543 - mae: 3187.1543\n",
            "Epoch 225/300\n",
            "34/34 [==============================] - 0s 2ms/step - loss: 3187.6953 - mae: 3187.6953\n",
            "Epoch 226/300\n",
            "34/34 [==============================] - 0s 2ms/step - loss: 3186.4128 - mae: 3186.4128\n",
            "Epoch 227/300\n",
            "34/34 [==============================] - 0s 2ms/step - loss: 3185.3054 - mae: 3185.3054\n",
            "Epoch 228/300\n",
            "34/34 [==============================] - 0s 2ms/step - loss: 3186.6521 - mae: 3186.6521\n",
            "Epoch 229/300\n",
            "34/34 [==============================] - 0s 2ms/step - loss: 3186.2869 - mae: 3186.2869\n",
            "Epoch 230/300\n",
            "34/34 [==============================] - 0s 2ms/step - loss: 3187.2109 - mae: 3187.2109\n",
            "Epoch 231/300\n",
            "34/34 [==============================] - 0s 3ms/step - loss: 3184.7075 - mae: 3184.7075\n",
            "Epoch 232/300\n",
            "34/34 [==============================] - 0s 2ms/step - loss: 3183.7256 - mae: 3183.7256\n",
            "Epoch 233/300\n",
            "34/34 [==============================] - 0s 2ms/step - loss: 3183.0833 - mae: 3183.0833\n",
            "Epoch 234/300\n",
            "34/34 [==============================] - 0s 4ms/step - loss: 3184.1096 - mae: 3184.1096\n",
            "Epoch 235/300\n",
            "34/34 [==============================] - 0s 4ms/step - loss: 3183.8262 - mae: 3183.8262\n",
            "Epoch 236/300\n",
            "34/34 [==============================] - 0s 4ms/step - loss: 3184.8208 - mae: 3184.8208\n",
            "Epoch 237/300\n",
            "34/34 [==============================] - 0s 4ms/step - loss: 3182.9058 - mae: 3182.9058\n",
            "Epoch 238/300\n",
            "34/34 [==============================] - 0s 4ms/step - loss: 3180.3765 - mae: 3180.3765\n",
            "Epoch 239/300\n",
            "34/34 [==============================] - 0s 4ms/step - loss: 3182.4915 - mae: 3182.4915\n",
            "Epoch 240/300\n",
            "34/34 [==============================] - 0s 4ms/step - loss: 3184.2332 - mae: 3184.2332\n",
            "Epoch 241/300\n",
            "34/34 [==============================] - 0s 4ms/step - loss: 3181.2329 - mae: 3181.2329\n",
            "Epoch 242/300\n",
            "34/34 [==============================] - 0s 4ms/step - loss: 3180.0833 - mae: 3180.0833\n",
            "Epoch 243/300\n",
            "34/34 [==============================] - 0s 4ms/step - loss: 3179.5596 - mae: 3179.5596\n",
            "Epoch 244/300\n",
            "34/34 [==============================] - 0s 4ms/step - loss: 3178.8765 - mae: 3178.8765\n",
            "Epoch 245/300\n",
            "34/34 [==============================] - 0s 3ms/step - loss: 3180.9500 - mae: 3180.9500\n",
            "Epoch 246/300\n",
            "34/34 [==============================] - 0s 4ms/step - loss: 3181.3362 - mae: 3181.3362\n",
            "Epoch 247/300\n",
            "34/34 [==============================] - 0s 4ms/step - loss: 3177.3621 - mae: 3177.3621\n",
            "Epoch 248/300\n",
            "34/34 [==============================] - 0s 3ms/step - loss: 3180.4612 - mae: 3180.4612\n",
            "Epoch 249/300\n",
            "34/34 [==============================] - 0s 4ms/step - loss: 3180.8455 - mae: 3180.8455\n",
            "Epoch 250/300\n",
            "34/34 [==============================] - 0s 3ms/step - loss: 3174.3589 - mae: 3174.3589\n",
            "Epoch 251/300\n",
            "34/34 [==============================] - 0s 3ms/step - loss: 3174.4297 - mae: 3174.4297\n",
            "Epoch 252/300\n",
            "34/34 [==============================] - 0s 4ms/step - loss: 3176.3997 - mae: 3176.3997\n",
            "Epoch 253/300\n",
            "34/34 [==============================] - 0s 4ms/step - loss: 3179.3887 - mae: 3179.3887\n",
            "Epoch 254/300\n",
            "34/34 [==============================] - 0s 4ms/step - loss: 3174.4158 - mae: 3174.4158\n",
            "Epoch 255/300\n",
            "34/34 [==============================] - 0s 4ms/step - loss: 3174.8650 - mae: 3174.8650\n",
            "Epoch 256/300\n",
            "34/34 [==============================] - 0s 4ms/step - loss: 3174.2043 - mae: 3174.2043\n",
            "Epoch 257/300\n",
            "34/34 [==============================] - 0s 4ms/step - loss: 3176.2581 - mae: 3176.2581\n",
            "Epoch 258/300\n",
            "34/34 [==============================] - 0s 4ms/step - loss: 3176.7183 - mae: 3176.7183\n",
            "Epoch 259/300\n",
            "34/34 [==============================] - 0s 3ms/step - loss: 3173.4209 - mae: 3173.4209\n",
            "Epoch 260/300\n",
            "34/34 [==============================] - 0s 3ms/step - loss: 3172.1768 - mae: 3172.1768\n",
            "Epoch 261/300\n",
            "34/34 [==============================] - 0s 4ms/step - loss: 3171.2300 - mae: 3171.2300\n",
            "Epoch 262/300\n",
            "34/34 [==============================] - 0s 4ms/step - loss: 3171.8420 - mae: 3171.8420\n",
            "Epoch 263/300\n",
            "34/34 [==============================] - 0s 4ms/step - loss: 3172.8669 - mae: 3172.8669\n",
            "Epoch 264/300\n",
            "34/34 [==============================] - 0s 4ms/step - loss: 3174.7268 - mae: 3174.7268\n",
            "Epoch 265/300\n",
            "34/34 [==============================] - 0s 3ms/step - loss: 3172.6277 - mae: 3172.6277\n",
            "Epoch 266/300\n",
            "34/34 [==============================] - 0s 3ms/step - loss: 3171.5801 - mae: 3171.5801\n",
            "Epoch 267/300\n",
            "34/34 [==============================] - 0s 3ms/step - loss: 3172.1248 - mae: 3172.1248\n",
            "Epoch 268/300\n",
            "34/34 [==============================] - 0s 4ms/step - loss: 3168.8171 - mae: 3168.8171\n",
            "Epoch 269/300\n",
            "34/34 [==============================] - 0s 4ms/step - loss: 3168.9614 - mae: 3168.9614\n",
            "Epoch 270/300\n",
            "34/34 [==============================] - 0s 4ms/step - loss: 3168.5508 - mae: 3168.5508\n",
            "Epoch 271/300\n",
            "34/34 [==============================] - 0s 4ms/step - loss: 3168.2927 - mae: 3168.2927\n",
            "Epoch 272/300\n",
            "34/34 [==============================] - 0s 4ms/step - loss: 3166.2971 - mae: 3166.2971\n",
            "Epoch 273/300\n",
            "34/34 [==============================] - 0s 4ms/step - loss: 3168.0193 - mae: 3168.0193\n",
            "Epoch 274/300\n",
            "34/34 [==============================] - 0s 4ms/step - loss: 3169.5110 - mae: 3169.5110\n",
            "Epoch 275/300\n",
            "34/34 [==============================] - 0s 2ms/step - loss: 3166.1013 - mae: 3166.1013\n",
            "Epoch 276/300\n",
            "34/34 [==============================] - 0s 2ms/step - loss: 3167.6970 - mae: 3167.6970\n",
            "Epoch 277/300\n",
            "34/34 [==============================] - 0s 2ms/step - loss: 3164.3977 - mae: 3164.3977\n",
            "Epoch 278/300\n",
            "34/34 [==============================] - 0s 2ms/step - loss: 3164.4265 - mae: 3164.4265\n",
            "Epoch 279/300\n",
            "34/34 [==============================] - 0s 2ms/step - loss: 3167.0518 - mae: 3167.0518\n",
            "Epoch 280/300\n",
            "34/34 [==============================] - 0s 2ms/step - loss: 3166.7891 - mae: 3166.7891\n",
            "Epoch 281/300\n",
            "34/34 [==============================] - 0s 3ms/step - loss: 3167.1846 - mae: 3167.1846\n",
            "Epoch 282/300\n",
            "34/34 [==============================] - 0s 2ms/step - loss: 3163.9666 - mae: 3163.9666\n",
            "Epoch 283/300\n",
            "34/34 [==============================] - 0s 2ms/step - loss: 3163.7644 - mae: 3163.7644\n",
            "Epoch 284/300\n",
            "34/34 [==============================] - 0s 2ms/step - loss: 3164.7810 - mae: 3164.7810\n",
            "Epoch 285/300\n",
            "34/34 [==============================] - 0s 2ms/step - loss: 3164.1550 - mae: 3164.1550\n",
            "Epoch 286/300\n",
            "34/34 [==============================] - 0s 3ms/step - loss: 3164.9092 - mae: 3164.9092\n",
            "Epoch 287/300\n",
            "34/34 [==============================] - 0s 2ms/step - loss: 3163.2141 - mae: 3163.2141\n",
            "Epoch 288/300\n",
            "34/34 [==============================] - 0s 2ms/step - loss: 3161.7402 - mae: 3161.7402\n",
            "Epoch 289/300\n",
            "34/34 [==============================] - 0s 2ms/step - loss: 3162.5115 - mae: 3162.5115\n",
            "Epoch 290/300\n",
            "34/34 [==============================] - 0s 2ms/step - loss: 3163.1853 - mae: 3163.1853\n",
            "Epoch 291/300\n",
            "34/34 [==============================] - 0s 2ms/step - loss: 3165.4119 - mae: 3165.4119\n",
            "Epoch 292/300\n",
            "34/34 [==============================] - 0s 3ms/step - loss: 3166.4375 - mae: 3166.4375\n",
            "Epoch 293/300\n",
            "34/34 [==============================] - 0s 2ms/step - loss: 3160.6077 - mae: 3160.6077\n",
            "Epoch 294/300\n",
            "34/34 [==============================] - 0s 2ms/step - loss: 3160.9417 - mae: 3160.9417\n",
            "Epoch 295/300\n",
            "34/34 [==============================] - 0s 2ms/step - loss: 3159.1982 - mae: 3159.1982\n",
            "Epoch 296/300\n",
            "34/34 [==============================] - 0s 2ms/step - loss: 3161.1055 - mae: 3161.1055\n",
            "Epoch 297/300\n",
            "34/34 [==============================] - 0s 2ms/step - loss: 3161.0244 - mae: 3161.0244\n",
            "Epoch 298/300\n",
            "34/34 [==============================] - 0s 2ms/step - loss: 3159.7964 - mae: 3159.7964\n",
            "Epoch 299/300\n",
            "34/34 [==============================] - 0s 2ms/step - loss: 3165.9963 - mae: 3165.9963\n",
            "Epoch 300/300\n",
            "34/34 [==============================] - 0s 2ms/step - loss: 3158.8420 - mae: 3158.8420\n"
          ]
        },
        {
          "output_type": "execute_result",
          "data": {
            "text/plain": [
              "<keras.callbacks.History at 0x7fdbe0583fa0>"
            ]
          },
          "metadata": {},
          "execution_count": 174
        }
      ]
    },
    {
      "cell_type": "code",
      "source": [
        "# Evaluate our insurance model trained on normalized data\n",
        "insurance_model2.evaluate(X_test_normal,y_test)"
      ],
      "metadata": {
        "colab": {
          "base_uri": "https://localhost:8080/"
        },
        "id": "Lm2-HisNob7a",
        "outputId": "d2513ea3-4758-4015-aedc-11c39b6e928e"
      },
      "execution_count": 175,
      "outputs": [
        {
          "output_type": "stream",
          "name": "stdout",
          "text": [
            "9/9 [==============================] - 0s 2ms/step - loss: 2821.0500 - mae: 2821.0500\n"
          ]
        },
        {
          "output_type": "execute_result",
          "data": {
            "text/plain": [
              "[2821.050048828125, 2821.050048828125]"
            ]
          },
          "metadata": {},
          "execution_count": 175
        }
      ]
    },
    {
      "cell_type": "code",
      "source": [
        "\n",
        "X['age'].plot(kind='hist')\n"
      ],
      "metadata": {
        "colab": {
          "base_uri": "https://localhost:8080/",
          "height": 283
        },
        "id": "WTyEoY6k9hC3",
        "outputId": "82bf38ec-1186-419b-cdfb-20b3f0b55c3a"
      },
      "execution_count": 151,
      "outputs": [
        {
          "output_type": "execute_result",
          "data": {
            "text/plain": [
              "<Axes: ylabel='Frequency'>"
            ]
          },
          "metadata": {},
          "execution_count": 151
        },
        {
          "output_type": "display_data",
          "data": {
            "text/plain": [
              "<Figure size 432x288 with 1 Axes>"
            ],
            "image/png": "[encoded data removed]"
          },
          "metadata": {
            "needs_background": "light"
          }
        }
      ]
    },
    {
      "cell_type": "code",
      "source": [
        "X['bmi'].plot(kind='hist')"
      ],
      "metadata": {
        "colab": {
          "base_uri": "https://localhost:8080/",
          "height": 283
        },
        "id": "QvawTJFEckCK",
        "outputId": "1ed59a01-241c-43b9-9feb-d5286314d283"
      },
      "execution_count": 152,
      "outputs": [
        {
          "output_type": "execute_result",
          "data": {
            "text/plain": [
              "<Axes: ylabel='Frequency'>"
            ]
          },
          "metadata": {},
          "execution_count": 152
        },
        {
          "output_type": "display_data",
          "data": {
            "text/plain": [
              "<Figure size 432x288 with 1 Axes>"
            ],
            "image/png": "[encoded data removed]"
          },
          "metadata": {
            "needs_background": "light"
          }
        }
      ]
    },
    {
      "cell_type": "code",
      "source": [
        "X['children'].value_counts()"
      ],
      "metadata": {
        "colab": {
          "base_uri": "https://localhost:8080/"
        },
        "id": "_tmM-invcr_p",
        "outputId": "32b53e5a-e017-460d-a3ef-0b8c8648969a"
      },
      "execution_count": 154,
      "outputs": [
        {
          "output_type": "execute_result",
          "data": {
            "text/plain": [
              "0    574\n",
              "1    324\n",
              "2    240\n",
              "3    157\n",
              "4     25\n",
              "5     18\n",
              "Name: children, dtype: int64"
            ]
          },
          "metadata": {},
          "execution_count": 154
        }
      ]
    },
    {
      "cell_type": "code",
      "source": [],
      "metadata": {
        "id": "WeMlOgfYcyyB"
      },
      "execution_count": null,
      "outputs": []
    }
  ],
  "metadata": {
    "colab": {
      "provenance": [],
      "mount_file_id": "1cqSMkzp0-A_FQM3Pb0f8jtaUbYyJaWo9",
      "authorship_tag": "ABX9TyOCfXzOVXTlGwS98SibSmvU",
      "include_colab_link": true
    },
    "kernelspec": {
      "display_name": "Python 3",
      "name": "python3"
    },
    "language_info": {
      "name": "python"
    }
  },
  "nbformat": 4,
  "nbformat_minor": 0
}